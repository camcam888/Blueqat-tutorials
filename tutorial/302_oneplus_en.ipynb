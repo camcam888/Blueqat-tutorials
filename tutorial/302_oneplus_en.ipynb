{
  "cells": [
    {
      "metadata": {
        "id": "CAVTM4TgM7zC",
        "colab_type": "text"
      },
      "cell_type": "markdown",
      "source": [
        "##one plus one on QUBO\n",
        "Now we try to solve 1+1 by using combinatorial optimization problem."
      ]
    },
    {
      "metadata": {
        "id": "zrqoPj2qOabz",
        "colab_type": "text"
      },
      "cell_type": "markdown",
      "source": [
        "###Install\n",
        "Let's install blueqat using pip."
      ]
    },
    {
      "metadata": {
        "id": "uTVPYfjSnBqh",
        "colab_type": "code",
        "colab": {}
      },
      "cell_type": "code",
      "source": [
        "!pip install blueqat"
      ],
      "execution_count": 0,
      "outputs": []
    },
    {
      "metadata": {
        "id": "NQILWhLlPjrz",
        "colab_type": "text"
      },
      "cell_type": "markdown",
      "source": [
        "###Equation\n",
        "\n",
        "This time we want to solve the problem below.\n",
        "\n",
        "$$1+ 1 = x$$\n",
        "\n",
        "This is equivalent to solve the minimum value problem of the equation below\n",
        "\n",
        "$$E = (x-2)^2$$\n",
        "\n",
        "expanding it and we get this equiation.\n",
        "\n",
        "$$E = x^2 -4x + 4$$\n",
        "\n",
        "Besides this x can write to decimal number using 2 qubits binary value.\n",
        "\n",
        "$$x = q_0 + 2q_1$$\n",
        "\n",
        "and substitute x for E.\n",
        "\n",
        "$$H = q_0^2 + 4q_0q_1 - 4q_0 + 4q_1^2 - 8*q_1 + 4$$\n",
        "\n",
        "Expanding it and we can make the equation simple by using binary rules.\n",
        "\n",
        "$$q_0^2 = q_0\\\\\n",
        "q_1^2 = q_1$$\n",
        "\n",
        "Now we have,\n",
        "\n",
        "$$H = -3q_0 + 4q_0q_1 - 4q_1 +4$$"
      ]
    },
    {
      "metadata": {
        "id": "rzDDRj7WQsmi",
        "colab_type": "text"
      },
      "cell_type": "markdown",
      "source": [
        "###Solution1\n",
        "And we can get QUBO matrix by locating every coeffficient on the off-diagonal elements of the matrix"
      ]
    },
    {
      "metadata": {
        "id": "gI7E-7GLQPFA",
        "colab_type": "code",
        "colab": {
          "base_uri": "https://localhost:8080/",
          "height": 34
        },
        "outputId": "be6cf706-91b7-4346-b0ed-6e704b78e458"
      },
      "cell_type": "code",
      "source": [
        "from blueqat.wq import Opt\n",
        "c = Opt().add([[-3,4],[0,-4]])\n",
        "print(c.run())"
      ],
      "execution_count": 4,
      "outputs": [
        {
          "output_type": "stream",
          "text": [
            "[0, 1]\n"
          ],
          "name": "stdout"
        }
      ]
    },
    {
      "metadata": {
        "id": "6sNxYYL6QYQi",
        "colab_type": "text"
      },
      "cell_type": "markdown",
      "source": [
        "###Solution2\n",
        "Or we can do the same calculation as putting the equation directly as hamiltonian."
      ]
    },
    {
      "metadata": {
        "id": "zJBpoEvQMtVN",
        "colab_type": "code",
        "colab": {
          "base_uri": "https://localhost:8080/",
          "height": 34
        },
        "outputId": "e90067ec-66ae-4dd9-bb00-6f960b06ceb3"
      },
      "cell_type": "code",
      "source": [
        "from blueqat.wq import Opt\n",
        "c = Opt().add(\"-3*q0 + 4*q0*q1 - 4*q1 +4\")\n",
        "print(c.run())"
      ],
      "execution_count": 3,
      "outputs": [
        {
          "output_type": "stream",
          "text": [
            "[0, 1]\n"
          ],
          "name": "stdout"
        }
      ]
    },
    {
      "metadata": {
        "id": "N-4Nr0xCQKWj",
        "colab_type": "text"
      },
      "cell_type": "markdown",
      "source": [
        "We aquired\n",
        "\n",
        "$$q_0=0,q_1=1$$\n",
        "\n",
        "and get 2 for 1+1 by using QUBO\n",
        "\n",
        "$$1 + 1 = 0 + 2*1 = 2$$"
      ]
    }
  ],
  "metadata": {
    "colab": {
      "name": "027_one_plus_one",
      "version": "0.3.2",
      "provenance": []
    },
    "kernelspec": {
      "name": "python3",
      "display_name": "Python 3"
    }
  },
  "nbformat": 4,
  "nbformat_minor": 0
}
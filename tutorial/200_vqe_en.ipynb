{
 "cells": [
  {
   "cell_type": "markdown",
   "metadata": {},
   "source": [
    "# Variational Quantum Eigensolver VQE\n",
    "It is a typical quantum-classical hybrid algorithm that runs on modern quantum computers and uses both quantum and classical computers."
   ]
  },
  {
   "cell_type": "markdown",
   "metadata": {},
   "source": [
    "## What we learn\n",
    "1. Learn the basic theory of VQE\n",
    "2. Implementing Quantum Variational Circuits in Blueqat"
   ]
  },
  {
   "cell_type": "markdown",
   "metadata": {},
   "source": [
    "## Install Blueqat\n",
    "Install Blueqat from pip."
   ]
  },
  {
   "cell_type": "code",
   "execution_count": 12,
   "metadata": {},
   "outputs": [
    {
     "name": "stdout",
     "output_type": "stream",
     "text": [
      "Requirement already satisfied: blueqat in /home/ec2-user/anaconda3/envs/python3/lib/python3.6/site-packages (0.3.13)\r\n",
      "Requirement already satisfied: scipy>=1.1.0 in /home/ec2-user/anaconda3/envs/python3/lib/python3.6/site-packages (from blueqat) (1.1.0)\r\n",
      "Requirement already satisfied: numpy~=1.12 in /home/ec2-user/anaconda3/envs/python3/lib/python3.6/site-packages (from blueqat) (1.18.3)\r\n"
     ]
    }
   ],
   "source": [
    "!pip install blueqat"
   ]
  },
  {
   "cell_type": "markdown",
   "metadata": {},
   "source": [
    "---"
   ]
  },
  {
   "cell_type": "markdown",
   "metadata": {},
   "source": [
    "## Overview\n",
    "In addition to a universal algorithm that assumes an ideal error-correcting quantum computer, there is a variational algorithm for the NISQ of current quantum computers.\n",
    "\n",
    "1. Universal (Grover, Shor, Phase Estimation, Quantum Fourier Transform, HHL, Quantum Support Vector Machine, etc.)\n",
    "2. variational (VQE,QAOA)\n",
    "\n",
    "VQE is an algorithm that uses short quantum circuits to solve problems in a hybrid way with existing computers."
   ]
  },
  {
   "cell_type": "markdown",
   "metadata": {},
   "source": [
    "## Eigenvalue problem\n",
    "VQE calculates the expectation value of the eigenvalue of a given matrix (Hamiltonian). Various problems can be solved by solving eigenvalue problems. If the eigenvalue is $E_0$ and the eigenvector is $\\mid \\psi \\rangle, the expectation value is,\n",
    "\n",
    "$$\n",
    "H \\mid \\psi \\rangle = E_0 \\mid \\psi \\rangle\n",
    "$$\n",
    "\n",
    "The purpose is to find $E_0$."
   ]
  },
  {
   "cell_type": "markdown",
   "metadata": {},
   "source": [
    "## Hamiltonian and expectations\n",
    "\n",
    "The problem is passed in an Hermitian matrix called the Hamiltonian $H$. The Hamiltonian consists of a Pauli matrix and a unit matrix, which takes the form of a complex matrix."
   ]
  },
  {
   "cell_type": "code",
   "execution_count": 1,
   "metadata": {},
   "outputs": [
    {
     "data": {
      "text/plain": [
       "array([[ 3.57+0.j  , -4.56-2.45j],\n",
       "       [-4.56+2.45j, -1.11+0.j  ]])"
      ]
     },
     "execution_count": 1,
     "metadata": {},
     "output_type": "execute_result"
    }
   ],
   "source": [
    "from blueqat.pauli import X, Y, Z, I\n",
    "\n",
    "h = 1.23 * I - 4.56 * X(0) + 2.45 * Y(0) + 2.34 * Z(0)\n",
    "h.to_matrix()"
   ]
  },
  {
   "cell_type": "markdown",
   "metadata": {},
   "source": [
    "Expectation value of Hamiltonian is,\n",
    "\n",
    "$$\n",
    "\\langle \\psi \\mid H \\mid \\psi \\rangle\n",
    "$$\n",
    "\n",
    "And, the Hamiltonian expectation can be decomposed because it is a linear combination of unitary matrices.\n",
    "\n",
    "$$\n",
    "\\langle \\psi \\mid aH_1 + bH_2 \\mid \\psi \\rangle \\\\ = \\langle \\psi \\mid aH_1 \\mid \\psi \\rangle + \\langle \\psi \\mid bH_2 \\mid \\psi \\rangle \\\\ = a\\langle \\psi \\mid H_1 \\mid \\psi \\rangle + b\\langle \\psi \\mid H_2 \\mid \\psi \\rangle\n",
    "$$\n",
    "\n",
    "For example,\n",
    "\n",
    "$$\n",
    "H = 1.2 X_0 Z_2 + 2.5 Z_0 X_1 Y_2 - 3.4 Z_2 X_1\n",
    "$$\n",
    "\n",
    "The expected value of this formula can be obtained as follows.\n",
    "\n",
    "$$\n",
    "\\langle \\psi \\mid 1.2 X_0 Z_2 + 2.5 Z_0 X_1 Y_2 - 3.4 Z_2 X_1 \\mid \\psi \\rangle\\\\\n",
    "= 1.2\\langle \\psi \\mid X_0 Z_2 \\mid \\psi \\rangle + 2.5 \\langle \\psi \\mid Z_0 X_1 Y_2\\mid \\psi \\rangle - 3.4 \\langle \\psi \\mid Z_2 X_1 \\mid \\psi \\rangle\n",
    "$$"
   ]
  },
  {
   "cell_type": "markdown",
   "metadata": {},
   "source": [
    "## Hamiltonian expectations and sampling\n",
    "The expected value of the Hamiltonian can be obtained from the sampling of the calculation results. The expected value for the Hamiltonian $H=Z$ is as follows.\n",
    "\n",
    "$$\n",
    "\\langle \\psi \\mid Z \\mid \\psi \\rangle = \n",
    "\\begin{bmatrix}\n",
    "\\alpha^* & \\beta^*\n",
    "\\end{bmatrix}\n",
    "\\begin{bmatrix}\n",
    "1&0\\\\\n",
    "0&-1\n",
    "\\end{bmatrix}\n",
    "\\begin{bmatrix}\n",
    "\\alpha\\\\\n",
    "\\beta\n",
    "\\end{bmatrix}\n",
    "= |\\alpha|^2 - |\\beta|^2\n",
    "$$\n",
    "\n",
    "$|alpha|^2$ and $|\\beta|^2$ are the probabilities of 0 and 1, respectively. Perform multiple calculations and find the expected value from that sample value."
   ]
  },
  {
   "cell_type": "markdown",
   "metadata": {},
   "source": [
    "Normally, when the Hamiltonian is X or Y, it is not possible to find the expected value from the sample value. In this case, the rotation of each axis is used to adjust the sample so that it can be taken.\n",
    "\n",
    "For $X$ we use $X = HZH$\n",
    "\n",
    "$$\n",
    "\\langle \\psi \\mid X \\mid \\psi \\rangle \\\\\n",
    "= \\langle \\psi \\mid HZH \\mid \\psi \\rangle\\\\\n",
    "= \\langle \\psi' \\mid Z \\mid \\psi' \\rangle\n",
    "$$\n",
    "\n",
    "For $Y$ we use $Y = RX(-\\pi/2) Z RX(\\pi/2)$\n",
    "\n",
    "$$\n",
    "\\langle \\psi \\mid Y \\mid \\psi \\rangle \\\\\n",
    "= \\langle \\psi \\mid RX(-\\pi/2) Z RX(\\pi/2) \\mid \\psi \\rangle\\\\\n",
    "= \\langle \\psi'' \\mid Z \\mid \\psi'' \\rangle\n",
    "$$\n",
    "\n",
    "In this case, the corresponding rotating gate is inserted just before the measurement."
   ]
  },
  {
   "cell_type": "markdown",
   "metadata": {},
   "source": [
    "## Quantum Variational Principle\n",
    "In an arbitrary state vector $\\psi(\\theta)$, the Hamiltonian expectation satisfies the following\n",
    "\n",
    "$$\n",
    "\\langle \\psi (\\theta) \\mid H \\mid \\psi (\\theta) \\rangle \\geq E_0\n",
    "$$\n",
    "\n",
    "VQE takes advantage of this quantum variational principle and uses an optimization algorithm from an existing computer to find a minimum value that is as close to $E_0$ as possible while changing the state vector with the angle parameter $\\theta$.\n"
   ]
  },
  {
   "cell_type": "markdown",
   "metadata": {},
   "source": [
    "## Ansatz\n",
    "The quantum circuit for efficiently finding the minimum value is called Ansatz. Currently, efficient quantum circuits such as UCC Ansatz for quantum chemistry and QAOA Ansatz for combinatorial optimization problems have been found and are expected to be an application. Ansatz has rules for each field to some extent and is written according to the rules."
   ]
  },
  {
   "cell_type": "markdown",
   "metadata": {},
   "source": [
    "## Example.\n",
    "Finally, let's do an example.\n",
    "\n",
    "1. Create an Ansatz with the angle of the rotating gate as a parameter. (Quantum)\n",
    "2. Compute the following from the results of the run, $\\langle \\psi (\\theta) \\mid H \\mid \\psi (\\theta) \\rangle$ (Classical)\n",
    "3. Try the next suggested angle parameters from the classical optimizer."
   ]
  },
  {
   "cell_type": "markdown",
   "metadata": {},
   "source": [
    "This time, as the Ansatz, use an arbitrary one.\n",
    "\n",
    "```\n",
    "rx(a)[0].rz(b)[0]\n",
    "```\n",
    "\n",
    "I would like to calculate one qubit using two angles, a and b. For the Hamiltonian, I'll use the example that came up above. Finally, let's compare the results of VQE's calculations with those of the numerical library numpy."
   ]
  },
  {
   "cell_type": "code",
   "execution_count": 2,
   "metadata": {},
   "outputs": [
    {
     "name": "stdout",
     "output_type": "stream",
     "text": [
      "Result by VQE\n",
      "-4.4478075472540315\n",
      "Result by numpy\n",
      "-4.450818602983201\n"
     ]
    }
   ],
   "source": [
    "import numpy as np\n",
    "from blueqat import Circuit\n",
    "from blueqat.pauli import X, Y, Z, I\n",
    "from blueqat.vqe import AnsatzBase, Vqe\n",
    "\n",
    "class OneQubitAnsatz(AnsatzBase):\n",
    "    def __init__(self, hamiltonian):\n",
    "        super().__init__(hamiltonian.to_expr(), 2)\n",
    "        self.step = 1\n",
    "\n",
    "    def get_circuit(self, params):\n",
    "        a, b = params\n",
    "        return Circuit().rx(a)[0].rz(b)[0]\n",
    "\n",
    "# hamiltonian\n",
    "h = 1.23 * I - 4.56 * X(0) + 2.45 * Y(0) + 2.34 * Z(0)\n",
    "\n",
    "runner = Vqe(OneQubitAnsatz(h))\n",
    "result = runner.run()\n",
    "\n",
    "print('Result by VQE')\n",
    "print(runner.ansatz.get_energy_sparse(result.circuit))\n",
    "\n",
    "# This is for check\n",
    "mat = h.to_matrix()\n",
    "print('Result by numpy')\n",
    "print(np.linalg.eigh(mat)[0][0])"
   ]
  },
  {
   "cell_type": "markdown",
   "metadata": {},
   "source": [
    "Now you did VQE"
   ]
  }
 ],
 "metadata": {
  "kernelspec": {
   "display_name": "Python 3",
   "language": "python",
   "name": "python3"
  },
  "language_info": {
   "codemirror_mode": {
    "name": "ipython",
    "version": 3
   },
   "file_extension": ".py",
   "mimetype": "text/x-python",
   "name": "python",
   "nbconvert_exporter": "python",
   "pygments_lexer": "ipython3",
   "version": "3.8.3"
  }
 },
 "nbformat": 4,
 "nbformat_minor": 4
}

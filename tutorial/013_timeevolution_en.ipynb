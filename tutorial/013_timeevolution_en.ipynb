{
 "cells": [
  {
   "cell_type": "markdown",
   "metadata": {
    "colab_type": "text",
    "id": "NjHnSAbHrInP"
   },
   "source": [
    "# Time evolution\n",
    "The quantum state changes with time is called time evolution.   \n",
    "Let's implement the time evolution operator of the quantum gate."
   ]
  },
  {
   "cell_type": "markdown",
   "metadata": {},
   "source": [
    "## Time evolution operator\n",
    "Let the $H$ be a time-independent Hamiltonian.  \n",
    "In this case, the quantum state change as following:\n",
    "\n",
    "$$\n",
    "|\\phi(t)\\rangle = e^{iHt}|\\phi(0)\\rangle\n",
    "$$\n",
    "\n",
    "$e^{iHt}$ is time evolution operator of $H$"
   ]
  },
  {
   "cell_type": "markdown",
   "metadata": {},
   "source": [
    "## Install Blueqat\n",
    "Install Blueqat from pip."
   ]
  },
  {
   "cell_type": "code",
   "execution_count": 2,
   "metadata": {
    "colab": {
     "base_uri": "https://localhost:8080/",
     "height": 136
    },
    "colab_type": "code",
    "collapsed": true,
    "id": "Z2z6oBnToiqa",
    "outputId": "413f3f56-1b22-40f7-fcff-4621af4596d4"
   },
   "outputs": [
    {
     "name": "stdout",
     "output_type": "stream",
     "text": [
      "Requirement already satisfied: blueqat in /home/ec2-user/anaconda3/envs/python3/lib/python3.6/site-packages (0.3.13)\n",
      "Requirement already satisfied: scipy>=1.1.0 in /home/ec2-user/anaconda3/envs/python3/lib/python3.6/site-packages (from blueqat) (1.1.0)\n",
      "Requirement already satisfied: numpy~=1.12 in /home/ec2-user/anaconda3/envs/python3/lib/python3.6/site-packages (from blueqat) (1.18.3)\n",
      "\u001b[33mWARNING: You are using pip version 20.0.2; however, version 20.1 is available.\n",
      "You should consider upgrading via the '/home/ec2-user/anaconda3/envs/python3/bin/python -m pip install --upgrade pip' command.\u001b[0m\n"
     ]
    }
   ],
   "source": [
    "!pip install blueqat"
   ]
  },
  {
   "cell_type": "markdown",
   "metadata": {},
   "source": [
    "## X, Y, Z Gate\n",
    "\n",
    "Time evolution for X, Y, Z gate is\n",
    "\n",
    "$$e^{iX\\theta} = \\cos\\theta I - i\\sin\\theta X = Rx(2\\theta)$$  \n",
    "\n",
    "$$e^{iY\\theta} = \\cos\\theta I - i\\sin\\theta Y = Ry(2\\theta)$$  \n",
    "\n",
    "$$e^{iZ\\theta} = \\cos\\theta I - i\\sin\\theta Z = Rz(2\\theta)$$  \n",
    "\n",
    "To perform time evolution, we use `get_time_evolution()`.\n",
    "### Rx Gate"
   ]
  },
  {
   "cell_type": "code",
   "execution_count": 11,
   "metadata": {},
   "outputs": [
    {
     "output_type": "execute_result",
     "data": {
      "text/plain": "Counter({'1': 45, '0': 55})"
     },
     "metadata": {},
     "execution_count": 11
    }
   ],
   "source": [
    "from blueqat import Circuit, pauli\n",
    "import math\n",
    "\n",
    "evo = X[0].to_term().get_time_evolution()\n",
    "\n",
    "c = Circuit()\n",
    "evo(c, math.pi/4)\n",
    "c.m[:].run(shots=100)"
   ]
  },
  {
   "cell_type": "markdown",
   "metadata": {},
   "source": [
    "### Ry Gate"
   ]
  },
  {
   "cell_type": "code",
   "execution_count": 9,
   "metadata": {},
   "outputs": [
    {
     "output_type": "execute_result",
     "data": {
      "text/plain": "Counter({'0': 44, '1': 56})"
     },
     "metadata": {},
     "execution_count": 9
    }
   ],
   "source": [
    "from blueqat import Circuit, pauli\n",
    "import math\n",
    "\n",
    "evo = Y[0].to_term().get_time_evolution()\n",
    "\n",
    "c = Circuit()\n",
    "evo(c, math.pi/4)\n",
    "c.m[:].run(shots=100)"
   ]
  },
  {
   "cell_type": "markdown",
   "metadata": {},
   "source": [
    "### Rz Gate"
   ]
  },
  {
   "cell_type": "code",
   "execution_count": 12,
   "metadata": {},
   "outputs": [
    {
     "output_type": "execute_result",
     "data": {
      "text/plain": "Counter({'0': 100})"
     },
     "metadata": {},
     "execution_count": 12
    }
   ],
   "source": [
    "from blueqat import Circuit, pauli\n",
    "import math\n",
    "\n",
    "evo = Z[0].to_term().get_time_evolution()\n",
    "\n",
    "c = Circuit()\n",
    "evo(c, math.pi/4)\n",
    "c.m[:].run(shots=100)"
   ]
  },
  {
   "cell_type": "markdown",
   "metadata": {},
   "source": [
    "As you can see, we were able to implement the time evolution."
   ]
  },
  {
   "cell_type": "markdown",
   "metadata": {},
   "source": [
    "## XX, YY, ZZ Gate\n",
    "\n",
    "Time evolution for X, Y, Z gate is\n",
    "\n",
    "$$e^{iXX\\theta} = \\cos\\theta I - i\\sin\\theta XX = (HH)e^{iZZ\\theta}(HH) = Rxx(2\\theta)$$  \n",
    "\n",
    "$$e^{iYY\\theta} = \\cos\\theta I - i\\sin\\theta YY = (SHSH)e^{iZZ\\theta}(HS^\\dagger HS^\\dagger) = Ryy(2\\theta)$$  \n",
    "\n",
    "$$e^{iZZ\\theta} = \\cos\\theta I - i\\sin\\theta ZZ = CXRz(2\\theta)CX = Rzz(2\\theta)$$  \n",
    "\n",
    "We implement the same way as X, Y, Z gate.\n",
    "\n",
    "### Rxx Gate"
   ]
  },
  {
   "cell_type": "code",
   "execution_count": 14,
   "metadata": {},
   "outputs": [
    {
     "output_type": "execute_result",
     "data": {
      "text/plain": "Counter({'11': 50, '00': 50})"
     },
     "metadata": {},
     "execution_count": 14
    }
   ],
   "source": [
    "from blueqat import Circuit, pauli\n",
    "import math\n",
    "\n",
    "evo = (X[0]*X[1]).to_term().get_time_evolution()\n",
    "\n",
    "c = Circuit()\n",
    "evo(c, math.pi/4)\n",
    "c.m[:].run(shots=100)"
   ]
  },
  {
   "cell_type": "code",
   "execution_count": 18,
   "metadata": {},
   "outputs": [
    {
     "output_type": "execute_result",
     "data": {
      "text/plain": "Counter({'00': 46, '11': 54})"
     },
     "metadata": {},
     "execution_count": 18
    }
   ],
   "source": [
    "# It's the same as this circuit.\n",
    "Circuit().rxx(math.pi/4 * 2)[0,1].m[:].run(shots=100)"
   ]
  },
  {
   "cell_type": "markdown",
   "metadata": {},
   "source": [
    "### Ryy Gate"
   ]
  },
  {
   "cell_type": "code",
   "execution_count": 16,
   "metadata": {},
   "outputs": [
    {
     "output_type": "execute_result",
     "data": {
      "text/plain": "Counter({'11': 52, '00': 48})"
     },
     "metadata": {},
     "execution_count": 16
    }
   ],
   "source": [
    "from blueqat import Circuit, pauli\n",
    "import math\n",
    "\n",
    "evo = (Y[0]*Y[1]).to_term().get_time_evolution()\n",
    "\n",
    "c = Circuit()\n",
    "evo(c, math.pi/4)\n",
    "c.m[:].run(shots=100)"
   ]
  },
  {
   "cell_type": "code",
   "execution_count": 19,
   "metadata": {},
   "outputs": [
    {
     "output_type": "execute_result",
     "data": {
      "text/plain": "Counter({'00': 53, '11': 47})"
     },
     "metadata": {},
     "execution_count": 19
    }
   ],
   "source": [
    "# It's the same as this circuit.\n",
    "Circuit().ryy(math.pi/4 * 2)[0,1].m[:].run(shots=100)"
   ]
  },
  {
   "cell_type": "markdown",
   "metadata": {},
   "source": [
    "### Rzz Gate"
   ]
  },
  {
   "cell_type": "code",
   "execution_count": 17,
   "metadata": {},
   "outputs": [
    {
     "output_type": "execute_result",
     "data": {
      "text/plain": "Counter({'00': 100})"
     },
     "metadata": {},
     "execution_count": 17
    }
   ],
   "source": [
    "from blueqat import Circuit, pauli\n",
    "import math\n",
    "\n",
    "evo = (Z[0]*Z[1]).to_term().get_time_evolution()\n",
    "\n",
    "c = Circuit()\n",
    "evo(c, math.pi/4)\n",
    "c.m[:].run(shots=100)"
   ]
  },
  {
   "cell_type": "code",
   "execution_count": 20,
   "metadata": {},
   "outputs": [
    {
     "output_type": "execute_result",
     "data": {
      "text/plain": "Counter({'00': 100})"
     },
     "metadata": {},
     "execution_count": 20
    }
   ],
   "source": [
    "# It's the same as this circuit.\n",
    "Circuit().rzz(math.pi/4 * 2)[0,1].m[:].run(shots=100)"
   ]
  },
  {
   "cell_type": "markdown",
   "metadata": {},
   "source": [
    "We have implemented it well."
   ]
  },
  {
   "cell_type": "code",
   "execution_count": null,
   "metadata": {},
   "outputs": [],
   "source": []
  }
 ],
 "metadata": {
  "colab": {
   "collapsed_sections": [],
   "name": "007_02_fullgate.ipynb",
   "provenance": []
  },
  "kernelspec": {
   "display_name": "Python 3.7.6 64-bit ('dwave': conda)",
   "language": "python",
   "name": "python37664bitdwavecondaaa252b8d749942f1b803140f9f138e1e"
  },
  "language_info": {
   "codemirror_mode": {
    "name": "ipython",
    "version": 3
   },
   "file_extension": ".py",
   "mimetype": "text/x-python",
   "name": "python",
   "nbconvert_exporter": "python",
   "pygments_lexer": "ipython3",
   "version": "3.7.6-final"
  }
 },
 "nbformat": 4,
 "nbformat_minor": 1
}
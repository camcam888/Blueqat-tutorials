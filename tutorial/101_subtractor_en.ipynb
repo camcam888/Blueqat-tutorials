{
 "cells": [
  {
   "cell_type": "markdown",
   "metadata": {
    "colab_type": "text",
    "id": "NjHnSAbHrInP"
   },
   "source": [
    "# Subtractor\n",
    "Quantum computers have the function of being able to perform the same calculations as conventional computers. Check the circuit for Subtractor."
   ]
  },
  {
   "cell_type": "markdown",
   "metadata": {},
   "source": [
    "## What we'll learn this time\n",
    "1. Implementing Binary Subtractor Using Quantum Gates\n",
    "2. Using quantum superposition, we can realize multiple Substractor in a single circuit"
   ]
  },
  {
   "cell_type": "markdown",
   "metadata": {},
   "source": [
    "## Install Blueqat\n",
    "Install Blueqat from pip."
   ]
  },
  {
   "cell_type": "code",
   "execution_count": 1,
   "metadata": {
    "colab": {},
    "colab_type": "code",
    "collapsed": true,
    "id": "OF-AmKpXtgSJ"
   },
   "outputs": [
    {
     "name": "stdout",
     "output_type": "stream",
     "text": [
      "Requirement already satisfied: blueqat in /home/ec2-user/anaconda3/envs/python3/lib/python3.6/site-packages (0.3.13)\n",
      "Requirement already satisfied: numpy~=1.12 in /home/ec2-user/anaconda3/envs/python3/lib/python3.6/site-packages (from blueqat) (1.18.3)\n",
      "Requirement already satisfied: scipy>=1.1.0 in /home/ec2-user/anaconda3/envs/python3/lib/python3.6/site-packages (from blueqat) (1.1.0)\n",
      "\u001b[33mWARNING: You are using pip version 20.0.2; however, version 20.1 is available.\n",
      "You should consider upgrading via the '/home/ec2-user/anaconda3/envs/python3/bin/python -m pip install --upgrade pip' command.\u001b[0m\n"
     ]
    }
   ],
   "source": [
    "!pip install blueqat"
   ]
  },
  {
   "cell_type": "markdown",
   "metadata": {
    "colab_type": "text",
    "id": "PKhFYi-drld1"
   },
   "source": [
    "## Subtraction of binary numbers\n",
    "Subtractor uses a CCX gate to perform minus sign or a plus sign and a CX gate to perform Subtraction. In this case, we will do a quantum circuit of binary Subtraction, a-b = cd. This time, we will implement four types of Subtraction according to the values of a and b. Each Subtraction is,\n",
    "\n",
    "0-0 = 00 => 0000  \n",
    "0-1 = 11 => 0111  \n",
    "1-0 = 01 => 1001  \n",
    "1-1 = 00 => 1100  \n",
    "\n",
    "The first two qubits are the input values a and b, and the second two qubits are the output values c and d. I've built a separate circuit for the input of a and b and a circuit for the addition, and used it several times. For data input, use the X gate to flip 0 to 1."
   ]
  },
  {
   "cell_type": "markdown",
   "metadata": {},
   "source": [
    "The circuit part of the additon looks like this. * is a controlled bit.\n",
    "\n",
    "```\n",
    "a ---X---*---X---*------- a\n",
    "b -------*-------|---*--- b\n",
    "0 -------X-------|---|--- c\n",
    "0 ---------------X---X--- d\n",
    "```"
   ]
  },
  {
   "cell_type": "code",
   "execution_count": 5,
   "metadata": {
    "colab": {
     "base_uri": "https://localhost:8080/",
     "height": 34
    },
    "colab_type": "code",
    "id": "O674HiVxjc7P",
    "outputId": "63d75a71-0b78-4b7b-b759-56b2d018e284"
   },
   "outputs": [],
   "source": [
    "#import tools\n",
    "from blueqat import Circuit\n",
    "\n",
    "#subtraction part\n",
    "subtractor = Circuit().x[0].ccx[0,1,2].x[0].cx[0,3].cx[1,3]"
   ]
  },
  {
   "cell_type": "code",
   "execution_count": 6,
   "metadata": {
    "colab": {
     "base_uri": "https://localhost:8080/",
     "height": 34
    },
    "colab_type": "code",
    "id": "O674HiVxjc7P",
    "outputId": "63d75a71-0b78-4b7b-b759-56b2d018e284"
   },
   "outputs": [
    {
     "output_type": "execute_result",
     "data": {
      "text/plain": "Counter({'0000': 100})"
     },
     "metadata": {},
     "execution_count": 6
    }
   ],
   "source": [
    "#0-0\n",
    "(Circuit() + subtractor).m[:].run(shots=100)"
   ]
  },
  {
   "cell_type": "code",
   "execution_count": 7,
   "metadata": {
    "colab": {
     "base_uri": "https://localhost:8080/",
     "height": 34
    },
    "colab_type": "code",
    "id": "xlTAVvSt3iZv",
    "outputId": "c6e6810e-4569-4849-da61-ab41e72f83c0"
   },
   "outputs": [
    {
     "output_type": "execute_result",
     "data": {
      "text/plain": "Counter({'0111': 100})"
     },
     "metadata": {},
     "execution_count": 7
    }
   ],
   "source": [
    "#0-1\n",
    "(Circuit().x[1] + subtractor).m[:].run(shots=100)"
   ]
  },
  {
   "cell_type": "code",
   "execution_count": 8,
   "metadata": {
    "colab": {
     "base_uri": "https://localhost:8080/",
     "height": 34
    },
    "colab_type": "code",
    "id": "BtkqFj8n3kBS",
    "outputId": "5db803d7-a2dc-417b-95c2-eacf35e160c2"
   },
   "outputs": [
    {
     "output_type": "execute_result",
     "data": {
      "text/plain": "Counter({'1001': 100})"
     },
     "metadata": {},
     "execution_count": 8
    }
   ],
   "source": [
    "#1-0\n",
    "(Circuit().x[0] + subtractor).m[:].run(shots=100)"
   ]
  },
  {
   "cell_type": "code",
   "execution_count": 9,
   "metadata": {
    "colab": {
     "base_uri": "https://localhost:8080/",
     "height": 34
    },
    "colab_type": "code",
    "id": "JnmWCnOf3xGw",
    "outputId": "b89c5e8a-899b-47da-faed-dc5a3a5035e5"
   },
   "outputs": [
    {
     "output_type": "execute_result",
     "data": {
      "text/plain": "Counter({'1100': 100})"
     },
     "metadata": {},
     "execution_count": 9
    }
   ],
   "source": [
    "#1-1\n",
    "(Circuit().x[0,1] + subtractor).m[:].run(shots=100)"
   ]
  },
  {
   "cell_type": "markdown",
   "metadata": {
    "colab_type": "text",
    "id": "OPe8FDu04AtN"
   },
   "source": [
    "As you can see, we were able to calculate."
   ]
  },
  {
   "cell_type": "markdown",
   "metadata": {
    "colab_type": "text",
    "id": "OPe8FDu04AtN"
   },
   "source": [
    "## subtraction using superposition\n",
    "Now, instead of filling in the data one by one with the X-gate, let's use the H-gate to do the subtraction."
   ]
  },
  {
   "cell_type": "code",
   "execution_count": 10,
   "metadata": {},
   "outputs": [
    {
     "output_type": "execute_result",
     "data": {
      "text/plain": "Counter({'1001': 18, '0000': 21, '1100': 36, '0111': 25})"
     },
     "metadata": {},
     "execution_count": 10
    }
   ],
   "source": [
    "#Use H gate as input instead of X gate\n",
    "(Circuit().h[0,1] + subtractor).m[:].run(shots=100)"
   ]
  },
  {
   "cell_type": "markdown",
   "metadata": {},
   "source": [
    "Using the Hadamal Gate, I got 4 answers, about 1/4 each. If you create a universal subtraction circuit like this, you can perform calculations using the superposition state."
   ]
  },
  {
   "cell_type": "markdown",
   "metadata": {},
   "source": [
    "## subtraction using entanglement\n",
    "Next, instead of the H-gate, we try to subtract a-b=0 using quantum entanglement."
   ]
  },
  {
   "cell_type": "code",
   "execution_count": 11,
   "metadata": {},
   "outputs": [
    {
     "output_type": "execute_result",
     "data": {
      "text/plain": "Counter({'1100': 51, '0000': 49})"
     },
     "metadata": {},
     "execution_count": 11
    }
   ],
   "source": [
    "#Make an entangled state of 00 and 11\n",
    "(Circuit().h[0].cx[0,1] + subtractor).m[:].run(shots=100)"
   ]
  },
  {
   "cell_type": "markdown",
   "metadata": {},
   "source": [
    "Since the input values 00 and 11 are entangled, the addition of these two will come out about half by half."
   ]
  },
  {
   "cell_type": "markdown",
   "metadata": {},
   "source": [
    "--------"
   ]
  },
  {
   "cell_type": "markdown",
   "metadata": {},
   "source": [
    "## Advanced: General subtraction\n",
    "It implements the subtraction of common decimal numbers to each other.  \n",
    "The subtraction circuit can be implemented by reversing the addition circuit.\n",
    "\n",
    "<img src=\"https://qiita-user-contents.imgix.net/https%3A%2F%2Fqiita-image-store.s3.ap-northeast-1.amazonaws.com%2F0%2F218694%2F489c8ea6-130c-d44b-4bae-4d86f64556c2.png?ixlib=rb-1.2.2&auto=format&gif-q=60&q=75&s=e67fbf71779fa7ebb443e93663c56dc4\">\n",
    "\n",
    "Consider the circuit from the right. Input $a, a+b$ to output $b$.  \n",
    "It can be displayed in binary numbers such as $a = a_n ... a_0$, $b = b_n ... b_0$.  \n",
    "(where n is based on the larger number.)\n",
    "\n",
    "$c_i$ is a carry down.  "
   ]
  },
  {
   "cell_type": "markdown",
   "metadata": {},
   "source": [
    "### Carry down\n",
    "\n",
    "<img src=\"https://qiita-user-contents.imgix.net/https%3A%2F%2Fqiita-image-store.s3.ap-northeast-1.amazonaws.com%2F0%2F218694%2F00361854-e782-0da0-3386-f59f668a1ada.png?ixlib=rb-1.2.2&auto=format&gif-q=60&q=75&s=58d1d41b0893b16bfb24bfd546328ff2\" width=\"60%\">\n",
    "\n",
    "The first part of the circuit combines these to obtain the carry down."
   ]
  },
  {
   "cell_type": "markdown",
   "metadata": {},
   "source": [
    "### Overflow bit\n",
    "The discrimination is given by $b_{n+1}$. This is called the overflow bit.  \n",
    "\n",
    "When $a < a+b$, $b_{n+1}$ = 0  \n",
    "When $a > a+b$, $b_{n+1}$ = 1.\n",
    "\n",
    "If $a > a+b$, $2^{n+1} - b$ will be output."
   ]
  },
  {
   "cell_type": "markdown",
   "metadata": {},
   "source": [
    "### Implementation\n",
    "\n",
    "General subtraction is:\n",
    "\n",
    "1. Using the reverse and sum circuits calculates the carry bit.  \n",
    "2. Check the overflow and store it in $b_{n+1}$.  \n",
    "3. Using the carry circuit calculate the defference.\n",
    "\n",
    "$b$ is output in $b_n ... b_0$, and $b_{n+1}$ is the overflow bit.  \n",
    "We'll prepare it for implementation. This is the same as the addition circuit."
   ]
  },
  {
   "cell_type": "code",
   "execution_count": 1,
   "metadata": {},
   "outputs": [],
   "source": [
    "from blueqat import Circuit\n",
    "\n",
    "def carry(i):\n",
    "    return Circuit().ccx[i+1,i+2,i+3].cx[i+1,i+2].ccx[i,i+2,i+3]\n",
    "\n",
    "def carry_reverse(i):\n",
    "    return Circuit().ccx[i,i+2,i+3].cx[i+1,i+2].ccx[i+1,i+2,i+3]\n",
    "\n",
    "def sum_reverse(a):\n",
    "    return Circuit().cx[a,a+2].cx[a+1,a+2]\n",
    "\n",
    "def tobinary(A):\n",
    "    return bin(A)[2:]\n",
    "\n",
    "def digits(a,b): \n",
    "     # change to the binary\n",
    "     aa = tobinary(a)  \n",
    "     bb = tobinary(b)  \n",
    "     alen = len(aa)  \n",
    "     blen = len(bb)  \n",
    "\n",
    "     # get the value n\n",
    "     maxlen = max(alen,blen) \n",
    "     if alen>blen: \n",
    "         bb = bb.zfill(alen) \n",
    "     elif blen>alen: \n",
    "         aa = aa.zfill(blen) \n",
    "\n",
    "     # mapping\n",
    "     str = '' \n",
    "     for i in range(maxlen): \n",
    "         str += '0' + aa[maxlen-i-1] + bb[maxlen-i-1] \n",
    "     str += '0' \n",
    "     return str\n",
    "\n",
    "def toX(a): \n",
    "     cir = Circuit(len(a)) \n",
    "     for i in range(len(a)): \n",
    "         if a[i] == \"1\": \n",
    "             cir += Circuit().x[i] \n",
    "     return cir\n",
    "\n",
    "def todecimal(A):\n",
    "    return int(str(A),2) \n",
    "\n",
    "def getb(result): \n",
    "     str = result[-1] \n",
    "     digi = int((len(result)-1)/3) \n",
    "     for i in range(digi): \n",
    "         str += result[-2-i*3] \n",
    "     return todecimal(str)"
   ]
  },
  {
   "cell_type": "markdown",
   "metadata": {},
   "source": [
    "### General circuit"
   ]
  },
  {
   "cell_type": "code",
   "execution_count": 2,
   "metadata": {},
   "outputs": [],
   "source": [
    "def minus(a,ab): \n",
    "     # swap a for ab\n",
    "     c = ab\n",
    "     ab = a\n",
    "     a = c\n",
    "\n",
    "     # Mapping a binary number to a circuit\n",
    "     qubits = len(digits(a,ab)) \n",
    "     cir1 = toX(digits(a,ab)) \n",
    "     digi = int((len(digits(a,ab))-1)/3) \n",
    "\n",
    "     # first carry circuit and sum reverse circuit\n",
    "     cir4 = Circuit(qubits) \n",
    "     for i in range(digi-1): \n",
    "         cir4 += sum_reverse(i*3)\n",
    "         cir4 += carry(i*3) \n",
    "\n",
    "     # last digit\n",
    "     cir3 = sum_reverse((digi-1)*3) + Circuit(qubits).cx[-3,-2] \n",
    "\n",
    "     # Output the subtraction to bi\n",
    "     cir2 = Circuit(qubits)     \n",
    "     for i in range(digi): \n",
    "         cir2 += carry_reverse((digi-1-i)*3)\n",
    "\n",
    "     result = (cir1 + cir4 + cir3 + cir2).m[:].run(shots=1) \n",
    "     return getb(result.most_common()[0][0])"
   ]
  },
  {
   "cell_type": "markdown",
   "metadata": {},
   "source": [
    "Let's actually calculate it."
   ]
  },
  {
   "cell_type": "code",
   "execution_count": 3,
   "metadata": {},
   "outputs": [
    {
     "output_type": "execute_result",
     "data": {
      "text/plain": "6"
     },
     "metadata": {},
     "execution_count": 3
    }
   ],
   "source": [
    "minus(8,2)"
   ]
  },
  {
   "cell_type": "code",
   "execution_count": 4,
   "metadata": {},
   "outputs": [
    {
     "output_type": "execute_result",
     "data": {
      "text/plain": "2"
     },
     "metadata": {},
     "execution_count": 4
    }
   ],
   "source": [
    "minus(4,2)"
   ]
  },
  {
   "cell_type": "code",
   "execution_count": 5,
   "metadata": {},
   "outputs": [
    {
     "output_type": "execute_result",
     "data": {
      "text/plain": "26"
     },
     "metadata": {},
     "execution_count": 5
    }
   ],
   "source": [
    "minus(50,24)"
   ]
  },
  {
   "cell_type": "markdown",
   "metadata": {},
   "source": [
    "We've calculated it. Incidentally, for $a > a + b$"
   ]
  },
  {
   "cell_type": "code",
   "execution_count": 6,
   "metadata": {},
   "outputs": [
    {
     "output_type": "execute_result",
     "data": {
      "text/plain": "14"
     },
     "metadata": {},
     "execution_count": 6
    }
   ],
   "source": [
    "minus(2,4)"
   ]
  },
  {
   "cell_type": "markdown",
   "metadata": {},
   "source": [
    "This is also calculated."
   ]
  },
  {
   "cell_type": "markdown",
   "metadata": {},
   "source": [
    "### References\n",
    "V. Vedral, A. Barenco, A. Ekert, \"Quantum Networks for Elementary Arithmetic Operations\",  \n",
    "(Submitted on 16 Nov 1995)  \n",
    "https://arxiv.org/pdf/quant-ph/9511018.pdf"
   ]
  },
  {
   "cell_type": "code",
   "execution_count": null,
   "metadata": {},
   "outputs": [],
   "source": []
  }
 ],
 "metadata": {
  "colab": {
   "collapsed_sections": [],
   "name": "008_basic_general.ipynb",
   "provenance": [],
   "version": "0.3.2"
  },
  "kernelspec": {
   "display_name": "Python 3.7.6 64-bit ('dwave': conda)",
   "language": "python",
   "name": "python37664bitdwavecondaaa252b8d749942f1b803140f9f138e1e"
  },
  "language_info": {
   "codemirror_mode": {
    "name": "ipython",
    "version": 3
   },
   "file_extension": ".py",
   "mimetype": "text/x-python",
   "name": "python",
   "nbconvert_exporter": "python",
   "pygments_lexer": "ipython3",
   "version": "3.7.6-final"
  }
 },
 "nbformat": 4,
 "nbformat_minor": 1
}
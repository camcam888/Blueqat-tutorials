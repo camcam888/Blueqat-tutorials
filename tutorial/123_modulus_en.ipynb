{
 "cells": [
  {
   "cell_type": "markdown",
   "metadata": {
    "colab_type": "text",
    "id": "NjHnSAbHrInP"
   },
   "source": [
    "# Modulus\n",
    "This time we'll find the modulus by using a general addition and subtraction circuit.\n",
    "\n",
    "The circuit is:\n",
    "\n",
    "<img src=\"https://qiita-user-contents.imgix.net/https%3A%2F%2Fqiita-image-store.s3.ap-northeast-1.amazonaws.com%2F0%2F218694%2Ff161e722-f727-b6fb-d02b-24e40b5b63b1.png?ixlib=rb-1.2.2&auto=format&gif-q=60&q=75&s=da298eace648814b5ccfe4affa9301ca\">\n",
    "\n",
    "$a,b$ is $0 < a,b < N$. The last bit is called the temporary bit. It checks the overflow."
   ]
  },
  {
   "cell_type": "markdown",
   "metadata": {},
   "source": [
    "## Implementation procedure\n",
    "In order to find $a+b\\mod N$, we need to compare $a+b$ and $N$.  \n",
    "\n",
    "When $a+b>N$,  \n",
    "$a+b-N = (a+b) \\mod N$\n",
    "\n",
    "When $a+b<N$, \n",
    "$a+b = (a+b) \\mod N$\n",
    "\n",
    "We will implement it in a quantum circuit.\n",
    "\n",
    "When $a+b>N$,\n",
    "\n",
    "<img src=\"https://qiita-user-contents.imgix.net/https%3A%2F%2Fqiita-image-store.s3.ap-northeast-1.amazonaws.com%2F0%2F218694%2F5c97b6fd-425b-c42b-057a-68d9cb47e457.jpeg?ixlib=rb-1.2.2&auto=format&gif-q=60&q=75&s=3711f239a543dc4aa175f4636adde888\">\n",
    "\n",
    "When $a+b<N$,\n",
    "\n",
    "<img src=\"https://qiita-user-contents.imgix.net/https%3A%2F%2Fqiita-image-store.s3.ap-northeast-1.amazonaws.com%2F0%2F218694%2Fcb7bc1bf-e713-f7d4-9cdc-4bc47bb6eba8.jpeg?ixlib=rb-1.2.2&auto=format&gif-q=60&q=75&s=425f2f86ef9d5b5c27b1c1f1ddfab936\">\n",
    "\n",
    "It uses the surplus qubits and the value of the topmost qubit of the adder to make the case.  \n",
    "If $a+b<N$, no extra bits are used and no extra operations are required."
   ]
  },
  {
   "cell_type": "markdown",
   "metadata": {
    "colab_type": "text",
    "id": "MG6ANG-i8J6s"
   },
   "source": [
    "## Example\n",
    "Let's look at a simple example.\n",
    "\n",
    "When $3 + 5 < 7$,  \n",
    "$(3 + 5) \\mod 7 = 1$\n",
    "\n",
    "When $3 + 5 > 11$,    \n",
    "$(3 + 5) \\mod 11 = 8$\n",
    "\n",
    "This is what we are trying to implement by using quantum circuits."
   ]
  },
  {
   "cell_type": "markdown",
   "metadata": {},
   "source": [
    "## Install Blueqat\n",
    "Install Blueqat from pip."
   ]
  },
  {
   "cell_type": "code",
   "execution_count": 1,
   "metadata": {},
   "outputs": [
    {
     "name": "stdout",
     "output_type": "stream",
     "text": [
      "Requirement already satisfied: blueqat in /home/ec2-user/anaconda3/envs/python3/lib/python3.6/site-packages (0.3.13)\n",
      "Requirement already satisfied: scipy>=1.1.0 in /home/ec2-user/anaconda3/envs/python3/lib/python3.6/site-packages (from blueqat) (1.1.0)\n",
      "Requirement already satisfied: numpy~=1.12 in /home/ec2-user/anaconda3/envs/python3/lib/python3.6/site-packages (from blueqat) (1.18.3)\n",
      "\u001b[33mWARNING: You are using pip version 20.0.2; however, version 20.1 is available.\n",
      "You should consider upgrading via the '/home/ec2-user/anaconda3/envs/python3/bin/python -m pip install --upgrade pip' command.\u001b[0m\n"
     ]
    }
   ],
   "source": [
    "!pip install blueqat"
   ]
  },
  {
   "cell_type": "markdown",
   "metadata": {},
   "source": [
    "### Implementation\n",
    "We'll prepare it for implementation. This is the same as the addition circuit and the subtraction circuit.\n",
    "\n",
    "we will add another N to the circuit above to make the temporary bit and N correspond to each other.   \n",
    "The initial state is as follows.\n",
    "\n",
    "```\n",
    "c0 --\n",
    "a0 --\n",
    "b0 --\n",
    "c1 --\n",
    "..\n",
    "n0 --\n",
    "n1 --\n",
    "..\n",
    "t  --\n",
    "n0 --\n",
    "n1 --\n",
    "..\n",
    "```\n",
    "\n",
    "Also, each digit is $N$."
   ]
  },
  {
   "cell_type": "code",
   "execution_count": 118,
   "metadata": {
    "colab": {
     "base_uri": "https://localhost:8080/",
     "height": 34
    },
    "colab_type": "code",
    "id": "O674HiVxjc7P",
    "outputId": "e1b98357-9000-40f6-a35e-85c6c4432cd0"
   },
   "outputs": [],
   "source": [
    "from blueqat import Circuit\n",
    "\n",
    "def carry(a):\n",
    "    return Circuit().ccx[a+1,a+2,a+3].cx[a+1,a+2].ccx[a,a+2,a+3]\n",
    "\n",
    "def carry_reverse(a):\n",
    "    return Circuit().ccx[a,a+2,a+3].cx[a+1,a+2].ccx[a+1,a+2,a+3]\n",
    "\n",
    "def sum(a):\n",
    "    return Circuit().cx[a+1,a+2].cx[a,a+2] \n",
    "\n",
    "def sum_reverse(a):\n",
    "    return Circuit().cx[a,a+2].cx[a+1,a+2]\n",
    "\n",
    "def tobinary(A):\n",
    "    return bin(A)[2:] \n",
    "\n",
    "# get the digit number\n",
    "def digits2(a,b,n): \n",
    "     aa = tobinary(a)  \n",
    "     bb = tobinary(b)  \n",
    "     nn = tobinary(n)  \n",
    "\n",
    "     nlen = len(nn)  \n",
    "     aa = aa.zfill(nlen) \n",
    "     bb = bb.zfill(nlen) \n",
    "\n",
    "     str = '' \n",
    "     for i in range(nlen): \n",
    "         str += '0' + aa[nlen-i-1] + bb[nlen-i-1] \n",
    "     str += '0' \n",
    "\n",
    "     for i in range(nlen): \n",
    "         str += nn[nlen-i-1]  \n",
    "\n",
    "     str += '0'\n",
    "\n",
    "     for i in range(nlen): \n",
    "        str += nn[nlen-i-1]\n",
    "\n",
    "     return str\n",
    "\n",
    "# initial states\n",
    "def toX(a): \n",
    "     cir = Circuit(len(a)) \n",
    "     for i in range(len(a)): \n",
    "         if a[i] == \"1\": \n",
    "             cir += Circuit().x[i] \n",
    "     return cir\n",
    "\n",
    "# adder\n",
    "def plus(a,b,n): \n",
    "     qubits = len(digits2(a,b,n))\n",
    "     digi = len(tobinary(n))\n",
    "\n",
    "     cir2 = Circuit(qubits)     \n",
    "     for i in range(digi): \n",
    "         cir2 += carry(i*3) \n",
    "\n",
    "     cir3 = Circuit(qubits).cx[(digi-1)*3+1,(digi-1)*3+2] + sum((digi-1)*3)\n",
    "\n",
    "     cir4 = Circuit(qubits) \n",
    "     for i in range(digi-1): \n",
    "         cir4 += carry_reverse((digi-i-2)*3) \n",
    "         cir4 += sum((digi-i-2)*3)\n",
    "\n",
    "     cir_plus = cir2 + cir3 + cir4\n",
    "     return cir_plus\n",
    "\n",
    "# adder_inverse\n",
    "def minus(a,ab,n): \n",
    "     qubits = len(digits2(a,ab,n))\n",
    "     digi = len(tobinary(n))\n",
    "\n",
    "     cir4 = Circuit(qubits) \n",
    "     for i in range(digi-1): \n",
    "         cir4 += sum_reverse(i*3)\n",
    "         cir4 += carry(i*3) \n",
    "\n",
    "     cir3 = sum_reverse((digi-1)*3) + Circuit(qubits).cx[(digi-1)*3+1,(digi-1)*3+2] \n",
    "\n",
    "     cir2 = Circuit(qubits)     \n",
    "     for i in range(digi): \n",
    "         cir2 += carry_reverse((digi-1-i)*3) \n",
    "\n",
    "     cir_minus = cir4 + cir3 + cir2\n",
    "     return cir_minus\n",
    "\n",
    "# swap a and N\n",
    "def swap(n):\n",
    "    digi = len(tobinary(n))\n",
    "    cir = Circuit(5*digi+2)\n",
    "    for i in range(digi):\n",
    "        cir += Circuit(5*digi+2).swap[3*i+1,3*digi+1+i]\n",
    "    return cir\n",
    "\n",
    "# to decimal number\n",
    "def todecimal(A):\n",
    "    return int(str(A),2) \n",
    "\n",
    "# get b from the circuit\n",
    "def getb(result,n): \n",
    "     str = \"\"\n",
    "     digi = len(tobinary(n)) \n",
    "     for i in range(digi): \n",
    "         str += result[3*(digi-i)-1]\n",
    "     return todecimal(str)"
   ]
  },
  {
   "cell_type": "markdown",
   "metadata": {},
   "source": [
    "### General circuit"
   ]
  },
  {
   "cell_type": "code",
   "execution_count": 119,
   "metadata": {
    "colab": {
     "base_uri": "https://localhost:8080/",
     "height": 34
    },
    "colab_type": "code",
    "id": "IgDHp3r57XCM",
    "outputId": "49213c4e-535c-4c43-cf1c-1d76a1a5906f"
   },
   "outputs": [],
   "source": [
    "def adder_mod(a,b,n):\n",
    "    digi = len(tobinary(n))\n",
    "\n",
    "    # first part\n",
    "    part1 = toX(digits2(a,b,n)) + plus(a,b,n) + swap(n) + minus(a,b,n)\n",
    "\n",
    "    # set the overflow to a temporary bit\n",
    "    part2 = Circuit(5*digi+2).x[digi*3].cx[digi*3,digi*4+1].x[digi*3]\n",
    "\n",
    "    # returns N from a temporary bit.\n",
    "    part3 = Circuit(5*digi+2)\n",
    "    for i in range(digi):\n",
    "        part3 += Circuit(5*digi+2).ccx[4*digi+2+i,4*digi+1,3*i+1]\n",
    "\n",
    "    # last part\n",
    "    part4 = minus(a,b,n)+Circuit(5*digi+2).cx[digi*3,digi*4+1]+plus(a,b,n)\n",
    "    \n",
    "    result = (part1+part2+part3+plus(a,b,n)+part3+swap(n)+part4).m[:].run(shots=1)\n",
    "    return getb(result.most_common()[0][0],n)"
   ]
  },
  {
   "cell_type": "markdown",
   "metadata": {},
   "source": [
    "Let's actually calculate it."
   ]
  },
  {
   "cell_type": "code",
   "execution_count": 120,
   "metadata": {
    "colab": {
     "base_uri": "https://localhost:8080/",
     "height": 34
    },
    "colab_type": "code",
    "id": "t51TwH7k7Z6q",
    "outputId": "1524f8df-048a-4106-aae3-cdd8308fc36e"
   },
   "outputs": [
    {
     "output_type": "execute_result",
     "data": {
      "text/plain": "2"
     },
     "metadata": {},
     "execution_count": 120
    }
   ],
   "source": [
    "adder_mod(4,3,5)"
   ]
  },
  {
   "cell_type": "code",
   "execution_count": 121,
   "metadata": {
    "colab": {
     "base_uri": "https://localhost:8080/",
     "height": 34
    },
    "colab_type": "code",
    "id": "hbY49XMd7ftR",
    "outputId": "33c8f0c4-0161-4f89-b86a-2b6146448d3a"
   },
   "outputs": [
    {
     "output_type": "execute_result",
     "data": {
      "text/plain": "3"
     },
     "metadata": {},
     "execution_count": 121
    }
   ],
   "source": [
    "adder_mod(4,4,5)"
   ]
  },
  {
   "cell_type": "code",
   "execution_count": 122,
   "metadata": {
    "colab": {
     "base_uri": "https://localhost:8080/",
     "height": 34
    },
    "colab_type": "code",
    "id": "ZuM7g9WJ7jbN",
    "outputId": "1b65d457-0232-40a0-fda8-ce1a417b553c"
   },
   "outputs": [
    {
     "output_type": "execute_result",
     "data": {
      "text/plain": "0"
     },
     "metadata": {},
     "execution_count": 122
    }
   ],
   "source": [
    "adder_mod(1,5,6)"
   ]
  },
  {
   "cell_type": "markdown",
   "metadata": {},
   "source": [
    "We've calculated it."
   ]
  },
  {
   "cell_type": "markdown",
   "metadata": {},
   "source": [
    "### References\n",
    "V. Vedral, A. Barenco, A. Ekert, \"Quantum Networks for Elementary Arithmetic Operations\",  \n",
    "(Submitted on 16 Nov 1995)  \n",
    "https://arxiv.org/pdf/quant-ph/9511018.pdf"
   ]
  },
  {
   "cell_type": "code",
   "execution_count": null,
   "metadata": {},
   "outputs": [],
   "source": []
  }
 ],
 "metadata": {
  "colab": {
   "collapsed_sections": [],
   "name": "010_basic_multi.ipynb",
   "provenance": [],
   "version": "0.3.2"
  },
  "kernelspec": {
   "display_name": "Python 3.7.6 64-bit ('dwave': conda)",
   "language": "python",
   "name": "python37664bitdwavecondaaa252b8d749942f1b803140f9f138e1e"
  },
  "language_info": {
   "codemirror_mode": {
    "name": "ipython",
    "version": 3
   },
   "file_extension": ".py",
   "mimetype": "text/x-python",
   "name": "python",
   "nbconvert_exporter": "python",
   "pygments_lexer": "ipython3",
   "version": "3.7.6-final"
  }
 },
 "nbformat": 4,
 "nbformat_minor": 1
}
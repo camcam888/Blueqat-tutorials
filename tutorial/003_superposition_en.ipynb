{
  "nbformat": 4,
  "nbformat_minor": 0,
  "metadata": {
    "colab": {
      "name": "003_basic_superposition.ipynb",
      "version": "0.3.2",
      "provenance": [],
      "collapsed_sections": []
    },
    "kernelspec": {
      "display_name": "Python 3",
      "language": "python",
      "name": "python3"
    }
  },
  "cells": [
    {
      "metadata": {
        "colab_type": "text",
        "id": "NjHnSAbHrInP"
      },
      "cell_type": "markdown",
      "source": [
        "# Superposition of qubits\n",
        "Here we learn about basic tutorial of quantum superposition. Superposition is a kind of combination in the quantum logic gate."
      ]
    },
    {
      "metadata": {
        "colab_type": "text",
        "id": "PKhFYi-drld1"
      },
      "cell_type": "markdown",
      "source": [
        "## Circuit\n",
        "The superposition is quite easy to implement. Just apply Hadamard gate (H gate) to the circuit. To see the result now we have 100 times of trial on the gate."
      ]
    },
    {
      "metadata": {
        "id": "U7GGUfWjgF1S",
        "colab_type": "code",
        "colab": {}
      },
      "cell_type": "code",
      "source": [
        "!pip install blueqat"
      ],
      "execution_count": 0,
      "outputs": []
    },
    {
      "metadata": {
        "colab_type": "code",
        "id": "O674HiVxjc7P",
        "outputId": "8a0a0fb6-e1c7-422d-bb57-5ba36580e8dd",
        "colab": {
          "base_uri": "https://localhost:8080/",
          "height": 34
        }
      },
      "cell_type": "code",
      "source": [
        "from blueqat import Circuit\n",
        "\n",
        "Circuit().h[0].m[:].run(shots=100)"
      ],
      "execution_count": 3,
      "outputs": [
        {
          "output_type": "execute_result",
          "data": {
            "text/plain": [
              "Counter({'0': 56, '1': 44})"
            ]
          },
          "metadata": {
            "tags": []
          },
          "execution_count": 3
        }
      ]
    },
    {
      "metadata": {
        "id": "Pj4TW4zHDG7d",
        "colab_type": "text"
      },
      "cell_type": "markdown",
      "source": [
        "Now we get result of 0 and 1 almost half each other. Hadamard gate make the superposition of the qubits and make the |+> state which is the neutral position between 0 and 1."
      ]
    },
    {
      "metadata": {
        "colab_type": "text",
        "id": "wHrRyYvfuCMC"
      },
      "cell_type": "markdown",
      "source": [
        "## Minus state\n",
        "Now we tried on |+> state with Hgate. Next we see at |-> minus state. Minus state is easily realize with applying Zgate on |+> state.\n"
      ]
    },
    {
      "metadata": {
        "colab_type": "code",
        "id": "s4nPf83otvoG",
        "outputId": "6793b856-81d9-49f9-f1cb-cb2296423ebd",
        "colab": {
          "base_uri": "https://localhost:8080/",
          "height": 34
        }
      },
      "cell_type": "code",
      "source": [
        "Circuit().h[0].z[0].m[:].run(shots=100)"
      ],
      "execution_count": 4,
      "outputs": [
        {
          "output_type": "execute_result",
          "data": {
            "text/plain": [
              "Counter({'0': 56, '1': 44})"
            ]
          },
          "metadata": {
            "tags": []
          },
          "execution_count": 4
        }
      ]
    },
    {
      "metadata": {
        "id": "bnQKAJQuBKNS",
        "colab_type": "text"
      },
      "cell_type": "markdown",
      "source": [
        "By applying .z[0] after .h[0] we can get the minus state. Minus state also have almost half of 0 and 1. We cannot distinguish these state just by measurement. The quantum state is behind the equation and we can just guess it."
      ]
    },
    {
      "metadata": {
        "id": "VdiXawfVj8oV",
        "colab_type": "text"
      },
      "cell_type": "markdown",
      "source": [
        "# Advanced: State vector\n",
        "The state vector of |+> state is 1/sqrt(2) [1,1], so we have [0.707,0.707]."
      ]
    },
    {
      "metadata": {
        "id": "uzaQ3WSwBYgf",
        "colab_type": "code",
        "outputId": "98dca942-510f-4400-a149-079758be9554",
        "colab": {
          "base_uri": "https://localhost:8080/",
          "height": 34
        }
      },
      "cell_type": "code",
      "source": [
        "Circuit().h[0].run()"
      ],
      "execution_count": 6,
      "outputs": [
        {
          "output_type": "execute_result",
          "data": {
            "text/plain": [
              "array([0.70710678+0.j, 0.70710678+0.j])"
            ]
          },
          "metadata": {
            "tags": []
          },
          "execution_count": 6
        }
      ]
    },
    {
      "metadata": {
        "id": "7SL_2kj7BnuQ",
        "colab_type": "text"
      },
      "cell_type": "markdown",
      "source": [
        "We have both element of vector as +. And we check the |-> state."
      ]
    },
    {
      "metadata": {
        "id": "SdPHY7RBGuxe",
        "colab_type": "code",
        "outputId": "b20f1fee-79db-4fef-be19-30b2bb501965",
        "colab": {
          "base_uri": "https://localhost:8080/",
          "height": 34
        }
      },
      "cell_type": "code",
      "source": [
        "Circuit().h[0].z[0].run()"
      ],
      "execution_count": 8,
      "outputs": [
        {
          "output_type": "execute_result",
          "data": {
            "text/plain": [
              "array([ 0.70710678+0.j, -0.70710678+0.j])"
            ]
          },
          "metadata": {
            "tags": []
          },
          "execution_count": 8
        }
      ]
    },
    {
      "metadata": {
        "id": "Y6NtTz8fGyQQ",
        "colab_type": "text"
      },
      "cell_type": "markdown",
      "source": [
        "Now we can see the second element of the vector is minus sign. This state can be aquired just by the small state and by simulator only. We cannot get this state vector directly from the actual quantum computer."
      ]
    }
  ]
}
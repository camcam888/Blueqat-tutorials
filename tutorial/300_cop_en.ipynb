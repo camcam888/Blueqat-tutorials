{
 "cells": [
  {
   "cell_type": "markdown",
   "metadata": {
    "colab_type": "text",
    "id": "Z57Y5-H3uuOV"
   },
   "source": [
    "#Combinatorial Optimization Problems on Variational Quantum Eigensolver(VQE) and QAOA"
   ]
  },
  {
   "cell_type": "markdown",
   "metadata": {
    "colab_type": "text",
    "id": "23QCMzt_u3KT"
   },
   "source": [
    "Combinatorial optimization problem is one of the usage of variational algorithm. Who want to start learning quantum-classical hybrid algorithm on quantum computing, it may be a good subject to strat.\n",
    "\n",
    "Combinatorial optimization problem is a problem to find the best solution by solving a minimized optimization problem. If you want to solve a social problem, to formulate this into a combination of binary number 0 and 1 and give some constraint on it."
   ]
  },
  {
   "cell_type": "markdown",
   "metadata": {
    "colab_type": "text",
    "id": "9Jbvpe9mu6qB"
   },
   "source": [
    "##Formulation of combinatorial optimization problem and VQE\n",
    "The formulation think the hamiltonian as a cost function for social problems and try to find the best answer from the qubits. The main step is,\n",
    "\n",
    "1. Use ising model which is a basic physics model\n",
    "2. Use combination of Z as a hamiltonian\n",
    "3. More practically we use QUBO for the formulation which is 0 and 1 instead of -1 and +1 of ising model\n",
    "\n",
    "Usually we rarely use VQE without qaoa ansatz for the combinatorial optimization problem, but this time we just set a simple 1qubit problem.\n",
    "\n",
    "```python\n",
    "h = -Z(0) - Z(0)*Z(1)\n",
    "```\n",
    "\n",
    "The number after Z is the number of qubits. Here we are using 0th qubit and 1st qubit in the quantum circuit. and the coefficients in front of Z is important.\n",
    "\n",
    "The coefficient of Z(0) is a bias.\n",
    "The coefficient of Z(0)*Z(1) is a weight.\n",
    "\n",
    "Now we have both value of -1 as each coefficient.\n",
    "\n",
    "Z takes -1 or +1 as a expectation value. If the hamiltonian h takes smaller value it will be the answer. \n",
    "\n",
    "Here we just check the whole answer in the table.\n",
    "\n",
    "Z(0) | Z(1) | h\n",
    "--:|:----:|:--\n",
    "-1|-1|0\n",
    "-1|1|2\n",
    "1|-1|0\n",
    "1|1|-2\n",
    "\n",
    "The hamiltonian takes the minimu value of -2 when Z(0)=1 and Z(1)=1. VQE solve this automatically. This time as an ansatz we used 4 parameters of a,b,c,d. a, b for the 0th qubit, and c, d for the 1st qubit.\n",
    "\n",
    "Now we check it on blueqat, first we need to install blueqat and give this code."
   ]
  },
  {
   "cell_type": "code",
   "execution_count": 0,
   "metadata": {
    "colab": {
     "base_uri": "https://localhost:8080/",
     "height": 136
    },
    "colab_type": "code",
    "id": "opzc-Mvfu_gd",
    "outputId": "79113e2c-7380-470a-e7b0-d7a06f95da3d"
   },
   "outputs": [
    {
     "name": "stdout",
     "output_type": "stream",
     "text": [
      "Collecting blueqat\n",
      "\u001b[?25l  Downloading https://files.pythonhosted.org/packages/f6/73/20f9cff48caee1f69190f2e1ea93c4d7d0a745fc48defb5d3072d8337583/blueqat-0.3.13-py3-none-any.whl (50kB)\n",
      "\r",
      "\u001b[K     |██████▌                         | 10kB 16.4MB/s eta 0:00:01\r",
      "\u001b[K     |█████████████                   | 20kB 1.8MB/s eta 0:00:01\r",
      "\u001b[K     |███████████████████▍            | 30kB 2.3MB/s eta 0:00:01\r",
      "\u001b[K     |█████████████████████████▉      | 40kB 1.7MB/s eta 0:00:01\r",
      "\u001b[K     |████████████████████████████████| 51kB 1.6MB/s \n",
      "\u001b[?25hRequirement already satisfied: numpy~=1.12 in /usr/local/lib/python3.6/dist-packages (from blueqat) (1.17.5)\n",
      "Requirement already satisfied: scipy>=1.1.0 in /usr/local/lib/python3.6/dist-packages (from blueqat) (1.4.1)\n",
      "Installing collected packages: blueqat\n",
      "Successfully installed blueqat-0.3.13\n"
     ]
    }
   ],
   "source": [
    "!pip3 install blueqat"
   ]
  },
  {
   "cell_type": "code",
   "execution_count": 1,
   "metadata": {
    "colab": {
     "base_uri": "https://localhost:8080/",
     "height": 51
    },
    "colab_type": "code",
    "id": "qIc5WG5dumej",
    "outputId": "69061199-2601-4f8d-ca3a-afcc65a354e6"
   },
   "outputs": [
    {
     "name": "stdout",
     "output_type": "stream",
     "text": [
      "Result by VQE\n",
      "-1.9999929521736683\n"
     ]
    }
   ],
   "source": [
    "import numpy as np\n",
    "from blueqat import Circuit\n",
    "from blueqat.pauli import X, Y, Z, I\n",
    "from blueqat.vqe import AnsatzBase, Vqe\n",
    "\n",
    "class OneQubitAnsatz(AnsatzBase):\n",
    "    def __init__(self, hamiltonian):\n",
    "        super().__init__(hamiltonian.to_expr(), 4)\n",
    "        self.step = 1\n",
    "\n",
    "    def get_circuit(self, params):\n",
    "        a, b, c, d = params\n",
    "        return Circuit().ry(a)[0].rz(b)[0].ry(c)[1].rz(d)[1]\n",
    "\n",
    "\n",
    "# hamiltonian is important\n",
    "h = -Z(0) - Z(0)*Z(1)\n",
    "runner = Vqe(OneQubitAnsatz(h))\n",
    "result = runner.run()\n",
    "\n",
    "print('Result by VQE')\n",
    "print(runner.ansatz.get_energy_sparse(result.circuit))"
   ]
  },
  {
   "cell_type": "markdown",
   "metadata": {
    "colab_type": "text",
    "id": "6xNoXOE4vHUZ"
   },
   "source": [
    "Now we get -2 as the expectation value of minimum value.\n",
    "\n",
    "For practical use we usually solve much bigger problems. Now we can see this problem as a kind of classification problem which bias of Z(0) shows that Alice belongs to the group1 and weight of Z(0)*Z(1) shows that Alice and Bob belong to the same group as a kind of max-cut problem.\n",
    "\n",
    "Here we used Z for operator, now we use a technique to transform it into 01 binary number.\n"
   ]
  },
  {
   "cell_type": "markdown",
   "metadata": {
    "colab_type": "text",
    "id": "3DOTeXadvJzG"
   },
   "source": [
    "##Formulation with QUBO\n",
    "If use Z in the hamiltoinan Z takes -1 or +1 as an expectaion value. But it is little bit uncomfortable for the social problems. Usually we use 01 binary number so, we just transform hamiltonian into binary number using,\n",
    "\n",
    "$$\n",
    "q = \\frac{Z + 1}{2}\n",
    "$$\n",
    "\n",
    "This is the transform of -1 to 0 and we now can use QUBO as a formulation."
   ]
  },
  {
   "cell_type": "markdown",
   "metadata": {
    "colab_type": "text",
    "id": "cvKkwYayvOga"
   },
   "source": [
    "##QUBO programming\n",
    "Let's use qubo on blueqat. Blueqat has a function for qubo. Now we can write the qubo form as,\n",
    "\n",
    "```python\n",
    "h = -3*q(0)-3*q(1)-2*q(0)*q(1)\n",
    "```\n",
    "\n",
    "This hamiltonian obviously takes the minimum value of -8 when q(0)=1 and q(1)=1. By solving on VQE we may get the similar result."
   ]
  },
  {
   "cell_type": "code",
   "execution_count": 2,
   "metadata": {
    "colab": {
     "base_uri": "https://localhost:8080/",
     "height": 85
    },
    "colab_type": "code",
    "id": "rkYdYTbWu-F4",
    "outputId": "b3644963-3ce1-4900-e7a9-a60c44a3cb55"
   },
   "outputs": [
    {
     "name": "stdout",
     "output_type": "stream",
     "text": [
      "Result by VQE\n",
      "-7.917904376487771\n",
      "Result by numpy\n",
      "-8.0\n"
     ]
    }
   ],
   "source": [
    "import numpy as np\n",
    "from blueqat import Circuit\n",
    "from blueqat.pauli import X, Y, Z, I\n",
    "from blueqat.pauli import qubo_bit as q\n",
    "from blueqat.vqe import AnsatzBase, Vqe\n",
    "\n",
    "class QubitAnsatz(AnsatzBase):\n",
    "    def __init__(self, hamiltonian):\n",
    "        super().__init__(hamiltonian, 4)\n",
    "        self.step = 1\n",
    "\n",
    "    def get_circuit(self, params):\n",
    "        a, b, c, d = params\n",
    "        return Circuit().ry(a)[0].rz(b)[0].ry(c)[1].rz(d)[1]\n",
    "\n",
    "h = -3*q(0)-3*q(1)-2*q(0)*q(1)\n",
    "h = h.to_expr().simplify()\n",
    "runner = Vqe(QubitAnsatz(h))\n",
    "result = runner.run()\n",
    "\n",
    "print('Result by VQE')\n",
    "print(runner.ansatz.get_energy_sparse(result.circuit))\n",
    "\n",
    "# Hamiltonian to matrix\n",
    "mat = h.to_matrix()\n",
    "\n",
    "# Calculate by numpy\n",
    "print('Result by numpy')\n",
    "print(np.linalg.eigh(mat)[0][0])"
   ]
  },
  {
   "cell_type": "markdown",
   "metadata": {
    "colab_type": "text",
    "id": "DYsNMr6QvUnh"
   },
   "source": [
    "We correctly the result. This time we just used 2qubits. But actually it is very difficult to get the right answer on bigger number of qubits. To compute much more efficiently we are using a new ansatz called QAOA ansatz for combinatorial optimization problem."
   ]
  },
  {
   "cell_type": "markdown",
   "metadata": {
    "colab_type": "text",
    "id": "etA_TEnsvWzL"
   },
   "source": [
    "##QAOA\n",
    "QAOA has a special form of ansatz especially to solve combinatorial optimization problem using the similar step of VQE. Now we try to use QAOA(Quantum Approximate Opitmization Alogirthm) in this chapter."
   ]
  },
  {
   "cell_type": "markdown",
   "metadata": {
    "colab_type": "text",
    "id": "9e4vdEK9vZq8"
   },
   "source": [
    "##2-5-1 Quantum Adiabatic Algorithm\n",
    "QAA is an algorithm to change the state vector adiabatically to keep the ground state of the hamiltonian through the time evolution.\n",
    "\n",
    "We set the initial hamiltonian as $H_{start}$ and the final Hamiltonian as $H_{fin}$. t is time and T is the whole step of schedule.\n",
    "\n",
    "$$\n",
    "H_{temp} = (1-\\frac{t}{T})H_{start} + \\frac{t}{T}H_{fin}\n",
    "$$\n",
    "\n",
    "The hamiltoinan adiabatically changed according to the time t and the eigenstate of state vector keep the ground state if T is enough big.\n",
    "\n",
    "$$\n",
    "H_{temp}\\mid \\psi \\rangle = E_{0temp}\\mid \\psi \\rangle\n",
    "$$\n",
    "\n",
    "Time evolution is,\n",
    "\n",
    "$$\n",
    "\\mid \\psi_{t+1} \\rangle = U \\mid \\psi_t \\rangle = e^{-iHt}  \\mid \\psi_t \\rangle\n",
    "$$\n"
   ]
  },
  {
   "cell_type": "markdown",
   "metadata": {
    "colab_type": "text",
    "id": "FA9B9idIvgTH"
   },
   "source": [
    "##QAOA\n",
    "QAOA is basically using the idea of adiabatic process and transform it into a variational algorithm as ansatz of hamiltonian.\n",
    "\n",
    "![https___qiita-user-contents.imgix.net_https%3A%2F%2Fqiita-image-store.s3.ap-northeast-1.amazonaws.com%2F0%2F218694%2Fe10f1843-cc16-cdfe-e4a6-e2fbaab6df9f.png_ixlib=rb-1.2.png](https://qiita-image-store.s3.ap-northeast-1.amazonaws.com/0/218694/812819f5-0037-5a30-2690-8ed39c0b1a06.png)\n",
    "https://app.quantumcomputing.com/\n",
    "\n",
    "The first H on the circuit shows the initial eigen state of hamiltonian X. CX-Rz-CX shows the weight of hamiltonian and Rz shows the bias of the hamiltonian. Rx is a time evolution of initial hamiltonian X.\n",
    "\n",
    "Let's just see the inside of QaoaAnsatz of blueqat. Hamiltonian consists of Z operator and automatically make a variational transformation of time evolution ansatz.\n",
    "\n",
    "\n",
    "```python\n",
    "class QaoaAnsatz(AnsatzBase):\n",
    "    def __init__(self, hamiltonian, step=1, init_circuit=None):\n",
    "        super().__init__(hamiltonian, step * 2)\n",
    "        self.hamiltonian = hamiltonian.to_expr().simplify()\n",
    "        if not self.check_hamiltonian():\n",
    "            raise ValueError(\"Hamiltonian terms are not commutable\")\n",
    "\n",
    "        self.step = step\n",
    "        self.n_qubits = self.hamiltonian.max_n() + 1\n",
    "        if init_circuit:\n",
    "            self.init_circuit = init_circuit\n",
    "            if init_circuit.n_qubits > self.n_qubits:\n",
    "                self.n_qubits = init_circuit.n_qubits\n",
    "        else:\n",
    "            self.init_circuit = Circuit(self.n_qubits).h[:]\n",
    "        self.init_circuit.make_cache()\n",
    "        self.time_evolutions = [term.get_time_evolution() for term in self.hamiltonian]\n",
    "\n",
    "    def check_hamiltonian(self):\n",
    "        \"\"\"Check hamiltonian is commutable. This condition is required for QaoaAnsatz\"\"\"\n",
    "        return self.hamiltonian.is_all_terms_commutable()\n",
    "\n",
    "    def get_circuit(self, params):\n",
    "        c = self.init_circuit.copy()\n",
    "        betas = params[:self.step]\n",
    "        gammas = params[self.step:]\n",
    "        for beta, gamma in zip(betas, gammas):\n",
    "            beta *= np.pi\n",
    "            gamma *= 2 * np.pi\n",
    "            for evo in self.time_evolutions:\n",
    "                evo(c, gamma)\n",
    "            c.rx(beta)[:]\n",
    "        return c\n",
    "```\n",
    "\n",
    "On actual use, the library automatically do the calculation and you don't to implement a complicated formulation or time evolution.\n",
    "\n",
    "Blueqat do most of the process and what you just need to do is to formulate the hamiltonian as a combinatorial optimization with binary number of 0 and 1.\n",
    "\n",
    "Now we see an example of simple problem on qubo.\n",
    "\n",
    "```python\n",
    "cost = -3*q(0)-3*q(1)-2*q(0)*q(1)\n",
    "```\n",
    "\n",
    "This take obviously -8 as a result. It is very easy, now we can think about the social problem as binary number. q(0) and q(1) has -3 of bias and q(0)*q(1) has -2 as a weight.\n"
   ]
  },
  {
   "cell_type": "code",
   "execution_count": 3,
   "metadata": {
    "colab": {
     "base_uri": "https://localhost:8080/",
     "height": 34
    },
    "colab_type": "code",
    "id": "mcfRj-T-vSfz",
    "outputId": "73f0d2c4-2d2a-4fd2-f6b5-21822297b472"
   },
   "outputs": [
    {
     "name": "stdout",
     "output_type": "stream",
     "text": [
      "(((1, 1), 0.9510486784530741), ((0, 0), 0.026525125765847812), ((1, 0), 0.011213097890539158), ((0, 1), 0.011213097890539146))\n"
     ]
    }
   ],
   "source": [
    "from blueqat import vqe\n",
    "from blueqat.pauli import qubo_bit as q\n",
    "\n",
    "h = -3*q(0)-3*q(1)-2*q(0)*q(1)\n",
    "step = 2\n",
    "\n",
    "result = vqe.Vqe(vqe.QaoaAnsatz(h, step)).run()\n",
    "print(result.most_common(12))"
   ]
  },
  {
   "cell_type": "markdown",
   "metadata": {
    "colab_type": "text",
    "id": "pgvdZYqGvtHP"
   },
   "source": [
    "We get combination of (1,1) as the probability of 96%."
   ]
  }
 ],
 "metadata": {
  "colab": {
   "name": "103_vqe_qaoa03.ipynb",
   "provenance": []
  },
  "kernelspec": {
   "display_name": "Python 3",
   "language": "python",
   "name": "python3"
  },
  "language_info": {
   "codemirror_mode": {
    "name": "ipython",
    "version": 3
   },
   "file_extension": ".py",
   "mimetype": "text/x-python",
   "name": "python",
   "nbconvert_exporter": "python",
   "pygments_lexer": "ipython3",
   "version": "3.8.3"
  }
 },
 "nbformat": 4,
 "nbformat_minor": 1
}

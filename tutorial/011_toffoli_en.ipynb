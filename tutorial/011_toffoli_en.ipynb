{
  "nbformat": 4,
  "nbformat_minor": 0,
  "metadata": {
    "colab": {
      "name": "005_basic_toffoli.ipynb",
      "version": "0.3.2",
      "provenance": [],
      "collapsed_sections": []
    },
    "kernelspec": {
      "display_name": "Python 3",
      "language": "python",
      "name": "python3"
    }
  },
  "cells": [
    {
      "metadata": {
        "colab_type": "text",
        "id": "NjHnSAbHrInP"
      },
      "cell_type": "markdown",
      "source": [
        "# Toffoli gate\n",
        "We learned about 1qubit and 2qubits gate. Now we learn about 3qubits gate.\n",
        "\n",
        "Usually the acutal quantum computer has only 1qubit and 2qubits gate operation. We have to create many qubits gate by using these 1 and 2qubits gate. Let's see it."
      ]
    },
    {
      "metadata": {
        "colab_type": "text",
        "id": "PKhFYi-drld1"
      },
      "cell_type": "markdown",
      "source": [
        "## Circuit\n",
        "The basic circuit of Toffoli gate consists of H and CX and T gate.\n",
        "\n"
      ]
    },
    {
      "metadata": {
        "id": "o-qzZrM9dJ5n",
        "colab_type": "code",
        "colab": {}
      },
      "cell_type": "code",
      "source": [
        "!pip install blueqat"
      ],
      "execution_count": 0,
      "outputs": []
    },
    {
      "metadata": {
        "colab_type": "code",
        "id": "O674HiVxjc7P",
        "outputId": "4942a9c8-9a27-4943-d04f-80bd7d5eef4d",
        "colab": {
          "base_uri": "https://localhost:8080/",
          "height": 34
        }
      },
      "cell_type": "code",
      "source": [
        "from blueqat import Circuit\n",
        "import numpy as np\n",
        "\n",
        "#The first x gate is a data input to flip the 0th and 1st qubit to check the toffoligate.\n",
        "Circuit().x[1:].h[0].cnot[1,0].rz(-np.pi/4)[0].cnot[2,0].rz(np.pi/4)[0].cnot[1,0].rz(-np.pi/4)[0].cnot[2,0].rz(np.pi/4)[:1].h[0].cnot[1,0].cnot[0,1].cnot[1,0].cnot[2,0].rz(-np.pi/4)[0].rz(np.pi/4)[2].cnot[2,0].m[:].run(shots=1)"
      ],
      "execution_count": 2,
      "outputs": [
        {
          "output_type": "execute_result",
          "data": {
            "text/plain": [
              "Counter({'111': 1})"
            ]
          },
          "metadata": {
            "tags": []
          },
          "execution_count": 2
        }
      ]
    },
    {
      "metadata": {
        "id": "Pj4TW4zHDG7d",
        "colab_type": "text"
      },
      "cell_type": "markdown",
      "source": [
        "This is the Toffoli gate. Toffoli gate is also called as CCX gate. This gate has 2 controlled gate and 1target gate. If the both controlled gate are 1 this flips the target gate. In blueqat it is also written in very short expression as .ccx[c,c,x]"
      ]
    },
    {
      "metadata": {
        "id": "Y8AkbhLAqQic",
        "colab_type": "code",
        "outputId": "f148f10f-c01d-4529-b88c-c7d051dd9d3c",
        "colab": {
          "base_uri": "https://localhost:8080/",
          "height": 34
        }
      },
      "cell_type": "code",
      "source": [
        "Circuit().x[:2].ccx[0,1,2].m[:].run(shots=1)"
      ],
      "execution_count": 4,
      "outputs": [
        {
          "output_type": "execute_result",
          "data": {
            "text/plain": [
              "Counter({'111': 1})"
            ]
          },
          "metadata": {
            "tags": []
          },
          "execution_count": 4
        }
      ]
    },
    {
      "metadata": {
        "id": "JXe-r85-qq8Z",
        "colab_type": "text"
      },
      "cell_type": "markdown",
      "source": [
        "This is the same function."
      ]
    }
  ]
}
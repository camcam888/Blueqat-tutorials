{
 "cells": [
  {
   "cell_type": "markdown",
   "metadata": {},
   "source": [
    "# Variational Quantum Eigensolver(VQE) using arbitrary ansatz"
   ]
  },
  {
   "cell_type": "markdown",
   "metadata": {},
   "source": [
    "When performing chemical calculations in VQE, the unitary matrix is operated on the initial wavefunction states, such as Hartree-Fock wave functions. And the unitary operation is determined by the ansatz to be used. This time, we will calculate the electronic state of hydrogen molecule by VQE using ansatz that we made by ourselves. We will use Hardware Efficient Ansatz(HEA).\n",
    "\n",
    "Install the necessary libraries. The Hamiltonian is obtained with OpenFermion."
   ]
  },
  {
   "cell_type": "code",
   "execution_count": null,
   "metadata": {},
   "outputs": [],
   "source": [
    "!pip3 install blueqat openfermion"
   ]
  },
  {
   "cell_type": "markdown",
   "metadata": {},
   "source": [
    "Import the necessary libraries. The optimization of VQE uses SciPy minimize."
   ]
  },
  {
   "cell_type": "code",
   "execution_count": 8,
   "metadata": {},
   "outputs": [],
   "source": [
    "from blueqat import Circuit\n",
    "from openfermion.hamiltonians import MolecularData\n",
    "from openfermion.transforms import get_fermion_operator, jordan_wigner, get_sparse_operator\n",
    "import numpy as np\n",
    "from scipy.optimize import minimize"
   ]
  },
  {
   "cell_type": "markdown",
   "metadata": {},
   "source": [
    "## Definition of Ansatz\n",
    "In this case, the Ry, Rz, and CZ gates are operated on all qubits. The arguments are the number of qubits n_qubits and the gate depth n_depth. The wave function is initialized in this function."
   ]
  },
  {
   "cell_type": "code",
   "execution_count": 9,
   "metadata": {},
   "outputs": [],
   "source": [
    "def HEA(params,n_qubits,n_depth):\n",
    "    #Wave function initialization |1100>\n",
    "    circ=Circuit().x[2, 3]\n",
    "\n",
    "    #Circuit creation\n",
    "    params_devided=np.array_split(params,n_depth)\n",
    "    for params_one_depth in params_devided:\n",
    "        for i,param in enumerate(params_one_depth):\n",
    "            if i < n_qubits:\n",
    "                circ.ry(param)[i]\n",
    "            else:\n",
    "                circ.rz(param)[i%n_qubits]\n",
    "        for qbit in range(n_qubits):\n",
    "            if qbit < n_qubits-1:\n",
    "                circ.cz[qbit,qbit+1]\n",
    "    \n",
    "    #Running the circuit\n",
    "    wf = circ.run(backend=\"numpy\")\n",
    "    return wf"
   ]
  },
  {
   "cell_type": "markdown",
   "metadata": {},
   "source": [
    "## Expectations and cost functions\n",
    "Get the expected value from the obtained wave function."
   ]
  },
  {
   "cell_type": "code",
   "execution_count": 10,
   "metadata": {},
   "outputs": [],
   "source": [
    "def expect(wf,hamiltonian):\n",
    "    return np.vdot(wf, hamiltonian.dot(wf)).real\n",
    "\n",
    "def cost(params,hamiltonian,n_qubits,n_depth):\n",
    "    wf=HEA(params,n_qubits,n_depth)\n",
    "    return expect(wf,hamiltonian)"
   ]
  },
  {
   "cell_type": "markdown",
   "metadata": {},
   "source": [
    "## Obtaining the information of molecule\n",
    "Specify the bond length of the hydrogen molecule and use OpenFermion to obtain information about the molecule. The basis set is STO-3G."
   ]
  },
  {
   "cell_type": "code",
   "execution_count": 11,
   "metadata": {},
   "outputs": [],
   "source": [
    "def get_molecule(length):\n",
    "    geometry = [('H',(0.,0.,0.)),('H',(0.,0.,length))]\n",
    "    try:\n",
    "        description = f'{length:.2f}'\n",
    "        molecule = MolecularData(geometry, \"sto-3g\",1,description=description)\n",
    "        molecule.load()\n",
    "    except:\n",
    "        description = f'{length:.1f}'\n",
    "        molecule = MolecularData(geometry, \"sto-3g\",1,description=description)\n",
    "        molecule.load()\n",
    "    return molecule"
   ]
  },
  {
   "cell_type": "markdown",
   "metadata": {},
   "source": [
    "## Calculation Execution and Plotting\n",
    "Run a VQE on each bond length (this takes a few minutes). We then compare the results of the VQE and Full CI (FCI) calculations with respect to energy and bond length."
   ]
  },
  {
   "cell_type": "code",
   "execution_count": 12,
   "metadata": {},
   "outputs": [
    {
     "data": {
      "text/plain": [
       "<matplotlib.legend.Legend at 0x27556288f88>"
      ]
     },
     "execution_count": 12,
     "metadata": {},
     "output_type": "execute_result"
    },
    {
     "data": {
      "image/png": "[encoded data removed]",
      "text/plain": [
       "<Figure size 432x288 with 1 Axes>"
      ]
     },
     "metadata": {
      "needs_background": "light"
     },
     "output_type": "display_data"
    }
   ],
   "source": [
    "#Recording of bond length, HEA and FCI results\n",
    "bond_len_list = [];energy_list=[];fullci_list=[]\n",
    "#Execute the calculation for each bond length\n",
    "for bond_len in np.arange(0.2,2.5,0.1):\n",
    "    molecule = get_molecule(bond_len)\n",
    "    #Determination of the number of bits, depth and initial parameter values\n",
    "    n_qubits=molecule.n_qubits\n",
    "    n_depth=4\n",
    "    init_params=np.random.rand(2*n_qubits*n_depth)*0.1\n",
    "    #Hamiltonian Definition\n",
    "    hamiltonian = get_sparse_operator(jordan_wigner(get_fermion_operator(molecule.get_molecular_hamiltonian())))\n",
    "    #Optimization run\n",
    "    result=minimize(cost,x0=init_params,args=(hamiltonian,n_qubits,n_depth))\n",
    "    #Recording of bond length, HEA and FCI results\n",
    "    bond_len_list.append(bond_len)\n",
    "    energy_list.append(result.fun)\n",
    "    fullci_list.append(molecule.fci_energy)\n",
    "\n",
    "#Plotting\n",
    "import matplotlib.pyplot as plt\n",
    "plt.plot(bond_len_list,fullci_list,label=\"FCI\",color=\"blue\")\n",
    "plt.plot(bond_len_list,energy_list, marker=\"o\",label=\"VQE\",color=\"red\",linestyle='None')\n",
    "plt.legend()"
   ]
  },
  {
   "cell_type": "markdown",
   "metadata": {},
   "source": [
    "While depending on the initial parameters,  VQE energy tends to deviate from the FCI energy in the large bond length region. The reason is that the prepared initial wavefunctions become different from the true solution with increasing the bond length. The accuracy might be improved by changing the initial parameters, ansatz, etc."
   ]
  }
 ],
 "metadata": {
  "kernelspec": {
   "display_name": "Python 3",
   "language": "python",
   "name": "python3"
  },
  "language_info": {
   "codemirror_mode": {
    "name": "ipython",
    "version": 3
   },
   "file_extension": ".py",
   "mimetype": "text/x-python",
   "name": "python",
   "nbconvert_exporter": "python",
   "pygments_lexer": "ipython3",
   "version": "3.7.4"
  }
 },
 "nbformat": 4,
 "nbformat_minor": 2
}

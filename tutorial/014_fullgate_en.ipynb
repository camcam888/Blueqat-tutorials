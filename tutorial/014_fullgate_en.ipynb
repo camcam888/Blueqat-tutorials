{
  "nbformat": 4,
  "nbformat_minor": 0,
  "metadata": {
    "colab": {
      "name": "007_basic_control.ipynb",
      "version": "0.3.2",
      "provenance": [],
      "collapsed_sections": []
    },
    "kernelspec": {
      "display_name": "Python 3",
      "language": "python",
      "name": "python3"
    }
  },
  "cells": [
    {
      "metadata": {
        "colab_type": "text",
        "id": "NjHnSAbHrInP"
      },
      "cell_type": "markdown",
      "source": [
        "# Controlled Gate\n",
        "Controlled gate is a gate which is consists of controlled gate and target gate. The most popular one is CX or CNOT gate which apply X gate or NOT gate as target gate. \n",
        "\n",
        "We can make any controlled unitary gate as CX or CY or CRz by using some technique on sequence of gates."
      ]
    },
    {
      "metadata": {
        "colab_type": "text",
        "id": "PKhFYi-drld1"
      },
      "cell_type": "markdown",
      "source": [
        "## CX,CY,CZ Gate\n",
        "Let's see CX gate first\n"
      ]
    },
    {
      "metadata": {
        "id": "uYIBv4s5m25p",
        "colab_type": "code",
        "colab": {}
      },
      "cell_type": "code",
      "source": [
        "!pip install blueqat"
      ],
      "execution_count": 0,
      "outputs": []
    },
    {
      "metadata": {
        "colab_type": "code",
        "id": "O674HiVxjc7P",
        "outputId": "5ab9d423-dc07-432a-a8e7-3dea5308f16a",
        "colab": {
          "base_uri": "https://localhost:8080/",
          "height": 34
        }
      },
      "cell_type": "code",
      "source": [
        "from blueqat import Circuit\n",
        "\n",
        "Circuit().x[0].cx[0,1].m[:].run(shots=1)"
      ],
      "execution_count": 2,
      "outputs": [
        {
          "output_type": "execute_result",
          "data": {
            "text/plain": [
              "Counter({'11': 1})"
            ]
          },
          "metadata": {
            "tags": []
          },
          "execution_count": 2
        }
      ]
    },
    {
      "metadata": {
        "id": "Pj4TW4zHDG7d",
        "colab_type": "text"
      },
      "cell_type": "markdown",
      "source": [
        "We get 11 after applying CX gate. Next we can use CZ as combination of H and CX gate. Now blueqat has function to calculate cz gate."
      ]
    },
    {
      "metadata": {
        "id": "QSRNs5yHvCQs",
        "colab_type": "code",
        "outputId": "584dc8f1-437e-448e-ac26-bb17d25223d7",
        "colab": {
          "base_uri": "https://localhost:8080/",
          "height": 34
        }
      },
      "cell_type": "code",
      "source": [
        "Circuit().x[0].h[1].cz[0,1].h[1].m[:].run(shots=1)"
      ],
      "execution_count": 7,
      "outputs": [
        {
          "output_type": "execute_result",
          "data": {
            "text/plain": [
              "Counter({'11': 1})"
            ]
          },
          "metadata": {
            "tags": []
          },
          "execution_count": 7
        }
      ]
    },
    {
      "metadata": {
        "id": "0arOnsSfvU0s",
        "colab_type": "text"
      },
      "cell_type": "markdown",
      "source": [
        "Now we have 11 after applying H gate on the 1st qubit and CZ gate."
      ]
    },
    {
      "metadata": {
        "id": "dPkM71bZwqri",
        "colab_type": "text"
      },
      "cell_type": "markdown",
      "source": [
        "## Advanced: Controlled Rz gate \n",
        "By using some technique we can make Controlled Rz gate using Rz and CX gate.\n",
        "\n",
        "If you want to rotate some angle Θ. This circuit works for this function."
      ]
    },
    {
      "metadata": {
        "id": "Wq68b6gExT0z",
        "colab_type": "code",
        "outputId": "12dbca6c-d66d-49f2-aa4a-3a1a78549b68",
        "colab": {
          "base_uri": "https://localhost:8080/",
          "height": 34
        }
      },
      "cell_type": "code",
      "source": [
        "import math\n",
        "\n",
        "Circuit().x[1].h[0].rz(math.pi/2)[0].cx[1,0].rz(-math.pi/2)[0].cx[1,0].h[0].m[:].run(shots=100)"
      ],
      "execution_count": 8,
      "outputs": [
        {
          "output_type": "execute_result",
          "data": {
            "text/plain": [
              "Counter({'11': 100})"
            ]
          },
          "metadata": {
            "tags": []
          },
          "execution_count": 8
        }
      ]
    },
    {
      "metadata": {
        "id": "R2qO3lmA0QB5",
        "colab_type": "text"
      },
      "cell_type": "markdown",
      "source": [
        "If the first qubit is 0"
      ]
    },
    {
      "metadata": {
        "id": "YYeojJyjx9h_",
        "colab_type": "code",
        "outputId": "74250623-610d-42b9-dd5e-936582d8b28a",
        "colab": {
          "base_uri": "https://localhost:8080/",
          "height": 34
        }
      },
      "cell_type": "code",
      "source": [
        "Circuit().h[0].rz(math.pi/2)[0].cx[1,0].rz(-math.pi/2)[0].cx[1,0].h[0].m[:].run(shots=100)"
      ],
      "execution_count": 9,
      "outputs": [
        {
          "output_type": "execute_result",
          "data": {
            "text/plain": [
              "Counter({'00': 100})"
            ]
          },
          "metadata": {
            "tags": []
          },
          "execution_count": 9
        }
      ]
    },
    {
      "metadata": {
        "id": "MeZ9-edF0VbY",
        "colab_type": "text"
      },
      "cell_type": "markdown",
      "source": [
        "The Controlled Rz doesn't work. Now we have Controlled Rz gate using 2Rzgate and 2CXgate"
      ]
    }
  ]
}
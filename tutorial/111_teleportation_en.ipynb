{
  "nbformat": 4,
  "nbformat_minor": 0,
  "metadata": {
    "colab": {
      "name": "012_algo_teleportation.ipynb",
      "version": "0.3.2",
      "provenance": [],
      "collapsed_sections": []
    },
    "kernelspec": {
      "display_name": "Python 3",
      "language": "python",
      "name": "python3"
    }
  },
  "cells": [
    {
      "metadata": {
        "colab_type": "text",
        "id": "NjHnSAbHrInP"
      },
      "cell_type": "markdown",
      "source": [
        "# Quantum teleportation\n",
        "Quantum teleportation does not teleport the qubit itself. Instead this algorithm transfer the quantum state and information about the qubit using entanglement and measurement.\n",
        "\n",
        "Let's see a simple example of quantum teleportation.\n"
      ]
    },
    {
      "metadata": {
        "id": "CJhIv6UdASWQ",
        "colab_type": "text"
      },
      "cell_type": "markdown",
      "source": [
        "## Circuit\n",
        "The circuit transfer the state of q0. First we prepare p1 and p2 as entanglement and then q0 and q1. Finally we measure both q0 and q1 and apply Xgate and Zgate operations according to this result.\n",
        "\n",
        "This time we are using CX and CZ instead of applying Xgate and Zgate manually.\n",
        "\n",
        "<img src=\"https://github.com/mdrft/Blueqat_tutorials_ja/blob/master/docs/img/012_basic_teleportation01.png?raw=1\">"
      ]
    },
    {
      "metadata": {
        "id": "P-WsMQmHjz2g",
        "colab_type": "code",
        "colab": {}
      },
      "cell_type": "code",
      "source": [
        "!pip install blueqat"
      ],
      "execution_count": 0,
      "outputs": []
    },
    {
      "metadata": {
        "id": "3eRpgppa_1FI",
        "colab_type": "code",
        "outputId": "299acc45-3c93-4143-98fb-ba81231e73c4",
        "colab": {
          "base_uri": "https://localhost:8080/",
          "height": 34
        }
      },
      "cell_type": "code",
      "source": [
        "from blueqat import Circuit\n",
        "\n",
        "#Quantum Teleportation Circuit\n",
        "a = Circuit().h[1].cx[1,2].cx[0,1].h[0].cx[1,2].cz[0,2].m[:]\n",
        "a.run(shots=100)"
      ],
      "execution_count": 2,
      "outputs": [
        {
          "output_type": "execute_result",
          "data": {
            "text/plain": [
              "Counter({'000': 30, '010': 24, '100': 27, '110': 19})"
            ]
          },
          "metadata": {
            "tags": []
          },
          "execution_count": 2
        }
      ]
    },
    {
      "metadata": {
        "id": "JM9lexiT_034",
        "colab_type": "text"
      },
      "cell_type": "markdown",
      "source": [
        "We just see the first q0 state and final q2 state. We can see that the q2 result is all 0 not depeding to the measurement result of q0 and q1. Let's see next to prepare q0 as 1."
      ]
    },
    {
      "metadata": {
        "id": "PsHtcgTEAuph",
        "colab_type": "code",
        "outputId": "2ced0532-1577-4d73-a1b5-c9d7730d456d",
        "colab": {
          "base_uri": "https://localhost:8080/",
          "height": 34
        }
      },
      "cell_type": "code",
      "source": [
        "(Circuit().x[0] + a).run(shots=100)"
      ],
      "execution_count": 3,
      "outputs": [
        {
          "output_type": "execute_result",
          "data": {
            "text/plain": [
              "Counter({'001': 24, '011': 22, '101': 29, '111': 25})"
            ]
          },
          "metadata": {
            "tags": []
          },
          "execution_count": 3
        }
      ]
    },
    {
      "metadata": {
        "id": "_7OgXLuHA3C0",
        "colab_type": "text"
      },
      "cell_type": "markdown",
      "source": [
        "We now get q2 as value 1. q0 state transport to q2 state. Finally we try to apply Hgate to q0 and make |+> state."
      ]
    },
    {
      "metadata": {
        "id": "4VAuNlz1A079",
        "colab_type": "code",
        "outputId": "da394410-288a-4624-f281-f39c28091c1e",
        "colab": {
          "base_uri": "https://localhost:8080/",
          "height": 153
        }
      },
      "cell_type": "code",
      "source": [
        "(Circuit().h[0] + a).run(shots=100)"
      ],
      "execution_count": 5,
      "outputs": [
        {
          "output_type": "execute_result",
          "data": {
            "text/plain": [
              "Counter({'000': 13,\n",
              "         '001': 17,\n",
              "         '010': 10,\n",
              "         '011': 9,\n",
              "         '100': 14,\n",
              "         '101': 11,\n",
              "         '110': 13,\n",
              "         '111': 13})"
            ]
          },
          "metadata": {
            "tags": []
          },
          "execution_count": 5
        }
      ]
    },
    {
      "metadata": {
        "id": "36753dDzA83S",
        "colab_type": "text"
      },
      "cell_type": "markdown",
      "source": [
        "We can see that q2 get almost half of 0 and half of 1. |+> state teleported to q2."
      ]
    }
  ]
}

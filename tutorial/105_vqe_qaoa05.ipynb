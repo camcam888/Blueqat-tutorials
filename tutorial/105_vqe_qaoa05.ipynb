{
  "nbformat": 4,
  "nbformat_minor": 0,
  "metadata": {
    "colab": {
      "name": "105_vqe_qaoa05.ipynb",
      "provenance": []
    },
    "kernelspec": {
      "name": "python3",
      "display_name": "Python 3"
    }
  },
  "cells": [
    {
      "cell_type": "markdown",
      "metadata": {
        "id": "uurb0InJyD86",
        "colab_type": "text"
      },
      "source": [
        "#Traffic flow optimization problem on QAOA"
      ]
    },
    {
      "cell_type": "markdown",
      "metadata": {
        "id": "iUm4nWSZyOc7",
        "colab_type": "text"
      },
      "source": [
        "Optimization of traffic flow is a famous problem on quantum computing. There are steps of,\n",
        "\n",
        "1. select 3routes for each car (classical)\n",
        "2. select 1 of 3routes and calculate congestion of the street (classical)\n",
        "3. optimize the congestion of streets(QAOA)\n",
        "\n",
        "##Reference\n",
        "The reference is \n",
        "\n",
        "「Quantum Computing at Volkswagen:  \n",
        "\"Traffic Flow Optimization using the D-Wave Quantum Annealer\"  \n",
        "https://www.dwavesys.com/sites/default/files/VW.pdf\n",
        "\n",
        "Between the start point A and goal point B, there are 12street from 0th to 11th. There are two cars and each car has 3 possibility of route from A to B. Each car takes 1 of 3. Now we find the combination of least congestion.\n",
        "\n",
        "<img src=\"https://qiita-user-contents.imgix.net/https%3A%2F%2Fqiita-image-store.s3.ap-northeast-1.amazonaws.com%2F0%2F218694%2F2a1884aa-1fef-4e5d-94e9-810ada5b6788.png?ixlib=rb-1.2.2&auto=format&gif-q=60&q=75&w=1400&fit=max&s=2858aaec1767a1fcbb21ecfcb4644958\">\n",
        "\n",
        "The first formulation is cost function. Now we sum up all of congestion of street appear in the proposed route for each car. The congestion is calculated as the square of sum of how many times  appear in the suggested route.\n",
        "\n",
        "$$\n",
        "(q_0+q_1+q_3+q_4)^2+(q_0+q_1+q_3+q_4)^2+(q_0+q_3)^2+(q_0+q_3)^2+(q_1+q_4)^2+(q_1+q_2+q_4+q_5)^2+(q_2+q_5)^2+(q_2+q_5)^2+(q_2+q_5)^2\\\\ \n",
        "=2(q_0+q_1+q_3+q_4)^2+2(q_0+q_3)^2+(q_1+q_4)^2+(q_1+q_2+q_4+q_5)^2+3(q_2+q_5)^2\\\\ \n",
        "=4q_0^2+4q_0q_1+8q_0q_3+4q_0q_4+4q_1^2+2q_1q_2+4q_1q_3+8q_1q_4+2q_1q_5+4q_2^2 +2q_2q_4+8q_2q_5+4q_3^2+4q_3q_4+4q_4^2+2q_4q_5+4q_5^2\\\\\n",
        "=4q_0+4q_0q_1+8q_0q_3+4q_0q_4+4q_1+2q_1q_2+4q_1q_3+8q_1q_4+2q_1q_5+4q_2 +2q_2q_4+8q_2q_5+4q_3+4q_3q_4+4q_4+2q_4q_5+4q_5\n",
        "$$\n",
        "\n",
        "Now we need another equation called constraint term which limit the possibitily of taking less and more than 1 suggested route for each car.\n",
        "\n",
        "$$\n",
        "K(q_0+q_1+q_2-1)^2+K(q_3+q_4+q_5-1)^2 = -Kq_0+2Kq_0q_1+2Kq_0q_2-Kq_1+2Kq_1q_2-Kq_2-Kq_3+2Kq_3q_4+2Kq_3q_5-Kq_4+2Kq_4q_5-Kq_5+2K\n",
        "$$\n",
        "\n",
        "Let's try solve the constraint term first."
      ]
    },
    {
      "cell_type": "code",
      "metadata": {
        "id": "YsgMbM9Lxp0q",
        "colab_type": "code",
        "outputId": "d9001343-733d-457f-c43e-d5df5f16fa71",
        "colab": {
          "base_uri": "https://localhost:8080/",
          "height": 136
        }
      },
      "source": [
        "!pip3 install blueqat"
      ],
      "execution_count": 0,
      "outputs": [
        {
          "output_type": "stream",
          "text": [
            "Collecting blueqat\n",
            "\u001b[?25l  Downloading https://files.pythonhosted.org/packages/f6/73/20f9cff48caee1f69190f2e1ea93c4d7d0a745fc48defb5d3072d8337583/blueqat-0.3.13-py3-none-any.whl (50kB)\n",
            "\r\u001b[K     |██████▌                         | 10kB 19.9MB/s eta 0:00:01\r\u001b[K     |█████████████                   | 20kB 1.8MB/s eta 0:00:01\r\u001b[K     |███████████████████▍            | 30kB 2.4MB/s eta 0:00:01\r\u001b[K     |█████████████████████████▉      | 40kB 1.7MB/s eta 0:00:01\r\u001b[K     |████████████████████████████████| 51kB 1.6MB/s \n",
            "\u001b[?25hRequirement already satisfied: scipy>=1.1.0 in /usr/local/lib/python3.6/dist-packages (from blueqat) (1.4.1)\n",
            "Requirement already satisfied: numpy~=1.12 in /usr/local/lib/python3.6/dist-packages (from blueqat) (1.17.5)\n",
            "Installing collected packages: blueqat\n",
            "Successfully installed blueqat-0.3.13\n"
          ],
          "name": "stdout"
        }
      ]
    },
    {
      "cell_type": "code",
      "metadata": {
        "id": "oKKI9ldvyVrn",
        "colab_type": "code",
        "outputId": "91510030-57fc-40cc-e8e4-a2d083c8bd66",
        "colab": {
          "base_uri": "https://localhost:8080/",
          "height": 54
        }
      },
      "source": [
        "from blueqat import vqe\n",
        "from blueqat.pauli import qubo_bit as q\n",
        "\n",
        "K=2\n",
        "cost2 = -K*q(0)+2*K*q(0)*q(1)+2*K*q(0)*q(2)-K*q(1)+2*K*q(1)*q(2)-K*q(2)-K*q(3)+2*K*q(3)*q(4)+2*K*q(3)*q(5)-K*q(4)+2*K*q(4)*q(5)-K*q(5)\n",
        " \n",
        "step = 4\n",
        "\n",
        "result = vqe.Vqe(vqe.QaoaAnsatz(cost2, step)).run()\n",
        "print(result.most_common(12))"
      ],
      "execution_count": 0,
      "outputs": [
        {
          "output_type": "stream",
          "text": [
            "(((1, 0, 0, 1, 0, 0), 0.08929612774285173), ((0, 1, 0, 1, 0, 0), 0.08929612774285173), ((1, 0, 0, 0, 1, 0), 0.08929612774285173), ((0, 0, 1, 0, 1, 0), 0.08929612774285173), ((0, 0, 1, 1, 0, 0), 0.0892961277428517), ((0, 1, 0, 0, 1, 0), 0.0892961277428517), ((0, 1, 0, 0, 0, 1), 0.08929612774285166), ((0, 0, 1, 0, 0, 1), 0.08929612774285166), ((1, 0, 0, 0, 0, 1), 0.08929612774285162), ((0, 0, 0, 0, 0, 1), 0.016000323795117205), ((0, 0, 1, 0, 0, 0), 0.0160003237951172), ((0, 1, 0, 0, 0, 0), 0.01600032379511716))\n"
          ],
          "name": "stdout"
        }
      ]
    },
    {
      "cell_type": "markdown",
      "metadata": {
        "id": "HQ7NUmIEyY85",
        "colab_type": "text"
      },
      "source": [
        "We get a good answer. Only one of three are selected from q0,q1,q2 and q3,q4,q5.  Let's combine these two equations and run."
      ]
    },
    {
      "cell_type": "code",
      "metadata": {
        "id": "cmGMDTaYyWLW",
        "colab_type": "code",
        "outputId": "ee5d295e-41b6-4b3b-e995-a46cccb1a96f",
        "colab": {
          "base_uri": "https://localhost:8080/",
          "height": 54
        }
      },
      "source": [
        "from blueqat import vqe\n",
        "from blueqat.pauli import qubo_bit as q\n",
        "\n",
        "K=10\n",
        "cost1 = 4*q(0)+4*q(0)*q(1)+8*q(0)*q(3)+4*q(0)*q(4)+4*q(1)+2*q(1)*q(2)+4*q(1)*q(3)+8*q(1)*q(4)+2*q(1)*q(5)+4*q(2)+2*q(2)*q(4)+8*q(2)*q(5)+4*q(3)+4*q(3)*q(4)+4*q(4)+2*q(4)*q(5)+4*q(5)\n",
        "cost2 = -K*q(0)+2*K*q(0)*q(1)+2*K*q(0)*q(2)-K*q(1)+2*K*q(1)*q(2)-K*q(2)-K*q(3)+2*K*q(3)*q(4)+2*K*q(3)*q(5)-K*q(4)+2*K*q(4)*q(5)-K*q(5)\n",
        " \n",
        "step = 8\n",
        "\n",
        "result = vqe.Vqe(vqe.QaoaAnsatz(cost1+cost2, step)).run()\n",
        "print(result.most_common(12))"
      ],
      "execution_count": 0,
      "outputs": [
        {
          "output_type": "stream",
          "text": [
            "(((1, 0, 0, 1, 0, 0), 0.24117168488892132), ((0, 0, 1, 0, 0, 1), 0.13437140649191856), ((0, 0, 0, 1, 0, 0), 0.04531316000311006), ((1, 0, 0, 0, 0, 0), 0.04531316000311002), ((0, 0, 1, 0, 1, 0), 0.04024903117583349), ((0, 1, 0, 0, 0, 1), 0.04024903117583346), ((0, 0, 1, 0, 0, 0), 0.038754341983826525), ((0, 0, 0, 0, 0, 1), 0.038754341983826504), ((0, 1, 1, 0, 1, 1), 0.034975224805835314), ((0, 0, 0, 0, 1, 0), 0.027789605329907527), ((0, 1, 0, 0, 0, 0), 0.02778960532990752), ((0, 0, 0, 0, 0, 0), 0.027589638428440665))\n"
          ],
          "name": "stdout"
        }
      ]
    },
    {
      "cell_type": "markdown",
      "metadata": {
        "id": "eeuy683fyeSo",
        "colab_type": "text"
      },
      "source": [
        "It doesn't return a good result usually. If we can set a good value as K and steps, it will return a good value. next we will see a technique to rise up the accuracy of this problem."
      ]
    }
  ]
}
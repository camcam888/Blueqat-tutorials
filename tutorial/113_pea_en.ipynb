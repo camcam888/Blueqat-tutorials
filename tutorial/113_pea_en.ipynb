{
  "nbformat": 4,
  "nbformat_minor": 0,
  "metadata": {
    "colab": {
      "name": "015_algo_pea_simple.ipynb",
      "version": "0.3.2",
      "provenance": [],
      "collapsed_sections": []
    },
    "kernelspec": {
      "display_name": "Python 3",
      "language": "python",
      "name": "python3"
    }
  },
  "cells": [
    {
      "metadata": {
        "colab_type": "text",
        "id": "NjHnSAbHrInP"
      },
      "cell_type": "markdown",
      "source": [
        "# Phase estimation algorithm\n",
        "Phase estimation is an algorithm to get the eingenvalue as the angle.\n",
        "\n",
        "U|ψ> = eiφ|ψ>\n",
        "\n",
        "Now we learn about this basic function."
      ]
    },
    {
      "metadata": {
        "id": "CJhIv6UdASWQ",
        "colab_type": "text"
      },
      "cell_type": "markdown",
      "source": [
        "## Overview\n",
        "Phase estimation consists of 2 part.\n",
        "One is controlled unitary part and antoher is the inverse quantum fourier transform.\n",
        "\n",
        "Now we se a simple circuit of 2qubits."
      ]
    },
    {
      "metadata": {
        "id": "D2WnjDMmEWOD",
        "colab_type": "code",
        "colab": {}
      },
      "cell_type": "code",
      "source": [
        "'''\n",
        "--H--*--H--\n",
        "--H--X-----\n",
        "'''"
      ],
      "execution_count": 0,
      "outputs": []
    },
    {
      "metadata": {
        "id": "oXg3hf3yAkMS",
        "colab_type": "text"
      },
      "cell_type": "markdown",
      "source": [
        "Input is on the 1st qubits (count from 0th and 1st).\n",
        "Here we prepare [1,1] of superposition state applying H gate.\n",
        "\n",
        "As the Unitary gate we prepare CX gate, this mean we are going to get the phase of X gate, X=[[0,1],[1,0]].\n",
        "The eigenvalue will be 1 and the phase will be 0.\n",
        "\n",
        "We want to get the result from this circuit applying CX gate and get the bit applying inverse fourier transform which is equal to Hgate on 1qubit gate. Inverse fourier transform get the bit of phase from quantum state.The phase will be ,\n",
        "\n",
        "0.φ * 2π\n",
        "\n",
        "and now we will get 0 as φ=0"
      ]
    },
    {
      "metadata": {
        "id": "N6OzyNAobUad",
        "colab_type": "code",
        "colab": {}
      },
      "cell_type": "code",
      "source": [
        "!pip install blueqat"
      ],
      "execution_count": 0,
      "outputs": []
    },
    {
      "metadata": {
        "id": "mV6JWcmHCMY2",
        "colab_type": "code",
        "outputId": "1d0b5e00-eff4-4ed6-c795-f6e33d045b7a",
        "colab": {
          "base_uri": "https://localhost:8080/",
          "height": 34
        }
      },
      "cell_type": "code",
      "source": [
        "from blueqat import Circuit\n",
        "Circuit(2).h[:].cx[0,1].h[0].m[:].run(shots=1)"
      ],
      "execution_count": 2,
      "outputs": [
        {
          "output_type": "execute_result",
          "data": {
            "text/plain": [
              "Counter({'00': 1})"
            ]
          },
          "metadata": {
            "tags": []
          },
          "execution_count": 2
        }
      ]
    },
    {
      "metadata": {
        "id": "U1uxGVsCCi85",
        "colab_type": "text"
      },
      "cell_type": "markdown",
      "source": [
        "Now we have 0 and the phase is 0.0. It's correct.\n",
        "\n",
        "Next we think about X = [[0,1],[1,0]] and eigenvector [1,-1]. The eigenvalue will be -1 and we want the phase 0.5.\n",
        "\n",
        "The phase is\n",
        "\n",
        "0.φ * 2π\n",
        "\n",
        "and φ will be 5"
      ]
    },
    {
      "metadata": {
        "id": "uEO1xB4OCkcK",
        "colab_type": "code",
        "colab": {}
      },
      "cell_type": "code",
      "source": [
        "'''\n",
        "--H-----*--H--\n",
        "--H--Z--X-----\n",
        "'''"
      ],
      "execution_count": 0,
      "outputs": []
    },
    {
      "metadata": {
        "id": "yd5MaoRKCuWS",
        "colab_type": "text"
      },
      "cell_type": "markdown",
      "source": [
        "The circuit is "
      ]
    },
    {
      "metadata": {
        "id": "3eRpgppa_1FI",
        "colab_type": "code",
        "outputId": "e2be355c-60b0-4b3a-8acc-aa9cecdaf9d8",
        "colab": {
          "base_uri": "https://localhost:8080/",
          "height": 34
        }
      },
      "cell_type": "code",
      "source": [
        "Circuit(2).h[:].z[1].cx[0,1].h[0].m[:].run(shots=1)"
      ],
      "execution_count": 3,
      "outputs": [
        {
          "output_type": "execute_result",
          "data": {
            "text/plain": [
              "Counter({'11': 1})"
            ]
          },
          "metadata": {
            "tags": []
          },
          "execution_count": 3
        }
      ]
    },
    {
      "metadata": {
        "id": "lP9JKP_xDgai",
        "colab_type": "text"
      },
      "cell_type": "markdown",
      "source": [
        "We get the 0th qubit as 1 and the phase is 0.5. The eigenvalue is -1"
      ]
    }
  ]
}
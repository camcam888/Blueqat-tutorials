{
 "cells": [
  {
   "cell_type": "markdown",
   "metadata": {
    "colab_type": "text",
    "id": "NjHnSAbHrInP"
   },
   "source": [
    "# Quantum Logic Gate and Rotation\n",
    "Quantum computations mainly manipulate the state of a qubit using rotation.   \n",
    "Check the overview."
   ]
  },
  {
   "cell_type": "markdown",
   "metadata": {},
   "source": [
    "## What we'll learn this time\n",
    "1. Construction about qubit  \n",
    "2. Rotation of qubit"
   ]
  },
  {
   "cell_type": "markdown",
   "metadata": {},
   "source": [
    "## Install Blueqat\n",
    "Install Blueqat from pip."
   ]
  },
  {
   "cell_type": "code",
   "execution_count": 22,
   "metadata": {
    "collapsed": true
   },
   "outputs": [
    {
     "name": "stdout",
     "output_type": "stream",
     "text": [
      "Requirement already satisfied: blueqat in /home/ec2-user/anaconda3/envs/python3/lib/python3.6/site-packages (0.3.14)\n",
      "Requirement already satisfied: scipy>=1.1.0 in /home/ec2-user/anaconda3/envs/python3/lib/python3.6/site-packages (from blueqat) (1.1.0)\n",
      "Requirement already satisfied: numpy~=1.12 in /home/ec2-user/anaconda3/envs/python3/lib/python3.6/site-packages (from blueqat) (1.14.6)\n",
      "\u001b[31mnumba 0.49.0 has requirement numpy>=1.15, but you'll have numpy 1.14.6 which is incompatible.\u001b[0m\n",
      "\u001b[33mYou are using pip version 10.0.1, however version 20.1 is available.\n",
      "You should consider upgrading via the 'pip install --upgrade pip' command.\u001b[0m\n"
     ]
    }
   ],
   "source": [
    "!pip install blueqat"
   ]
  },
  {
   "cell_type": "markdown",
   "metadata": {
    "colab_type": "text",
    "id": "NjHnSAbHrInP"
   },
   "source": [
    "## Qubit and quantum states\n",
    "one qubit can be represented as a point on a sphere.  \n",
    "A quantum computer is not constrained by 0 and 1 and can take any point on a sphere called a Bloch sphere.\n",
    "\n",
    "![無題のプレゼンテーション.png](https://qiita-image-store.s3.ap-northeast-1.amazonaws.com/0/218694/7c0ac1f2-9470-630b-54b8-93c61fb405d2.png)\n",
    "\n",
    "This data is called a quantum state and is mainly represented by $\\mid \\psi \\rangle$. $\\mid .\\rangle$ is a vertical vector.  \n",
    "|0> and |1> are assigned vectors like the following, respectively.\n",
    "\n",
    "$$\n",
    "\\mid 0 \\rangle = \\begin{bmatrix}1\\\\0\\end{bmatrix}, \\mid 1 \\rangle = \\begin{bmatrix}0\\\\1\\end{bmatrix}\n",
    "$$\n",
    "\n",
    "|ψ> can be defined by using |0> and |1>.\n",
    "\n",
    "$$\n",
    "\\mid \\psi \\rangle = \\alpha \\mid 0 \\rangle + \\beta \\mid 1 \\rangle = \\alpha \\begin{bmatrix}1\\\\0\\end{bmatrix} + \\beta \\begin{bmatrix}0\\\\1\\end{bmatrix} = \\begin{bmatrix}\\alpha \\\\ \\beta \\end{bmatrix}\n",
    "$$\n",
    "\n",
    "It is called a state vector."
   ]
  },
  {
   "cell_type": "markdown",
   "metadata": {
    "colab_type": "text",
    "id": "NjHnSAbHrInP"
   },
   "source": [
    "## Initial state and rotation （quantum gate）\n",
    "The initial state is as follows.\n",
    "\n",
    "$$\n",
    "\\mid 0 \\rangle = \\begin{bmatrix}1\\\\0\\end{bmatrix}\n",
    "$$\n",
    "\n",
    "In order to change the quantum state, a rotate operation is used. It called a quantum gate.  \n",
    "The Bloch sphere has three axes, XYZ. Quantum gates is such rotational operations around an axis.\n",
    "\n",
    "The basic rotation operation is the X, Y, and Z gates.  \n",
    "Each corresponds to a rotation of 180 degrees (π) around the x, y, and z axes.\n",
    "\n",
    "$$\n",
    "X=\n",
    "\\begin{bmatrix}\n",
    "0&1 \\\\\n",
    "1&0\n",
    "\\end{bmatrix},\n",
    "Y=\n",
    "\\begin{bmatrix}\n",
    "0&-i \\\\\n",
    "i&0\n",
    "\\end{bmatrix},\n",
    "Z=\n",
    "\\begin{bmatrix}\n",
    "1&0 \\\\\n",
    "0&-1\n",
    "\\end{bmatrix}\n",
    "$$"
   ]
  },
  {
   "cell_type": "markdown",
   "metadata": {
    "colab_type": "text",
    "id": "NjHnSAbHrInP"
   },
   "source": [
    "The quantum gate can be computed by multiplying the state vector.\n",
    "\n",
    "$$\n",
    "X\n",
    "\\begin{bmatrix}\n",
    "1 \\\\\n",
    "0\n",
    "\\end{bmatrix}\n",
    "=\n",
    "\\begin{bmatrix}\n",
    "0&1 \\\\\n",
    "1&0\n",
    "\\end{bmatrix}\n",
    "\\begin{bmatrix}\n",
    "1 \\\\\n",
    "0\n",
    "\\end{bmatrix}\n",
    "=\n",
    "\\begin{bmatrix}\n",
    "0 \\\\\n",
    "1\n",
    "\\end{bmatrix}\n",
    "$$"
   ]
  },
  {
   "cell_type": "markdown",
   "metadata": {
    "colab_type": "text",
    "id": "NjHnSAbHrInP"
   },
   "source": [
    "There are also gates that use more than two qubits.\n",
    "\n",
    "$$\n",
    "CU = \n",
    "\\begin{bmatrix}\n",
    "1&0&0&0\\\\\n",
    "0&1&0&0\\\\\n",
    "0&0&a&b\\\\\n",
    "0&0&c&d\n",
    "\\end{bmatrix}\n",
    "$$"
   ]
  },
  {
   "cell_type": "markdown",
   "metadata": {
    "colab_type": "text",
    "id": "NjHnSAbHrInP"
   },
   "source": [
    "$$\n",
    "CX \\cdot X\n",
    "=\n",
    "\\begin{bmatrix}\n",
    "1&0&0&0\\\\\n",
    "0&1&0&0\\\\\n",
    "0&0&0&1\\\\\n",
    "0&0&1&0\n",
    "\\end{bmatrix}\n",
    "\\begin{bmatrix}\n",
    "1\\\\0\\\\0\\\\0\n",
    "\\end{bmatrix}\n",
    "=\n",
    "\\begin{bmatrix}\n",
    "1\\\\0\\\\0\\\\0\n",
    "\\end{bmatrix}\n",
    "$$"
   ]
  }
 ],
 "metadata": {
  "colab": {
   "collapsed_sections": [],
   "name": "007_02_fullgate.ipynb",
   "provenance": []
  },
  "kernelspec": {
   "display_name": "conda_python3",
   "language": "python",
   "name": "conda_python3"
  },
  "language_info": {
   "codemirror_mode": {
    "name": "ipython",
    "version": 3
   },
   "file_extension": ".py",
   "mimetype": "text/x-python",
   "name": "python",
   "nbconvert_exporter": "python",
   "pygments_lexer": "ipython3",
   "version": "3.6.5"
  }
 },
 "nbformat": 4,
 "nbformat_minor": 1
}
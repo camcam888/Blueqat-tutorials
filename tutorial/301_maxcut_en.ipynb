{
  "cells": [
    {
      "metadata": {
        "id": "W8ABqYBVVWte",
        "colab_type": "text"
      },
      "cell_type": "markdown",
      "source": [
        "#maxcut\n",
        "For a graph, a maximum cut is a cut whose size is at least the size of any other cut. \n",
        "\n",
        "for the ising model we have cost function for maxcut"
      ]
    },
    {
      "metadata": {
        "id": "qDMqwQM30Xkb",
        "colab_type": "text"
      },
      "cell_type": "markdown",
      "source": [
        "##Example\n",
        "5nodes, 6edges, all the weight of edge is +1.\n",
        "First we just try to draw the network using networkx and matplotlib library.\n"
      ]
    },
    {
      "metadata": {
        "id": "pu0aQ7u10ZJB",
        "colab_type": "code",
        "outputId": "52367421-f23c-4517-9353-65b98dcc6f89",
        "colab": {
          "base_uri": "https://localhost:8080/",
          "height": 319
        }
      },
      "cell_type": "code",
      "source": [
        "import networkx as nx\n",
        "import matplotlib.pyplot as plt\n",
        "\n",
        "options = {'node_color': '#efefef','node_size': 1200,'with_labels':'True'}\n",
        "\n",
        "G = nx.Graph()\n",
        "G.add_nodes_from([0,1,2,3,4])\n",
        "G.add_edges_from([(0,1),(0,3),(1,2),(2,3),(2,4),(3,4)])\n",
        "nx.draw(G, **options)"
      ],
      "execution_count": 1,
      "outputs": [
        {
          "output_type": "display_data",
          "data": {
            "image/png": "[encoded data removed]",
            "text/plain": [
              "<Figure size 432x288 with 1 Axes>"
            ]
          },
          "metadata": {
            "tags": []
          }
        }
      ]
    },
    {
      "metadata": {
        "id": "Ops9t-5ZVaWW",
        "colab_type": "text"
      },
      "cell_type": "markdown",
      "source": [
        "The cost function of maxcut is\n",
        "\n",
        "$$E = -\\sum_{i,j}\\frac{1}{2}(1-q_iq_j)$$\n",
        "\n",
        "q is qubit and have value of -1 or +1.\n",
        "\n",
        "For the binary number of QUBO, the cost function will be,\n",
        "\n",
        "$$E = -\\sum_{i,j}\\frac{1}{2}(1-(1-2*q_i)(1-2*q_j)$$\n",
        "\n",
        "By simplify the cost function, we can solve the simplified\n",
        "\n",
        "$$E = \\sum_{i,j}(2*q_i-1)(2*q_j-1)$$\n",
        "\n",
        "And we get,\n",
        "\n",
        "$$E = (2q_0-1)(2q_1-1)+(2q_0-1)(2q_3-1)+(2q_1-1)(2q_2-1)+(2q_2-1)(2q_3-1)+(2q_3-1)(2q_4-1)+(2q_2-1)(2q_4-1)$$\n",
        "\n",
        "Now we try solve this by calculating the Ising model function.\n"
      ]
    },
    {
      "metadata": {
        "id": "EBM3oJgSVSTA",
        "colab_type": "code",
        "colab": {}
      },
      "cell_type": "code",
      "source": [
        "!pip install blueqat"
      ],
      "execution_count": 0,
      "outputs": []
    },
    {
      "metadata": {
        "id": "HFVH7lJxlNCM",
        "colab_type": "code",
        "colab": {
          "base_uri": "https://localhost:8080/",
          "height": 34
        },
        "outputId": "394f2ae1-33a6-42cd-d2e3-ea92450fa5cc"
      },
      "cell_type": "code",
      "source": [
        "from blueqat.wq import Opt\n",
        "c = Opt().add(\"(2*q0-1)*(2*q1-1)+(2*q0-1)*(2*q3-1)+(2*q1-1)*(2*q2-1)+(2*q2-1)*(2*q3-1)+(2*q3-1)*(2*q4-1)+(2*q2-1)*(2*q4-1)\")\n",
        "print(c.run())"
      ],
      "execution_count": 20,
      "outputs": [
        {
          "output_type": "stream",
          "text": [
            "[1, 0, 1, 0, 1]\n"
          ],
          "name": "stdout"
        }
      ]
    },
    {
      "metadata": {
        "id": "v3TCNUI_rQbJ",
        "colab_type": "text"
      },
      "cell_type": "markdown",
      "source": [
        "Now we have q0,q2,q4 as value 1 and others as 0 for divided groups."
      ]
    }
  ],
  "metadata": {
    "colab": {
      "name": "tutorial022_maxcut_en",
      "version": "0.3.2",
      "provenance": [],
      "collapsed_sections": []
    },
    "kernelspec": {
      "name": "python3",
      "display_name": "Python 3"
    }
  },
  "nbformat": 4,
  "nbformat_minor": 0
}
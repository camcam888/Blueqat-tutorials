{
 "cells": [
  {
   "cell_type": "markdown",
   "metadata": {
    "colab_type": "text",
    "id": "NjHnSAbHrInP"
   },
   "source": [
    "# QAOA\n",
    "It is almost the same as the VQE algorithm, but we use QAOA-specific ansatz for combinatorial optimization problem.\n",
    "\n",
    "## What we learn\n",
    "1. How QAOA works\n",
    "2. Implement QAOA with a simple example\n",
    "\n",
    "## Install Blueqat\n",
    "Install Blueqat from pip."
   ]
  },
  {
   "cell_type": "code",
   "execution_count": 1,
   "metadata": {
    "collapsed": true
   },
   "outputs": [
    {
     "name": "stdout",
     "output_type": "stream",
     "text": [
      "Requirement already satisfied: blueqat in /home/ec2-user/anaconda3/envs/python3/lib/python3.6/site-packages (0.3.14)\n",
      "Requirement already satisfied: scipy>=1.1.0 in /home/ec2-user/anaconda3/envs/python3/lib/python3.6/site-packages (from blueqat) (1.1.0)\n",
      "Requirement already satisfied: numpy~=1.12 in /home/ec2-user/anaconda3/envs/python3/lib/python3.6/site-packages (from blueqat) (1.14.6)\n",
      "\u001b[31mnumba 0.49.0 has requirement numpy>=1.15, but you'll have numpy 1.14.6 which is incompatible.\u001b[0m\n",
      "\u001b[33mYou are using pip version 10.0.1, however version 20.1 is available.\n",
      "You should consider upgrading via the 'pip install --upgrade pip' command.\u001b[0m\n"
     ]
    }
   ],
   "source": [
    "!pip install blueqat"
   ]
  },
  {
   "cell_type": "markdown",
   "metadata": {},
   "source": [
    "----"
   ]
  },
  {
   "cell_type": "markdown",
   "metadata": {
    "colab_type": "text",
    "id": "NjHnSAbHrInP"
   },
   "source": [
    "## Quantum Adiabatic Computation\n",
    "QAOA uses a mechanism called quantum adiabatic computation of time evolution.\n",
    "\n",
    "Let t be the current time and T be the overall schedule. This time we use two Hamiltonian. Let $H_{start}$ be the initial Hamiltonian to prepare, and $H_{final}$ be the Hamiltonian containing the problem you want to solve. At that time, we gradually switch from the initial Hamiltonian to the Hamiltonian of the problem we want to solve, as shown below.\n",
    "\n",
    "$$\n",
    "H_{temp} = (1-\\frac{t}{T})H_{start} + \\frac{t}{T}H_{final}\n",
    "$$\n",
    "\n",
    "If $T\\rightarrow\\infty$, the ground state will be the following eigenstates\n",
    "\n",
    "$$\n",
    "H_{temp}\\mid \\psi \\rangle = E_{0temp}\\mid \\psi \\rangle\n",
    "$$\n",
    "\n",
    "The process of replacing the two Hamiltonians is created by using the time evolution operator.\n",
    "\n",
    "$$\n",
    "\\mid \\psi_{t+1} \\rangle = e^{-iHt}  \\mid \\psi_t \\rangle\n",
    "$$"
   ]
  },
  {
   "cell_type": "markdown",
   "metadata": {
    "colab_type": "text",
    "id": "NjHnSAbHrInP"
   },
   "source": [
    "## Quantum Circuit\n",
    "The quantum circuit consists of\n",
    "\n",
    "1. Initial state preparation\n",
    "2. QAOA Ansatz\n",
    "\n",
    "```\n",
    "|0> ---[Initial state preparation]---[QAOA Ansatz]---[Measurement]\n",
    "```\n",
    "\n",
    "If you look more closely at the content, the specific circuit examples is\n",
    "\n",
    "```\n",
    "|0> --H--  --RZZ--RZ--RX- -RZZ--RZ--RX--  --[測定]\n",
    "|0> --H--  --*----RZ--RX- -*----RZ--RX--  --[測定]\n",
    "```\n",
    "\n",
    "The far left is the initial state preparation, the next is the first step of QAOA Ansatz, and the next is the second step of QAOA Ansatz. Finally, take a measurement and find the solution."
   ]
  },
  {
   "cell_type": "markdown",
   "metadata": {},
   "source": [
    "## Two Hamiltonians.\n",
    "This time, we will use an initial Hamiltonian (mixer Hamiltonian) and a Hamiltonian (cost Hamiltonian) for the problem we want to solve. The mixer Hamiltonian is chosen differently depending on the constraints of the problem. The cost Hamiltonian formulates the value you want to minimize in the problem."
   ]
  },
  {
   "cell_type": "markdown",
   "metadata": {},
   "source": [
    "## Preparing the mixer Hamiltonian and the initial state\n",
    "The mixer Hamiltonian is meant to determine how to explore the problem. In quantum annealing, X is used as a mixer Hamiltonian to search for the answer while inverting the value of the qubit.\n",
    "\n",
    "If the mixer Hamiltonian is determined by the constraints of the problem, the initial state is determined. The initial state preparation sets the eigen state of the mixer Hamiltonian. If you want to use an X-mixer with the above X as a mixer Hamiltonian, choose the default eigenstate $\\mid \\psi \\rangle$ originally set to a state such as $\\mid + \\rangle$."
   ]
  },
  {
   "cell_type": "markdown",
   "metadata": {},
   "source": [
    "## Cost Hamiltonian\n",
    "The cost Hamiltonian changes the formulation depending on the problem. Based on a social problem, a type of problem called a combinatorial optimization problem is dropped onto a model called the Ising model of physics. The cost Hamiltonian uses the Z operator's expected values of +1 and -1 to express all the conditions in question using the Z or ZZ operators.\n",
    "\n",
    "```\n",
    "hamiltonian = -Z(0) - Z(0)*Z(1)\n",
    "```\n",
    "\n",
    "Set the \"bias\" before a single Z, and set the \"weight\" before multiple Zs."
   ]
  },
  {
   "cell_type": "markdown",
   "metadata": {
    "colab_type": "text",
    "id": "NjHnSAbHrInP"
   },
   "source": [
    "## QAOA Ansatz and the Hamiltonian's time evolution\n",
    "In QAOA Ansatz, the cost Hamiltonian for setting up the problem and the mixer Hamiltonian for determining the search method are stored in a form called the time evolution operator.\n",
    "\n",
    "The time evolution of the $X$ gate makes use of gates that contain angles, such as the $RX(\\theta)$ gate. The two-qubit will also include the time evolution of the $XX$ gate, which includes an angle, such as $RXX(\\theta)$."
   ]
  },
  {
   "cell_type": "markdown",
   "metadata": {},
   "source": [
    "## Number of steps.\n",
    "Quantum adiabatic calculations are usually analog processes discretized using time evolution operators. QAOA can also increase the accuracy by setting the number of steps. The number of steps corresponds to the number of iterations in the QAOA Ansatz."
   ]
  },
  {
   "cell_type": "markdown",
   "metadata": {},
   "source": [
    "## X-mixer\n",
    "A typical mixer is the X-mixer.\n",
    "\n",
    "$$\n",
    "X\\mid 0 \\rangle = \n",
    "\\begin{bmatrix}\n",
    "0&1\\\\\n",
    "1&0\n",
    "\\end{bmatrix}\n",
    "\\begin{bmatrix}\n",
    "1\\\\\n",
    "0\n",
    "\\end{bmatrix}\n",
    "=\n",
    "\\begin{bmatrix}\n",
    "0\\\\\n",
    "1\n",
    "\\end{bmatrix}\n",
    "$$\n",
    "\n",
    "This is used to invert the value of a qubit by acting on a single qubit. The initial state is also an H-gate on a single qubit to create a $\\mid + \\rangle$ state."
   ]
  },
  {
   "cell_type": "markdown",
   "metadata": {},
   "source": [
    "## XY Mixer\n",
    "The XY mixer switches between the two states. (XX+YY)/2 is"
   ]
  },
  {
   "cell_type": "markdown",
   "metadata": {},
   "source": [
    "$$\n",
    "X_0X_1 + Y_0Y_1 = \n",
    "\\begin{bmatrix}\n",
    "0&1\\\\\n",
    "1&0\n",
    "\\end{bmatrix}\n",
    "\\otimes\n",
    "\\begin{bmatrix}\n",
    "0&1\\\\\n",
    "1&0\n",
    "\\end{bmatrix}\n",
    "+\n",
    "\\begin{bmatrix}\n",
    "0&-i\\\\\n",
    "i&0\n",
    "\\end{bmatrix}\n",
    "\\otimes\n",
    "\\begin{bmatrix}\n",
    "0&-i\\\\\n",
    "i&0\n",
    "\\end{bmatrix}\n",
    "=\n",
    "\\begin{bmatrix}\n",
    "0&0&0&1\\\\\n",
    "0&0&1&0\\\\\n",
    "0&1&0&0\\\\\n",
    "1&0&0&0\n",
    "\\end{bmatrix}\n",
    "+\n",
    "\\begin{bmatrix}\n",
    "0&0&0&-1\\\\\n",
    "0&0&1&0\\\\\n",
    "0&1&0&0\\\\\n",
    "-1&0&0&0\n",
    "\\end{bmatrix}\n",
    "$$\n",
    "\n",
    "so,\n",
    "\n",
    "$$\n",
    "(X_0X_1 + Y_0Y_1)/2 \n",
    "=\n",
    "\\begin{bmatrix}\n",
    "0&0&0&0\\\\\n",
    "0&0&1&0\\\\\n",
    "0&1&0&0\\\\\n",
    "0&0&0&0\n",
    "\\end{bmatrix}\n",
    "$$\n",
    "\n",
    "Here, you will explore the answer exchanging 01 and 10 states. Initially, the entangled states of 01 and 10 are selected as eigenstates. Also,\n",
    "\n",
    "$$\n",
    "(X_0X_1 - Y_0Y_1)/2 = \n",
    "\\begin{bmatrix}\n",
    "0&0&0&1\\\\\n",
    "0&0&0&0\\\\\n",
    "0&0&0&0\\\\\n",
    "1&0&0&0\n",
    "\\end{bmatrix}\n",
    "$$\n",
    "\n",
    "This is exchange 00 and 11 states. The entangled state of 00 and 11 is selected for inisital state."
   ]
  },
  {
   "cell_type": "markdown",
   "metadata": {},
   "source": [
    "## Example: Quantum Annealing\n",
    "QaoaAnsatz is initially set to quantum annealing, and I've used X in the mixer, which is initially set the eigenstate to |+>. The initial state|+> is achieved by applying an Hadamar gate H to all the qubits.\n",
    "\n",
    "```\n",
    "|0> --H--  --RZZ--RZ--RX- -RZZ--RZ--RX--  --[Measurement]\n",
    "|0> --H--  --*--------RX- -*--------RX--  --[Measurement]\n",
    "```"
   ]
  },
  {
   "cell_type": "code",
   "execution_count": 2,
   "metadata": {},
   "outputs": [
    {
     "name": "stdout",
     "output_type": "stream",
     "text": [
      "(((0, 0), 0.5574015434423096), ((0, 1), 0.30355367623737267), ((1, 1), 0.13520656021284924), ((1, 0), 0.0038382201074665125))\n"
     ]
    }
   ],
   "source": [
    "import numpy as np\n",
    "from blueqat import Circuit\n",
    "from blueqat.pauli import X, Y, Z, I\n",
    "from blueqat.pauli import qubo_bit as q\n",
    "from blueqat import vqe\n",
    "\n",
    "#mixer\n",
    "Xmixer = X[0]+X[1]\n",
    "\n",
    "#initial state\n",
    "Xinit = Circuit(2).h[0,1]\n",
    "\n",
    "h = -Z(0) -Z(0)*Z(1)\n",
    "step = 2\n",
    "\n",
    "result = vqe.Vqe(vqe.QaoaAnsatz(h, step, Xinit, Xmixer)).run()\n",
    "print(result.most_common(12))"
   ]
  },
  {
   "cell_type": "markdown",
   "metadata": {},
   "source": [
    "If the initial state and the mixer are not specified, quantum annealing is employed."
   ]
  },
  {
   "cell_type": "code",
   "execution_count": 4,
   "metadata": {},
   "outputs": [
    {
     "name": "stdout",
     "output_type": "stream",
     "text": [
      "(((0, 0), 0.510552000899261), ((0, 1), 0.2668870732604158), ((1, 1), 0.22219224698338153), ((1, 0), 0.00036867885694117085))\n"
     ]
    }
   ],
   "source": [
    "result = vqe.Vqe(vqe.QaoaAnsatz(h, step)).run()\n",
    "print(result.most_common(12))"
   ]
  },
  {
   "cell_type": "markdown",
   "metadata": {},
   "source": [
    "## Example: XY Mixer\n",
    "Next, we'll try using an XY mixer for the same problem. Specify the entanglement state as the initial state. The mixer is given as a Hamiltonian of (XX+YY)/2."
   ]
  },
  {
   "cell_type": "code",
   "execution_count": 5,
   "metadata": {},
   "outputs": [
    {
     "name": "stdout",
     "output_type": "stream",
     "text": [
      "(((0, 1), 0.9999999999999976), ((1, 0), 3.1198741328128285e-23), ((1, 1), 2.542829379687353e-32))\n"
     ]
    }
   ],
   "source": [
    "#mixer\n",
    "XYmixer = 0.5*X[0]*X[1] + 0.5*Y[0]*Y[1]\n",
    "\n",
    "#initial state\n",
    "XYinit = Circuit().h[0].cx[0,1].x[0]\n",
    "\n",
    "result = vqe.Vqe(vqe.QaoaAnsatz(h, step, XYinit, XYmixer)).run()\n",
    "print(result.most_common(12))"
   ]
  },
  {
   "cell_type": "markdown",
   "metadata": {},
   "source": [
    "We would have liked to see (0,0), but we put a constraint on 01 and 10, so XY mixer is trying to find the one that is close to the correct answer among the answers of 01 and 10.\n"
   ]
  }
 ],
 "metadata": {
  "colab": {
   "collapsed_sections": [],
   "name": "022_algo_qaoa.ipynb",
   "provenance": [],
   "version": "0.3.2"
  },
  "kernelspec": {
   "display_name": "conda_python3",
   "language": "python",
   "name": "conda_python3"
  },
  "language_info": {
   "codemirror_mode": {
    "name": "ipython",
    "version": 3
   },
   "file_extension": ".py",
   "mimetype": "text/x-python",
   "name": "python",
   "nbconvert_exporter": "python",
   "pygments_lexer": "ipython3",
   "version": "3.6.5"
  }
 },
 "nbformat": 4,
 "nbformat_minor": 1
}

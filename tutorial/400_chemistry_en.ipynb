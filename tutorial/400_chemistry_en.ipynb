{
 "cells": [
  {
   "cell_type": "markdown",
   "metadata": {
    "colab_type": "text",
    "id": "0DeQHhKHtIS9"
   },
   "source": [
    "#VQE and quantum chemistry"
   ]
  },
  {
   "cell_type": "markdown",
   "metadata": {
    "colab_type": "text",
    "id": "xoLga_-FtPxy"
   },
   "source": [
    "On a quantum chemistry we can make hamiltonian using pauli operators and solve it using VQE. On a chemistry the advanced research on ansatz is done better than other problems and many researchers are working on this problem."
   ]
  },
  {
   "cell_type": "markdown",
   "metadata": {
    "colab_type": "text",
    "id": "ofFbnPOGqbKf"
   },
   "source": [
    "##2-3-1 Install\n",
    "We need to install blueqat, openfermionblueqat and openfermion."
   ]
  },
  {
   "cell_type": "code",
   "execution_count": 1,
   "metadata": {
    "colab": {
     "base_uri": "https://localhost:8080/",
     "height": 1000
    },
    "colab_type": "code",
    "id": "_NQIdXmptSJU",
    "outputId": "db2075c6-9dbe-4e71-9b97-71ff39b2aa28"
   },
   "outputs": [
    {
     "name": "stdout",
     "output_type": "stream",
     "text": [
      "Collecting blueqat\n",
      "\u001b[?25l  Downloading https://files.pythonhosted.org/packages/f6/73/20f9cff48caee1f69190f2e1ea93c4d7d0a745fc48defb5d3072d8337583/blueqat-0.3.13-py3-none-any.whl (50kB)\n",
      "\u001b[K     |████████████████████████████████| 51kB 1.7MB/s \n",
      "\u001b[?25hCollecting openfermionblueqat\n",
      "  Downloading https://files.pythonhosted.org/packages/e0/ef/d2a4242ef5f4ff518921dfd608d7841f476e947bc23efc25bd7c3ba0042d/openfermionblueqat-0.2.2-py3-none-any.whl\n",
      "Collecting openfermion\n",
      "\u001b[?25l  Downloading https://files.pythonhosted.org/packages/66/72/e058e3d8ececd54212bb98848e8e8227d4887fed6fe8d87f425a034add8b/openfermion-0.10.0.tar.gz (625kB)\n",
      "\u001b[K     |████████████████████████████████| 634kB 6.6MB/s \n",
      "\u001b[?25hRequirement already satisfied: scipy>=1.1.0 in /usr/local/lib/python3.6/dist-packages (from blueqat) (1.4.1)\n",
      "Requirement already satisfied: numpy~=1.12 in /usr/local/lib/python3.6/dist-packages (from blueqat) (1.17.5)\n",
      "Requirement already satisfied: h5py>=2.8 in /usr/local/lib/python3.6/dist-packages (from openfermion) (2.8.0)\n",
      "Requirement already satisfied: future in /usr/local/lib/python3.6/dist-packages (from openfermion) (0.16.0)\n",
      "Requirement already satisfied: jupyter in /usr/local/lib/python3.6/dist-packages (from openfermion) (1.0.0)\n",
      "Requirement already satisfied: nbformat in /usr/local/lib/python3.6/dist-packages (from openfermion) (5.0.4)\n",
      "Requirement already satisfied: networkx in /usr/local/lib/python3.6/dist-packages (from openfermion) (2.4)\n",
      "Requirement already satisfied: matplotlib in /usr/local/lib/python3.6/dist-packages (from openfermion) (3.1.3)\n",
      "Collecting pubchempy\n",
      "  Downloading https://files.pythonhosted.org/packages/aa/fb/8de3aa9804b614dbc8dc5c16ed061d819cc360e0ddecda3dcd01c1552339/PubChemPy-1.0.4.tar.gz\n",
      "Requirement already satisfied: six in /usr/local/lib/python3.6/dist-packages (from openfermion) (1.12.0)\n",
      "Requirement already satisfied: qtconsole in /usr/local/lib/python3.6/dist-packages (from jupyter->openfermion) (4.6.0)\n",
      "Requirement already satisfied: ipywidgets in /usr/local/lib/python3.6/dist-packages (from jupyter->openfermion) (7.5.1)\n",
      "Requirement already satisfied: jupyter-console in /usr/local/lib/python3.6/dist-packages (from jupyter->openfermion) (5.2.0)\n",
      "Requirement already satisfied: nbconvert in /usr/local/lib/python3.6/dist-packages (from jupyter->openfermion) (5.6.1)\n",
      "Requirement already satisfied: ipykernel in /usr/local/lib/python3.6/dist-packages (from jupyter->openfermion) (4.6.1)\n",
      "Requirement already satisfied: notebook in /usr/local/lib/python3.6/dist-packages (from jupyter->openfermion) (5.2.2)\n",
      "Requirement already satisfied: traitlets>=4.1 in /usr/local/lib/python3.6/dist-packages (from nbformat->openfermion) (4.3.3)\n",
      "Requirement already satisfied: jsonschema!=2.5.0,>=2.4 in /usr/local/lib/python3.6/dist-packages (from nbformat->openfermion) (2.6.0)\n",
      "Requirement already satisfied: jupyter-core in /usr/local/lib/python3.6/dist-packages (from nbformat->openfermion) (4.6.2)\n",
      "Requirement already satisfied: ipython-genutils in /usr/local/lib/python3.6/dist-packages (from nbformat->openfermion) (0.2.0)\n",
      "Requirement already satisfied: decorator>=4.3.0 in /usr/local/lib/python3.6/dist-packages (from networkx->openfermion) (4.4.1)\n",
      "Requirement already satisfied: pyparsing!=2.0.4,!=2.1.2,!=2.1.6,>=2.0.1 in /usr/local/lib/python3.6/dist-packages (from matplotlib->openfermion) (2.4.6)\n",
      "Requirement already satisfied: cycler>=0.10 in /usr/local/lib/python3.6/dist-packages (from matplotlib->openfermion) (0.10.0)\n",
      "Requirement already satisfied: kiwisolver>=1.0.1 in /usr/local/lib/python3.6/dist-packages (from matplotlib->openfermion) (1.1.0)\n",
      "Requirement already satisfied: python-dateutil>=2.1 in /usr/local/lib/python3.6/dist-packages (from matplotlib->openfermion) (2.6.1)\n",
      "Requirement already satisfied: pygments in /usr/local/lib/python3.6/dist-packages (from qtconsole->jupyter->openfermion) (2.1.3)\n",
      "Requirement already satisfied: jupyter-client>=4.1 in /usr/local/lib/python3.6/dist-packages (from qtconsole->jupyter->openfermion) (5.3.4)\n",
      "Requirement already satisfied: ipython>=4.0.0; python_version >= \"3.3\" in /usr/local/lib/python3.6/dist-packages (from ipywidgets->jupyter->openfermion) (5.5.0)\n",
      "Requirement already satisfied: widgetsnbextension~=3.5.0 in /usr/local/lib/python3.6/dist-packages (from ipywidgets->jupyter->openfermion) (3.5.1)\n",
      "Requirement already satisfied: prompt-toolkit<2.0.0,>=1.0.0 in /usr/local/lib/python3.6/dist-packages (from jupyter-console->jupyter->openfermion) (1.0.18)\n",
      "Requirement already satisfied: jinja2>=2.4 in /usr/local/lib/python3.6/dist-packages (from nbconvert->jupyter->openfermion) (2.11.1)\n",
      "Requirement already satisfied: entrypoints>=0.2.2 in /usr/local/lib/python3.6/dist-packages (from nbconvert->jupyter->openfermion) (0.3)\n",
      "Requirement already satisfied: mistune<2,>=0.8.1 in /usr/local/lib/python3.6/dist-packages (from nbconvert->jupyter->openfermion) (0.8.4)\n",
      "Requirement already satisfied: pandocfilters>=1.4.1 in /usr/local/lib/python3.6/dist-packages (from nbconvert->jupyter->openfermion) (1.4.2)\n",
      "Requirement already satisfied: testpath in /usr/local/lib/python3.6/dist-packages (from nbconvert->jupyter->openfermion) (0.4.4)\n",
      "Requirement already satisfied: defusedxml in /usr/local/lib/python3.6/dist-packages (from nbconvert->jupyter->openfermion) (0.6.0)\n",
      "Requirement already satisfied: bleach in /usr/local/lib/python3.6/dist-packages (from nbconvert->jupyter->openfermion) (3.1.0)\n",
      "Requirement already satisfied: tornado>=4.0 in /usr/local/lib/python3.6/dist-packages (from ipykernel->jupyter->openfermion) (4.5.3)\n",
      "Requirement already satisfied: terminado>=0.3.3; sys_platform != \"win32\" in /usr/local/lib/python3.6/dist-packages (from notebook->jupyter->openfermion) (0.8.3)\n",
      "Requirement already satisfied: setuptools in /usr/local/lib/python3.6/dist-packages (from kiwisolver>=1.0.1->matplotlib->openfermion) (45.1.0)\n",
      "Requirement already satisfied: pyzmq>=13 in /usr/local/lib/python3.6/dist-packages (from jupyter-client>=4.1->qtconsole->jupyter->openfermion) (17.0.0)\n",
      "Requirement already satisfied: pexpect; sys_platform != \"win32\" in /usr/local/lib/python3.6/dist-packages (from ipython>=4.0.0; python_version >= \"3.3\"->ipywidgets->jupyter->openfermion) (4.8.0)\n",
      "Requirement already satisfied: simplegeneric>0.8 in /usr/local/lib/python3.6/dist-packages (from ipython>=4.0.0; python_version >= \"3.3\"->ipywidgets->jupyter->openfermion) (0.8.1)\n",
      "Requirement already satisfied: pickleshare in /usr/local/lib/python3.6/dist-packages (from ipython>=4.0.0; python_version >= \"3.3\"->ipywidgets->jupyter->openfermion) (0.7.5)\n",
      "Requirement already satisfied: wcwidth in /usr/local/lib/python3.6/dist-packages (from prompt-toolkit<2.0.0,>=1.0.0->jupyter-console->jupyter->openfermion) (0.1.8)\n",
      "Requirement already satisfied: MarkupSafe>=0.23 in /usr/local/lib/python3.6/dist-packages (from jinja2>=2.4->nbconvert->jupyter->openfermion) (1.1.1)\n",
      "Requirement already satisfied: webencodings in /usr/local/lib/python3.6/dist-packages (from bleach->nbconvert->jupyter->openfermion) (0.5.1)\n",
      "Requirement already satisfied: ptyprocess; os_name != \"nt\" in /usr/local/lib/python3.6/dist-packages (from terminado>=0.3.3; sys_platform != \"win32\"->notebook->jupyter->openfermion) (0.6.0)\n",
      "Building wheels for collected packages: openfermion, pubchempy\n",
      "  Building wheel for openfermion (setup.py) ... \u001b[?25l\u001b[?25hdone\n",
      "  Created wheel for openfermion: filename=openfermion-0.10.0-cp36-none-any.whl size=731375 sha256=a6a7b18652f246d94640f5fa1a2a85b9d71d28a0ea20032213626d14f8ed3f0f\n",
      "  Stored in directory: /root/.cache/pip/wheels/3c/49/cd/098bb337ffcbb70021864403773043df332c065590873f1813\n",
      "  Building wheel for pubchempy (setup.py) ... \u001b[?25l\u001b[?25hdone\n",
      "  Created wheel for pubchempy: filename=PubChemPy-1.0.4-cp36-none-any.whl size=13825 sha256=6f935bbf877c8746569afa0d242dedb965bea20387048f6839b9f8ef47d91339\n",
      "  Stored in directory: /root/.cache/pip/wheels/10/4d/51/6b843681a9a5aef35f0d0fbce243de46f85080036e16118752\n",
      "Successfully built openfermion pubchempy\n",
      "Installing collected packages: blueqat, pubchempy, openfermion, openfermionblueqat\n",
      "Successfully installed blueqat-0.3.13 openfermion-0.10.0 openfermionblueqat-0.2.2 pubchempy-1.0.4\n"
     ]
    }
   ],
   "source": [
    "!pip3 install blueqat openfermionblueqat openfermion"
   ]
  },
  {
   "cell_type": "markdown",
   "metadata": {
    "colab_type": "text",
    "id": "HHLJDoRXtXta"
   },
   "source": [
    "##2-3-2 Coding\n",
    "Here we use a prepared data provided by openfermion."
   ]
  },
  {
   "cell_type": "code",
   "execution_count": 1,
   "metadata": {
    "colab": {
     "base_uri": "https://localhost:8080/",
     "height": 283
    },
    "colab_type": "code",
    "id": "hDacEDd6tVIK",
    "outputId": "cdb33658-119e-4c37-caf6-04d06ba417b7"
   },
   "outputs": [
    {
     "data": {
      "text/plain": [
       "[<matplotlib.lines.Line2D at 0x7f34c6b411c0>]"
      ]
     },
     "execution_count": 1,
     "metadata": {},
     "output_type": "execute_result"
    },
    {
     "data": {
      "image/png": "[encoded data removed]",
      "text/plain": [
       "<Figure size 432x288 with 1 Axes>"
      ]
     },
     "metadata": {
      "needs_background": "light"
     },
     "output_type": "display_data"
    }
   ],
   "source": [
    "from blueqat import *\n",
    "from openfermion import *\n",
    "from openfermionblueqat import*\n",
    "import numpy as np\n",
    "\n",
    "def get_molecule(bond_len):\n",
    "  geometry = [('H',(0.,0.,0.)),('H',(0.,0.,bond_len))]\n",
    "\n",
    "  description = format(bond_len)\n",
    "  molecule = MolecularData(geometry, \"sto-3g\",1,description=description)\n",
    "\n",
    "  molecule.load()\n",
    "  return molecule\n",
    "\n",
    "x = [];e=[];fullci=[]\n",
    "for bond_len in np.arange(0.2,2.5,0.1):\n",
    "  m = get_molecule(\"{:.2}\".format(bond_len))\n",
    "  h = bravyi_kitaev(get_fermion_operator(m.get_molecular_hamiltonian()))\n",
    "  runner = vqe.Vqe(UCCAnsatz(h,6,Circuit().x[0]))\n",
    "  result = runner.run()\n",
    "  x.append(bond_len)\n",
    "  e.append(runner.ansatz.get_energy_sparse(result.circuit))\n",
    "  fullci.append(m.fci_energy)\n",
    "\n",
    "%matplotlib inline\n",
    "import matplotlib.pyplot as plt\n",
    "plt.plot(x,fullci)\n",
    "plt.plot(x,e,\"o\")"
   ]
  },
  {
   "cell_type": "markdown",
   "metadata": {
    "colab_type": "text",
    "id": "XC1xaDwbtcxb"
   },
   "source": [
    "We got a result on the H2 problem."
   ]
  },
  {
   "cell_type": "markdown",
   "metadata": {
    "colab_type": "text",
    "id": "3vw6h4eytfK2"
   },
   "source": [
    "##2-3-3 Checking inside the coding\n",
    "Using MoluculearData function on OpenFermion, we can use prepare data of Sto-3g on H2 molecule."
   ]
  },
  {
   "cell_type": "code",
   "execution_count": 2,
   "metadata": {
    "colab": {},
    "colab_type": "code",
    "id": "U2xwZyAItaMu"
   },
   "outputs": [],
   "source": [
    "def get_molecule(bond_len):\n",
    "  geometry = [('H',(0.,0.,0.)),('H',(0.,0.,bond_len))]\n",
    "\n",
    "  description = format(bond_len)\n",
    "  molecule = MolecularData(geometry, \"sto-3g\",1,description=description)\n",
    "\n",
    "  molecule.load()\n",
    "  return molecule"
   ]
  },
  {
   "cell_type": "markdown",
   "metadata": {
    "colab_type": "text",
    "id": "jy8xNG4Etk2S"
   },
   "source": [
    "Here we select 0.4 as the bond length between atoms. We get a formulation on second quantization."
   ]
  },
  {
   "cell_type": "code",
   "execution_count": 3,
   "metadata": {
    "colab": {
     "base_uri": "https://localhost:8080/",
     "height": 646
    },
    "colab_type": "code",
    "id": "TO1lSYvbtikE",
    "outputId": "51191d25-cec4-4d64-a0c5-99ddeebe83d8"
   },
   "outputs": [
    {
     "data": {
      "text/plain": [
       "() 1.322943021475\n",
       "((0, 1), (0, 0)) -1.4820918858979102\n",
       "((1, 1), (1, 0)) -1.4820918858979102\n",
       "((2, 1), (2, 0)) -0.1187350527865787\n",
       "((3, 1), (3, 0)) -0.1187350527865787\n",
       "((0, 1), (0, 1), (0, 0), (0, 0)) 0.36843967630348756\n",
       "((0, 1), (0, 1), (2, 0), (2, 0)) 0.08225771204699692\n",
       "((0, 1), (1, 1), (1, 0), (0, 0)) 0.36843967630348756\n",
       "((0, 1), (1, 1), (3, 0), (2, 0)) 0.08225771204699692\n",
       "((0, 1), (2, 1), (0, 0), (2, 0)) 0.082257712046997\n",
       "((0, 1), (2, 1), (2, 0), (0, 0)) 0.3626667179796745\n",
       "((0, 1), (3, 1), (1, 0), (2, 0)) 0.082257712046997\n",
       "((0, 1), (3, 1), (3, 0), (0, 0)) 0.3626667179796745\n",
       "((1, 1), (0, 1), (0, 0), (1, 0)) 0.36843967630348756\n",
       "((1, 1), (0, 1), (2, 0), (3, 0)) 0.08225771204699692\n",
       "((1, 1), (1, 1), (1, 0), (1, 0)) 0.36843967630348756\n",
       "((1, 1), (1, 1), (3, 0), (3, 0)) 0.08225771204699692\n",
       "((1, 1), (2, 1), (0, 0), (3, 0)) 0.082257712046997\n",
       "((1, 1), (2, 1), (2, 0), (1, 0)) 0.3626667179796745\n",
       "((1, 1), (3, 1), (1, 0), (3, 0)) 0.082257712046997\n",
       "((1, 1), (3, 1), (3, 0), (1, 0)) 0.3626667179796745\n",
       "((2, 1), (0, 1), (0, 0), (2, 0)) 0.36266671797967454\n",
       "((2, 1), (0, 1), (2, 0), (0, 0)) 0.08225771204699726\n",
       "((2, 1), (1, 1), (1, 0), (2, 0)) 0.36266671797967454\n",
       "((2, 1), (1, 1), (3, 0), (0, 0)) 0.08225771204699726\n",
       "((2, 1), (2, 1), (0, 0), (0, 0)) 0.08225771204699728\n",
       "((2, 1), (2, 1), (2, 0), (2, 0)) 0.38272169831413727\n",
       "((2, 1), (3, 1), (1, 0), (0, 0)) 0.08225771204699728\n",
       "((2, 1), (3, 1), (3, 0), (2, 0)) 0.38272169831413727\n",
       "((3, 1), (0, 1), (0, 0), (3, 0)) 0.36266671797967454\n",
       "((3, 1), (0, 1), (2, 0), (1, 0)) 0.08225771204699726\n",
       "((3, 1), (1, 1), (1, 0), (3, 0)) 0.36266671797967454\n",
       "((3, 1), (1, 1), (3, 0), (1, 0)) 0.08225771204699726\n",
       "((3, 1), (2, 1), (0, 0), (1, 0)) 0.08225771204699728\n",
       "((3, 1), (2, 1), (2, 0), (3, 0)) 0.38272169831413727\n",
       "((3, 1), (3, 1), (1, 0), (1, 0)) 0.08225771204699728\n",
       "((3, 1), (3, 1), (3, 0), (3, 0)) 0.38272169831413727"
      ]
     },
     "execution_count": 3,
     "metadata": {},
     "output_type": "execute_result"
    }
   ],
   "source": [
    "m = get_molecule(0.4)\n",
    "m.get_molecular_hamiltonian()"
   ]
  },
  {
   "cell_type": "markdown",
   "metadata": {
    "colab_type": "text",
    "id": "MCcUSNvltukv"
   },
   "source": [
    "This is not a hamiltonian with pauli operator, so we need a transformation."
   ]
  },
  {
   "cell_type": "markdown",
   "metadata": {
    "colab_type": "text",
    "id": "sP1KphQktw8Z"
   },
   "source": [
    "##2-3-4 Transformation\n",
    "\n",
    "Bravi-Kitaev transformation or Jordan–Wigner transformation are famous. Now we use the former BK transformation."
   ]
  },
  {
   "cell_type": "code",
   "execution_count": 4,
   "metadata": {
    "colab": {
     "base_uri": "https://localhost:8080/",
     "height": 272
    },
    "colab_type": "code",
    "id": "3B3loOfutn2j",
    "outputId": "99f7f869-64b7-4297-ac30-52d52b4147ff"
   },
   "outputs": [
    {
     "name": "stdout",
     "output_type": "stream",
     "text": [
      "(0.7407724940116754+0j) [] +\n",
      "(0.041128856023498556+0j) [X0 Z1 X2] +\n",
      "(0.041128856023498556+0j) [X0 Z1 X2 Z3] +\n",
      "(0.041128856023498556+0j) [Y0 Z1 Y2] +\n",
      "(0.041128856023498556+0j) [Y0 Z1 Y2 Z3] +\n",
      "(0.23528824284103544+0j) [Z0] +\n",
      "(0.23528824284103542+0j) [Z0 Z1] +\n",
      "(0.18133335898983727+0j) [Z0 Z1 Z2] +\n",
      "(0.18133335898983727+0j) [Z0 Z1 Z2 Z3] +\n",
      "(0.14020450296633868+0j) [Z0 Z2] +\n",
      "(0.14020450296633868+0j) [Z0 Z2 Z3] +\n",
      "(0.18421983815174378+0j) [Z1] +\n",
      "(-0.45353118471995524+0j) [Z1 Z2 Z3] +\n",
      "(0.19136084915706864+0j) [Z1 Z3] +\n",
      "(-0.45353118471995524+0j) [Z2]\n"
     ]
    }
   ],
   "source": [
    "h = bravyi_kitaev(get_fermion_operator(m.get_molecular_hamiltonian()))\n",
    "print(h)"
   ]
  },
  {
   "cell_type": "markdown",
   "metadata": {
    "colab_type": "text",
    "id": "xWER997LuB9V"
   },
   "source": [
    "Now we got a hamiltonian with pauli operator, now we can solve it with VQE. To solve this efficiently we use UCC theory on ansatz. By using a prepared UCCansatz in blueqat we get,"
   ]
  },
  {
   "cell_type": "code",
   "execution_count": 5,
   "metadata": {
    "colab": {
     "base_uri": "https://localhost:8080/",
     "height": 714
    },
    "colab_type": "code",
    "id": "97RcOB7Rt4_7",
    "outputId": "730c7fd9-0eed-4349-edd0-24aae9f26ba5"
   },
   "outputs": [
    {
     "name": "stdout",
     "output_type": "stream",
     "text": [
      "params: [0.70164565 0.11001547] val: -0.5797580164453399\n",
      "params: [0.70164565 0.11001547] val: -0.5797580164453399\n",
      "params: [1.70164565 0.11001547] val: 0.6866759852375767\n",
      "params: [-0.91638835  0.11001547] val: -0.290721644465588\n",
      "params: [0.70164565 0.11001547] val: -0.5797580164453399\n",
      "params: [0.08361167 0.11001547] val: -0.8940999003449719\n",
      "params: [0.08361167 0.11001547] val: -0.8940999003449719\n",
      "params: [0.08361167 1.11001547] val: -0.19463031566496408\n",
      "params: [ 0.08361167 -1.50801853] val: 0.3583855877329869\n",
      "params: [0.08361167 0.11001547] val: -0.8940999003449719\n",
      "params: [ 0.08361167 -0.50801851] val: -0.709320072764051\n",
      "params: [0.08361167 0.49198147] val: -0.7381515159460594\n",
      "params: [0.08361167 0.01236402] val: -0.8991130288137822\n",
      "params: [-0.5344223  -0.08528742] val: -0.7059118687677622\n",
      "params: [0.08361167 0.01236402] val: -0.8991130288137822\n",
      "params: [-0.5344223  -0.08528742] val: -0.7059118687677622\n",
      "params: [1.08361166 0.17036738] val: -0.24407758400920698\n",
      "params: [0.08361167 0.01236402] val: -0.8991130288137822\n",
      "params: [0.46557767 0.07271593] val: -0.7505506656373621\n",
      "params: [-0.15245629 -0.02493551] val: -0.886924766960334\n",
      "params: [ 0.00179119 -0.00056389] val: -0.9043588023121355\n",
      "params: [ 0.00179119 -0.00056389] val: -0.9043588023121355\n",
      "params: [0.00179119 0.99943611] val: -0.23407346885577465\n",
      "params: [ 0.00179119 -1.61859789] val: 0.6139694789345231\n",
      "params: [ 0.00179119 -0.00056389] val: -0.9043588023121355\n",
      "params: [ 0.00179119 -0.61859786] val: -0.6333409811348125\n",
      "params: [0.00179119 0.38140211] val: -0.799593361886041\n",
      "params: [ 0.00179119 -0.00197791] val: -0.9043561565053925\n",
      "params: [1.79119297e-03 2.79368516e-05] val: -0.9043590357751042\n",
      "params: [0.00179119 0.14569991] val: -0.8889379138723625\n",
      "params: [0.00179119 0.00298706] val: -0.9043524711418675\n",
      "params: [1.79119297e-03 2.79368516e-05] val: -0.9043590357751042\n",
      "params: [-0.08002929 -0.01289997] val: -0.8995345185001391\n",
      "params: [0.13417951 0.02094574] val: -0.8908571280247335\n",
      "params: [1.79119297e-03 2.79368516e-05] val: -0.9043590357751042\n",
      "params: [0.05235903 0.00801782] val: -0.9022979207686519\n",
      "params: [-0.02946145 -0.00491009] val: -0.9037050083744771\n",
      "params: [ 4.36428587e-05 -2.48181936e-04] val: -0.9043613509785144\n",
      "params: [-0.00869411 -0.00162878] val: -0.9043038145362967\n"
     ]
    }
   ],
   "source": [
    "runner = vqe.Vqe(UCCAnsatz(h,2,Circuit().x[0]))\n",
    "result = runner.run(verbose = True)"
   ]
  },
  {
   "cell_type": "markdown",
   "metadata": {
    "colab_type": "text",
    "id": "pogBuf8HuG9y"
   },
   "source": [
    "After the optimizing process we get the minimized result. This time we use UCC ansatz with Hamiltonian."
   ]
  },
  {
   "cell_type": "code",
   "execution_count": 6,
   "metadata": {
    "colab": {
     "base_uri": "https://localhost:8080/",
     "height": 34
    },
    "colab_type": "code",
    "id": "7aogyg6YuD6S",
    "outputId": "48520c01-5ad1-4d42-fc6c-ccf395d1df9b"
   },
   "outputs": [
    {
     "data": {
      "text/plain": [
       "-0.9043613509785144"
      ]
     },
     "execution_count": 6,
     "metadata": {},
     "output_type": "execute_result"
    }
   ],
   "source": [
    "runner.ansatz.get_energy_sparse(result.circuit)"
   ]
  },
  {
   "cell_type": "markdown",
   "metadata": {
    "colab_type": "text",
    "id": "gFgZVsk6uMXf"
   },
   "source": [
    "Again this is the whole code for H2 UCCansatz"
   ]
  },
  {
   "cell_type": "code",
   "execution_count": 7,
   "metadata": {
    "colab": {
     "base_uri": "https://localhost:8080/",
     "height": 283
    },
    "colab_type": "code",
    "id": "uP2XQ8j3uJnr",
    "outputId": "83f553f0-957b-4660-b275-4e56a1ef0ab2"
   },
   "outputs": [
    {
     "data": {
      "text/plain": [
       "[<matplotlib.lines.Line2D at 0x7f34c9e17850>]"
      ]
     },
     "execution_count": 7,
     "metadata": {},
     "output_type": "execute_result"
    },
    {
     "data": {
      "image/png": "[encoded data removed]",
      "text/plain": [
       "<Figure size 432x288 with 1 Axes>"
      ]
     },
     "metadata": {
      "needs_background": "light"
     },
     "output_type": "display_data"
    }
   ],
   "source": [
    "from blueqat import *\n",
    "from openfermion import *\n",
    "from openfermionblueqat import*\n",
    "import numpy as np\n",
    "\n",
    "def get_molecule(bond_len):\n",
    "  geometry = [('H',(0.,0.,0.)),('H',(0.,0.,bond_len))]\n",
    "\n",
    "  description = format(bond_len)\n",
    "  molecule = MolecularData(geometry, \"sto-3g\",1,description=description)\n",
    "\n",
    "  molecule.load()\n",
    "  return molecule\n",
    "\n",
    "x = [];e=[];fullci=[]\n",
    "for bond_len in np.arange(0.2,2.5,0.1):\n",
    "  m = get_molecule(\"{:.2}\".format(bond_len))\n",
    "  h = bravyi_kitaev(get_fermion_operator(m.get_molecular_hamiltonian()))\n",
    "  runner = vqe.Vqe(UCCAnsatz(h,6,Circuit().x[0]))\n",
    "  result = runner.run()\n",
    "  x.append(bond_len)\n",
    "  e.append(runner.ansatz.get_energy_sparse(result.circuit))\n",
    "  fullci.append(m.fci_energy)\n",
    "\n",
    "%matplotlib inline\n",
    "import matplotlib.pyplot as plt\n",
    "plt.plot(x,fullci)\n",
    "plt.plot(x,e,\"o\")"
   ]
  }
 ],
 "metadata": {
  "colab": {
   "name": "102vqe_qaoa02.ipynb",
   "provenance": []
  },
  "kernelspec": {
   "display_name": "Python 3",
   "language": "python",
   "name": "python3"
  },
  "language_info": {
   "codemirror_mode": {
    "name": "ipython",
    "version": 3
   },
   "file_extension": ".py",
   "mimetype": "text/x-python",
   "name": "python",
   "nbconvert_exporter": "python",
   "pygments_lexer": "ipython3",
   "version": "3.8.3"
  }
 },
 "nbformat": 4,
 "nbformat_minor": 1
}

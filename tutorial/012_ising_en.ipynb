{
 "cells": [
  {
   "cell_type": "markdown",
   "metadata": {
    "colab_type": "text",
    "id": "NjHnSAbHrInP"
   },
   "source": [
    "# Ising Gate\n",
    "An ising gate is a gate that rotates two qubits at the same time."
   ]
  },
  {
   "cell_type": "markdown",
   "metadata": {},
   "source": [
    "## What we'll learn this time\n",
    "1. About Rxx,Ryy,Rzz gates\n",
    "2. Make circuit"
   ]
  },
  {
   "cell_type": "markdown",
   "metadata": {},
   "source": [
    "## Install Blueqat\n",
    "Install Blueqat from pip."
   ]
  },
  {
   "cell_type": "code",
   "execution_count": 1,
   "metadata": {
    "colab": {
     "base_uri": "https://localhost:8080/",
     "height": 136
    },
    "colab_type": "code",
    "id": "Z2z6oBnToiqa",
    "outputId": "413f3f56-1b22-40f7-fcff-4621af4596d4",
    "scrolled": true
   },
   "outputs": [
    {
     "name": "stdout",
     "output_type": "stream",
     "text": [
      "Requirement already satisfied: blueqat in /home/ec2-user/anaconda3/envs/python3/lib/python3.6/site-packages (0.3.14)\n",
      "Requirement already satisfied: scipy>=1.1.0 in /home/ec2-user/anaconda3/envs/python3/lib/python3.6/site-packages (from blueqat) (1.1.0)\n",
      "Requirement already satisfied: numpy~=1.12 in /home/ec2-user/anaconda3/envs/python3/lib/python3.6/site-packages (from blueqat) (1.14.6)\n",
      "\u001b[31mnumba 0.49.0 has requirement numpy>=1.15, but you'll have numpy 1.14.6 which is incompatible.\u001b[0m\n",
      "\u001b[33mYou are using pip version 10.0.1, however version 20.1 is available.\n",
      "You should consider upgrading via the 'pip install --upgrade pip' command.\u001b[0m\n"
     ]
    }
   ],
   "source": [
    "!pip install blueqat"
   ]
  },
  {
   "cell_type": "markdown",
   "metadata": {},
   "source": [
    "### Rxx, Ryy, Rzz\n",
    "Rxx,Ryy,Rzz gates can be implemented by the following.\n",
    "\n",
    "| Rxx | Ryy | Rzz |\n",
    "|:-:|:-:|:-:|\n",
    "|`rxx(θ)`|`ryy(θ)`|`rzz(θ)`|"
   ]
  },
  {
   "cell_type": "markdown",
   "metadata": {},
   "source": [
    "###### RXX gate"
   ]
  },
  {
   "cell_type": "code",
   "execution_count": 2,
   "metadata": {},
   "outputs": [
    {
     "data": {
      "text/plain": [
       "Counter({'11': 57, '00': 43})"
      ]
     },
     "execution_count": 2,
     "metadata": {},
     "output_type": "execute_result"
    }
   ],
   "source": [
    "from blueqat import Circuit\n",
    "import math\n",
    "\n",
    "Circuit(2).rxx(math.pi/2)[0,1].m[:].run(shots=100)"
   ]
  },
  {
   "cell_type": "markdown",
   "metadata": {},
   "source": [
    "###### RYY gate"
   ]
  },
  {
   "cell_type": "code",
   "execution_count": 2,
   "metadata": {},
   "outputs": [
    {
     "output_type": "execute_result",
     "data": {
      "text/plain": "Counter({'11': 53, '00': 47})"
     },
     "metadata": {},
     "execution_count": 2
    }
   ],
   "source": [
    "from blueqat import Circuit\n",
    "import math\n",
    "\n",
    "Circuit(2).ryy(math.pi/2)[0,1].m[:].run(shots=100)"
   ]
  },
  {
   "cell_type": "markdown",
   "metadata": {},
   "source": [
    "###### RZZ gate"
   ]
  },
  {
   "cell_type": "code",
   "execution_count": 4,
   "metadata": {},
   "outputs": [
    {
     "data": {
      "text/plain": [
       "Counter({'00': 100})"
      ]
     },
     "execution_count": 4,
     "metadata": {},
     "output_type": "execute_result"
    }
   ],
   "source": [
    "from blueqat import Circuit\n",
    "import math\n",
    "\n",
    "Circuit().rzz(math.pi/2)[0,1].m[:].run(shots=100)"
   ]
  },
  {
   "cell_type": "markdown",
   "metadata": {},
   "source": [
    "## Rxx, Ryy, Rzz gates\n",
    "The rotation of one qubit was represented by two states, 0 and 1.  \n",
    "The rotation of two qubits is represented by four states, 00, 01, 10, and 11."
   ]
  },
  {
   "cell_type": "markdown",
   "metadata": {},
   "source": [
    "#### Rxx gate\n",
    "\n",
    "The matrix looks like the following.\n",
    "\n",
    "$$\n",
    "Rxx(\\theta) = \\left(\\begin{array}{cccc}\n",
    "\\cos\\theta &0&0&-i\\sin\\theta\\\\\n",
    "0& \\cos\\theta &-i\\sin\\theta&0\\\\\n",
    "0&-i\\sin\\theta& \\cos\\theta &0\\\\\n",
    "-i\\sin\\theta&0&0& \\cos\\theta\n",
    "\\end{array}\\right)\\\\\n",
    "$$\n",
    "\n",
    "And the action on each bit is:\n",
    "\n",
    "<img src=\"../tutorial-ja/img/ising_0.png\" width=\"55%\">"
   ]
  },
  {
   "cell_type": "markdown",
   "metadata": {},
   "source": [
    "#### Ryy gate\n",
    "\n",
    "The matrix looks like the following.\n",
    "\n",
    "$$\n",
    "Ryy(\\theta) = \\left(\\begin{array}{cccc}\n",
    "\\cos\\theta &0&0&i\\sin\\theta\\\\\n",
    "0& \\cos\\theta &-i\\sin\\theta&0\\\\\n",
    "0&-i\\sin\\theta& \\cos\\theta &0\\\\\n",
    "i\\sin\\theta&0&0& \\cos\\theta\n",
    "\\end{array}\\right)\n",
    "$$\n",
    "\n",
    "And the action on each bit is:\n",
    "\n",
    "<img src=\"../tutorial-ja/img/ising_1.png\" width=\"55%\">"
   ]
  },
  {
   "cell_type": "markdown",
   "metadata": {},
   "source": [
    "#### Rzz gate\n",
    "\n",
    "The matrix looks like the following.\n",
    "\n",
    "$$\n",
    "Rzz(\\theta) = \\left(\\begin{array}{cccc}\n",
    "e^{\\frac{\\theta}{2}i} &0&0&0\\\\\n",
    "0& e^{-\\frac{\\theta}{2}i} &0&0\\\\\n",
    "0&0& e^{-\\frac{\\theta}{2}i} &0\\\\\n",
    "0&0&0& e^{\\frac{\\theta}{2}i}\n",
    "\\end{array}\\right)\n",
    "$$\n",
    "\n",
    "And the action on each bit is:\n",
    "\n",
    "<img src=\"../tutorial-ja/img/ising_2.png\" width=\"35%\">"
   ]
  },
  {
   "cell_type": "code",
   "execution_count": null,
   "metadata": {},
   "outputs": [],
   "source": []
  }
 ],
 "metadata": {
  "colab": {
   "collapsed_sections": [],
   "name": "007_02_fullgate.ipynb",
   "provenance": []
  },
  "kernelspec": {
   "display_name": "Python 3.7.6 64-bit ('dwave': conda)",
   "language": "python",
   "name": "python37664bitdwavecondaaa252b8d749942f1b803140f9f138e1e"
  },
  "language_info": {
   "codemirror_mode": {
    "name": "ipython",
    "version": 3
   },
   "file_extension": ".py",
   "mimetype": "text/x-python",
   "name": "python",
   "nbconvert_exporter": "python",
   "pygments_lexer": "ipython3",
   "version": "3.7.6-final"
  }
 },
 "nbformat": 4,
 "nbformat_minor": 1
}
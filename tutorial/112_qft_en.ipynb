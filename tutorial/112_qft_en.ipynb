{
  "nbformat": 4,
  "nbformat_minor": 0,
  "metadata": {
    "colab": {
      "name": "013_algo_qft.ipynb",
      "version": "0.3.2",
      "provenance": [],
      "collapsed_sections": []
    },
    "kernelspec": {
      "display_name": "Python 3",
      "language": "python",
      "name": "python3"
    }
  },
  "cells": [
    {
      "metadata": {
        "colab_type": "text",
        "id": "NjHnSAbHrInP"
      },
      "cell_type": "markdown",
      "source": [
        "# Quantum Fourier Transform\n",
        "Quantum fourier transform is an algorithm like a classical fast fourier transform. Fourier transform algorithm is an algorithm to sum up the series of wave into the frequency. The quantum fourier transform discrete series of wave into a quantum state.\n"
      ]
    },
    {
      "metadata": {
        "id": "oXg3hf3yAkMS",
        "colab_type": "text"
      },
      "cell_type": "markdown",
      "source": [
        "## Theory\n",
        "It is very simular to the classical fast fourier transform. Map a quantum state to another state.\n",
        "\n",
        "$$QFT:\\mid x \\rangle \\mapsto \\frac{1}{\\sqrt{N}}\\sum_{k=0}^{N-1} \\omega_n^{xk}\\mid k\\rangle \\\\ \\omega_n = e^{\\frac{2\\pi i}{N}}$$"
      ]
    },
    {
      "metadata": {
        "id": "U1uxGVsCCi85",
        "colab_type": "text"
      },
      "cell_type": "markdown",
      "source": [
        "## Input as bit and output as quantum state\n",
        "Input is 01 bit input and finally we get the quantum state.\n",
        "\n",
        "$$QFT(\\mid x_1,x_2,…,x_n \\rangle) = \\frac{1}{\\sqrt{N}}(\\mid 0 \\rangle + e^{2\\pi i [0.x_n]} \\mid 1 \\rangle) \\otimes … \\otimes (\\mid 0 \\rangle + e^{2\\pi i [0.x_1x_2…x_n]} \\mid 1 \\rangle)$$\n",
        "\n",
        "Now we get the quantum state cannot observed with classical measurement. We need inverse fourier transform or other operation to get the quantum state itself."
      ]
    },
    {
      "metadata": {
        "id": "yd5MaoRKCuWS",
        "colab_type": "text"
      },
      "cell_type": "markdown",
      "source": [
        "## Circuit\n",
        "Let's see the easiest 2qubits circuit.\n",
        "\n",
        "<img src=\"https://github.com/mdrft/Blueqat_tutorials_ja/blob/master/docs/img/013_algo_qft01.png?raw=1\">"
      ]
    },
    {
      "metadata": {
        "id": "DmYYtTqqnbAv",
        "colab_type": "code",
        "colab": {}
      },
      "cell_type": "code",
      "source": [
        "!pip install blueqat"
      ],
      "execution_count": 0,
      "outputs": []
    },
    {
      "metadata": {
        "id": "3eRpgppa_1FI",
        "colab_type": "code",
        "outputId": "70c0f858-f1ca-48f0-f4f3-a97d489e983f",
        "colab": {
          "base_uri": "https://localhost:8080/",
          "height": 51
        }
      },
      "cell_type": "code",
      "source": [
        "from blueqat import Circuit\n",
        "import math\n",
        "\n",
        "Circuit().x[0].x[1].h[0].rz(math.pi/4)[0].cx[1,0].rz(-math.pi/4)[0].cx[1,0].h[1].run()"
      ],
      "execution_count": 2,
      "outputs": [
        {
          "output_type": "execute_result",
          "data": {
            "text/plain": [
              "array([ 5.00000000e-01+0.j , -8.32667268e-17-0.5j, -5.00000000e-01+0.j ,\n",
              "        8.32667268e-17+0.5j])"
            ]
          },
          "metadata": {
            "tags": []
          },
          "execution_count": 2
        }
      ]
    },
    {
      "metadata": {
        "id": "JM9lexiT_034",
        "colab_type": "text"
      },
      "cell_type": "markdown",
      "source": [
        "Next N=4\n",
        "<img src=\"https://github.com/mdrft/Blueqat_tutorials_ja/blob/master/docs/img/013_algo_qft02.png?raw=1\">"
      ]
    },
    {
      "metadata": {
        "id": "PsHtcgTEAuph",
        "colab_type": "code",
        "outputId": "6e88f9c2-7d93-4128-8d4f-063006d29141",
        "colab": {
          "base_uri": "https://localhost:8080/",
          "height": 153
        }
      },
      "cell_type": "code",
      "source": [
        "Circuit().x[:].h[0].rz(math.pi/4)[0].cx[1,0].rz(-math.pi/4)[0].cx[1,0].rz(math.pi/8)[0].cx[2,0].rz(-math.pi/8)[0].cx[2,0].rz(math.pi/16)[0].cx[3,0].rz(-math.pi/16)[0].cx[3,0].h[1].rz(math.pi/4)[1].cx[2,1].rz(-math.pi/4)[1].cx[2,1].rz(math.pi/8)[1].cx[3,1].rz(-math.pi/8)[1].cx[3,1].h[2].rz(math.pi/4)[2].cx[3,2].rz(-math.pi/4)[2].cx[3,2].h[3].run()                                                                    "
      ],
      "execution_count": 3,
      "outputs": [
        {
          "output_type": "execute_result",
          "data": {
            "text/plain": [
              "array([ 2.50000000e-01+6.93889390e-18j,  2.30969883e-01-9.56708581e-02j,\n",
              "        1.76776695e-01-1.76776695e-01j,  9.56708581e-02-2.30969883e-01j,\n",
              "       -5.55111512e-17-2.50000000e-01j, -9.56708581e-02-2.30969883e-01j,\n",
              "       -1.76776695e-01-1.76776695e-01j, -2.30969883e-01-9.56708581e-02j,\n",
              "       -2.50000000e-01-6.93889390e-18j, -2.30969883e-01+9.56708581e-02j,\n",
              "       -1.76776695e-01+1.76776695e-01j, -9.56708581e-02+2.30969883e-01j,\n",
              "        5.55111512e-17+2.50000000e-01j,  9.56708581e-02+2.30969883e-01j,\n",
              "        1.76776695e-01+1.76776695e-01j,  2.30969883e-01+9.56708581e-02j])"
            ]
          },
          "metadata": {
            "tags": []
          },
          "execution_count": 3
        }
      ]
    },
    {
      "metadata": {
        "id": "_7OgXLuHA3C0",
        "colab_type": "text"
      },
      "cell_type": "markdown",
      "source": [
        "This is quantum fourier transform. Now we get quantum state directly from the simulator."
      ]
    },
    {
      "metadata": {
        "id": "qdBTsGLnDBce",
        "colab_type": "text"
      },
      "cell_type": "markdown",
      "source": [
        "## Advanced : check with fft on numpy\n",
        "It is very difficult to check qft on simulator. This time we try check the state vector using fft on numpy."
      ]
    },
    {
      "metadata": {
        "id": "4VAuNlz1A079",
        "colab_type": "code",
        "outputId": "51bf7d5a-318c-4752-c1ad-3fffd388cdb5",
        "colab": {
          "base_uri": "https://localhost:8080/",
          "height": 34
        }
      },
      "cell_type": "code",
      "source": [
        "import numpy as np\n",
        "print(np.fft.fft(np.array([0,0,0,1])/2)) "
      ],
      "execution_count": 4,
      "outputs": [
        {
          "output_type": "stream",
          "text": [
            "[ 0.5+0.j   0. +0.5j -0.5+0.j   0. -0.5j]\n"
          ],
          "name": "stdout"
        }
      ]
    },
    {
      "metadata": {
        "id": "36753dDzA83S",
        "colab_type": "text"
      },
      "cell_type": "markdown",
      "source": [
        "Now you can comparing the qft and fft using simulator to check the result."
      ]
    }
  ]
}
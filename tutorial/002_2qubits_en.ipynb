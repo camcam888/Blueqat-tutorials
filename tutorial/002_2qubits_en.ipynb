{
  "nbformat": 4,
  "nbformat_minor": 0,
  "metadata": {
    "colab": {
      "name": "002_basic_two_qubits.ipynb",
      "version": "0.3.2",
      "provenance": []
    },
    "kernelspec": {
      "display_name": "Python 3",
      "language": "python",
      "name": "python3"
    }
  },
  "cells": [
    {
      "metadata": {
        "colab_type": "text",
        "id": "NjHnSAbHrInP"
      },
      "cell_type": "markdown",
      "source": [
        "# basic 2qubits operations\n",
        "Here we learn about basic 2qubits operation, by using 2qubits operation we can make much more complicated calculation on quantum logic circuit."
      ]
    },
    {
      "metadata": {
        "id": "BTZWaTG2cj13",
        "colab_type": "code",
        "colab": {}
      },
      "cell_type": "code",
      "source": [
        "!pip install blueqat"
      ],
      "execution_count": 0,
      "outputs": []
    },
    {
      "metadata": {
        "colab_type": "text",
        "id": "PKhFYi-drld1"
      },
      "cell_type": "markdown",
      "source": [
        "## Step1: Initialize, create circuit and run\n",
        "The basic preparation is the same as the 1qubit operation let's start! First we import the blueqat basic module and put CX gate this time."
      ]
    },
    {
      "metadata": {
        "colab_type": "code",
        "id": "O674HiVxjc7P",
        "outputId": "1c2e7d7c-34c9-4fd7-d6da-e753a4c9c2f5",
        "colab": {
          "base_uri": "https://localhost:8080/",
          "height": 34
        }
      },
      "cell_type": "code",
      "source": [
        "from blueqat import Circuit\n",
        "\n",
        "Circuit().cx[0,1].m[:].run(shots=1)"
      ],
      "execution_count": 3,
      "outputs": [
        {
          "output_type": "execute_result",
          "data": {
            "text/plain": [
              "Counter({'00': 1})"
            ]
          },
          "metadata": {
            "tags": []
          },
          "execution_count": 3
        }
      ]
    },
    {
      "metadata": {
        "id": "Pj4TW4zHDG7d",
        "colab_type": "text"
      },
      "cell_type": "markdown",
      "source": [
        "Now we get the result of '00' once. 00 means that 2qubits are both 0."
      ]
    },
    {
      "metadata": {
        "colab_type": "text",
        "id": "xP6vOtYi-uHz"
      },
      "cell_type": "markdown",
      "source": [
        "## About CX gate\n",
        "CX quantum logic gate is so called CNOT gate. This time we have 2qubits to use.\n",
        "One is called \"controlled gate\" and another is \"target gate\". Only when the controlled gate is '1' the target gate flips. If the controlled gate is '0' nothing happens.\n",
        "\n",
        "This time we have both qubits initialized to 0 so nothing happen after the CX gate applied."
      ]
    },
    {
      "metadata": {
        "colab_type": "text",
        "id": "wHrRyYvfuCMC"
      },
      "cell_type": "markdown",
      "source": [
        "## CX gate again\n",
        "Let's see if the controlled gate is 1. Applying .x[0] gate to the 0th qubits and after we apply cx gate to 0th and 1st qubit.\n"
      ]
    },
    {
      "metadata": {
        "colab_type": "code",
        "id": "s4nPf83otvoG",
        "outputId": "e2c6f59c-afc1-4641-e9f0-642acc54c0c0",
        "colab": {
          "base_uri": "https://localhost:8080/",
          "height": 34
        }
      },
      "cell_type": "code",
      "source": [
        "Circuit().x[0].cx[0,1].m[:].run(shots=1)"
      ],
      "execution_count": 4,
      "outputs": [
        {
          "output_type": "execute_result",
          "data": {
            "text/plain": [
              "Counter({'11': 1})"
            ]
          },
          "metadata": {
            "tags": []
          },
          "execution_count": 4
        }
      ]
    },
    {
      "metadata": {
        "id": "bnQKAJQuBKNS",
        "colab_type": "text"
      },
      "cell_type": "markdown",
      "source": [
        "Now we have result of '11'. First the circuit flips the 0th qubit with .x[0] gate and then the .cx[0,1] gate flips 1st qubit 0 to 1 because the controlled gate on 0th qubit is 1. Finally we get both qubit as 1."
      ]
    },
    {
      "metadata": {
        "id": "j7qObHmWBWoX",
        "colab_type": "text"
      },
      "cell_type": "markdown",
      "source": [
        "## Advanced topic: initialized circuit with number of qubits\n",
        "Usually the circuit automatically specify the number of qubits used in the circuit, we can specify the number of qubit first and then make the circuit."
      ]
    },
    {
      "metadata": {
        "id": "uzaQ3WSwBYgf",
        "colab_type": "code",
        "outputId": "57612aa3-0505-4656-ef38-617d8b1fa220",
        "colab": {
          "base_uri": "https://localhost:8080/",
          "height": 34
        }
      },
      "cell_type": "code",
      "source": [
        "Circuit(3).x[0].cx[0,1].m[:].run(shots=1)"
      ],
      "execution_count": 5,
      "outputs": [
        {
          "output_type": "execute_result",
          "data": {
            "text/plain": [
              "Counter({'110': 1})"
            ]
          },
          "metadata": {
            "tags": []
          },
          "execution_count": 5
        }
      ]
    },
    {
      "metadata": {
        "id": "7SL_2kj7BnuQ",
        "colab_type": "text"
      },
      "cell_type": "markdown",
      "source": [
        "Just put the number of qubits in the Cirucit(). This time 3qubits prepare and just two of them used."
      ]
    }
  ]
}
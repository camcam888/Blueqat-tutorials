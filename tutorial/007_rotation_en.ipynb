{
 "cells": [
  {
   "cell_type": "markdown",
   "metadata": {
    "colab_type": "text",
    "id": "NjHnSAbHrInP"
   },
   "source": [
    "# Single Arbitrary Rotation Gate\n",
    "The Arbitrary Rotation Gate can be rotated at any angle you like.\n",
    "\n",
    "## What we'll learn this time\n",
    "1. About Rx,Ry,Rz,U1,U2,U3 gates\n",
    "2. Make circuit\n",
    "\n",
    "## Install Blueqat\n",
    "Install Blueqat from pip. "
   ]
  },
  {
   "cell_type": "code",
   "execution_count": 1,
   "metadata": {
    "colab": {
     "base_uri": "https://localhost:8080/",
     "height": 136
    },
    "colab_type": "code",
    "collapsed": true,
    "id": "Z2z6oBnToiqa",
    "outputId": "413f3f56-1b22-40f7-fcff-4621af4596d4"
   },
   "outputs": [
    {
     "name": "stdout",
     "output_type": "stream",
     "text": [
      "Requirement already satisfied: blueqat in /home/ec2-user/anaconda3/envs/python3/lib/python3.6/site-packages (0.3.14)\n",
      "Requirement already satisfied: scipy>=1.1.0 in /home/ec2-user/anaconda3/envs/python3/lib/python3.6/site-packages (from blueqat) (1.1.0)\n",
      "Requirement already satisfied: numpy~=1.12 in /home/ec2-user/anaconda3/envs/python3/lib/python3.6/site-packages (from blueqat) (1.14.6)\n",
      "\u001b[31mnumba 0.49.0 has requirement numpy>=1.15, but you'll have numpy 1.14.6 which is incompatible.\u001b[0m\n",
      "\u001b[33mYou are using pip version 10.0.1, however version 20.1 is available.\n",
      "You should consider upgrading via the 'pip install --upgrade pip' command.\u001b[0m\n"
     ]
    }
   ],
   "source": [
    "!pip install blueqat"
   ]
  },
  {
   "cell_type": "markdown",
   "metadata": {},
   "source": [
    "### Rx, Ry, Rz"
   ]
  },
  {
   "cell_type": "markdown",
   "metadata": {},
   "source": [
    "Rx, Ry, Rz gates can be implemented by the following.\n",
    "\n",
    "| Rx | Ry | Rz |\n",
    "|:-:|:-:|:-:|\n",
    "|`rx(θ)`|`ry(θ)`|`rz(θ)`|\n",
    "\n",
    "$\\theta$ is the rotation angle for each axis.\n",
    "\n",
    "###### Rx gate"
   ]
  },
  {
   "cell_type": "code",
   "execution_count": 2,
   "metadata": {},
   "outputs": [
    {
     "data": {
      "text/plain": [
       "Counter({'0': 51, '1': 49})"
      ]
     },
     "execution_count": 2,
     "metadata": {},
     "output_type": "execute_result"
    }
   ],
   "source": [
    "from blueqat import Circuit\n",
    "import math\n",
    "\n",
    "Circuit().rx(math.pi/2)[0].m[:].run(shots=100)"
   ]
  },
  {
   "cell_type": "markdown",
   "metadata": {},
   "source": [
    "###### Ry gate"
   ]
  },
  {
   "cell_type": "code",
   "execution_count": 3,
   "metadata": {},
   "outputs": [
    {
     "data": {
      "text/plain": [
       "Counter({'0': 52, '1': 48})"
      ]
     },
     "execution_count": 3,
     "metadata": {},
     "output_type": "execute_result"
    }
   ],
   "source": [
    "from blueqat import Circuit\n",
    "import math\n",
    "\n",
    "Circuit().ry(math.pi/2)[0].m[:].run(shots=100)"
   ]
  },
  {
   "cell_type": "markdown",
   "metadata": {},
   "source": [
    "###### Rz gate"
   ]
  },
  {
   "cell_type": "code",
   "execution_count": 9,
   "metadata": {},
   "outputs": [
    {
     "data": {
      "text/plain": [
       "Counter({'0': 100})"
      ]
     },
     "execution_count": 9,
     "metadata": {},
     "output_type": "execute_result"
    }
   ],
   "source": [
    "from blueqat import Circuit\n",
    "import math\n",
    "\n",
    "Circuit().rz(math.pi/2)[0].m[:].run(shots=100)"
   ]
  },
  {
   "cell_type": "markdown",
   "metadata": {},
   "source": [
    "## U1, U2, U3 gates\n",
    "U1, U2, U3 gates can be implemented by the following.\n",
    "\n",
    "| U1 | U2 | U3 |\n",
    "|:-:|:-:|:-:|\n",
    "|`u1(λ)`or`phase(λ)`|`u2(φ,λ)`|`u3(φ,λ,θ)`|"
   ]
  },
  {
   "cell_type": "markdown",
   "metadata": {},
   "source": [
    "###### U1 gate"
   ]
  },
  {
   "cell_type": "code",
   "execution_count": 1,
   "metadata": {},
   "outputs": [
    {
     "data": {
      "text/plain": [
       "Counter({'0': 100})"
      ]
     },
     "execution_count": 1,
     "metadata": {},
     "output_type": "execute_result"
    }
   ],
   "source": [
    "from blueqat import Circuit\n",
    "import math\n",
    "\n",
    "Circuit().u1(math.pi)[0].m[:].run(shots=100)\n",
    "#or\n",
    "Circuit().phase(math.pi)[0].m[:].run(shots=100)"
   ]
  },
  {
   "cell_type": "markdown",
   "metadata": {},
   "source": [
    "###### U2 gate"
   ]
  },
  {
   "cell_type": "code",
   "execution_count": 6,
   "metadata": {},
   "outputs": [
    {
     "data": {
      "text/plain": [
       "Counter({'0': 52, '1': 48})"
      ]
     },
     "execution_count": 6,
     "metadata": {},
     "output_type": "execute_result"
    }
   ],
   "source": [
    "from blueqat import Circuit\n",
    "import math\n",
    "\n",
    "Circuit().u2(0, math.pi)[0].m[:].run(shots=100)"
   ]
  },
  {
   "cell_type": "markdown",
   "metadata": {},
   "source": [
    "###### U3 gate"
   ]
  },
  {
   "cell_type": "code",
   "execution_count": 7,
   "metadata": {},
   "outputs": [
    {
     "data": {
      "text/plain": [
       "Counter({'1': 60, '0': 40})"
      ]
     },
     "execution_count": 7,
     "metadata": {},
     "output_type": "execute_result"
    }
   ],
   "source": [
    "from blueqat import Circuit\n",
    "import math\n",
    "\n",
    "Circuit().u3(math.pi/2,0,math.pi)[0].m[:].run(shots=100)"
   ]
  },
  {
   "cell_type": "markdown",
   "metadata": {},
   "source": [
    "## Rx, Ry, Rz gates\n",
    "These gate rotates the bit around each axis.\n",
    "\n",
    "<img src=\"../tutorial-ja/img/007/007_02_5.png\" width=\"80%\">\n",
    "\n",
    "All the states of one qubit can be composed of this gate combination because it can be rotated around each axis."
   ]
  },
  {
   "cell_type": "markdown",
   "metadata": {},
   "source": [
    "## U1, U2, U3 gates\n",
    "U1, U2, U3 are represented by the following, respectively.\n",
    "\n",
    "<img src=\"../tutorial-ja/img/007/007_02_6.png\" width=\"85%\">\n",
    "\n",
    "The U1 gate is a general phase gate.  \n",
    "U2 uses 2 parameters and U3 uses 3 parameters, so all states can be created."
   ]
  },
  {
   "cell_type": "code",
   "execution_count": null,
   "metadata": {},
   "outputs": [],
   "source": []
  }
 ],
 "metadata": {
  "colab": {
   "collapsed_sections": [],
   "name": "007_02_fullgate.ipynb",
   "provenance": []
  },
  "kernelspec": {
   "display_name": "conda_python3",
   "language": "python",
   "name": "conda_python3"
  },
  "language_info": {
   "codemirror_mode": {
    "name": "ipython",
    "version": 3
   },
   "file_extension": ".py",
   "mimetype": "text/x-python",
   "name": "python",
   "nbconvert_exporter": "python",
   "pygments_lexer": "ipython3",
   "version": "3.6.5"
  }
 },
 "nbformat": 4,
 "nbformat_minor": 1
}
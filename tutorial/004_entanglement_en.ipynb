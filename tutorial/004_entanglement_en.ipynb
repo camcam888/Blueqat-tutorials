{
  "nbformat": 4,
  "nbformat_minor": 0,
  "metadata": {
    "colab": {
      "name": "004_basic_entanglement.ipynb",
      "version": "0.3.2",
      "provenance": [],
      "collapsed_sections": []
    },
    "kernelspec": {
      "display_name": "Python 3",
      "language": "python",
      "name": "python3"
    }
  },
  "cells": [
    {
      "metadata": {
        "colab_type": "text",
        "id": "NjHnSAbHrInP"
      },
      "cell_type": "markdown",
      "source": [
        "# Entanglement\n",
        "If you just using the basic superposition of quantum qubits you cannot efficiently get the result of calculation. Superposition is just a combination of bits and too many patterns exits. To filter the data and reduce the number of combination of result we can use entanglement.\n",
        "\n",
        "You can syncronized more than 2qubits each other and filter the data just you want after the measurement."
      ]
    },
    {
      "metadata": {
        "colab_type": "text",
        "id": "PKhFYi-drld1"
      },
      "cell_type": "markdown",
      "source": [
        "## Circuit\n",
        "Circuit is very simple, just apply CX gate after H gate."
      ]
    },
    {
      "metadata": {
        "id": "dWWa9H4icAcm",
        "colab_type": "code",
        "colab": {}
      },
      "cell_type": "code",
      "source": [
        "!pip install blueqat"
      ],
      "execution_count": 0,
      "outputs": []
    },
    {
      "metadata": {
        "colab_type": "code",
        "id": "O674HiVxjc7P",
        "outputId": "543d27e3-5de5-4217-8d57-58c863419569",
        "colab": {
          "base_uri": "https://localhost:8080/",
          "height": 34
        }
      },
      "cell_type": "code",
      "source": [
        "from blueqat import Circuit\n",
        "\n",
        "Circuit().h[0].cx[0,1].m[:].run(shots=100)"
      ],
      "execution_count": 2,
      "outputs": [
        {
          "output_type": "execute_result",
          "data": {
            "text/plain": [
              "Counter({'00': 53, '11': 47})"
            ]
          },
          "metadata": {
            "tags": []
          },
          "execution_count": 2
        }
      ]
    },
    {
      "metadata": {
        "id": "Pj4TW4zHDG7d",
        "colab_type": "text"
      },
      "cell_type": "markdown",
      "source": [
        "Now you get almost half times of '00' and almost half times of '11'. Usually without the entanglement and just with superposition you will get result of 00,01,10,11. By using combination of H gate and CX gate you can filter the data you want efficiently."
      ]
    }
  ]
}

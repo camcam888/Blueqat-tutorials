{
 "cells": [
  {
   "cell_type": "markdown",
   "metadata": {
    "colab_type": "text",
    "id": "ZnODbF2Hyrre"
   },
   "source": [
    "#Traffic flow optimization without constraint term on quantum computing using quantum alternating operator ansatz"
   ]
  },
  {
   "cell_type": "markdown",
   "metadata": {
    "colab_type": "text",
    "id": "j392IPADyrh0"
   },
   "source": [
    "##Quantum Alternating Operator Ansatz\n",
    "Here think about how to rise up the accuracy of optimization problems on quantum computing.\n",
    "\n",
    "One of this answer is to use Quantum Alternating Operator Ansatz for QAOA. It can reduce the number of constraint term in the qubo formulation.\n",
    "\n",
    "By adopting XX+YY gate, the time evolution can operate a swap of 01 and 10. This achieve a good operation on combinatorial optimization problem if we know that 00 and 11 not appear in the result from first.\n",
    "\n",
    "<img src=\"https://qiita-user-contents.imgix.net/https%3A%2F%2Fqiita-image-store.s3.ap-northeast-1.amazonaws.com%2F0%2F88256%2F0b4a9d82-8ebf-8191-23d7-dbb76396e9d1.png?ixlib=rb-1.2.2&auto=format&gif-q=60&q=75&w=1400&fit=max&s=616a52dfc97ba36e01aba646f9affdac\">\n",
    "\n",
    "reference: https://qiita.com/gyu-don/items/c51a9e3d5d16a6d5baf6\n",
    "\n",
    "Let's solve a simple problem using this technique\n"
   ]
  },
  {
   "cell_type": "markdown",
   "metadata": {
    "colab_type": "text",
    "id": "KnFuYDDZy9p-"
   },
   "source": [
    "\n",
    "##Example\n",
    "Here we try a simple hamiltonian of\n",
    "\n",
    "```python\n",
    "h = -3*q(0)-3*q(1)-2*q(0)*q(1)\n",
    "```\n",
    "\n",
    "The minimum answer is the combination of (1,1) and this hamiltonian takes minimum value as -8.\n",
    "\n",
    "Now we use the entanglement on the initial state of |10> and |01>. And use XY mixer as a driver hamiltonian of time evolution."
   ]
  },
  {
   "cell_type": "code",
   "execution_count": 0,
   "metadata": {
    "colab": {
     "base_uri": "https://localhost:8080/",
     "height": 136
    },
    "colab_type": "code",
    "id": "wG4hCQkBzLj-",
    "outputId": "bd14daa7-3acd-47da-e13e-8353adf15763"
   },
   "outputs": [
    {
     "name": "stdout",
     "output_type": "stream",
     "text": [
      "Collecting blueqat\n",
      "\u001b[?25l  Downloading https://files.pythonhosted.org/packages/f6/73/20f9cff48caee1f69190f2e1ea93c4d7d0a745fc48defb5d3072d8337583/blueqat-0.3.13-py3-none-any.whl (50kB)\n",
      "\r",
      "\u001b[K     |██████▌                         | 10kB 21.3MB/s eta 0:00:01\r",
      "\u001b[K     |█████████████                   | 20kB 1.8MB/s eta 0:00:01\r",
      "\u001b[K     |███████████████████▍            | 30kB 2.6MB/s eta 0:00:01\r",
      "\u001b[K     |█████████████████████████▉      | 40kB 1.7MB/s eta 0:00:01\r",
      "\u001b[K     |████████████████████████████████| 51kB 1.7MB/s \n",
      "\u001b[?25hRequirement already satisfied: numpy~=1.12 in /usr/local/lib/python3.6/dist-packages (from blueqat) (1.17.5)\n",
      "Requirement already satisfied: scipy>=1.1.0 in /usr/local/lib/python3.6/dist-packages (from blueqat) (1.4.1)\n",
      "Installing collected packages: blueqat\n",
      "Successfully installed blueqat-0.3.13\n"
     ]
    }
   ],
   "source": [
    "!pip install blueqat"
   ]
  },
  {
   "cell_type": "code",
   "execution_count": 1,
   "metadata": {
    "colab": {
     "base_uri": "https://localhost:8080/",
     "height": 102
    },
    "colab_type": "code",
    "id": "A8bqofq7ynKG",
    "outputId": "db644b72-f9db-48a0-fb42-46828d4f34d9"
   },
   "outputs": [
    {
     "name": "stdout",
     "output_type": "stream",
     "text": [
      "(((1, 0), 0.49999999999999906), ((0, 1), 0.49999999999999906), ((0, 0), 3.42815530100928e-31), ((1, 1), 3.274080905458301e-33))\n",
      "Result by QAOA\n",
      "-2.999999999999995\n",
      "Result by numpy\n",
      "-8.0\n"
     ]
    }
   ],
   "source": [
    "import numpy as np\n",
    "from blueqat import Circuit\n",
    "from blueqat.pauli import X, Y, Z, I\n",
    "from blueqat.pauli import qubo_bit as q\n",
    "from blueqat.vqe import AnsatzBase, Vqe\n",
    "\n",
    "def an(index):\n",
    "    return 0.5 * X[index] + 0.5j * Y[index]\n",
    "\n",
    "def cr(index):\n",
    "    return 0.5 * X[index] - 0.5j * Y[index]\n",
    "\n",
    "op = (cr(1) * an(0) + cr(0) * an(1)).to_expr().simplify()\n",
    "\n",
    "class QaoaQaoaAnsatz(AnsatzBase):\n",
    "    def __init__(self, hamiltonian, step=1, init_circuit=None):\n",
    "        super().__init__(hamiltonian, step * 2)\n",
    "        self.hamiltonian = hamiltonian.to_expr().simplify()\n",
    "        if not self.check_hamiltonian():\n",
    "            raise ValueError(\"Hamiltonian terms are not commutable\")\n",
    "\n",
    "        self.step = step\n",
    "        self.n_qubits = self.hamiltonian.max_n() + 1\n",
    "        if init_circuit:\n",
    "            self.init_circuit = init_circuit\n",
    "            if init_circuit.n_qubits > self.n_qubits:\n",
    "                self.n_qubits = init_circuit.n_qubits\n",
    "        else:\n",
    "            self.init_circuit = Circuit(self.n_qubits).h[:]\n",
    "        self.init_circuit.make_cache()\n",
    "        self.time_evolutions = [term.get_time_evolution() for term in self.hamiltonian]\n",
    "        self.time_evolutions2 = [term.get_time_evolution() for term in op]\n",
    "    def check_hamiltonian(self):\n",
    "        \"\"\"Check hamiltonian is commutable. This condition is required for QaoaAnsatz\"\"\"\n",
    "        return self.hamiltonian.is_all_terms_commutable()\n",
    "\n",
    "    def get_circuit(self, params):\n",
    "        c = self.init_circuit.copy()\n",
    "        betas = params[:self.step]\n",
    "        gammas = params[self.step:]\n",
    "        for beta, gamma in zip(betas, gammas):\n",
    "            beta *= np.pi\n",
    "            gamma *= 2 * np.pi\n",
    "            for evo in self.time_evolutions:\n",
    "                evo(c, gamma)\n",
    "            for evo2 in self.time_evolutions2:\n",
    "                evo2(c, beta)\n",
    "        return c\n",
    "\n",
    "h = -3*q(0)-3*q(1)-2*q(0)*q(1)\n",
    "h = h.to_expr().simplify()\n",
    "runner = Vqe(QaoaQaoaAnsatz(h,4,Circuit().h[0].cx[0,1].x[0]))\n",
    "result = runner.run()\n",
    "\n",
    "# get probability\n",
    "print(result.most_common(12))\n",
    "\n",
    "print('Result by QAOA')\n",
    "print(runner.ansatz.get_energy_sparse(result.circuit))\n",
    "\n",
    "# Hamiltonian to matrix\n",
    "mat = h.to_matrix()\n",
    "\n",
    "# Calculate by numpy\n",
    "print('Result by numpy')\n",
    "print(np.linalg.eigh(mat)[0][0])"
   ]
  },
  {
   "cell_type": "markdown",
   "metadata": {
    "colab_type": "text",
    "id": "Pvz6c0zKzO43"
   },
   "source": [
    "Numpy shows the minimum result as -8 but this QAOA has limitation of |01> or |10> as a result using entanglement and XYmixer. |00> or |11> doesn't appear in the result.\n",
    "\n",
    "Using this we can get much more accurate result on a specific problem with constraints.\n",
    "\n",
    "<img width=\"1281\" alt=\"スクリーンショット 2020-02-25 0.39.32.png\" src=\"https://qiita-image-store.s3.ap-northeast-1.amazonaws.com/0/218694/85efc267-c34d-dbc8-1bb0-25bc22cfb1c0.png\">"
   ]
  },
  {
   "cell_type": "markdown",
   "metadata": {
    "colab_type": "text",
    "id": "A9M2QO-Fzaa6"
   },
   "source": [
    "##Traffic flow optimization without constraint term on quantum computing using quantum alternating operator ansatz\n",
    "Here we adopted traffic flow optimization problem as a case study, but this technique is a general one and can be applied to a variety of problems.\n",
    "\n",
    "References\n",
    "As a model we use traffic flow modeling from VW paper.\n",
    "\n",
    "Traffic flow optimization using a quantum annealer  \n",
    "Florian Neukart, Gabriele Compostella, Christian Seidel, David von Dollen, Sheir Yarkoni, Bob Parney  \n",
    "(Submitted on 4 Aug 2017 (v1), last revised 9 Aug 2017 (this version, v2))  \n",
    "https://arxiv.org/pdf/1708.01625.pdf\n",
    "\n",
    "As an algorithm we use QAOA for universal gate model.  \n",
    "A Quantum Approximate Optimization Algorithm  \n",
    "Edward Farhi, Jeffrey Goldstone, Sam Gutmann  \n",
    "https://arxiv.org/abs/1411.4028  \n",
    "\n",
    "And technique to use XY mixer.  \n",
    "From the Quantum Approximate Optimization Algorithm to a Quantum Alternating   Operator Ansatz\n",
    "Stuart Hadfield, Zhihui Wang, Bryan O’Gorman, Eleanor G. Rieffel, Davide Venturelli, Rupak Biswas  \n",
    "https://arxiv.org/abs/1709.03489  \n",
    "\n",
    "And prepare an entangled state.  \n",
    "Portfolio rebalancing experiments using the\n",
    "Quantum Alternating Operator Ansatz  \n",
    "Mark Hodson∗, Brendan Ruck∗, Hugh (Hui Chuan) Ong†, David Garvin∗, Stefan Dulman†\n",
    "∗Rigetti Computing\n",
    "†Commonwealth Bank of Australia  \n",
    "https://arxiv.org/pdf/1911.05296.pdf"
   ]
  },
  {
   "cell_type": "markdown",
   "metadata": {
    "colab_type": "text",
    "id": "ilMGpQ2kQOjq"
   },
   "source": [
    "##Modeling and formulation\n",
    "We use the model from the VW. We prepare start point A and goal point B. And named each street from s0 to s11.\n",
    "\n",
    "<img src=\"https://miro.medium.com/max/730/0*jdvbeWCvUMG-UKis\">\n",
    "\n",
    "Let’s prepare two cars and set possible route setting for each vehicles.\n",
    "\n",
    "car1  \n",
    "route1-1(q0)：s0,s3,s6,s9  \n",
    "route1–2 (q1)：s0,s3,s8,s11  \n",
    "\n",
    "car2  \n",
    "route2–1(q2):s0,s3,s8,s11  \n",
    "route2–2(q3):s2,s7,s10,s11\n",
    "\n",
    "q0 to q3 denote qubits. If the route selected the value of qubit is 1 else 0. If route1–1 is selected for car1 and route2–2 is selected for car2 the answer is, (1,0,0,1)"
   ]
  },
  {
   "cell_type": "markdown",
   "metadata": {
    "colab_type": "text",
    "id": "_vb17KENQpaD"
   },
   "source": [
    "Cost=(q0+q1+q2)²+(q0+q1+q2)²+q0²+q0²+(q1+q2)²+(q1+q2+q3)²+q3²+q3²+q3²=4q0+4q1+4q2+4q3+4q0q1+4q0q2+8q1q2+2q1q3+2q2q3\n",
    "\n",
    "And the constraint is that car1 select just 1route from q0 and q1. Car2 also select just one route from q2 and q3.\n",
    "\n",
    "Const=(q0+q1−1)²+(q2+q3−1)²=q0−q1−q2−q3+2q0q1+2q2q3+2\n",
    "\n",
    "Usually we connect these equation using variable K.\n",
    "\n",
    "Cost+K∗ConstCost+K∗Const\n",
    "\n",
    "Now we think about a new technique to remote this Const term."
   ]
  },
  {
   "cell_type": "markdown",
   "metadata": {
    "colab_type": "text",
    "id": "hsK9MfhHQ0w7"
   },
   "source": [
    "##Prepare the initial state\n",
    "Usually quantum annealing is searching the value almost randomly using sigmaX. And the initial state is |+> as the eigen state of hamiltonian X. As the mixer it is using time evolution of hamitonian X.\n",
    "\n",
    "But here we think about the pattern of searching. Each car always select just one route from the possible routes. So, just one of q0 or q1 is selected as 1, also just one of q2 or q3 is selected as 1.\n",
    "\n",
    "Here we use “Quantum Entanglement”. Entanglement add filter to the possible answer just limited to the expected value.\n",
    "\n",
    "Here is a very simple of entanglement. By using this circuit making the entanglemnt, we get"
   ]
  },
  {
   "cell_type": "code",
   "execution_count": 2,
   "metadata": {
    "colab": {
     "base_uri": "https://localhost:8080/",
     "height": 34
    },
    "colab_type": "code",
    "id": "-1q4bT_0zFr-",
    "outputId": "58a039b5-7198-4862-9021-439fa8d45824"
   },
   "outputs": [
    {
     "data": {
      "text/plain": [
       "Counter({'00': 46, '11': 54})"
      ]
     },
     "execution_count": 2,
     "metadata": {},
     "output_type": "execute_result"
    }
   ],
   "source": [
    "from blueqat import Circuit\n",
    "Circuit().h[0].cx[0,1].m[:].run(shots=100)"
   ]
  },
  {
   "cell_type": "markdown",
   "metadata": {
    "colab_type": "text",
    "id": "XKLwJpgFzeNn"
   },
   "source": [
    "And applying X gate to the 0th qubit, we get entanglement of 01 and 10 state."
   ]
  },
  {
   "cell_type": "code",
   "execution_count": 3,
   "metadata": {
    "colab": {
     "base_uri": "https://localhost:8080/",
     "height": 34
    },
    "colab_type": "code",
    "id": "N9VMjLmpzcSE",
    "outputId": "02658b0e-40b6-4630-9e05-4223ed43b3ae"
   },
   "outputs": [
    {
     "data": {
      "text/plain": [
       "Counter({'01': 39, '10': 61})"
      ]
     },
     "execution_count": 3,
     "metadata": {},
     "output_type": "execute_result"
    }
   ],
   "source": [
    "from blueqat import Circuit\n",
    "Circuit().h[0].cx[0,1].x[0].m[:].run(shots=100)"
   ]
  },
  {
   "cell_type": "markdown",
   "metadata": {
    "colab_type": "text",
    "id": "1-42sa9AzimO"
   },
   "source": [
    "By using this state preparation we can set entanglement both on q0,q1 and q2,q3 corresponding to the possible route of car1 and car2.\n",
    "\n",
    "This time we have 4qubits and entangled state is,"
   ]
  },
  {
   "cell_type": "code",
   "execution_count": 4,
   "metadata": {
    "colab": {
     "base_uri": "https://localhost:8080/",
     "height": 34
    },
    "colab_type": "code",
    "id": "NVZmMV3IzgUk",
    "outputId": "53787d5a-afea-4fe0-97d1-1b43f215b2f1"
   },
   "outputs": [
    {
     "data": {
      "text/plain": [
       "Counter({'0110': 25, '0101': 22, '1001': 22, '1010': 31})"
      ]
     },
     "execution_count": 4,
     "metadata": {},
     "output_type": "execute_result"
    }
   ],
   "source": [
    "from blueqat import Circuit\n",
    "Circuit().h[0].cx[0,1].x[0].h[2].cx[2,3].x[2].m[:].run(shots=100)"
   ]
  },
  {
   "cell_type": "markdown",
   "metadata": {
    "colab_type": "text",
    "id": "S4Pyz-DdzqC4"
   },
   "source": [
    "##Swap\n",
    "Instead of searching the qubit value using sigmaX we use (XX+YY)/2 gate swapping two qubits value.\n",
    "\n",
    "By using this gate we can changing the state of 01 and 10, applying to the adiabatic process searching the global minimum on QAOA algorithm.\n",
    "\n",
    "##Code\n",
    "Here is the blueqat code, we are using types of time evolution operator both as classical hamiltonian of Z operator and mixer hamiltonian."
   ]
  },
  {
   "cell_type": "code",
   "execution_count": 5,
   "metadata": {
    "colab": {
     "base_uri": "https://localhost:8080/",
     "height": 88
    },
    "colab_type": "code",
    "id": "q0FnoA56znd4",
    "outputId": "db1b1222-0d56-47bd-d4eb-6b38287df3cc"
   },
   "outputs": [
    {
     "name": "stdout",
     "output_type": "stream",
     "text": [
      "(((1, 0, 0, 1), 0.9725719073393897), ((0, 1, 0, 1), 0.024015993375551083), ((1, 0, 1, 0), 0.002505733361743824), ((0, 1, 1, 0), 0.0009063659233088916), ((1, 0, 0, 0), 3.5709449507923647e-31), ((1, 1, 0, 1), 1.9528948916201288e-31), ((0, 0, 0, 1), 1.0405633442510895e-31), ((1, 0, 1, 1), 4.5019364766436164e-32), ((0, 1, 1, 1), 1.9322494020172565e-32), ((0, 1, 0, 0), 1.9259299443872359e-32), ((1, 1, 1, 0), 1.898225421321941e-32), ((0, 0, 1, 0), 9.408022689142076e-33))\n",
      "Result by QAOA\n",
      "8.065305847584497\n"
     ]
    }
   ],
   "source": [
    "import numpy as np\n",
    "from blueqat import Circuit\n",
    "from blueqat.pauli import X, Y, Z, I\n",
    "from blueqat.pauli import qubo_bit as q\n",
    "from blueqat.vqe import AnsatzBase, Vqe\n",
    "\n",
    "def an(index):\n",
    "    return 0.5 * X[index] + 0.5j * Y[index]\n",
    "\n",
    "def cr(index):\n",
    "    return 0.5 * X[index] - 0.5j * Y[index]\n",
    "\n",
    "op1 = (cr(1) * an(0) + cr(0) * an(1)).to_expr().simplify()\n",
    "op2 = (cr(3) * an(2) + cr(2) * an(3)).to_expr().simplify()\n",
    "\n",
    "class QaoaQaoaAnsatz(AnsatzBase):\n",
    "    def __init__(self, hamiltonian, step=1, init_circuit=None):\n",
    "        super().__init__(hamiltonian, step * 2)\n",
    "        self.hamiltonian = hamiltonian.to_expr().simplify()\n",
    "        if not self.check_hamiltonian():\n",
    "            raise ValueError(\"Hamiltonian terms are not commutable\")\n",
    "\n",
    "        self.step = step\n",
    "        self.n_qubits = self.hamiltonian.max_n() + 1\n",
    "        if init_circuit:\n",
    "            self.init_circuit = init_circuit\n",
    "            if init_circuit.n_qubits > self.n_qubits:\n",
    "                self.n_qubits = init_circuit.n_qubits\n",
    "        else:\n",
    "            self.init_circuit = Circuit(self.n_qubits).h[:]\n",
    "        self.init_circuit.make_cache()\n",
    "        self.time_evolutions = [term.get_time_evolution() for term in self.hamiltonian]\n",
    "        self.time_evolutions1 = [term.get_time_evolution() for term in op1]\n",
    "        self.time_evolutions2 = [term.get_time_evolution() for term in op2]\n",
    "    def check_hamiltonian(self):\n",
    "        \"\"\"Check hamiltonian is commutable. This condition is required for QaoaAnsatz\"\"\"\n",
    "        return self.hamiltonian.is_all_terms_commutable()\n",
    "\n",
    "    def get_circuit(self, params):\n",
    "        c = self.init_circuit.copy()\n",
    "        betas = params[:self.step]\n",
    "        gammas = params[self.step:]\n",
    "        for beta, gamma in zip(betas, gammas):\n",
    "            beta *= np.pi\n",
    "            gamma *= 2 * np.pi\n",
    "            for evo in self.time_evolutions:\n",
    "                evo(c, gamma)\n",
    "            for evo1 in self.time_evolutions1:\n",
    "                evo1(c, beta)\n",
    "            for evo2 in self.time_evolutions2:\n",
    "                evo2(c, beta)\n",
    "        return c\n",
    "\n",
    "h = 4*q(0)+4*q(1)+4*q(2)+4*q(3)+4*q(0)*q(1)+4*q(0)*q(2)+8*q(1)*q(2)+2*q(1)*q(3)+2*q(2)*q(3)\n",
    "h = h.to_expr().simplify()\n",
    "runner = Vqe(QaoaQaoaAnsatz(h,4,Circuit().h[0].cx[0,1].x[0].h[2].cx[2,3].x[2]))\n",
    "result = runner.run()\n",
    "\n",
    "# get probability\n",
    "print(result.most_common(12))\n",
    "\n",
    "print('Result by QAOA')\n",
    "print(runner.ansatz.get_energy_sparse(result.circuit))"
   ]
  },
  {
   "cell_type": "markdown",
   "metadata": {
    "colab_type": "text",
    "id": "Ue0rJrWSz4PZ"
   },
   "source": [
    "Here we get the best solution of (1,0,0,1) with the 98% of possibility. This is the best route removing the traffic jam."
   ]
  },
  {
   "cell_type": "markdown",
   "metadata": {
    "colab_type": "text",
    "id": "hmMJTJ40RVHt"
   },
   "source": [
    "##Discussion\n",
    "By using this, the depth of the circuit will be long, but we don’t have to formulate the constraint term. And the possibility of getting accurate result dramatically increase."
   ]
  }
 ],
 "metadata": {
  "colab": {
   "name": "106_vqe_qaoa06.ipynb",
   "provenance": []
  },
  "kernelspec": {
   "display_name": "Python 3",
   "language": "python",
   "name": "python3"
  },
  "language_info": {
   "codemirror_mode": {
    "name": "ipython",
    "version": 3
   },
   "file_extension": ".py",
   "mimetype": "text/x-python",
   "name": "python",
   "nbconvert_exporter": "python",
   "pygments_lexer": "ipython3",
   "version": "3.8.3"
  }
 },
 "nbformat": 4,
 "nbformat_minor": 1
}

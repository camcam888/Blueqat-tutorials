{
  "nbformat": 4,
  "nbformat_minor": 0,
  "metadata": {
    "colab": {
      "name": "010_basic_multi.ipynb",
      "version": "0.3.2",
      "provenance": [],
      "collapsed_sections": []
    },
    "kernelspec": {
      "display_name": "Python 3",
      "language": "python",
      "name": "python3"
    }
  },
  "cells": [
    {
      "metadata": {
        "colab_type": "text",
        "id": "NjHnSAbHrInP"
      },
      "cell_type": "markdown",
      "source": [
        "# Multiplier\n",
        "Here we see at the basic multiplier circuit with adder circuit."
      ]
    },
    {
      "metadata": {
        "colab_type": "text",
        "id": "PKhFYi-drld1"
      },
      "cell_type": "markdown",
      "source": [
        "## About multiplier of binary number\n",
        "Basic multiplier circuit is consist of CCX for multiply 2 binary number.\n",
        "\n",
        "$$0*0=0\\\\\n",
        "0*1=0\\\\\n",
        "1*0=0\\\\\n",
        "1*1=1$$\n",
        "\n",
        "and then sum up each rank\n"
      ]
    },
    {
      "metadata": {
        "id": "MG6ANG-i8J6s",
        "colab_type": "text"
      },
      "cell_type": "markdown",
      "source": [
        "## Example\n",
        "Let's solve \n",
        "\n",
        "$$1*2 = ?$$\n",
        "\n",
        "We express this calculation on binary number as \n",
        "\n",
        "$$01*10 = 0010$$\n",
        "\n",
        "\n",
        "```\n",
        "    01\n",
        "*  10\n",
        "-------\n",
        "    00\n",
        " 01\n",
        "-------\n",
        "    0\n",
        " 0\n",
        "-------\n",
        " 0010\n",
        "  ```\n",
        "  \n",
        "Now we pepare a0,a2 as a.b0,b2 as b.\n",
        "c0,c21,c22,c4 as c the process after multiply a and b.\n",
        "z4,z8 as carry.\n",
        "and x0 to x8 as the result.\n",
        "\n",
        "<img src=\"https://github.com/mdrft/Blueqat_tutorials_ja/blob/master/docs/img/010_basic_multi01.png?raw=1\">\n"
      ]
    },
    {
      "metadata": {
        "id": "p77tEaPBlofy",
        "colab_type": "code",
        "colab": {}
      },
      "cell_type": "code",
      "source": [
        "!pip install blueqat"
      ],
      "execution_count": 0,
      "outputs": []
    },
    {
      "metadata": {
        "colab_type": "code",
        "id": "O674HiVxjc7P",
        "outputId": "39c7ce19-0dba-4948-9f9e-c15b70efa371",
        "colab": {
          "base_uri": "https://localhost:8080/",
          "height": 34
        }
      },
      "cell_type": "code",
      "source": [
        "from blueqat import Circuit\n",
        "\n",
        "C1 = Circuit().ccx[0,1,2].ccx[1,3,5].ccx[0,4,6].ccx[3,4,7].ccx[5,6,8].ccx[7,8,9].cx[2,10].cx[5,11].cx[6,11].cx[7,12].cx[8,12].cx[9,13] \n",
        "\n",
        "#00 * 00 = 0000\n",
        "(Circuit() + C1).m[:].run(shots=100)"
      ],
      "execution_count": 2,
      "outputs": [
        {
          "output_type": "execute_result",
          "data": {
            "text/plain": [
              "Counter({'00000000000000': 100})"
            ]
          },
          "metadata": {
            "tags": []
          },
          "execution_count": 2
        }
      ]
    },
    {
      "metadata": {
        "id": "IgDHp3r57XCM",
        "colab_type": "code",
        "outputId": "05cd8937-8366-4a80-a55e-f81e0cdc3fc3",
        "colab": {
          "base_uri": "https://localhost:8080/",
          "height": 34
        }
      },
      "cell_type": "code",
      "source": [
        "#01 * 01 = 0001\n",
        "(Circuit().x[0].x[1] + C1).m[:].run(shots=100)"
      ],
      "execution_count": 3,
      "outputs": [
        {
          "output_type": "execute_result",
          "data": {
            "text/plain": [
              "Counter({'11100000001000': 100})"
            ]
          },
          "metadata": {
            "tags": []
          },
          "execution_count": 3
        }
      ]
    },
    {
      "metadata": {
        "id": "t51TwH7k7Z6q",
        "colab_type": "code",
        "outputId": "c333d999-9c9a-4aca-ef2d-6d701d356975",
        "colab": {
          "base_uri": "https://localhost:8080/",
          "height": 34
        }
      },
      "cell_type": "code",
      "source": [
        "#10 * 01 = 0010\n",
        "(Circuit().x[3].x[1] + C1).m[:].run(shots=100)"
      ],
      "execution_count": 4,
      "outputs": [
        {
          "output_type": "execute_result",
          "data": {
            "text/plain": [
              "Counter({'01010100000100': 100})"
            ]
          },
          "metadata": {
            "tags": []
          },
          "execution_count": 4
        }
      ]
    },
    {
      "metadata": {
        "id": "hbY49XMd7ftR",
        "colab_type": "code",
        "outputId": "38f3619c-0a08-4155-8adf-c57fbd05dd4e",
        "colab": {
          "base_uri": "https://localhost:8080/",
          "height": 34
        }
      },
      "cell_type": "code",
      "source": [
        "#01 * 10 = 0010\n",
        "(Circuit().x[0].x[4] + C1).m[:].run(shots=100)"
      ],
      "execution_count": 5,
      "outputs": [
        {
          "output_type": "execute_result",
          "data": {
            "text/plain": [
              "Counter({'10001010000100': 100})"
            ]
          },
          "metadata": {
            "tags": []
          },
          "execution_count": 5
        }
      ]
    },
    {
      "metadata": {
        "id": "ZuM7g9WJ7jbN",
        "colab_type": "code",
        "outputId": "c0b667ea-7ef9-4d7b-ab6a-b8065576dda8",
        "colab": {
          "base_uri": "https://localhost:8080/",
          "height": 34
        }
      },
      "cell_type": "code",
      "source": [
        "#10 * 10 = 0100\n",
        "(Circuit().x[3].x[4] + C1).m[:].run(shots=100) "
      ],
      "execution_count": 6,
      "outputs": [
        {
          "output_type": "execute_result",
          "data": {
            "text/plain": [
              "Counter({'00011001000010': 100})"
            ]
          },
          "metadata": {
            "tags": []
          },
          "execution_count": 6
        }
      ]
    },
    {
      "metadata": {
        "id": "lXgTGsQO7jUy",
        "colab_type": "code",
        "outputId": "b1a7a86a-ed67-4d07-a36a-8a66215d4d30",
        "colab": {
          "base_uri": "https://localhost:8080/",
          "height": 34
        }
      },
      "cell_type": "code",
      "source": [
        "#11 * 10 = 0110\n",
        "(Circuit().x[0].x[3].x[4] + C1).m[:].run(shots=100)"
      ],
      "execution_count": 7,
      "outputs": [
        {
          "output_type": "execute_result",
          "data": {
            "text/plain": [
              "Counter({'10011011000110': 100})"
            ]
          },
          "metadata": {
            "tags": []
          },
          "execution_count": 7
        }
      ]
    },
    {
      "metadata": {
        "id": "05IWvFtn7quv",
        "colab_type": "code",
        "outputId": "fb6bb1b0-384c-472f-da51-89ad9dd5ceac",
        "colab": {
          "base_uri": "https://localhost:8080/",
          "height": 34
        }
      },
      "cell_type": "code",
      "source": [
        "#10 * 11 = 0110\n",
        "(Circuit().x[1].x[3].x[4] + C1).m[:].run(shots=100)"
      ],
      "execution_count": 8,
      "outputs": [
        {
          "output_type": "execute_result",
          "data": {
            "text/plain": [
              "Counter({'01011101000110': 100})"
            ]
          },
          "metadata": {
            "tags": []
          },
          "execution_count": 8
        }
      ]
    },
    {
      "metadata": {
        "id": "lr8RdNwu7tCi",
        "colab_type": "code",
        "outputId": "73d2fe63-fce9-4c65-9f07-d9a0edf60ec2",
        "colab": {
          "base_uri": "https://localhost:8080/",
          "height": 34
        }
      },
      "cell_type": "code",
      "source": [
        "#11 * 11 = 1001\n",
        "(Circuit().x[0].x[1].x[3].x[4] + C1).m[:].run(shots=100) "
      ],
      "execution_count": 9,
      "outputs": [
        {
          "output_type": "execute_result",
          "data": {
            "text/plain": [
              "Counter({'11111111111001': 100})"
            ]
          },
          "metadata": {
            "tags": []
          },
          "execution_count": 9
        }
      ]
    },
    {
      "metadata": {
        "id": "OPe8FDu04AtN",
        "colab_type": "text"
      },
      "cell_type": "markdown",
      "source": [
        "Now we see the result of multiplier. The array of last 4qubits shows the result."
      ]
    }
  ]
}
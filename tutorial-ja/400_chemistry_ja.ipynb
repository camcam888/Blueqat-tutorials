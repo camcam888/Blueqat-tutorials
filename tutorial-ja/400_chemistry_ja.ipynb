{
 "cells": [
  {
   "cell_type": "markdown",
   "metadata": {
    "colab_type": "text",
    "id": "0DeQHhKHtIS9"
   },
   "source": [
    "#Variational Quantum Eigensolver(VQE)、QAOAセミナー 2-2（VQEで量子化学計算編）"
   ]
  },
  {
   "cell_type": "markdown",
   "metadata": {
    "colab_type": "text",
    "id": "xoLga_-FtPxy"
   },
   "source": [
    "量子化学計算はハミルトニアンの作成をパウリ行列を使って行い、VQEを利用して解を得ることができます。量子化学計算はハミルトニアンに対応するansatzの研究が進んでおり、課題として見通しが他の問題よりもよくなっています。\n",
    "\n",
    "##2-3-1 追加のインストール\n",
    "追加でツールのインストールが必要です。\n",
    "今回は、blueqatに追加で、openfermionblueqatとopenfermionを追加します。"
   ]
  },
  {
   "cell_type": "code",
   "execution_count": 1,
   "metadata": {
    "colab": {
     "base_uri": "https://localhost:8080/",
     "height": 1000
    },
    "colab_type": "code",
    "id": "_NQIdXmptSJU",
    "outputId": "6bf7e471-8b28-4512-a21b-4e5320d60561"
   },
   "outputs": [
    {
     "name": "stdout",
     "output_type": "stream",
     "text": [
      "Collecting blueqat\n",
      "\u001b[?25l  Downloading https://files.pythonhosted.org/packages/f6/73/20f9cff48caee1f69190f2e1ea93c4d7d0a745fc48defb5d3072d8337583/blueqat-0.3.13-py3-none-any.whl (50kB)\n",
      "\r",
      "\u001b[K     |██████▌                         | 10kB 13.4MB/s eta 0:00:01\r",
      "\u001b[K     |█████████████                   | 20kB 3.0MB/s eta 0:00:01\r",
      "\u001b[K     |███████████████████▍            | 30kB 3.7MB/s eta 0:00:01\r",
      "\u001b[K     |█████████████████████████▉      | 40kB 2.9MB/s eta 0:00:01\r",
      "\u001b[K     |████████████████████████████████| 51kB 2.4MB/s \n",
      "\u001b[?25hCollecting openfermionblueqat\n",
      "  Downloading https://files.pythonhosted.org/packages/e0/ef/d2a4242ef5f4ff518921dfd608d7841f476e947bc23efc25bd7c3ba0042d/openfermionblueqat-0.2.2-py3-none-any.whl\n",
      "Collecting openfermion\n",
      "\u001b[?25l  Downloading https://files.pythonhosted.org/packages/66/72/e058e3d8ececd54212bb98848e8e8227d4887fed6fe8d87f425a034add8b/openfermion-0.10.0.tar.gz (625kB)\n",
      "\u001b[K     |████████████████████████████████| 634kB 8.8MB/s \n",
      "\u001b[?25hRequirement already satisfied: scipy>=1.1.0 in /usr/local/lib/python3.6/dist-packages (from blueqat) (1.4.1)\n",
      "Requirement already satisfied: numpy~=1.12 in /usr/local/lib/python3.6/dist-packages (from blueqat) (1.17.5)\n",
      "Requirement already satisfied: h5py>=2.8 in /usr/local/lib/python3.6/dist-packages (from openfermion) (2.8.0)\n",
      "Requirement already satisfied: future in /usr/local/lib/python3.6/dist-packages (from openfermion) (0.16.0)\n",
      "Requirement already satisfied: jupyter in /usr/local/lib/python3.6/dist-packages (from openfermion) (1.0.0)\n",
      "Requirement already satisfied: nbformat in /usr/local/lib/python3.6/dist-packages (from openfermion) (5.0.4)\n",
      "Requirement already satisfied: networkx in /usr/local/lib/python3.6/dist-packages (from openfermion) (2.4)\n",
      "Requirement already satisfied: matplotlib in /usr/local/lib/python3.6/dist-packages (from openfermion) (3.1.3)\n",
      "Collecting pubchempy\n",
      "  Downloading https://files.pythonhosted.org/packages/aa/fb/8de3aa9804b614dbc8dc5c16ed061d819cc360e0ddecda3dcd01c1552339/PubChemPy-1.0.4.tar.gz\n",
      "Requirement already satisfied: six in /usr/local/lib/python3.6/dist-packages (from openfermion) (1.12.0)\n",
      "Requirement already satisfied: qtconsole in /usr/local/lib/python3.6/dist-packages (from jupyter->openfermion) (4.6.0)\n",
      "Requirement already satisfied: ipywidgets in /usr/local/lib/python3.6/dist-packages (from jupyter->openfermion) (7.5.1)\n",
      "Requirement already satisfied: jupyter-console in /usr/local/lib/python3.6/dist-packages (from jupyter->openfermion) (5.2.0)\n",
      "Requirement already satisfied: notebook in /usr/local/lib/python3.6/dist-packages (from jupyter->openfermion) (5.2.2)\n",
      "Requirement already satisfied: nbconvert in /usr/local/lib/python3.6/dist-packages (from jupyter->openfermion) (5.6.1)\n",
      "Requirement already satisfied: ipykernel in /usr/local/lib/python3.6/dist-packages (from jupyter->openfermion) (4.6.1)\n",
      "Requirement already satisfied: jsonschema!=2.5.0,>=2.4 in /usr/local/lib/python3.6/dist-packages (from nbformat->openfermion) (2.6.0)\n",
      "Requirement already satisfied: traitlets>=4.1 in /usr/local/lib/python3.6/dist-packages (from nbformat->openfermion) (4.3.3)\n",
      "Requirement already satisfied: ipython-genutils in /usr/local/lib/python3.6/dist-packages (from nbformat->openfermion) (0.2.0)\n",
      "Requirement already satisfied: jupyter-core in /usr/local/lib/python3.6/dist-packages (from nbformat->openfermion) (4.6.2)\n",
      "Requirement already satisfied: decorator>=4.3.0 in /usr/local/lib/python3.6/dist-packages (from networkx->openfermion) (4.4.1)\n",
      "Requirement already satisfied: kiwisolver>=1.0.1 in /usr/local/lib/python3.6/dist-packages (from matplotlib->openfermion) (1.1.0)\n",
      "Requirement already satisfied: cycler>=0.10 in /usr/local/lib/python3.6/dist-packages (from matplotlib->openfermion) (0.10.0)\n",
      "Requirement already satisfied: pyparsing!=2.0.4,!=2.1.2,!=2.1.6,>=2.0.1 in /usr/local/lib/python3.6/dist-packages (from matplotlib->openfermion) (2.4.6)\n",
      "Requirement already satisfied: python-dateutil>=2.1 in /usr/local/lib/python3.6/dist-packages (from matplotlib->openfermion) (2.6.1)\n",
      "Requirement already satisfied: pygments in /usr/local/lib/python3.6/dist-packages (from qtconsole->jupyter->openfermion) (2.1.3)\n",
      "Requirement already satisfied: jupyter-client>=4.1 in /usr/local/lib/python3.6/dist-packages (from qtconsole->jupyter->openfermion) (5.3.4)\n",
      "Requirement already satisfied: ipython>=4.0.0; python_version >= \"3.3\" in /usr/local/lib/python3.6/dist-packages (from ipywidgets->jupyter->openfermion) (5.5.0)\n",
      "Requirement already satisfied: widgetsnbextension~=3.5.0 in /usr/local/lib/python3.6/dist-packages (from ipywidgets->jupyter->openfermion) (3.5.1)\n",
      "Requirement already satisfied: prompt-toolkit<2.0.0,>=1.0.0 in /usr/local/lib/python3.6/dist-packages (from jupyter-console->jupyter->openfermion) (1.0.18)\n",
      "Requirement already satisfied: tornado>=4 in /usr/local/lib/python3.6/dist-packages (from notebook->jupyter->openfermion) (4.5.3)\n",
      "Requirement already satisfied: terminado>=0.3.3; sys_platform != \"win32\" in /usr/local/lib/python3.6/dist-packages (from notebook->jupyter->openfermion) (0.8.3)\n",
      "Requirement already satisfied: jinja2 in /usr/local/lib/python3.6/dist-packages (from notebook->jupyter->openfermion) (2.11.1)\n",
      "Requirement already satisfied: mistune<2,>=0.8.1 in /usr/local/lib/python3.6/dist-packages (from nbconvert->jupyter->openfermion) (0.8.4)\n",
      "Requirement already satisfied: entrypoints>=0.2.2 in /usr/local/lib/python3.6/dist-packages (from nbconvert->jupyter->openfermion) (0.3)\n",
      "Requirement already satisfied: bleach in /usr/local/lib/python3.6/dist-packages (from nbconvert->jupyter->openfermion) (3.1.0)\n",
      "Requirement already satisfied: testpath in /usr/local/lib/python3.6/dist-packages (from nbconvert->jupyter->openfermion) (0.4.4)\n",
      "Requirement already satisfied: defusedxml in /usr/local/lib/python3.6/dist-packages (from nbconvert->jupyter->openfermion) (0.6.0)\n",
      "Requirement already satisfied: pandocfilters>=1.4.1 in /usr/local/lib/python3.6/dist-packages (from nbconvert->jupyter->openfermion) (1.4.2)\n",
      "Requirement already satisfied: setuptools in /usr/local/lib/python3.6/dist-packages (from kiwisolver>=1.0.1->matplotlib->openfermion) (45.1.0)\n",
      "Requirement already satisfied: pyzmq>=13 in /usr/local/lib/python3.6/dist-packages (from jupyter-client>=4.1->qtconsole->jupyter->openfermion) (17.0.0)\n",
      "Requirement already satisfied: simplegeneric>0.8 in /usr/local/lib/python3.6/dist-packages (from ipython>=4.0.0; python_version >= \"3.3\"->ipywidgets->jupyter->openfermion) (0.8.1)\n",
      "Requirement already satisfied: pickleshare in /usr/local/lib/python3.6/dist-packages (from ipython>=4.0.0; python_version >= \"3.3\"->ipywidgets->jupyter->openfermion) (0.7.5)\n",
      "Requirement already satisfied: pexpect; sys_platform != \"win32\" in /usr/local/lib/python3.6/dist-packages (from ipython>=4.0.0; python_version >= \"3.3\"->ipywidgets->jupyter->openfermion) (4.8.0)\n",
      "Requirement already satisfied: wcwidth in /usr/local/lib/python3.6/dist-packages (from prompt-toolkit<2.0.0,>=1.0.0->jupyter-console->jupyter->openfermion) (0.1.8)\n",
      "Requirement already satisfied: ptyprocess; os_name != \"nt\" in /usr/local/lib/python3.6/dist-packages (from terminado>=0.3.3; sys_platform != \"win32\"->notebook->jupyter->openfermion) (0.6.0)\n",
      "Requirement already satisfied: MarkupSafe>=0.23 in /usr/local/lib/python3.6/dist-packages (from jinja2->notebook->jupyter->openfermion) (1.1.1)\n",
      "Requirement already satisfied: webencodings in /usr/local/lib/python3.6/dist-packages (from bleach->nbconvert->jupyter->openfermion) (0.5.1)\n",
      "Building wheels for collected packages: openfermion, pubchempy\n",
      "  Building wheel for openfermion (setup.py) ... \u001b[?25l\u001b[?25hdone\n",
      "  Created wheel for openfermion: filename=openfermion-0.10.0-cp36-none-any.whl size=731375 sha256=b376fd0f66f7ad4e2d5b4244a8ed6bdfe83674c2cb123f62b0f58ab24af5c6b9\n",
      "  Stored in directory: /root/.cache/pip/wheels/3c/49/cd/098bb337ffcbb70021864403773043df332c065590873f1813\n",
      "  Building wheel for pubchempy (setup.py) ... \u001b[?25l\u001b[?25hdone\n",
      "  Created wheel for pubchempy: filename=PubChemPy-1.0.4-cp36-none-any.whl size=13825 sha256=170181c246083c6094378e11cb63d2801a0ba573cefb45615659e2c69fd0e1eb\n",
      "  Stored in directory: /root/.cache/pip/wheels/10/4d/51/6b843681a9a5aef35f0d0fbce243de46f85080036e16118752\n",
      "Successfully built openfermion pubchempy\n",
      "Installing collected packages: blueqat, pubchempy, openfermion, openfermionblueqat\n",
      "Successfully installed blueqat-0.3.13 openfermion-0.10.0 openfermionblueqat-0.2.2 pubchempy-1.0.4\n"
     ]
    }
   ],
   "source": [
    "!pip3 install blueqat openfermionblueqat openfermion"
   ]
  },
  {
   "cell_type": "markdown",
   "metadata": {
    "colab_type": "text",
    "id": "HHLJDoRXtXta"
   },
   "source": [
    "##2-3-2 コードをざっくり\n",
    "今回はopenfermionに準備されたコードを使います。"
   ]
  },
  {
   "cell_type": "code",
   "execution_count": 1,
   "metadata": {
    "colab": {
     "base_uri": "https://localhost:8080/",
     "height": 283
    },
    "colab_type": "code",
    "id": "hDacEDd6tVIK",
    "outputId": "cdb33658-119e-4c37-caf6-04d06ba417b7"
   },
   "outputs": [
    {
     "data": {
      "text/plain": [
       "[<matplotlib.lines.Line2D at 0x7f6b8f08c1f0>]"
      ]
     },
     "execution_count": 1,
     "metadata": {},
     "output_type": "execute_result"
    },
    {
     "data": {
      "image/png": "[encoded data removed]",
      "text/plain": [
       "<Figure size 432x288 with 1 Axes>"
      ]
     },
     "metadata": {
      "needs_background": "light"
     },
     "output_type": "display_data"
    }
   ],
   "source": [
    "from blueqat import *\n",
    "from openfermion import *\n",
    "from openfermionblueqat import*\n",
    "import numpy as np\n",
    "\n",
    "def get_molecule(bond_len):\n",
    "  geometry = [('H',(0.,0.,0.)),('H',(0.,0.,bond_len))]\n",
    "\n",
    "  description = format(bond_len)\n",
    "  molecule = MolecularData(geometry, \"sto-3g\",1,description=description)\n",
    "\n",
    "  molecule.load()\n",
    "  return molecule\n",
    "\n",
    "x = [];e=[];fullci=[]\n",
    "for bond_len in np.arange(0.2,2.5,0.1):\n",
    "  m = get_molecule(\"{:.2}\".format(bond_len))\n",
    "  h = bravyi_kitaev(get_fermion_operator(m.get_molecular_hamiltonian()))\n",
    "  runner = vqe.Vqe(UCCAnsatz(h,6,Circuit().x[0]))\n",
    "  result = runner.run()\n",
    "  x.append(bond_len)\n",
    "  e.append(runner.ansatz.get_energy_sparse(result.circuit))\n",
    "  fullci.append(m.fci_energy)\n",
    "\n",
    "%matplotlib inline\n",
    "import matplotlib.pyplot as plt\n",
    "plt.plot(x,fullci)\n",
    "plt.plot(x,e,\"o\")"
   ]
  },
  {
   "cell_type": "markdown",
   "metadata": {
    "colab_type": "text",
    "id": "XC1xaDwbtcxb"
   },
   "source": [
    "今回は水素分子の原子の結合間の距離に応じて、各状態の安定エネルギーをVQEを用いて求めています。"
   ]
  },
  {
   "cell_type": "markdown",
   "metadata": {
    "colab_type": "text",
    "id": "3vw6h4eytfK2"
   },
   "source": [
    "##2-3-3 中身確認\n",
    "MoluculearDataというのでOpenFermionに最初から入っているデータを使えるようです。H2でSto-3g系を読み込んでみます。"
   ]
  },
  {
   "cell_type": "code",
   "execution_count": 2,
   "metadata": {
    "colab": {},
    "colab_type": "code",
    "id": "U2xwZyAItaMu"
   },
   "outputs": [],
   "source": [
    "def get_molecule(bond_len):\n",
    "  geometry = [('H',(0.,0.,0.)),('H',(0.,0.,bond_len))]\n",
    "\n",
    "  description = format(bond_len)\n",
    "  molecule = MolecularData(geometry, \"sto-3g\",1,description=description)\n",
    "\n",
    "  molecule.load()\n",
    "  return molecule"
   ]
  },
  {
   "cell_type": "markdown",
   "metadata": {
    "colab_type": "text",
    "id": "jy8xNG4Etk2S"
   },
   "source": [
    "原子間距離が0.4のものを読み込んで、ハミルトニアンと呼ばれる基本の式が取得できます。"
   ]
  },
  {
   "cell_type": "code",
   "execution_count": 3,
   "metadata": {
    "colab": {
     "base_uri": "https://localhost:8080/",
     "height": 646
    },
    "colab_type": "code",
    "id": "TO1lSYvbtikE",
    "outputId": "51191d25-cec4-4d64-a0c5-99ddeebe83d8"
   },
   "outputs": [
    {
     "data": {
      "text/plain": [
       "() 1.322943021475\n",
       "((0, 1), (0, 0)) -1.4820918858979102\n",
       "((1, 1), (1, 0)) -1.4820918858979102\n",
       "((2, 1), (2, 0)) -0.1187350527865787\n",
       "((3, 1), (3, 0)) -0.1187350527865787\n",
       "((0, 1), (0, 1), (0, 0), (0, 0)) 0.36843967630348756\n",
       "((0, 1), (0, 1), (2, 0), (2, 0)) 0.08225771204699692\n",
       "((0, 1), (1, 1), (1, 0), (0, 0)) 0.36843967630348756\n",
       "((0, 1), (1, 1), (3, 0), (2, 0)) 0.08225771204699692\n",
       "((0, 1), (2, 1), (0, 0), (2, 0)) 0.082257712046997\n",
       "((0, 1), (2, 1), (2, 0), (0, 0)) 0.3626667179796745\n",
       "((0, 1), (3, 1), (1, 0), (2, 0)) 0.082257712046997\n",
       "((0, 1), (3, 1), (3, 0), (0, 0)) 0.3626667179796745\n",
       "((1, 1), (0, 1), (0, 0), (1, 0)) 0.36843967630348756\n",
       "((1, 1), (0, 1), (2, 0), (3, 0)) 0.08225771204699692\n",
       "((1, 1), (1, 1), (1, 0), (1, 0)) 0.36843967630348756\n",
       "((1, 1), (1, 1), (3, 0), (3, 0)) 0.08225771204699692\n",
       "((1, 1), (2, 1), (0, 0), (3, 0)) 0.082257712046997\n",
       "((1, 1), (2, 1), (2, 0), (1, 0)) 0.3626667179796745\n",
       "((1, 1), (3, 1), (1, 0), (3, 0)) 0.082257712046997\n",
       "((1, 1), (3, 1), (3, 0), (1, 0)) 0.3626667179796745\n",
       "((2, 1), (0, 1), (0, 0), (2, 0)) 0.36266671797967454\n",
       "((2, 1), (0, 1), (2, 0), (0, 0)) 0.08225771204699726\n",
       "((2, 1), (1, 1), (1, 0), (2, 0)) 0.36266671797967454\n",
       "((2, 1), (1, 1), (3, 0), (0, 0)) 0.08225771204699726\n",
       "((2, 1), (2, 1), (0, 0), (0, 0)) 0.08225771204699728\n",
       "((2, 1), (2, 1), (2, 0), (2, 0)) 0.38272169831413727\n",
       "((2, 1), (3, 1), (1, 0), (0, 0)) 0.08225771204699728\n",
       "((2, 1), (3, 1), (3, 0), (2, 0)) 0.38272169831413727\n",
       "((3, 1), (0, 1), (0, 0), (3, 0)) 0.36266671797967454\n",
       "((3, 1), (0, 1), (2, 0), (1, 0)) 0.08225771204699726\n",
       "((3, 1), (1, 1), (1, 0), (3, 0)) 0.36266671797967454\n",
       "((3, 1), (1, 1), (3, 0), (1, 0)) 0.08225771204699726\n",
       "((3, 1), (2, 1), (0, 0), (1, 0)) 0.08225771204699728\n",
       "((3, 1), (2, 1), (2, 0), (3, 0)) 0.38272169831413727\n",
       "((3, 1), (3, 1), (1, 0), (1, 0)) 0.08225771204699728\n",
       "((3, 1), (3, 1), (3, 0), (3, 0)) 0.38272169831413727"
      ]
     },
     "execution_count": 3,
     "metadata": {},
     "output_type": "execute_result"
    }
   ],
   "source": [
    "m = get_molecule(0.4)\n",
    "m.get_molecular_hamiltonian()"
   ]
  },
  {
   "cell_type": "markdown",
   "metadata": {
    "colab_type": "text",
    "id": "MCcUSNvltukv"
   },
   "source": [
    "こちらはパウリ行列の表現ではないので、今回VQEで計算できるように変換をします。"
   ]
  },
  {
   "cell_type": "markdown",
   "metadata": {
    "colab_type": "text",
    "id": "sP1KphQktw8Z"
   },
   "source": [
    "##2-3-4 量子コンピュータ向け変換\n",
    "Bravi-Kitaev(ブラビキタエフ)変換やJordan–Wigner(ジョルダンウィグナー)変換がありますが、今回は前者のBK変換をして確認してみると、"
   ]
  },
  {
   "cell_type": "code",
   "execution_count": 4,
   "metadata": {
    "colab": {
     "base_uri": "https://localhost:8080/",
     "height": 272
    },
    "colab_type": "code",
    "id": "3B3loOfutn2j",
    "outputId": "99f7f869-64b7-4297-ac30-52d52b4147ff"
   },
   "outputs": [
    {
     "name": "stdout",
     "output_type": "stream",
     "text": [
      "(0.7407724940116754+0j) [] +\n",
      "(0.041128856023498556+0j) [X0 Z1 X2] +\n",
      "(0.041128856023498556+0j) [X0 Z1 X2 Z3] +\n",
      "(0.041128856023498556+0j) [Y0 Z1 Y2] +\n",
      "(0.041128856023498556+0j) [Y0 Z1 Y2 Z3] +\n",
      "(0.23528824284103544+0j) [Z0] +\n",
      "(0.23528824284103542+0j) [Z0 Z1] +\n",
      "(0.18133335898983727+0j) [Z0 Z1 Z2] +\n",
      "(0.18133335898983727+0j) [Z0 Z1 Z2 Z3] +\n",
      "(0.14020450296633868+0j) [Z0 Z2] +\n",
      "(0.14020450296633868+0j) [Z0 Z2 Z3] +\n",
      "(0.18421983815174378+0j) [Z1] +\n",
      "(-0.45353118471995524+0j) [Z1 Z2 Z3] +\n",
      "(0.19136084915706864+0j) [Z1 Z3] +\n",
      "(-0.45353118471995524+0j) [Z2]\n"
     ]
    }
   ],
   "source": [
    "h = bravyi_kitaev(get_fermion_operator(m.get_molecular_hamiltonian()))\n",
    "print(h)"
   ]
  },
  {
   "cell_type": "markdown",
   "metadata": {
    "colab_type": "text",
    "id": "xWER997LuB9V"
   },
   "source": [
    "このようにきちんと変換されました。ちょっと複雑な形をしていますが、これこそがこれまで学んできたパウリ行列の和で書かれたハミルトニアンです。これをVQEにかけますが、今回はUCC理論と呼ばれる上記のハミルトニアンに対応するansatzがあるため効率的に計算ができます。"
   ]
  },
  {
   "cell_type": "code",
   "execution_count": 5,
   "metadata": {
    "colab": {
     "base_uri": "https://localhost:8080/",
     "height": 714
    },
    "colab_type": "code",
    "id": "97RcOB7Rt4_7",
    "outputId": "730c7fd9-0eed-4349-edd0-24aae9f26ba5"
   },
   "outputs": [
    {
     "name": "stdout",
     "output_type": "stream",
     "text": [
      "params: [0.85735393 0.26435293] val: -0.6509224068364255\n",
      "params: [0.85735393 0.26435293] val: -0.6509224068364255\n",
      "params: [1.85735393 0.26435293] val: 0.580869355567871\n",
      "params: [-0.76068007  0.26435293] val: -0.20314413359369127\n",
      "params: [0.85735393 0.26435293] val: -0.6509224068364255\n",
      "params: [0.23931996 0.26435293] val: -0.903069815471201\n",
      "params: [0.23931996 0.26435293] val: -0.903069815471201\n",
      "params: [0.23931996 1.26435293] val: 0.14842057356438088\n",
      "params: [ 0.23931996 -1.35368107] val: -0.004567951712909135\n",
      "params: [0.23931996 0.26435293] val: -0.903069815471201\n",
      "params: [ 0.23931996 -0.35368104] val: -0.650711608878654\n",
      "params: [0.23931996 0.64631893] val: -0.3883091255946547\n",
      "params: [0.23931996 0.07160234] val: -0.8618597217451346\n",
      "params: [0.23931996 0.40169069] val: -0.8641588087465389\n",
      "params: [0.23931996 0.23895891] val: -0.8966507378929758\n",
      "params: [0.23931996 0.29002096] val: -0.9070474408999273\n",
      "params: [-0.37871402  0.31568899] val: -0.553377933999168\n",
      "params: [0.23931996 0.29002096] val: -0.9070474408999273\n",
      "params: [1.23931996 0.29002096] val: -0.3105572939086208\n",
      "params: [-1.37871404  0.29002096] val: 0.7032874681139033\n",
      "params: [0.23931996 0.29002096] val: -0.9070474408999273\n",
      "params: [-0.37871402  0.29002096] val: -0.580983777550085\n",
      "params: [0.62128596 0.29002096] val: -0.8355785808178493\n",
      "params: [0.29940151 0.29002096] val: -0.9099903184370948\n",
      "params: [0.29940151 0.29002096] val: -0.9099903184370948\n",
      "params: [0.29940151 1.29002096] val: 0.28346973128496944\n",
      "params: [ 0.29940151 -1.32801304] val: -0.025995041308686573\n",
      "params: [0.29940151 0.29002096] val: -0.9099903184370948\n",
      "params: [ 0.29940151 -0.32801302] val: -0.6160598427869707\n",
      "params: [0.29940151 0.67198696] val: -0.2724594436070553\n",
      "params: [0.29940151 0.0918812 ] val: -0.8409210642541183\n",
      "params: [0.29940151 0.43591898] val: -0.8258151315561796\n",
      "params: [0.29940151 0.25573944] val: -0.8991548356483374\n",
      "params: [0.29940151 0.34574904] val: -0.9085870787413266\n",
      "params: [0.29940151 0.31456423] val: -0.9129850551176981\n"
     ]
    }
   ],
   "source": [
    "runner = vqe.Vqe(UCCAnsatz(h,2,Circuit().x[0]))\n",
    "result = runner.run(verbose = True)"
   ]
  },
  {
   "cell_type": "markdown",
   "metadata": {
    "colab_type": "text",
    "id": "pogBuf8HuG9y"
   },
   "source": [
    "最適化のプロセスが出てきました。パラメータが最適化されながら最小基底状態が探索されています。今回はansatzは量子化学の理論に基づいて電子の配置をするUCCansatzと呼ばれるものが利用されました。通常ansatzの構成は難しいので、理論的な探究が求まれます。最小エネルギーは、"
   ]
  },
  {
   "cell_type": "code",
   "execution_count": 6,
   "metadata": {
    "colab": {
     "base_uri": "https://localhost:8080/",
     "height": 34
    },
    "colab_type": "code",
    "id": "7aogyg6YuD6S",
    "outputId": "48520c01-5ad1-4d42-fc6c-ccf395d1df9b"
   },
   "outputs": [
    {
     "data": {
      "text/plain": [
       "-0.9129850551176981"
      ]
     },
     "execution_count": 6,
     "metadata": {},
     "output_type": "execute_result"
    }
   ],
   "source": [
    "runner.ansatz.get_energy_sparse(result.circuit)"
   ]
  },
  {
   "cell_type": "markdown",
   "metadata": {
    "colab_type": "text",
    "id": "gFgZVsk6uMXf"
   },
   "source": [
    "原子間距離0.4の場合の最小値の期待値が求まりました。これを全体でやったのが最初のコードです。再掲します。"
   ]
  },
  {
   "cell_type": "code",
   "execution_count": 7,
   "metadata": {
    "colab": {
     "base_uri": "https://localhost:8080/",
     "height": 283
    },
    "colab_type": "code",
    "id": "uP2XQ8j3uJnr",
    "outputId": "83f553f0-957b-4660-b275-4e56a1ef0ab2"
   },
   "outputs": [
    {
     "data": {
      "text/plain": [
       "[<matplotlib.lines.Line2D at 0x7f6b8f022a60>]"
      ]
     },
     "execution_count": 7,
     "metadata": {},
     "output_type": "execute_result"
    },
    {
     "data": {
      "image/png": "[encoded data removed]",
      "text/plain": [
       "<Figure size 432x288 with 1 Axes>"
      ]
     },
     "metadata": {
      "needs_background": "light"
     },
     "output_type": "display_data"
    }
   ],
   "source": [
    "from blueqat import *\n",
    "from openfermion import *\n",
    "from openfermionblueqat import*\n",
    "import numpy as np\n",
    "\n",
    "def get_molecule(bond_len):\n",
    "  geometry = [('H',(0.,0.,0.)),('H',(0.,0.,bond_len))]\n",
    "\n",
    "  description = format(bond_len)\n",
    "  molecule = MolecularData(geometry, \"sto-3g\",1,description=description)\n",
    "\n",
    "  molecule.load()\n",
    "  return molecule\n",
    "\n",
    "x = [];e=[];fullci=[]\n",
    "for bond_len in np.arange(0.2,2.5,0.1):\n",
    "  m = get_molecule(\"{:.2}\".format(bond_len))\n",
    "  h = bravyi_kitaev(get_fermion_operator(m.get_molecular_hamiltonian()))\n",
    "  runner = vqe.Vqe(UCCAnsatz(h,6,Circuit().x[0]))\n",
    "  result = runner.run()\n",
    "  x.append(bond_len)\n",
    "  e.append(runner.ansatz.get_energy_sparse(result.circuit))\n",
    "  fullci.append(m.fci_energy)\n",
    "\n",
    "%matplotlib inline\n",
    "import matplotlib.pyplot as plt\n",
    "plt.plot(x,fullci)\n",
    "plt.plot(x,e,\"o\")"
   ]
  }
 ],
 "metadata": {
  "colab": {
   "name": "102vqe_qaoa02.ipynb",
   "provenance": []
  },
  "kernelspec": {
   "display_name": "Python 3",
   "language": "python",
   "name": "python3"
  },
  "language_info": {
   "codemirror_mode": {
    "name": "ipython",
    "version": 3
   },
   "file_extension": ".py",
   "mimetype": "text/x-python",
   "name": "python",
   "nbconvert_exporter": "python",
   "pygments_lexer": "ipython3",
   "version": "3.8.3"
  }
 },
 "nbformat": 4,
 "nbformat_minor": 1
}

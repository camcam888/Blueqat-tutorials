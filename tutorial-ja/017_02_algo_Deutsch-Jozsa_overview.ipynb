{
 "nbformat": 4,
 "nbformat_minor": 2,
 "metadata": {
  "language_info": {
   "name": "python",
   "codemirror_mode": {
    "name": "ipython",
    "version": 3
   }
  },
  "orig_nbformat": 2,
  "file_extension": ".py",
  "mimetype": "text/x-python",
  "name": "python",
  "npconvert_exporter": "python",
  "pygments_lexer": "ipython3",
  "version": 3
 },
 "cells": [
  {
   "cell_type": "markdown",
   "metadata": {},
   "source": [
    "# Deutsch-Jozsa algorithm(ドイチ・ジョザ アルゴリズム)（概要）\n",
    "\n",
    "Deutsch algorithm の一般化である Deutsch-Jozsa algorithm を説明します。\n",
    "Deutsch-Jozsa algorithm はこの $f$ の入力が 00...000 から 11...111の $2^n$ 個で以下の条件のどちらかが成り立つものとします。\n",
    "\n",
    "1. 全ての入力で $f(x)$ が同じ\n",
    "→ 全ての $x$ で $f(x)=0$ または 全ての $x$ で $f(x)=1$\n",
    "\n",
    "2. 入力の半分で $f(x)$ が異なる\n",
    "→ $2^{n-1}$ 個の $x$ で $f(x)=0$ 、残りの $x$ で $f(x)=1$\n",
    "\n",
    "このアルゴリズムでは Oracle が上の1. か 2. かを判別します。\n",
    "\n",
    "具体的な回路を考えます。\n",
    "\n",
    "<img src=\"./img/017_02/017_02_0.png\" width=\"50%\">\n",
    "\n",
    "0 は n個並んでいるものとします。\n",
    "\n",
    "ではそれぞれの状態を確認します。\n",
    "\n",
    "<img src=\"./img/017_02/017_02_1.png\" width=\"85%\">\n",
    "\n",
    "n 番目のビットを見ると、0 と 1 を入れ替えると全体の符号が変わることがわかります。\n",
    "\n",
    "次に $\\psi_2$ を考えてみます。\n",
    "$f(x)$ は n 番目のビットにかかるので\n",
    "\n",
    "<img src=\"./img/017_02/017_02_2.png\" width=\"30%\">\n",
    "\n",
    "となリます。\n",
    "\n",
    "各項について $f(x) = 0, 1$ でシグマを分けると\n",
    "\n",
    "<img src=\"./img/017_02/017_02_3.png\" width=\"55%\">\n",
    "\n",
    "$f(x)=1$ のときビットが変わっていることがわかります。\n",
    "まとめると、\n",
    "\n",
    "<img src=\"./img/017_02/017_02_4.png\" width=\"40%\">\n",
    "\n",
    "よって、1 のときは $f=0,1$ のどちらかのシグマが消えるので\n",
    "\n",
    "<img src=\"./img/017_02/017_02_5.png\" width=\"30%\">\n",
    "\n",
    "また、2 のときは両方ともシグマは残るのでこれ以上計算できません。\n",
    "\n",
    "以上から $\\psi_3$ は\n",
    "\n",
    "<img src=\"./img/017_02/017_02_6.png\" width=\"45%\">\n",
    "\n",
    "$\\psi_2$ の上から n個のビットが H|0> ... H|0> でない限り $\\psi_3$ の上から n個のビットは 00...00 になり得ないので、$\\psi_3$ は上のようにかけることがわかる。\n",
    "\n",
    "測定には $\\pm$ は関係ないので、n-1番目までのビットを測定すると全て 0 かそれ以外かで Oracleを判別することがわかる。\n"
   ]
  },
  {
   "cell_type": "code",
   "execution_count": null,
   "metadata": {},
   "outputs": [],
   "source": []
  }
 ]
}
{
 "cells": [
  {
   "cell_type": "markdown",
   "metadata": {
    "colab_type": "text",
    "id": "NjHnSAbHrInP"
   },
   "source": [
    "# グローバーのアルゴリズム\n",
    "グローバーのアルゴリズムは未整序のデータの検索が高速にできるというアルゴリズムです。マーキングの部分にあたるオラクルと呼ばれる関数部分に検索のアルゴリズムを入れましょう。\n",
    "\n",
    "全体の流れは下記の通りです。\n",
    "\n",
    "１、重ね合わせ  \n",
    "２、探したいデータのマーキング  \n",
    "３、マーキングを可視化する振幅増幅反転  \n",
    "\n",
    "マーキングと振幅増幅反転を適切な回数繰り返すと精度が上がります。こちらをBlueqatで実装してみたいと思います。"
   ]
  },
  {
   "cell_type": "markdown",
   "metadata": {},
   "source": [
    "# インストール"
   ]
  },
  {
   "cell_type": "code",
   "execution_count": 3,
   "metadata": {
    "collapsed": true
   },
   "outputs": [
    {
     "name": "stdout",
     "output_type": "stream",
     "text": [
      "Requirement already satisfied: blueqat in /home/ec2-user/anaconda3/envs/python3/lib/python3.6/site-packages (0.3.13)\n",
      "Requirement already satisfied: scipy>=1.1.0 in /home/ec2-user/anaconda3/envs/python3/lib/python3.6/site-packages (from blueqat) (1.1.0)\n",
      "Requirement already satisfied: numpy~=1.12 in /home/ec2-user/anaconda3/envs/python3/lib/python3.6/site-packages (from blueqat) (1.18.3)\n",
      "\u001b[33mWARNING: You are using pip version 20.0.2; however, version 20.1 is available.\n",
      "You should consider upgrading via the '/home/ec2-user/anaconda3/envs/python3/bin/python -m pip install --upgrade pip' command.\u001b[0m\n"
     ]
    }
   ],
   "source": [
    "!pip install blueqat"
   ]
  },
  {
   "cell_type": "markdown",
   "metadata": {
    "colab_type": "text",
    "id": "CJhIv6UdASWQ"
   },
   "source": [
    "## マーキング\n",
    "まず2量子ビットのGroverからです。2量子ビットの組み合わせの場合の数は、00,01,10,11の4通りです。その中から特定の組み合わせを抜き出してみたいと思います。それを実現するにはゲート操作をつかって、「解に対応する状態ベクトルだけに-1がかかる対角行列を数学的に作り」ます。\n",
    " "
   ]
  },
  {
   "cell_type": "code",
   "execution_count": null,
   "metadata": {
    "colab": {},
    "colab_type": "code",
    "id": "eCbLursHB1My"
   },
   "outputs": [],
   "source": [
    "'''\n",
    "#00\n",
    "[[-1  0  0  0]\n",
    " [ 0  1  0  0]\n",
    " [ 0  0  1  0]\n",
    " [ 0  0  0  1]]\n",
    "\n",
    "#01\n",
    "[[ 1  0  0  0]\n",
    " [ 0 -1  0  0]\n",
    " [ 0  0  1  0]\n",
    " [ 0  0  0  1]]\n",
    "\n",
    "#10\n",
    "[[ 1  0  0  0]\n",
    " [ 0  1  0  0]\n",
    " [ 0  0 -1  0]\n",
    " [ 0  0  0  1]]\n",
    "\n",
    "#11\n",
    "[[ 1  0  0  0]\n",
    " [ 0  1  0  0]\n",
    " [ 0  0  1  0]\n",
    " [ 0  0  0 -1]]\n",
    " '''"
   ]
  },
  {
   "cell_type": "markdown",
   "metadata": {
    "colab_type": "text",
    "id": "zizMxwsLCAg4"
   },
   "source": [
    "このように、マーキングしたい状態ベクトルに対応する部分に-1を設定した行列を作ってかけます。"
   ]
  },
  {
   "cell_type": "markdown",
   "metadata": {
    "colab_type": "text",
    "id": "oXg3hf3yAkMS"
   },
   "source": [
    "## マーキング\n",
    "マーキング回路は下記のように重ね合わせの後に上記のゲートをかけます。下記のようにHのあとに各々のオラクルをつけます。*はコントロールゲート、Zはターゲットゲートです。対応するblueqatコードも併記します。"
   ]
  },
  {
   "cell_type": "code",
   "execution_count": null,
   "metadata": {
    "colab": {},
    "colab_type": "code",
    "id": "mV6JWcmHCMY2"
   },
   "outputs": [],
   "source": [
    "from blueqat import Circuit\n",
    "\n",
    "'''\n",
    "#00\n",
    "--H--S--*--S--\n",
    "--H--S--Z--S--\n",
    "'''\n",
    "\n",
    "Circuit(2).h[:].s[:].cz[0,1].s[:]\n",
    "\n",
    "'''\n",
    "#01\n",
    "--H-----*-----\n",
    "--H--S--Z--S--\n",
    "'''\n",
    "\n",
    "Circuit(2).h[:].s[1].cz[0,1].s[1]\n",
    "\n",
    "'''\n",
    "#10\n",
    "--H--S--*--S--\n",
    "--H-----Z-----\n",
    "'''\n",
    "\n",
    "Circuit(2).h[:].s[0].cz[0,1].s[0]\n",
    "\n",
    "'''\n",
    "#11\n",
    "--H-----*-----\n",
    "--H-----Z-----\n",
    "'''\n",
    "\n",
    "Circuit(2).h[:].cz[0,1]"
   ]
  },
  {
   "cell_type": "markdown",
   "metadata": {
    "colab_type": "text",
    "id": "U1uxGVsCCi85"
   },
   "source": [
    "## 振幅増幅反転\n",
    "振幅増幅反転は、対角項が-1、非対角項が+1の行列を用意することでマーキングした回路にかけることで、マーキングしたものの振幅が増幅されます。振幅増幅反転のユニタリ変換は各パターン共通となっています。こちらをBlueqatに直してみます。"
   ]
  },
  {
   "cell_type": "code",
   "execution_count": null,
   "metadata": {
    "colab": {},
    "colab_type": "code",
    "id": "uEO1xB4OCkcK"
   },
   "outputs": [],
   "source": [
    "Circuit(2).h[:].x[:].cz[0,1].x[:].h[:].m[:]\n",
    "\n",
    "'''\n",
    "--H-X-*-X-H--\n",
    "--H-X-Z-X-H--\n",
    "'''"
   ]
  },
  {
   "cell_type": "markdown",
   "metadata": {
    "colab_type": "text",
    "id": "yd5MaoRKCuWS"
   },
   "source": [
    "## 回路の実装\n",
    "では、実際の回路の実装です。"
   ]
  },
  {
   "cell_type": "code",
   "execution_count": 4,
   "metadata": {
    "colab": {
     "base_uri": "https://localhost:8080/",
     "height": 34
    },
    "colab_type": "code",
    "id": "3eRpgppa_1FI",
    "outputId": "c806ddfa-b713-4297-d97e-cb5a9f063c3b"
   },
   "outputs": [
    {
     "data": {
      "text/plain": [
       "Counter({'00': 100})"
      ]
     },
     "execution_count": 4,
     "metadata": {},
     "output_type": "execute_result"
    }
   ],
   "source": [
    "from blueqat import Circuit\n",
    "\n",
    "#振幅増幅反転\n",
    "a = Circuit(2).h[:].x[:].cz[0,1].x[:].h[:].m[:]\n",
    "\n",
    "'''\n",
    "#00回路\n",
    "--H--S--*--S----H-X-*-X-H--\n",
    "--H--S--Z--S----H-X-Z-X-H--\n",
    "'''\n",
    "\n",
    "(Circuit(2).h[:].s[:].cz[0,1].s[:] + a).run(shots=100)"
   ]
  },
  {
   "cell_type": "code",
   "execution_count": 5,
   "metadata": {
    "colab": {
     "base_uri": "https://localhost:8080/",
     "height": 34
    },
    "colab_type": "code",
    "id": "WcvE1NcLC4H7",
    "outputId": "9a109850-28fe-4991-ecd4-260ff59f11b4"
   },
   "outputs": [
    {
     "data": {
      "text/plain": [
       "Counter({'01': 100})"
      ]
     },
     "execution_count": 5,
     "metadata": {},
     "output_type": "execute_result"
    }
   ],
   "source": [
    "'''\n",
    "#01回路\n",
    "--H-----*-------H-X-*-X-H--\n",
    "--H--S--Z--S---H-X-Z-X-H--\n",
    "'''\n",
    "\n",
    "(Circuit(2).h[:].s[1].cz[0,1].s[1] + a).run(shots=100)"
   ]
  },
  {
   "cell_type": "code",
   "execution_count": 6,
   "metadata": {
    "colab": {
     "base_uri": "https://localhost:8080/",
     "height": 34
    },
    "colab_type": "code",
    "id": "N4BvigvuDHfu",
    "outputId": "8f692ae1-7dae-486b-9037-eb0592e2dfe8"
   },
   "outputs": [
    {
     "data": {
      "text/plain": [
       "Counter({'10': 100})"
      ]
     },
     "execution_count": 6,
     "metadata": {},
     "output_type": "execute_result"
    }
   ],
   "source": [
    "'''\n",
    "#10回路\n",
    "--H--S--*--S----H-X-*-X-H--\n",
    "--H-----Z--------H-X-Z-X-H--\n",
    "'''\n",
    "(Circuit(2).h[:].s[0].cz[0,1].s[0] + a).run(shots=100)"
   ]
  },
  {
   "cell_type": "code",
   "execution_count": 7,
   "metadata": {
    "colab": {
     "base_uri": "https://localhost:8080/",
     "height": 34
    },
    "colab_type": "code",
    "id": "wQ94cpSODMyP",
    "outputId": "3b57c351-6ab9-4563-9c33-2cc2bdcd16ba"
   },
   "outputs": [
    {
     "data": {
      "text/plain": [
       "Counter({'11': 100})"
      ]
     },
     "execution_count": 7,
     "metadata": {},
     "output_type": "execute_result"
    }
   ],
   "source": [
    "'''\n",
    "#11回路\n",
    "--H-----*-------H-X-*-X-H--\n",
    "--H-----Z-------H-X-Z-X-H--\n",
    "'''\n",
    "(Circuit(2).h[:].cz[0,1] + a).run(shots=100)"
   ]
  },
  {
   "cell_type": "markdown",
   "metadata": {
    "colab_type": "text",
    "id": "lP9JKP_xDgai"
   },
   "source": [
    "このようにできました。Groverのアルゴリズムが身近になりました。"
   ]
  },
  {
   "cell_type": "markdown",
   "metadata": {},
   "source": [
    "# 概要\n",
    "\n",
    "## Oracle\n",
    "まずはこのアルゴリズムに出てくるオラクルから説明します。\n",
    "簡単にいうと、ある入力に対し 0 あるいは 1 を返す関数です。\n",
    "例として、物を買う状況を考えましょう。お肉屋さんで買える物を 1、 買えない物を 0 とします。\n",
    "\n",
    "すると以下の状況になります。\n",
    "\n",
    "<img src=\"./img/016/016_0.png\" width=\"40%\">\n",
    "\n",
    "これを用いるとパソコンはお肉屋さんで買えなく、牛肉は買えるので、\n",
    "\n",
    "<img src=\"./img/016/016_1.png\" width=\"20%\">\n",
    "\n",
    "となります。\n",
    "\n",
    "このように 0 と 1 に分ける関数をオラクルと言います。\n",
    "\n",
    "今回は 1 つだけ 1 を返す Oracle を考えます。\n",
    "つまり $f$ の入力が 00...00 から 11...11 の $2^n$ 個でどこか一つだけ 1 を返し、それ以外は全て 0 を返すもとします。\n",
    "\n",
    "<img src=\"./img/014/014_02_0.png\" width=\"18%\">\n",
    "\n",
    "$x = \\omega$ で 1 を返すとしています。\n",
    "\n",
    "### Amplitude amplification (振幅増幅)\n",
    "振幅という言葉が出てきました。\n",
    "各状態の係数のことを**振幅**、確率のことを**確率振幅**と言います。\n",
    "\n",
    "以下の式を見てみます。\n",
    "\n",
    "<img src=\"./img/014/014_02_1.png\" width=\"50%\">\n",
    "\n",
    "この場合、矢印の左側では確率振幅は全て $1/4$ となり、\n",
    "右側の状態の確率振幅は 00 が 1 となっています。\n",
    "\n",
    "Amplitude amplification は言葉の通りこの確率振幅を上のように増幅させるアルゴリズムです。\n",
    "\n",
    "以下の図を用いて具体的な計算を説明します。\n",
    "\n",
    "<img width=\"30%\" src=\"https://upload.wikimedia.org/wikipedia/commons/1/16/Grovers_algorithm_geometry.png\">\n",
    "\n",
    "参考: https://en.wikipedia.org/wiki/Grover%27s_algorithm\n",
    "\n",
    "まずは記号の説明をします。\n",
    "s は全ビットの重ね合わせです。\n",
    "\n",
    "<img src=\"./img/014/014_02_2.png\" width=\"30%\">\n",
    "\n",
    "このうち、振幅増幅させたい状態を $\\omega$ としています。\n",
    "\n",
    "<img src=\"./img/014/014_02_3.png\" width=\"25%\">\n",
    "\n",
    "x 番目に1が入っているとします。\n",
    "\n",
    "s' は s から $\\omega$ を除いたベクトルです。\n",
    "\n",
    "<img src=\"./img/014/014_02_4.png\" width=\"20%\">\n",
    "\n",
    "$\\omega$ に垂直なことがわかります。\n",
    "\n",
    "次に上の図のように s' と $\\omega$ から成る単位円を考えます。\n",
    "ただし s' と $\\omega$ の長さが違うので\n",
    "\n",
    "<img src=\"./img/014/014_02_5.png\" width=\"30%\">\n",
    "\n",
    "として長さを共に 1 にします。\n",
    "\n",
    "このことから、単位円上のベクトル $\\psi$ は以下のように表せます。\n",
    "\n",
    "<img src=\"./img/014/014_02_6.png\" width=\"20%\">\n",
    "\n",
    "$U_{\\omega}$ は $s'$ を軸に $\\psi$ を反転させる行列です。\n",
    "すなわち $\\psi$ を $-\\phi$ 回転させます。\n",
    "\n",
    "<img src=\"./img/014/014_02_7.png\" width=\"50%\">\n",
    "\n",
    "$U_s$ は $\\psi$ を s で反転させる行列です。\n",
    "\n",
    "<img src=\"./img/014/014_02_8.png\" width=\"80%\">\n",
    "\n",
    "#### 概要\n",
    "アルゴリズムの概要は以下のようになります。\n",
    "\n",
    "1 s を $U_{\\omega}$ を用いて s' で折り返す。\n",
    "\n",
    "2 $U_{\\omega}$s を $U_s$ を用いて s で折り返す。\n",
    "\n",
    "以上の流れを詳しく説明していきます。\n",
    "\n",
    "#### 1. s' に関する折り返し\n",
    "s について上の図のように $\\theta$ を用いて\n",
    "\n",
    "<img src=\"./img/014/014_02_9.png\" width=\"25%\">\n",
    "\n",
    "と定義します。\n",
    "\n",
    "このとき\n",
    "\n",
    "<img src=\"./img/014/014_02_10.png\" width=\"30%\">\n",
    "\n",
    "と表せます。\n",
    "\n",
    "$U_{\\omega}$ で s を s' を軸に折り返します。\n",
    "上の図から以下のようにかけます。\n",
    "\n",
    "<img src=\"./img/014/014_02_11.png\" width=\"60%\">\n",
    "\n",
    "この操作に関しては $\\omega$ のみに作用しているので $U_{\\omega}$ は上で述べた Oracle を表していることがわかります。\n",
    "\n",
    "#### 2. s に関する折り返し\n",
    "$U_s$ で $U_{\\omega}$s を s を軸に折り返します。\n",
    "\n",
    "<img src=\"./img/014/014_02_12.png\" width=\"40%\">\n",
    "\n",
    "ここで $2\\theta$ 回転させれば良いので\n",
    "\n",
    "<img src=\"./img/014/014_02_13.png\" width=\"35%\">\n",
    "\n",
    "具体的に $\\cos$ と $\\sin$ を求めると加法定理から\n",
    "\n",
    "<img src=\"./img/014/014_02_14.png\" width=\"45%\">\n",
    "\n",
    "よって、s', $\\omega$ を用いると\n",
    "\n",
    "<img src=\"./img/014/014_02_15.png\" width=\"35%\">\n",
    "\n",
    "この操作によって $2^n$ 個の振幅のうち $\\omega$ が他のよりも約３倍大きくなりました。\n",
    "以上で振幅増幅させることができました。\n",
    "\n",
    "## Grover's algorithm\n",
    "このアルゴリズムでは上の Oracle が与えられたときに $\\omega$ を見つけることができます。\n",
    "\n",
    "内容としては振幅増幅を繰り返し行い、s を $\\omega$ に近づけるということをします。\n",
    "\n",
    "上の式から 1 回振幅増幅を行うと\n",
    "\n",
    "<img src=\"./img/014/014_02_16.png\" width=\"25%\">\n",
    "\n",
    "となりました。\n",
    "\n",
    "よって、$n$ 回振幅増幅を行うと\n",
    "\n",
    "<img src=\"./img/014/014_02_17.png\" width=\"70%\">\n",
    "\n",
    "と表せます。\n",
    "\n",
    "振幅増幅を行うに連れて上の図の初期状態 s が段々と $\\omega$ に近づいて行くことがわかります。\n",
    "つまり $\\omega$ の確率振幅が 1 になっていきます。\n",
    "ただこのまま繰り返ししても回転し続けるだけなので繰り返す回数を考える必要があります。\n",
    "\n",
    "$\\omega$ の確率振幅を 1 にするので\n",
    "\n",
    "<img src=\"./img/014/014_02_18.png\" width=\"50%\">\n",
    "\n",
    "以上から振幅増幅する回数が決まり、$\\omega$ が取れることがわかりました。\n",
    "\n",
    "## 補足 (量子プログラミングへの応用)\n",
    "量子プログラミングでは振幅増幅は以下のように考えます。\n",
    "\n",
    "$U_{\\omega}$ はシンプルに s の定義から $s = s' + \\omega$ と分けて考えると\n",
    "\n",
    "<img src=\"./img/014/014_02_19.png\" width=\"20%\">\n",
    "\n",
    "となります。\n",
    "つまりZ、CZゲートなどのように特定の状態だけ符号を変えるゲートを用いれば良いことがわかります。\n",
    "\n",
    "$U_s$ は上の図から幾何的に考えると以下のようにかけます。\n",
    "\n",
    "<img src=\"./img/014/014_02_20.png\" width=\"35%\">\n",
    "\n",
    "よって $U_s = 2|s\\rangle \\langle s| - I$ となります。\n",
    "\n",
    "さらに $U_s$ は以下のように分解できます。\n",
    "\n",
    "<img src=\"./img/014/014_02_21.png\" width=\"70%\">\n",
    "\n",
    "ここで $2|0^n><0^n|-I$ に関して\n",
    "\n",
    "<img src=\"./img/014/014_02_22.png\" width=\"35%\">\n",
    "\n",
    "と表せる。\n",
    "\n",
    "これは\n",
    "\n",
    "<img src=\"./img/014/014_02_23.png\" width=\"18%\">\n",
    "\n",
    "の性質から\n",
    "\n",
    "<img src=\"./img/014/014_02_24.png\" width=\"28%\">\n",
    "\n",
    "とかける。\n",
    "\n",
    "以上から Grover's algorithm をゲートで書き直すことができた。"
   ]
  },
  {
   "cell_type": "code",
   "execution_count": null,
   "metadata": {},
   "outputs": [],
   "source": []
  }
 ],
 "metadata": {
  "colab": {
   "collapsed_sections": [],
   "name": "014_algo_grover.ipynb",
   "provenance": [],
   "version": "0.3.2"
  },
  "kernelspec": {
   "display_name": "conda_python3",
   "language": "python",
   "name": "conda_python3"
  },
  "language_info": {
   "codemirror_mode": {
    "name": "ipython",
    "version": 3
   },
   "file_extension": ".py",
   "mimetype": "text/x-python",
   "name": "python",
   "nbconvert_exporter": "python",
   "pygments_lexer": "ipython3",
   "version": "3.6.5"
  }
 },
 "nbformat": 4,
 "nbformat_minor": 1
}

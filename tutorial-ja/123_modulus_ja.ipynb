{
 "cells": [
  {
   "cell_type": "markdown",
   "metadata": {
    "colab_type": "text",
    "id": "NjHnSAbHrInP"
   },
   "source": [
    "# 乗除演算\n",
    "一般の足し算と引き算の仕組みを利用してあまりを求めようと思います。\n",
    "\n",
    "回路は以下のようになります。\n",
    "\n",
    "<img src=\"https://qiita-user-contents.imgix.net/https%3A%2F%2Fqiita-image-store.s3.ap-northeast-1.amazonaws.com%2F0%2F218694%2Ff161e722-f727-b6fb-d02b-24e40b5b63b1.png?ixlib=rb-1.2.2&auto=format&gif-q=60&q=75&s=da298eace648814b5ccfe4affa9301ca\">\n",
    "\n",
    "ここで $0 < a,b < N$ とします。\n",
    "最後のビットは overflow を確認するもので temporary bit と呼ばれます。"
   ]
  },
  {
   "cell_type": "markdown",
   "metadata": {},
   "source": [
    "## 実装手順\n",
    "$a+b \\mod N$ を求めるためには $a+b$ と $N$ の大小を比較する必要があります。\n",
    "\n",
    "$a+b>N$ のとき  \n",
    "$0<a,b<N$ より $0<a+b<2N$ よって $0<a+b-N<N$ より $a+b-N = (a+b) \\mod N$\n",
    "\n",
    "$a+b<N$ のとき  \n",
    "$a+b = (a+b) \\mod N$\n",
    "\n",
    "これを量子回路で行います。\n",
    "\n",
    "$a+b>N$\n",
    "\n",
    "<img src=\"https://qiita-user-contents.imgix.net/https%3A%2F%2Fqiita-image-store.s3.ap-northeast-1.amazonaws.com%2F0%2F218694%2F5c97b6fd-425b-c42b-057a-68d9cb47e457.jpeg?ixlib=rb-1.2.2&auto=format&gif-q=60&q=75&s=3711f239a543dc4aa175f4636adde888\">\n",
    "\n",
    "$a+b<N$\n",
    "\n",
    "<img src=\"https://qiita-user-contents.imgix.net/https%3A%2F%2Fqiita-image-store.s3.ap-northeast-1.amazonaws.com%2F0%2F218694%2Fcb7bc1bf-e713-f7d4-9cdc-4bc47bb6eba8.jpeg?ixlib=rb-1.2.2&auto=format&gif-q=60&q=75&s=425f2f86ef9d5b5c27b1c1f1ddfab936\">\n",
    "\n",
    "余剰の量子ビットと加算器の最上位の量子ビットの値を使ってうまく場合分けをしています。a+b<N の場合には余剰ビットを使わず余計な操作もありません。"
   ]
  },
  {
   "cell_type": "markdown",
   "metadata": {
    "colab_type": "text",
    "id": "MG6ANG-i8J6s"
   },
   "source": [
    "## 例題\n",
    "簡単な例題を見てみます。\n",
    "\n",
    "$3 + 5 < 7$ のとき  \n",
    "$(3 + 5) \\mod 7 = 1$\n",
    "\n",
    "$3 + 5 > 11$ のとき  \n",
    "$(3 + 5) \\mod 11 = 8$\n",
    "\n",
    "これを量子回路を使って実現しようというのが今回の剰余演算です。"
   ]
  },
  {
   "cell_type": "markdown",
   "metadata": {},
   "source": [
    "## Blueqatのインストール\n",
    "pipからBlueqatをインストールします。"
   ]
  },
  {
   "cell_type": "code",
   "execution_count": 1,
   "metadata": {},
   "outputs": [
    {
     "name": "stdout",
     "output_type": "stream",
     "text": [
      "Requirement already satisfied: blueqat in /home/ec2-user/anaconda3/envs/python3/lib/python3.6/site-packages (0.3.13)\n",
      "Requirement already satisfied: scipy>=1.1.0 in /home/ec2-user/anaconda3/envs/python3/lib/python3.6/site-packages (from blueqat) (1.1.0)\n",
      "Requirement already satisfied: numpy~=1.12 in /home/ec2-user/anaconda3/envs/python3/lib/python3.6/site-packages (from blueqat) (1.18.3)\n",
      "\u001b[33mWARNING: You are using pip version 20.0.2; however, version 20.1 is available.\n",
      "You should consider upgrading via the '/home/ec2-user/anaconda3/envs/python3/bin/python -m pip install --upgrade pip' command.\u001b[0m\n"
     ]
    }
   ],
   "source": [
    "!pip install blueqat"
   ]
  },
  {
   "cell_type": "markdown",
   "metadata": {},
   "source": [
    "### 実装\n",
    "実装するために下準備をします。\n",
    "\n",
    "今回は上の回路に N をもう１つ加えて temporary bit と N を対応させます。  \n",
    "初期状態を以下のようにします。\n",
    "\n",
    "```\n",
    "c0 --\n",
    "a0 --\n",
    "b0 --\n",
    "c1 --\n",
    "..\n",
    "n0 --\n",
    "n1 --\n",
    "..\n",
    "t  --\n",
    "n0 --\n",
    "n1 --\n",
    "..\n",
    "```\n",
    "\n",
    "また各桁は $0<a,b<N$ より $N$ に統一します。 "
   ]
  },
  {
   "cell_type": "code",
   "execution_count": 118,
   "metadata": {
    "colab": {
     "base_uri": "https://localhost:8080/",
     "height": 34
    },
    "colab_type": "code",
    "id": "O674HiVxjc7P",
    "outputId": "e1b98357-9000-40f6-a35e-85c6c4432cd0"
   },
   "outputs": [],
   "source": [
    "from blueqat import Circuit\n",
    "\n",
    "#ビットのキャリー回路\n",
    "def carry(a):\n",
    "    return Circuit().ccx[a+1,a+2,a+3].cx[a+1,a+2].ccx[a,a+2,a+3]\n",
    "\n",
    "#ビットのキャリー回路の逆\n",
    "def carry_reverse(a):\n",
    "    return Circuit().ccx[a,a+2,a+3].cx[a+1,a+2].ccx[a+1,a+2,a+3]\n",
    "\n",
    "#ビットの合計\n",
    "def sum(a):\n",
    "    return Circuit().cx[a+1,a+2].cx[a,a+2] \n",
    "\n",
    "#ビットの合計の逆\n",
    "def sum_reverse(a):\n",
    "    return Circuit().cx[a,a+2].cx[a+1,a+2]\n",
    "\n",
    "#10進数を2進数に\n",
    "def tobinary(A):\n",
    "    return bin(A)[2:] \n",
    "\n",
    "#3つの10進数を2進数に直して、桁を揃えてモジュロ回路の順にビットを並べ替える。一番下に判定用のビットを１つ加える。\n",
    "def digits2(a,b,n): \n",
    "     aa = tobinary(a)  \n",
    "     bb = tobinary(b)  \n",
    "     nn = tobinary(n)  \n",
    "\n",
    "     nlen = len(nn)  \n",
    "     aa = aa.zfill(nlen) \n",
    "     bb = bb.zfill(nlen) \n",
    "\n",
    "     str = '' \n",
    "     for i in range(nlen): \n",
    "         str += '0' + aa[nlen-i-1] + bb[nlen-i-1] \n",
    "     str += '0' \n",
    "\n",
    "     for i in range(nlen): \n",
    "         str += nn[nlen-i-1]  \n",
    "\n",
    "     str += '0'\n",
    "\n",
    "     for i in range(nlen): \n",
    "        str += nn[nlen-i-1]\n",
    "\n",
    "     return str\n",
    "\n",
    "#ビット文字列をXゲートを使ったデータ入力回路に変換\n",
    "def toX(a): \n",
    "     cir = Circuit(len(a)) \n",
    "     for i in range(len(a)): \n",
    "         if a[i] == \"1\": \n",
    "             cir += Circuit().x[i] \n",
    "     return cir\n",
    "\n",
    "#足し算回路\n",
    "def plus(a,b,n): \n",
    "     qubits = len(digits2(a,b,n))\n",
    "     digi = len(tobinary(n))\n",
    "\n",
    "     cir2 = Circuit(qubits)     \n",
    "     for i in range(digi): \n",
    "         cir2 += carry(i*3) \n",
    "\n",
    "     cir3 = Circuit(qubits).cx[(digi-1)*3+1,(digi-1)*3+2] + sum((digi-1)*3)\n",
    "\n",
    "     cir4 = Circuit(qubits) \n",
    "     for i in range(digi-1): \n",
    "         cir4 += carry_reverse((digi-i-2)*3) \n",
    "         cir4 += sum((digi-i-2)*3)\n",
    "\n",
    "     cir_plus = cir2 + cir3 + cir4\n",
    "     return cir_plus\n",
    "\n",
    "#引き算回路\n",
    "def minus(a,ab,n): \n",
    "     qubits = len(digits2(a,ab,n))\n",
    "     digi = len(tobinary(n))\n",
    "\n",
    "     cir4 = Circuit(qubits) \n",
    "     for i in range(digi-1): \n",
    "         cir4 += sum_reverse(i*3)\n",
    "         cir4 += carry(i*3) \n",
    "\n",
    "     cir3 = sum_reverse((digi-1)*3) + Circuit(qubits).cx[(digi-1)*3+1,(digi-1)*3+2] \n",
    "\n",
    "     cir2 = Circuit(qubits)     \n",
    "     for i in range(digi): \n",
    "         cir2 += carry_reverse((digi-1-i)*3) \n",
    "\n",
    "     cir_minus = cir4 + cir3 + cir2\n",
    "     return cir_minus\n",
    "\n",
    "#aとNを交換\n",
    "def swap(n):\n",
    "    digi = len(tobinary(n))\n",
    "    cir = Circuit(5*digi+2)\n",
    "    for i in range(digi):\n",
    "        cir += Circuit(5*digi+2).swap[3*i+1,3*digi+1+i]\n",
    "    return cir\n",
    "\n",
    "#2進数を10進数に\n",
    "def todecimal(A):\n",
    "    return int(str(A),2) \n",
    "\n",
    "#回路から解だけを抜き出す\n",
    "def getb(result,n): \n",
    "     str = \"\"\n",
    "     digi = len(tobinary(n)) \n",
    "     for i in range(digi): \n",
    "         str += result[3*(digi-i)-1]\n",
    "     return todecimal(str)"
   ]
  },
  {
   "cell_type": "markdown",
   "metadata": {},
   "source": [
    "### 一般化回路\n",
    "以上で全ての準備が整ったので剰余演算回路を作ります。"
   ]
  },
  {
   "cell_type": "code",
   "execution_count": 119,
   "metadata": {
    "colab": {
     "base_uri": "https://localhost:8080/",
     "height": 34
    },
    "colab_type": "code",
    "id": "IgDHp3r57XCM",
    "outputId": "49213c4e-535c-4c43-cf1c-1d76a1a5906f"
   },
   "outputs": [],
   "source": [
    "def adder_mod(a,b,n):\n",
    "    digi = len(tobinary(n))\n",
    "\n",
    "    # 最初の部分\n",
    "    part1 = toX(digits2(a,b,n)) + plus(a,b,n) + swap(n) + minus(a,b,n)\n",
    "\n",
    "    # overflow を temporary bit に格納\n",
    "    part2 = Circuit(5*digi+2).x[digi*3].cx[digi*3,digi*4+1].x[digi*3]\n",
    "\n",
    "    # temporary bit で N を返す\n",
    "    part3 = Circuit(5*digi+2)\n",
    "    for i in range(digi):\n",
    "        part3 += Circuit(5*digi+2).ccx[4*digi+2+i,4*digi+1,3*i+1]\n",
    "\n",
    "    # 最後の部分\n",
    "    part4 = minus(a,b,n)+Circuit(5*digi+2).cx[digi*3,digi*4+1]+plus(a,b,n)\n",
    "    \n",
    "    result = (part1+part2+part3+plus(a,b,n)+part3+swap(n)+part4).m[:].run(shots=1)\n",
    "    return getb(result.most_common()[0][0],n)"
   ]
  },
  {
   "cell_type": "markdown",
   "metadata": {},
   "source": [
    "実際に計算してみます。"
   ]
  },
  {
   "cell_type": "code",
   "execution_count": 120,
   "metadata": {
    "colab": {
     "base_uri": "https://localhost:8080/",
     "height": 34
    },
    "colab_type": "code",
    "id": "t51TwH7k7Z6q",
    "outputId": "1524f8df-048a-4106-aae3-cdd8308fc36e"
   },
   "outputs": [
    {
     "output_type": "execute_result",
     "data": {
      "text/plain": "2"
     },
     "metadata": {},
     "execution_count": 120
    }
   ],
   "source": [
    "adder_mod(4,3,5)"
   ]
  },
  {
   "cell_type": "code",
   "execution_count": 121,
   "metadata": {
    "colab": {
     "base_uri": "https://localhost:8080/",
     "height": 34
    },
    "colab_type": "code",
    "id": "hbY49XMd7ftR",
    "outputId": "33c8f0c4-0161-4f89-b86a-2b6146448d3a"
   },
   "outputs": [
    {
     "output_type": "execute_result",
     "data": {
      "text/plain": "3"
     },
     "metadata": {},
     "execution_count": 121
    }
   ],
   "source": [
    "adder_mod(4,4,5)"
   ]
  },
  {
   "cell_type": "code",
   "execution_count": 122,
   "metadata": {
    "colab": {
     "base_uri": "https://localhost:8080/",
     "height": 34
    },
    "colab_type": "code",
    "id": "ZuM7g9WJ7jbN",
    "outputId": "1b65d457-0232-40a0-fda8-ce1a417b553c"
   },
   "outputs": [
    {
     "output_type": "execute_result",
     "data": {
      "text/plain": "0"
     },
     "metadata": {},
     "execution_count": 122
    }
   ],
   "source": [
    "adder_mod(1,5,6)"
   ]
  },
  {
   "cell_type": "markdown",
   "metadata": {},
   "source": [
    "一般の剰余演算回路を実装できました。"
   ]
  },
  {
   "cell_type": "markdown",
   "metadata": {},
   "source": [
    "### 参考文献\n",
    "V. Vedral, A. Barenco, A. Ekert, \"Quantum Networks for Elementary Arithmetic Operations\",  \n",
    "(Submitted on 16 Nov 1995)  \n",
    "https://arxiv.org/pdf/quant-ph/9511018.pdf"
   ]
  },
  {
   "cell_type": "code",
   "execution_count": null,
   "metadata": {},
   "outputs": [],
   "source": []
  }
 ],
 "metadata": {
  "colab": {
   "collapsed_sections": [],
   "name": "010_basic_multi.ipynb",
   "provenance": [],
   "version": "0.3.2"
  },
  "kernelspec": {
   "display_name": "Python 3.7.6 64-bit ('dwave': conda)",
   "language": "python",
   "name": "python37664bitdwavecondaaa252b8d749942f1b803140f9f138e1e"
  },
  "language_info": {
   "codemirror_mode": {
    "name": "ipython",
    "version": 3
   },
   "file_extension": ".py",
   "mimetype": "text/x-python",
   "name": "python",
   "nbconvert_exporter": "python",
   "pygments_lexer": "ipython3",
   "version": "3.7.6-final"
  }
 },
 "nbformat": 4,
 "nbformat_minor": 1
}
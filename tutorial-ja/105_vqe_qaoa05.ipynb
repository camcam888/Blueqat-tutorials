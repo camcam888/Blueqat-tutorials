{
  "nbformat": 4,
  "nbformat_minor": 0,
  "metadata": {
    "colab": {
      "name": "105vqe_qaoa05.ipynb",
      "provenance": []
    },
    "kernelspec": {
      "name": "python3",
      "display_name": "Python 3"
    }
  },
  "cells": [
    {
      "cell_type": "markdown",
      "metadata": {
        "id": "uurb0InJyD86",
        "colab_type": "text"
      },
      "source": [
        "#Variational Quantum Eigensolver(VQE)、QAOAセミナー 2-5（組合せ最適化問題編3）"
      ]
    },
    {
      "cell_type": "markdown",
      "metadata": {
        "id": "iUm4nWSZyOc7",
        "colab_type": "text"
      },
      "source": [
        "##2-5-4 実例：交通最適化\n",
        "交通最適化は度々出てくるテーマです。やることは、\n",
        "\n",
        "１、１台の車に３つのルート選択を許容する（古典）\n",
        "２、現在の選択ルートから混雑状況を計算（古典）\n",
        "３、混雑度を最小にするようにルート選択を最小化（QAOA）\n",
        "\n",
        "となります。参考を確認します。\n",
        "\n",
        "「Quantum Computing at Volkswagen:\n",
        "Traffic Flow Optimization using the D-Wave Quantum Annealer」\n",
        "引用：https://www.dwavesys.com/sites/default/files/VW.pdf\n",
        "\n",
        "スタートAからゴールBまで12の道路が通し番号0から11まで付けられています。自動車１と自動車２があり、それぞれ指定されたルートを取ります。ルートはそれぞれ3つずつ提案されており、そのうちの一つを取ります。今回は一番混雑度が低くなるようなルートを選択します。\n",
        "\n",
        "<img src=\"https://qiita-user-contents.imgix.net/https%3A%2F%2Fqiita-image-store.s3.ap-northeast-1.amazonaws.com%2F0%2F218694%2F2a1884aa-1fef-4e5d-94e9-810ada5b6788.png?ixlib=rb-1.2.2&auto=format&gif-q=60&q=75&w=1400&fit=max&s=2858aaec1767a1fcbb21ecfcb4644958\">\n",
        "\n",
        "一つ目は混雑度をコスト関数として実装します。上記からs0,s3,...のように、道路を指定して各出現回数を足し合わせて二乗します。上記提案ルートには、q0からq5まで通し番号を降っています。\n",
        "\n",
        "$$\n",
        "(q_0+q_1+q_3+q_4)^2+(q_0+q_1+q_3+q_4)^2+(q_0+q_3)^2+(q_0+q_3)^2+(q_1+q_4)^2+(q_1+q_2+q_4+q_5)^2+(q_2+q_5)^2+(q_2+q_5)^2+(q_2+q_5)^2\\\\ \n",
        "=2(q_0+q_1+q_3+q_4)^2+2(q_0+q_3)^2+(q_1+q_4)^2+(q_1+q_2+q_4+q_5)^2+3(q_2+q_5)^2\\\\ \n",
        "=4q_0^2+4q_0q_1+8q_0q_3+4q_0q_4+4q_1^2+2q_1q_2+4q_1q_3+8q_1q_4+2q_1q_5+4q_2^2 +2q_2q_4+8q_2q_5+4q_3^2+4q_3q_4+4q_4^2+2q_4q_5+4q_5^2\\\\\n",
        "=4q_0+4q_0q_1+8q_0q_3+4q_0q_4+4q_1+2q_1q_2+4q_1q_3+8q_1q_4+2q_1q_5+4q_2 +2q_2q_4+8q_2q_5+4q_3+4q_3q_4+4q_4+2q_4q_5+4q_5\n",
        "$$\n",
        "\n",
        "上記は混雑度ですが、もう一つ設定する必要があります。３つのルートのうちに１つをえらぶ制約条件です。\n",
        "\n",
        "$$\n",
        "K(q_0+q_1+q_2-1)^2+K(q_3+q_4+q_5-1)^2 = -Kq_0+2Kq_0q_1+2Kq_0q_2-Kq_1+2Kq_1q_2-Kq_2-Kq_3+2Kq_3q_4+2Kq_3q_5-Kq_4+2Kq_4q_5-Kq_5+2K\n",
        "$$\n",
        "\n",
        "試しに制約条件だけを解いてみます。"
      ]
    },
    {
      "cell_type": "code",
      "metadata": {
        "id": "YsgMbM9Lxp0q",
        "colab_type": "code",
        "colab": {
          "base_uri": "https://localhost:8080/",
          "height": 136
        },
        "outputId": "d9001343-733d-457f-c43e-d5df5f16fa71"
      },
      "source": [
        "!pip3 install blueqat"
      ],
      "execution_count": 1,
      "outputs": [
        {
          "output_type": "stream",
          "text": [
            "Collecting blueqat\n",
            "\u001b[?25l  Downloading https://files.pythonhosted.org/packages/f6/73/20f9cff48caee1f69190f2e1ea93c4d7d0a745fc48defb5d3072d8337583/blueqat-0.3.13-py3-none-any.whl (50kB)\n",
            "\r\u001b[K     |██████▌                         | 10kB 19.9MB/s eta 0:00:01\r\u001b[K     |█████████████                   | 20kB 1.8MB/s eta 0:00:01\r\u001b[K     |███████████████████▍            | 30kB 2.4MB/s eta 0:00:01\r\u001b[K     |█████████████████████████▉      | 40kB 1.7MB/s eta 0:00:01\r\u001b[K     |████████████████████████████████| 51kB 1.6MB/s \n",
            "\u001b[?25hRequirement already satisfied: scipy>=1.1.0 in /usr/local/lib/python3.6/dist-packages (from blueqat) (1.4.1)\n",
            "Requirement already satisfied: numpy~=1.12 in /usr/local/lib/python3.6/dist-packages (from blueqat) (1.17.5)\n",
            "Installing collected packages: blueqat\n",
            "Successfully installed blueqat-0.3.13\n"
          ],
          "name": "stdout"
        }
      ]
    },
    {
      "cell_type": "code",
      "metadata": {
        "id": "oKKI9ldvyVrn",
        "colab_type": "code",
        "colab": {
          "base_uri": "https://localhost:8080/",
          "height": 54
        },
        "outputId": "91510030-57fc-40cc-e8e4-a2d083c8bd66"
      },
      "source": [
        "from blueqat import vqe\n",
        "from blueqat.pauli import qubo_bit as q\n",
        "\n",
        "K=2\n",
        "cost2 = -K*q(0)+2*K*q(0)*q(1)+2*K*q(0)*q(2)-K*q(1)+2*K*q(1)*q(2)-K*q(2)-K*q(3)+2*K*q(3)*q(4)+2*K*q(3)*q(5)-K*q(4)+2*K*q(4)*q(5)-K*q(5)\n",
        " \n",
        "step = 4\n",
        "\n",
        "result = vqe.Vqe(vqe.QaoaAnsatz(cost2, step)).run()\n",
        "print(result.most_common(12))"
      ],
      "execution_count": 2,
      "outputs": [
        {
          "output_type": "stream",
          "text": [
            "(((1, 0, 0, 1, 0, 0), 0.08929612774285173), ((0, 1, 0, 1, 0, 0), 0.08929612774285173), ((1, 0, 0, 0, 1, 0), 0.08929612774285173), ((0, 0, 1, 0, 1, 0), 0.08929612774285173), ((0, 0, 1, 1, 0, 0), 0.0892961277428517), ((0, 1, 0, 0, 1, 0), 0.0892961277428517), ((0, 1, 0, 0, 0, 1), 0.08929612774285166), ((0, 0, 1, 0, 0, 1), 0.08929612774285166), ((1, 0, 0, 0, 0, 1), 0.08929612774285162), ((0, 0, 0, 0, 0, 1), 0.016000323795117205), ((0, 0, 1, 0, 0, 0), 0.0160003237951172), ((0, 1, 0, 0, 0, 0), 0.01600032379511716))\n"
          ],
          "name": "stdout"
        }
      ]
    },
    {
      "cell_type": "markdown",
      "metadata": {
        "id": "HQ7NUmIEyY85",
        "colab_type": "text"
      },
      "source": [
        "上手くできました。この二つを繋げてQUBO式とします。そして、実行します。"
      ]
    },
    {
      "cell_type": "code",
      "metadata": {
        "id": "cmGMDTaYyWLW",
        "colab_type": "code",
        "colab": {
          "base_uri": "https://localhost:8080/",
          "height": 54
        },
        "outputId": "ee5d295e-41b6-4b3b-e995-a46cccb1a96f"
      },
      "source": [
        "from blueqat import vqe\n",
        "from blueqat.pauli import qubo_bit as q\n",
        "\n",
        "K=10\n",
        "cost1 = 4*q(0)+4*q(0)*q(1)+8*q(0)*q(3)+4*q(0)*q(4)+4*q(1)+2*q(1)*q(2)+4*q(1)*q(3)+8*q(1)*q(4)+2*q(1)*q(5)+4*q(2)+2*q(2)*q(4)+8*q(2)*q(5)+4*q(3)+4*q(3)*q(4)+4*q(4)+2*q(4)*q(5)+4*q(5)\n",
        "cost2 = -K*q(0)+2*K*q(0)*q(1)+2*K*q(0)*q(2)-K*q(1)+2*K*q(1)*q(2)-K*q(2)-K*q(3)+2*K*q(3)*q(4)+2*K*q(3)*q(5)-K*q(4)+2*K*q(4)*q(5)-K*q(5)\n",
        " \n",
        "step = 8\n",
        "\n",
        "result = vqe.Vqe(vqe.QaoaAnsatz(cost1+cost2, step)).run()\n",
        "print(result.most_common(12))"
      ],
      "execution_count": 3,
      "outputs": [
        {
          "output_type": "stream",
          "text": [
            "(((1, 0, 0, 1, 0, 0), 0.24117168488892132), ((0, 0, 1, 0, 0, 1), 0.13437140649191856), ((0, 0, 0, 1, 0, 0), 0.04531316000311006), ((1, 0, 0, 0, 0, 0), 0.04531316000311002), ((0, 0, 1, 0, 1, 0), 0.04024903117583349), ((0, 1, 0, 0, 0, 1), 0.04024903117583346), ((0, 0, 1, 0, 0, 0), 0.038754341983826525), ((0, 0, 0, 0, 0, 1), 0.038754341983826504), ((0, 1, 1, 0, 1, 1), 0.034975224805835314), ((0, 0, 0, 0, 1, 0), 0.027789605329907527), ((0, 1, 0, 0, 0, 0), 0.02778960532990752), ((0, 0, 0, 0, 0, 0), 0.027589638428440665))\n"
          ],
          "name": "stdout"
        }
      ]
    },
    {
      "cell_type": "markdown",
      "metadata": {
        "id": "eeuy683fyeSo",
        "colab_type": "text"
      },
      "source": [
        "なかなかいい答えが出ませんが、うまくいけば制約条件を満たす解を与えます。\n"
      ]
    }
  ]
}
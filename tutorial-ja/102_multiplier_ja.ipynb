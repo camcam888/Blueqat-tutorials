{
 "cells": [
  {
   "cell_type": "markdown",
   "metadata": {
    "colab_type": "text",
    "id": "NjHnSAbHrInP"
   },
   "source": [
    "# かけ算\n",
    "今回は二進数同士のかけ算を見てみましょう。"
   ]
  },
  {
   "cell_type": "markdown",
   "metadata": {},
   "source": [
    "## 今回学ぶこと\n",
    "1. 二進数のかけ算について\n",
    "2. 回路を作成"
   ]
  },
  {
   "cell_type": "markdown",
   "metadata": {
    "colab_type": "text",
    "id": "PKhFYi-drld1"
   },
   "source": [
    "## 二進数の掛け算について\n",
    "２つの数をくらいごとにかけてずらして足し合わせます。その際に量子ビットを利用して桁上がりを考慮します。\n",
    "\n",
    "0 * 0 = 0  \n",
    "0 * 1 = 0  \n",
    "1 * 0 = 0  \n",
    "1 * 1 = 1  \n",
    "\n",
    "これはccxゲートの挙動に対応しています。ccxゲートを利用してかけ算を行い、その後各位を足し合わせます。"
   ]
  },
  {
   "cell_type": "markdown",
   "metadata": {
    "colab_type": "text",
    "id": "MG6ANG-i8J6s"
   },
   "source": [
    "## 例題\n",
    "まずは例題を行います。01 * 10 = ?をときます。答えは、01 * 10 = 0010 となります。これを量子回路を利用して解きます。\n",
    "\n",
    "\n",
    "``` \n",
    "\n",
    "   01   a\n",
    "*  10   b\n",
    "-------\n",
    "   00   c\n",
    "  01    c\n",
    "-------\n",
    "  0     z\n",
    " 0      z\n",
    "-------\n",
    " 0010   x\n",
    "```\n",
    "\n",
    "では、早速実装へ。まずは2進数の数を２つ用意します。a * bを考えますが、aの0のくらいとaの2の位を用意して、それぞれa0とa2とします。bも同様です。\n",
    "\n",
    "今回最終的に実現するのは|a,b,x> => |a, b, a * b >とします。求めたいのはx0,x2,x4,x8です。cは途中の計算用のビット。zは桁上がりビットを想定します。\n",
    "\n",
    "<img src=\"./img/010_basic_multi01.png\">\n"
   ]
  },
  {
   "cell_type": "code",
   "execution_count": 1,
   "metadata": {},
   "outputs": [
    {
     "name": "stdout",
     "output_type": "stream",
     "text": [
      "Requirement already satisfied: blueqat in /home/ec2-user/anaconda3/envs/python3/lib/python3.6/site-packages (0.3.13)\n",
      "Requirement already satisfied: scipy>=1.1.0 in /home/ec2-user/anaconda3/envs/python3/lib/python3.6/site-packages (from blueqat) (1.1.0)\n",
      "Requirement already satisfied: numpy~=1.12 in /home/ec2-user/anaconda3/envs/python3/lib/python3.6/site-packages (from blueqat) (1.18.3)\n",
      "\u001b[33mWARNING: You are using pip version 20.0.2; however, version 20.1 is available.\n",
      "You should consider upgrading via the '/home/ec2-user/anaconda3/envs/python3/bin/python -m pip install --upgrade pip' command.\u001b[0m\n"
     ]
    }
   ],
   "source": [
    "!pip install blueqat"
   ]
  },
  {
   "cell_type": "code",
   "execution_count": 4,
   "metadata": {
    "colab": {
     "base_uri": "https://localhost:8080/",
     "height": 34
    },
    "colab_type": "code",
    "id": "O674HiVxjc7P",
    "outputId": "e1b98357-9000-40f6-a35e-85c6c4432cd0"
   },
   "outputs": [
    {
     "data": {
      "text/plain": [
       "Counter({'00000000000000': 100})"
      ]
     },
     "execution_count": 4,
     "metadata": {},
     "output_type": "execute_result"
    }
   ],
   "source": [
    "from blueqat import Circuit\n",
    "\n",
    "C1 = Circuit().ccx[0,1,2].ccx[1,3,5].ccx[0,4,6].ccx[3,4,7].ccx[5,6,8].ccx[7,8,9].cx[2,10].cx[5,11].cx[6,11].cx[7,12].cx[8,12].cx[9,13] \n",
    "\n",
    "#00 * 00 = 0000\n",
    "(Circuit() + C1).m[:].run(shots=100)"
   ]
  },
  {
   "cell_type": "code",
   "execution_count": 17,
   "metadata": {
    "colab": {
     "base_uri": "https://localhost:8080/",
     "height": 34
    },
    "colab_type": "code",
    "id": "IgDHp3r57XCM",
    "outputId": "49213c4e-535c-4c43-cf1c-1d76a1a5906f"
   },
   "outputs": [
    {
     "data": {
      "text/plain": [
       "Counter({'11100000001000': 100})"
      ]
     },
     "execution_count": 17,
     "metadata": {},
     "output_type": "execute_result"
    }
   ],
   "source": [
    "#01 * 01 = 0001\n",
    "(Circuit().x[0,1] + C1).m[:].run(shots=100)"
   ]
  },
  {
   "cell_type": "code",
   "execution_count": 16,
   "metadata": {
    "colab": {
     "base_uri": "https://localhost:8080/",
     "height": 34
    },
    "colab_type": "code",
    "id": "t51TwH7k7Z6q",
    "outputId": "1524f8df-048a-4106-aae3-cdd8308fc36e"
   },
   "outputs": [
    {
     "data": {
      "text/plain": [
       "Counter({'01010100000100': 100})"
      ]
     },
     "execution_count": 16,
     "metadata": {},
     "output_type": "execute_result"
    }
   ],
   "source": [
    "#10 * 01 = 0010\n",
    "(Circuit().x[3,1] + C1).m[:].run(shots=100)"
   ]
  },
  {
   "cell_type": "code",
   "execution_count": 15,
   "metadata": {
    "colab": {
     "base_uri": "https://localhost:8080/",
     "height": 34
    },
    "colab_type": "code",
    "id": "hbY49XMd7ftR",
    "outputId": "33c8f0c4-0161-4f89-b86a-2b6146448d3a"
   },
   "outputs": [
    {
     "data": {
      "text/plain": [
       "Counter({'10001010000100': 100})"
      ]
     },
     "execution_count": 15,
     "metadata": {},
     "output_type": "execute_result"
    }
   ],
   "source": [
    "#01 * 10 = 0010\n",
    "(Circuit().x[0,4] + C1).m[:].run(shots=100)"
   ]
  },
  {
   "cell_type": "code",
   "execution_count": 14,
   "metadata": {
    "colab": {
     "base_uri": "https://localhost:8080/",
     "height": 34
    },
    "colab_type": "code",
    "id": "ZuM7g9WJ7jbN",
    "outputId": "1b65d457-0232-40a0-fda8-ce1a417b553c"
   },
   "outputs": [
    {
     "data": {
      "text/plain": [
       "Counter({'00011001000010': 100})"
      ]
     },
     "execution_count": 14,
     "metadata": {},
     "output_type": "execute_result"
    }
   ],
   "source": [
    "#10 * 10 = 0100\n",
    "(Circuit().x[3,4] + C1).m[:].run(shots=100) "
   ]
  },
  {
   "cell_type": "code",
   "execution_count": 13,
   "metadata": {
    "colab": {
     "base_uri": "https://localhost:8080/",
     "height": 34
    },
    "colab_type": "code",
    "id": "lXgTGsQO7jUy",
    "outputId": "b4afb59f-a279-4c50-f35d-1da65682f3f3"
   },
   "outputs": [
    {
     "data": {
      "text/plain": [
       "Counter({'10011011000110': 100})"
      ]
     },
     "execution_count": 13,
     "metadata": {},
     "output_type": "execute_result"
    }
   ],
   "source": [
    "#11 * 10 = 0110\n",
    "(Circuit().x[0,3,4] + C1).m[:].run(shots=100)"
   ]
  },
  {
   "cell_type": "code",
   "execution_count": 12,
   "metadata": {
    "colab": {
     "base_uri": "https://localhost:8080/",
     "height": 34
    },
    "colab_type": "code",
    "id": "05IWvFtn7quv",
    "outputId": "0e3dee56-8fc1-47b2-e2c7-2aa5d36aade0"
   },
   "outputs": [
    {
     "data": {
      "text/plain": [
       "Counter({'01011101000110': 100})"
      ]
     },
     "execution_count": 12,
     "metadata": {},
     "output_type": "execute_result"
    }
   ],
   "source": [
    "#10 * 11 = 0110\n",
    "(Circuit().x[1,3,4] + C1).m[:].run(shots=100)"
   ]
  },
  {
   "cell_type": "code",
   "execution_count": 8,
   "metadata": {
    "colab": {
     "base_uri": "https://localhost:8080/",
     "height": 34
    },
    "colab_type": "code",
    "id": "lr8RdNwu7tCi",
    "outputId": "3bfe992c-9b45-49b3-c5b4-9f96fbd71903"
   },
   "outputs": [
    {
     "data": {
      "text/plain": [
       "Circuit(14).ccx[0, 1, 2].ccx[1, 3, 5].ccx[0, 4, 6].ccx[3, 4, 7].ccx[5, 6, 8].ccx[7, 8, 9].cx[2, 10].cx[5, 11].cx[6, 11].cx[7, 12].cx[8, 12].cx[9, 13]"
      ]
     },
     "execution_count": 8,
     "metadata": {},
     "output_type": "execute_result"
    }
   ],
   "source": [
    "#11 * 11 = 1001\n",
    "(Circuit().x[0,1,3,4] + C1).m[:].run(shots=100) "
   ]
  },
  {
   "cell_type": "markdown",
   "metadata": {
    "colab_type": "text",
    "id": "OPe8FDu04AtN"
   },
   "source": [
    "このように全ての掛け算のパターンが量子回路で実現できました。試しに入力を重ね合わせにしてみます。アダマールゲートをXゲートの代わりに入れると、"
   ]
  },
  {
   "cell_type": "code",
   "execution_count": 10,
   "metadata": {},
   "outputs": [
    {
     "data": {
      "text/plain": [
       "Counter({'00010000000000': 6,\n",
       "         '01011101000110': 8,\n",
       "         '11110100001100': 8,\n",
       "         '10011011000110': 8,\n",
       "         '01000000000000': 4,\n",
       "         '01001000000000': 8,\n",
       "         '10010000000000': 4,\n",
       "         '00000000000000': 9,\n",
       "         '01010100000100': 5,\n",
       "         '10001010000100': 6,\n",
       "         '11100000001000': 7,\n",
       "         '11111111111001': 5,\n",
       "         '00011001000010': 6,\n",
       "         '00001000000000': 11,\n",
       "         '10000000000000': 3,\n",
       "         '11101010001100': 2})"
      ]
     },
     "execution_count": 10,
     "metadata": {},
     "output_type": "execute_result"
    }
   ],
   "source": [
    "(Circuit().h[0,1,3,4] + C1).m[:].run(shots=100) "
   ]
  },
  {
   "cell_type": "markdown",
   "metadata": {},
   "source": [
    "上手い感じに 00 * 00 から 11 * 11 までを計算することができました。"
   ]
  },
  {
   "cell_type": "markdown",
   "metadata": {},
   "source": [
    "# 概要\n",
    "\n",
    "## 乗算器\n",
    "ビットは 0, 1 をとるので 二進数のかけ算を考えます。\n",
    "組み合わせは\n",
    "\n",
    "0×0=0, 0×1=0, 1×0=0, 1×1=1\n",
    "\n",
    "となります。\n",
    "これは加算器の1桁目と同じccxゲートで表せます。"
   ]
  },
  {
   "cell_type": "markdown",
   "metadata": {},
   "source": [
    "## 乗算器 (2桁×2桁)\n",
    "次は応用で2桁×2桁の乗算を考えてみます。\n",
    "\n",
    "組み合わせは\n",
    "\n",
    "01×00=0000, 01×01=0001, 01×10=0010, 01×11=0011   \n",
    "11×00=0000, 11×01=0011, 11×10=0110, 11×11=1001   \n",
    "01×00=0000, 01×01=0001, 01×10=0010, 01×11=0011   \n",
    "11×00=0000, 11×01=0011, 11×10=0110, 11×11=1001\n",
    "\n",
    "の16通りとなります。\n",
    "\n",
    "### 考え方\n",
    "まず試しに 11 × 10 を筆算で考えてみます。\n",
    "\n",
    "<img src=\"./img/010_02/010_02_0.png\" width=\"15%\">\n",
    "\n",
    "1 と 2 の行を合わせた4回の計算をそれぞれ考えます。   \n",
    "1行目 は 11 × 0 , 2行目は 11 × 1 となります。   \n",
    "各項4つの計算はそれぞれ 1桁の積でできるので全て CCXで実装できます。\n",
    "\n",
    "行目1 と 2 の和に関しては繰り上がりを考えないといけないので加算器で実装します。"
   ]
  },
  {
   "cell_type": "markdown",
   "metadata": {},
   "source": [
    "## 回路の作成（１、２行目）\n",
    "今回は 1 行目だけ考えます。\n",
    "11 × 0 を CCX ゲートを用いて以下の回路を考えます。\n",
    "\n",
    "<img src=\"./img/010_02/010_02_1.png\" width=\"28%\">\n",
    "\n",
    "上から 2 つのビットは 11 の部分で次の 1 ビットは 0 の部分となります。   \n",
    "出力_1 ,出力_2 は 1 × 0 を表しています。\n",
    "\n",
    "これで 1 行目が出力されました。2 行目も同様にしてできます。"
   ]
  },
  {
   "cell_type": "markdown",
   "metadata": {},
   "source": [
    "## 回路の作成（全体）\n",
    "11 × 10 を計算します。\n",
    "上の2つの回路を組み合わせて以下の回路を作ります。\n",
    "\n",
    "<img src=\"./img/010_02/010_02_3.png\" width=\"65%\">\n",
    "\n",
    "左上の操作は 1, 2 行目を計算しています。\n",
    "右下は 1, 2 行目の和を計算しています。"
   ]
  }
 ],
 "metadata": {
  "colab": {
   "collapsed_sections": [],
   "name": "010_basic_multi.ipynb",
   "provenance": [],
   "version": "0.3.2"
  },
  "kernelspec": {
   "display_name": "conda_python3",
   "language": "python",
   "name": "conda_python3"
  },
  "language_info": {
   "codemirror_mode": {
    "name": "ipython",
    "version": 3
   },
   "file_extension": ".py",
   "mimetype": "text/x-python",
   "name": "python",
   "nbconvert_exporter": "python",
   "pygments_lexer": "ipython3",
   "version": "3.6.5"
  }
 },
 "nbformat": 4,
 "nbformat_minor": 1
}

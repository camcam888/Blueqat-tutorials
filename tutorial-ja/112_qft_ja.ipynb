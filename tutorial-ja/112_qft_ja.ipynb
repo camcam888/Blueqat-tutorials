{
 "cells": [
  {
   "cell_type": "markdown",
   "metadata": {
    "colab_type": "text",
    "id": "NjHnSAbHrInP"
   },
   "source": [
    "# 量子フーリエ変換\n",
    "量子フーリエ変換は既存計算機の高速フーリエ変換に対応したアルゴリズムです。高速フーリエ変換の資料はたくさんあると思いますので、今回は量子フーリエ変換QFTを見てみます。\n"
   ]
  },
  {
   "cell_type": "markdown",
   "metadata": {
    "colab_type": "text",
    "id": "CJhIv6UdASWQ"
   },
   "source": [
    "## 量子フーリエ変換とは？\n",
    "フーリエ変換は時系列の波を周波数ごとに分解します。フーリエ変換の中で離散値をとるものが離散フーリエ変換で、それを計算機上で高速処理するアルゴリズムが高速フーリエ変換です。量子フーリエ変換はこの高速フーリエ変換を量子コンピュータを使って計算を行います。"
   ]
  },
  {
   "cell_type": "markdown",
   "metadata": {
    "colab_type": "text",
    "id": "oXg3hf3yAkMS"
   },
   "source": [
    "## 数理\n",
    "高速フーリエ変換にとても似ています（が符号が違う気が、、、）。ある量子状態を別の量子状態に写します。\n",
    "\n",
    "$$QFT:\\mid x \\rangle \\mapsto \\frac{1}{\\sqrt{N}}\\sum_{k=0}^{N-1} \\omega_n^{xk}\\mid k\\rangle \\\\ \\omega_n = e^{\\frac{2\\pi i}{N}}$$"
   ]
  },
  {
   "cell_type": "markdown",
   "metadata": {
    "colab_type": "text",
    "id": "U1uxGVsCCi85"
   },
   "source": [
    "## ビットを入力し、位相を量子状態で出力\n",
    "量子フーリエ変換の入力は01のビットになります。これらのビット入力が位相の形で量子状態として出力されます。出力状態をテンソル積を用いて表現すると、\n",
    "\n",
    "$$QFT(\\mid x_1,x_2,…,x_n \\rangle) = \\frac{1}{\\sqrt{N}}(\\mid 0 \\rangle + e^{2\\pi i [0.x_n]} \\mid 1 \\rangle) \\otimes … \\otimes (\\mid 0 \\rangle + e^{2\\pi i [0.x_1x_2…x_n]} \\mid 1 \\rangle)$$\n",
    "\n",
    "位相にビットが現れた状態での量子状態が得られます。ここで注意したいのは、各量子状態の出現確率は確率振幅の二乗で表せられますが、どの量子状態も出現確率は同一なので測定を通じて位相が得られない点です。"
   ]
  },
  {
   "cell_type": "markdown",
   "metadata": {
    "colab_type": "text",
    "id": "yd5MaoRKCuWS"
   },
   "source": [
    "## 量子回路の実装\n",
    "一番簡単な回路は２量子ビットです。\n",
    "\n",
    "<img src=\"./img/013_algo_qft01.png\">"
   ]
  },
  {
   "cell_type": "code",
   "execution_count": 2,
   "metadata": {
    "collapsed": true
   },
   "outputs": [
    {
     "name": "stdout",
     "output_type": "stream",
     "text": [
      "Requirement already satisfied: blueqat in /home/ec2-user/anaconda3/envs/python3/lib/python3.6/site-packages (0.3.13)\n",
      "Requirement already satisfied: scipy>=1.1.0 in /home/ec2-user/anaconda3/envs/python3/lib/python3.6/site-packages (from blueqat) (1.1.0)\n",
      "Requirement already satisfied: numpy~=1.12 in /home/ec2-user/anaconda3/envs/python3/lib/python3.6/site-packages (from blueqat) (1.18.3)\n",
      "\u001b[33mWARNING: You are using pip version 20.0.2; however, version 20.1 is available.\n",
      "You should consider upgrading via the '/home/ec2-user/anaconda3/envs/python3/bin/python -m pip install --upgrade pip' command.\u001b[0m\n"
     ]
    }
   ],
   "source": [
    "!pip install blueqat"
   ]
  },
  {
   "cell_type": "code",
   "execution_count": 4,
   "metadata": {
    "colab": {
     "base_uri": "https://localhost:8080/",
     "height": 51
    },
    "colab_type": "code",
    "id": "3eRpgppa_1FI",
    "outputId": "d638cc92-9486-43bc-c94a-14a65c6705d7"
   },
   "outputs": [
    {
     "data": {
      "text/plain": [
       "array([ 5.00000000e-01+0.j , -8.32667268e-17-0.5j, -5.00000000e-01+0.j ,\n",
       "        8.32667268e-17+0.5j])"
      ]
     },
     "execution_count": 4,
     "metadata": {},
     "output_type": "execute_result"
    }
   ],
   "source": [
    "from blueqat import Circuit\n",
    "import math\n",
    "\n",
    "Circuit().x[0,1].h[0].crz(math.pi/2)[1,0].h[1].run()"
   ]
  },
  {
   "cell_type": "markdown",
   "metadata": {
    "colab_type": "text",
    "id": "JM9lexiT_034"
   },
   "source": [
    "つぎにN=4です。\n",
    "<img src=\"./img/013_algo_qft02.png\">"
   ]
  },
  {
   "cell_type": "code",
   "execution_count": 9,
   "metadata": {},
   "outputs": [
    {
     "data": {
      "text/plain": [
       "array([ 2.50000000e-01+6.93889390e-18j,  2.30969883e-01-9.56708581e-02j,\n",
       "        1.76776695e-01-1.76776695e-01j,  9.56708581e-02-2.30969883e-01j,\n",
       "       -5.55111512e-17-2.50000000e-01j, -9.56708581e-02-2.30969883e-01j,\n",
       "       -1.76776695e-01-1.76776695e-01j, -2.30969883e-01-9.56708581e-02j,\n",
       "       -2.50000000e-01-6.93889390e-18j, -2.30969883e-01+9.56708581e-02j,\n",
       "       -1.76776695e-01+1.76776695e-01j, -9.56708581e-02+2.30969883e-01j,\n",
       "        5.55111512e-17+2.50000000e-01j,  9.56708581e-02+2.30969883e-01j,\n",
       "        1.76776695e-01+1.76776695e-01j,  2.30969883e-01+9.56708581e-02j])"
      ]
     },
     "execution_count": 9,
     "metadata": {},
     "output_type": "execute_result"
    }
   ],
   "source": [
    "Circuit().x[:].h[0].crz(math.pi/2)[1,0].crz(math.pi/4)[2,0].crz(math.pi/8)[3,0].h[1].crz(math.pi/2)[2,1].crz(math.pi/4)[3,1].h[2].crz(math.pi/2)[3,2].h[3].run()"
   ]
  },
  {
   "cell_type": "markdown",
   "metadata": {
    "colab_type": "text",
    "id": "_7OgXLuHA3C0"
   },
   "source": [
    "このように、実際にコードを用いて簡単に行うことができました。こちらが量子フーリエ変換です。\n",
    "\n"
   ]
  },
  {
   "cell_type": "markdown",
   "metadata": {
    "colab_type": "text",
    "id": "qdBTsGLnDBce"
   },
   "source": [
    "## （応用）確かめ\n",
    "量子フーリエ変換は量子状態を直接観測できないので、使いどころが難しいです。そのため最初はシミュレータで状態ベクトルを取得して、既存の高速フーリエ変換FFTと比較するのが良いでしょう。高速フーリエ変換はPythonの一般的なライブラリのNumpyに収録されていて確認ができます。"
   ]
  },
  {
   "cell_type": "code",
   "execution_count": 101,
   "metadata": {
    "colab": {
     "base_uri": "https://localhost:8080/",
     "height": 34
    },
    "colab_type": "code",
    "id": "4VAuNlz1A079",
    "outputId": "9a8114a5-66e6-4d52-99a0-d1f47d13b8b2"
   },
   "outputs": [
    {
     "name": "stdout",
     "output_type": "stream",
     "text": [
      "[ 0.5+0.j   0. +0.5j -0.5+0.j   0. -0.5j]\n"
     ]
    }
   ],
   "source": [
    "import numpy as np\n",
    "print(np.fft.fft(np.array([0,0,0,1])/2)) "
   ]
  },
  {
   "cell_type": "markdown",
   "metadata": {
    "colab_type": "text",
    "id": "36753dDzA83S"
   },
   "source": [
    "このようにビットを入力することで、実際に量子フーリエ変換における状態ベクトルからの値と比べて確認をすることができます。上記は最初の二量子ビットの状態と対応していることが確認できます。ビットは状態ベクトルの形に直す必要があるので、1,1のビットは0001と表現されます。以上です。"
   ]
  },
  {
   "cell_type": "markdown",
   "metadata": {},
   "source": [
    "# 概要\n",
    "\n",
    "## 離散フーリエ変換\n",
    "関数を三角関数の和で書き直すためにフーリエ変換というものを使います。   \n",
    "具体的に言うと三角関数の和で書き直したとき、各三角関数の角振動数とその係数を取り出すということをします。\n",
    "\n",
    "例えば sin2x なら 2, 1 を取り出すという操作です。\n",
    "sinx + sin3x なら 1, 1 と 3, 1 を取り出す操作です。\n",
    "\n",
    "このフーリエ変換は全ての点を考えるのに対し有限個の点のみで考えるフーリエ変換を離散フーリエ変換と言います。\n",
    "\n",
    "例えば 5sin2x を考えます。これは離散フーリエ変換をすると 5, 2 が取り出せることがわかります。具体的に計算してみます。\n",
    "\n",
    "このグラフは以下のようになります。\n",
    "\n",
    "<img src=\"https://qiita-user-contents.imgix.net/https%3A%2F%2Fqiita-image-store.s3.ap-northeast-1.amazonaws.com%2F0%2F517405%2Fecd93d6d-11d6-0418-2a35-2100383acd06.png?ixlib=rb-1.2.2&auto=format&gif-q=60&q=75&s=7ae37421c295692ee627c3e12dba1a83\">\n",
    "\n",
    "これを16分割で離散フーリエ変換します。\n",
    "\n",
    "<img src=\"https://qiita-user-contents.imgix.net/https%3A%2F%2Fqiita-image-store.s3.ap-northeast-1.amazonaws.com%2F0%2F517405%2Fc9fa7740-e50a-9661-979d-d9819b7776dc.png?ixlib=rb-1.2.2&auto=format&gif-q=60&q=75&s=5ddaf7e32081a85c6d1c7b04271de027\">\n",
    "\n",
    "各点の y 座標を $x_j$ と置くと\n",
    "\n",
    "<img src=\"./img/013_02/013_02_0.png\" width=\"15%\">\n",
    "\n",
    "となります。\n",
    "\n",
    "これを離散フーリエ変換すると\n",
    "\n",
    "<img src=\"./img/013_02/013_02_1.png\" width=\"40%\">\n",
    "\n",
    "となるので $|y_k|/2$ のグラフをかくと\n",
    "\n",
    "<img src=\"https://qiita-user-contents.imgix.net/https%3A%2F%2Fqiita-image-store.s3.ap-northeast-1.amazonaws.com%2F0%2F517405%2F803b4786-3773-5146-b1db-32a017ea43f2.png?ixlib=rb-1.2.2&auto=format&gif-q=60&q=75&s=e86a155a4bdd33073d1a530f1bad2416\">\n",
    "\n",
    "上のグラフは振動数 2、 振幅 5 なのできちんと表せることがわかります。"
   ]
  },
  {
   "cell_type": "markdown",
   "metadata": {},
   "source": [
    "## 量子フーリエ変換\n",
    "次に離散フーリエ変換から量子フーリエ変換を考えます。\n",
    "上の各 $x_j$ を各ビットに埋め込むことを考えます。\n",
    "\n",
    "すなわち入力する状態を以下のようにします。\n",
    "\n",
    "<img src=\"./img/013_02/013_02_2.png\" width=\"15%\">\n",
    "\n",
    "この $x_j$ を離散フーリエ変換すると\n",
    "\n",
    "<img src=\"./img/013_02/013_02_3.png\" width=\"20%\">\n",
    "\n",
    "となる。また、y について\n",
    "\n",
    "<img src=\"./img/013_02/013_02_4.png\" width=\"15%\">\n",
    "\n",
    "と置くと、\n",
    "\n",
    "<img src=\"./img/013_02/013_02_5.png\" width=\"30%\">\n",
    "\n",
    "括弧の部分に注目して以下の変換\n",
    "\n",
    "<img src=\"./img/013_02/013_02_6.png\" width=\"25%\">\n",
    "\n",
    "のことを量子フーリエ変換と言います。"
   ]
  },
  {
   "cell_type": "markdown",
   "metadata": {},
   "source": [
    "## 回路の作成\n",
    "上の式をゲートで実装するために以下のように式を変換します。\n",
    "\n",
    "<img src=\"./img/013_02/013_02_7.png\" width=\"85%\">\n",
    "\n",
    "回路は以下のようになります。\n",
    "\n",
    "<img src=\"./img/013_02/013_02_8.png\" width=\"85%\">\n",
    "\n",
    "j を量子フーリエ変換する場合は j を 2進数表示した $j=i_1...i_n$ を入力とします。\n",
    "また Rn は以下の位相ゲートとします。\n",
    "\n",
    "<img src=\"./img/013_02/013_02_9.png\" width=\"15%\">\n",
    "\n",
    "以上の回路で量子フーリエ変換を実装できます。"
   ]
  },
  {
   "cell_type": "code",
   "execution_count": null,
   "metadata": {},
   "outputs": [],
   "source": []
  }
 ],
 "metadata": {
  "colab": {
   "collapsed_sections": [],
   "name": "013_algo_qft.ipynb",
   "provenance": [],
   "version": "0.3.2"
  },
  "kernelspec": {
   "display_name": "conda_python3",
   "language": "python",
   "name": "conda_python3"
  },
  "language_info": {
   "codemirror_mode": {
    "name": "ipython",
    "version": 3
   },
   "file_extension": ".py",
   "mimetype": "text/x-python",
   "name": "python",
   "nbconvert_exporter": "python",
   "pygments_lexer": "ipython3",
   "version": "3.6.5"
  }
 },
 "nbformat": 4,
 "nbformat_minor": 1
}

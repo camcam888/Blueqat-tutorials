{
 "cells": [
  {
   "cell_type": "markdown",
   "metadata": {
    "colab_type": "text",
    "id": "NjHnSAbHrInP"
   },
   "source": [
    "# たし算\n",
    "量子コンピュータには従来のコンピュータと同じ計算もできるという特徴があります。たし算の回路を確認します。"
   ]
  },
  {
   "cell_type": "markdown",
   "metadata": {},
   "source": [
    "## 今回学ぶこと\n",
    "1. 量子ゲートを使って二進数のたし算を実装\n",
    "2. 量子の重ね合わせを使って1つの回路で複数のたし算"
   ]
  },
  {
   "cell_type": "markdown",
   "metadata": {},
   "source": [
    "## Blueqatのインストール\n",
    "pipからBlueqatをインストールします。"
   ]
  },
  {
   "cell_type": "code",
   "execution_count": 2,
   "metadata": {
    "colab": {},
    "colab_type": "code",
    "collapsed": true,
    "id": "OF-AmKpXtgSJ"
   },
   "outputs": [
    {
     "name": "stdout",
     "output_type": "stream",
     "text": [
      "Requirement already satisfied: blueqat in /home/ec2-user/anaconda3/envs/python3/lib/python3.6/site-packages (0.3.13)\n",
      "Requirement already satisfied: numpy~=1.12 in /home/ec2-user/anaconda3/envs/python3/lib/python3.6/site-packages (from blueqat) (1.18.3)\n",
      "Requirement already satisfied: scipy>=1.1.0 in /home/ec2-user/anaconda3/envs/python3/lib/python3.6/site-packages (from blueqat) (1.1.0)\n",
      "\u001b[33mWARNING: You are using pip version 20.0.2; however, version 20.1 is available.\n",
      "You should consider upgrading via the '/home/ec2-user/anaconda3/envs/python3/bin/python -m pip install --upgrade pip' command.\u001b[0m\n"
     ]
    }
   ],
   "source": [
    "!pip install blueqat"
   ]
  },
  {
   "cell_type": "markdown",
   "metadata": {
    "colab_type": "text",
    "id": "PKhFYi-drld1"
   },
   "source": [
    "## 二進数のたし算\n",
    "たし算は桁上がりを実行するccxゲートと、位の足し合わせを実行するcxゲートを使います。今回はa+b=cdという二進数のたし算の量子回路を行います。今回はaとbの値によって4種類のたし算を実装します。それぞれのたし算は、\n",
    "\n",
    "0+0 = 00 => 0000  \n",
    "0+1 = 01 => 0101  \n",
    "1+0 = 01 => 1001  \n",
    "1+1 = 10 => 1110  \n",
    "\n",
    "となります。4量子ビットのビット列で表現し、前半の2量子ビットが入力値aとbで、後半の2量子ビットが出力値cとdです。aとbを入力する回路と、実際にたし合わせを実現する回路を別に作り、何度か使い回します。1のようなデータの入力はXゲートを使って0を反転させて実装します。"
   ]
  },
  {
   "cell_type": "markdown",
   "metadata": {},
   "source": [
    "たし算の回路部分はこのようになります。*はコントロールビットです。\n",
    "\n",
    "```\n",
    "a ---*---*------- a\n",
    "b ---*---|---*--- b\n",
    "0 ---X---|---|--- c\n",
    "0 -------X---X--- d\n",
    "```\n",
    "\n",
    "aとbにXゲートを使ってデータを入れると、ccx回路で桁上がり、cx回路で位のたし合わせを行います。"
   ]
  },
  {
   "cell_type": "code",
   "execution_count": 6,
   "metadata": {
    "colab": {
     "base_uri": "https://localhost:8080/",
     "height": 34
    },
    "colab_type": "code",
    "id": "O674HiVxjc7P",
    "outputId": "63d75a71-0b78-4b7b-b759-56b2d018e284"
   },
   "outputs": [],
   "source": [
    "#ツールの読み込み\n",
    "from blueqat import Circuit\n",
    "\n",
    "#たし算部分を実現します。\n",
    "adder = Circuit().ccx[0,1,2].cx[0,3].cx[1,3]"
   ]
  },
  {
   "cell_type": "code",
   "execution_count": 13,
   "metadata": {
    "colab": {
     "base_uri": "https://localhost:8080/",
     "height": 34
    },
    "colab_type": "code",
    "id": "O674HiVxjc7P",
    "outputId": "63d75a71-0b78-4b7b-b759-56b2d018e284"
   },
   "outputs": [
    {
     "data": {
      "text/plain": [
       "Counter({'0000': 100})"
      ]
     },
     "execution_count": 13,
     "metadata": {},
     "output_type": "execute_result"
    }
   ],
   "source": [
    "#0+0\n",
    "(Circuit() + adder).m[:].run(shots=100)"
   ]
  },
  {
   "cell_type": "code",
   "execution_count": 14,
   "metadata": {
    "colab": {
     "base_uri": "https://localhost:8080/",
     "height": 34
    },
    "colab_type": "code",
    "id": "xlTAVvSt3iZv",
    "outputId": "c6e6810e-4569-4849-da61-ab41e72f83c0"
   },
   "outputs": [
    {
     "data": {
      "text/plain": [
       "Counter({'0101': 100})"
      ]
     },
     "execution_count": 14,
     "metadata": {},
     "output_type": "execute_result"
    }
   ],
   "source": [
    "#0+1\n",
    "(Circuit().x[1] + adder).m[:].run(shots=100)"
   ]
  },
  {
   "cell_type": "code",
   "execution_count": 15,
   "metadata": {
    "colab": {
     "base_uri": "https://localhost:8080/",
     "height": 34
    },
    "colab_type": "code",
    "id": "BtkqFj8n3kBS",
    "outputId": "5db803d7-a2dc-417b-95c2-eacf35e160c2"
   },
   "outputs": [
    {
     "data": {
      "text/plain": [
       "Counter({'1001': 100})"
      ]
     },
     "execution_count": 15,
     "metadata": {},
     "output_type": "execute_result"
    }
   ],
   "source": [
    "#1+0\n",
    "(Circuit().x[0] + adder).m[:].run(shots=100)"
   ]
  },
  {
   "cell_type": "code",
   "execution_count": 16,
   "metadata": {
    "colab": {
     "base_uri": "https://localhost:8080/",
     "height": 34
    },
    "colab_type": "code",
    "id": "JnmWCnOf3xGw",
    "outputId": "b89c5e8a-899b-47da-faed-dc5a3a5035e5"
   },
   "outputs": [
    {
     "data": {
      "text/plain": [
       "Counter({'1110': 100})"
      ]
     },
     "execution_count": 16,
     "metadata": {},
     "output_type": "execute_result"
    }
   ],
   "source": [
    "#1+1\n",
    "(Circuit().x[0,1] + adder).m[:].run(shots=100)"
   ]
  },
  {
   "cell_type": "markdown",
   "metadata": {
    "colab_type": "text",
    "id": "OPe8FDu04AtN"
   },
   "source": [
    "このように、たし算が実装できました。"
   ]
  },
  {
   "cell_type": "markdown",
   "metadata": {
    "colab_type": "text",
    "id": "OPe8FDu04AtN"
   },
   "source": [
    "## 重ね合わせを利用したたし算\n",
    "ここで、Xゲートでデータを一つ一つ入れる代わりに、Hゲートを使ってたし算をしてみます。"
   ]
  },
  {
   "cell_type": "code",
   "execution_count": 17,
   "metadata": {},
   "outputs": [
    {
     "data": {
      "text/plain": [
       "Counter({'0101': 27, '1110': 30, '0000': 24, '1001': 19})"
      ]
     },
     "execution_count": 17,
     "metadata": {},
     "output_type": "execute_result"
    }
   ],
   "source": [
    "#Xゲートの代わりにHゲートを入力に使う\n",
    "(Circuit().h[0,1] + adder).m[:].run(shots=100)"
   ]
  },
  {
   "cell_type": "markdown",
   "metadata": {},
   "source": [
    "アダマールゲートを利用すると4つのたし算が大体1/4ずつ答えとして出てきました。このように汎用たし算回路を作ると、重ね合わせ状態を利用した計算を実行できます。"
   ]
  },
  {
   "cell_type": "markdown",
   "metadata": {},
   "source": [
    "## もつれを利用したたし算\n",
    "次にHゲートの代わりにa+b=1となるたし算を量子のもつれを使って行ってみます。"
   ]
  },
  {
   "cell_type": "code",
   "execution_count": 19,
   "metadata": {},
   "outputs": [
    {
     "data": {
      "text/plain": [
       "Counter({'0101': 41, '1001': 59})"
      ]
     },
     "execution_count": 19,
     "metadata": {},
     "output_type": "execute_result"
    }
   ],
   "source": [
    "#01と10のもつれを作る\n",
    "(Circuit().h[0].cx[0,1].x[0] + adder).m[:].run(shots=100)"
   ]
  },
  {
   "cell_type": "markdown",
   "metadata": {},
   "source": [
    "このように、入力値が01と10がもつれているので、この2つのたし算が約1/2ずつ出てきます。"
   ]
  },
  {
   "cell_type": "markdown",
   "metadata": {},
   "source": [
    "--------"
   ]
  },
  {
   "cell_type": "markdown",
   "metadata": {},
   "source": [
    "## 解説：回路の作成（１桁目）\n",
    "まずは上の1桁目から作成します。\n",
    "1桁目を見ると、0, 0, 0, 1 の順になっています。\n",
    "\n",
    "表で表すと以下になります。\n",
    "\n",
    "|X|Y|X+Yの2桁目|\n",
    "|:-:|:-:|:-:|\n",
    "|0|0|0|\n",
    "|0|1|0|\n",
    "|1|0|0|\n",
    "|1|1|1|\n",
    "\n",
    "これを見ると CCXゲートと同じことがわかります。\n",
    "(CCXは入力の頭2つのビットが1ならば3番目のビットを反転させる)\n",
    "\n",
    "このことから入力が 11 の場合は以下の回路を考えることができます。\n",
    "\n",
    "<img src=\"./img/008/008_02_0.png\" width=\"23%\">\n",
    "\n",
    "上から2ビットを入力、残りの1ビットを出力だと考えると上の回路から 1 が出力されるのがわかります。"
   ]
  },
  {
   "cell_type": "markdown",
   "metadata": {},
   "source": [
    "## 解説：回路の作成（２桁目）\n",
    "次にもう一つのくらいを作成します。\n",
    "2桁目を見ると、0, 1, 1, 0 の順になっています。\n",
    "\n",
    "表で表すと以下になります。\n",
    "\n",
    "|X|Y|X+Yの1桁目|\n",
    "|:-:|:-:|:-:|\n",
    "|0|0|0|\n",
    "|0|1|1|\n",
    "|1|0|1|\n",
    "|1|1|0|\n",
    "\n",
    "これを見ると CXゲートと同じことがわかります。\n",
    "(左辺がCXの入力で右辺が出力の2番目のビット)\n",
    "\n",
    "このことから入力が 10 の場合は以下の回路を考えることができます。\n",
    "\n",
    "<img src=\"./img/008/008_02_1.png\" width=\"27%\">\n",
    "\n",
    "上から2ビットを入力、残りの1ビットを出力だと考えると上の回路から 1 が出力されるのがわかります。"
   ]
  },
  {
   "cell_type": "markdown",
   "metadata": {},
   "source": [
    "## 解説：回路の作成（全体）\n",
    "最後に上の二つの回路をまとめます。\n",
    "\n",
    "入力を 00 としてまとめた回路を以下に示します。\n",
    "\n",
    "<img src=\"./img/008/008_02_2.png\" width=\"30%\">\n",
    "\n",
    "上2ビットを入力、残りの2ビットが出力です。\n",
    "始めの CCX は1桁目の部分で残りの 2つの CX は2桁目の部分です。"
   ]
  },
  {
   "cell_type": "markdown",
   "metadata": {},
   "source": [
    "## 解説：重ね合わせ回路の実装\n",
    "量子の重ね合わせを用いると4パターンを一気に操作することができます。\n",
    "\n",
    "式としては以下の物を考えます。\n",
    "\n",
    "<img src=\"./img/009/009_02_0.png\" width=\"35%\">\n",
    "\n",
    "見てわかる通り右辺に入力の4パターンが出てきました。\n",
    "この性質を用いて実装します。\n",
    "\n",
    "回路は以下のようになります。\n",
    "\n",
    "<img src=\"./img/009/009_02_1.png\" width=\"35%\">\n",
    "\n",
    "今まで Xゲートを施していた部分を Hゲートにして 4パターンを作っています。"
   ]
  },
  {
   "cell_type": "markdown",
   "metadata": {},
   "source": [
    "## (応用) 一般の足し算\n",
    "一般の10進数同士で足し算を実装します。  \n",
    "$a, b$ の和を考えることとします。\n",
    "$a, b$ は $a = a_n ... a_0$, $b = b_n ... b_0$ と2進数で表示できます。  \n",
    "(ここで n は数が大きい方の位を基準とします。)\n",
    "\n",
    "回路は以下のようになります。\n",
    "\n",
    "<img src=\"https://qiita-user-contents.imgix.net/https%3A%2F%2Fqiita-image-store.s3.ap-northeast-1.amazonaws.com%2F0%2F218694%2F489c8ea6-130c-d44b-4bae-4d86f64556c2.png?ixlib=rb-1.2.2&auto=format&gif-q=60&q=75&s=e67fbf71779fa7ebb443e93663c56dc4\">\n",
    "\n",
    "$c_i$ を carry ビットと言って繰り上がった数を表します。  \n",
    "足し算回路は carry と呼ばれる繰り上がりの部分と sum の合計の部分にわかれています。\n",
    "\n",
    "まずはこの2つの部分を考察します。"
   ]
  },
  {
   "cell_type": "markdown",
   "metadata": {},
   "source": [
    "### 繰り上がり\n",
    "回路は以下のようになります。\n",
    "\n",
    "<img src=\"./img/100_0.png\" width=\"30%\">\n",
    "\n",
    "回路を上から $c_i, a_i, b_i, c_{i+1}$ とすると $c_{i+1}$ に繰り上がりの部分が現れます。"
   ]
  },
  {
   "cell_type": "markdown",
   "metadata": {},
   "source": [
    "### 合計\n",
    "各位の和を考えます。回路は以下のようになります。\n",
    "\n",
    "<img src=\"./img/100_1.png\" width=\"30%\">\n",
    "\n",
    "回路を上から $c_i, a_i, b_i$ とすると $b_i$ に3つの数の和の繰り上がりを除いた部分が現れます。"
   ]
  },
  {
   "cell_type": "markdown",
   "metadata": {},
   "source": [
    "### 実装\n",
    "足し算回路を実装します。流れは以下のようになります。  \n",
    "\n",
    "1. carry 回路で各位の繰り上がりを求める。  \n",
    "2. CXゲートで最後のcarryの部分を元に戻す。  \n",
    "3. sum 回路で $b_n$ に各位の和を出力する。  \n",
    "4. carry の逆回路でその位の値を元に戻す。  \n",
    "5. sum 回路で $b_i$ に各位の和を出力する。  \n",
    "6. 4,5の繰り返し。\n",
    "\n",
    "以上の流れから $a+b$ は $b_{n+1} ... b_0$ の部分に出力されることが分かります。\n",
    "\n",
    "足し算回路を実装するために下準備をします。  \n",
    "まずは carry とその逆回路, sum 回路を作ります。"
   ]
  },
  {
   "cell_type": "code",
   "execution_count": 2,
   "metadata": {},
   "outputs": [],
   "source": [
    "from blueqat import Circuit\n",
    "\n",
    "def carry(i):\n",
    "    return Circuit().ccx[i+1,i+2,i+3].cx[i+1,i+2].ccx[i,i+2,i+3]\n",
    "\n",
    "def carry_reverse(i):\n",
    "    return Circuit().ccx[i,i+2,i+3].cx[i+1,i+2].ccx[i+1,i+2,i+3]\n",
    "\n",
    "def sum(i):\n",
    "    return Circuit().cx[i+1,i+2].cx[i,i+2]"
   ]
  },
  {
   "cell_type": "markdown",
   "metadata": {},
   "source": [
    "10進数を2進数にする関数も作っておきます。"
   ]
  },
  {
   "cell_type": "code",
   "execution_count": 3,
   "metadata": {},
   "outputs": [
    {
     "output_type": "execute_result",
     "data": {
      "text/plain": "'1010'"
     },
     "metadata": {},
     "execution_count": 3
    }
   ],
   "source": [
    "def tobinary(A):\n",
    "    return bin(A)[2:]\n",
    "\n",
    "tobinary(10)"
   ]
  },
  {
   "cell_type": "markdown",
   "metadata": {},
   "source": [
    "数を回路にマッピングする関数を作ります。"
   ]
  },
  {
   "cell_type": "code",
   "execution_count": 4,
   "metadata": {},
   "outputs": [
    {
     "output_type": "execute_result",
     "data": {
      "text/plain": "'0000110'"
     },
     "metadata": {},
     "execution_count": 4
    }
   ],
   "source": [
    "def digits(a,b): \n",
    "     # 2進数に変換\n",
    "     aa = tobinary(a)  \n",
    "     bb = tobinary(b)  \n",
    "     alen = len(aa)  \n",
    "     blen = len(bb)  \n",
    "\n",
    "     # nを決めて大きい方にビット数を合わせる\n",
    "     maxlen = max(alen,blen) \n",
    "     if alen>blen: \n",
    "         bb = bb.zfill(alen) \n",
    "     elif blen>alen: \n",
    "         aa = aa.zfill(blen) \n",
    "\n",
    "     # マッピング\n",
    "     str = '' \n",
    "     for i in range(maxlen): \n",
    "         str += '0' + aa[maxlen-i-1] + bb[maxlen-i-1] \n",
    "     str += '0' \n",
    "     return str\n",
    "\n",
    "digits(2,2)"
   ]
  },
  {
   "cell_type": "markdown",
   "metadata": {},
   "source": [
    "回路の初期状態は全て0なので、マッピングした値に合うようにXゲートを施す必要があります。  \n",
    "この関数を作ります。"
   ]
  },
  {
   "cell_type": "code",
   "execution_count": 5,
   "metadata": {},
   "outputs": [
    {
     "output_type": "execute_result",
     "data": {
      "text/plain": "Counter({'101': 100})"
     },
     "metadata": {},
     "execution_count": 5
    }
   ],
   "source": [
    "def toX(a): \n",
    "     cir = Circuit(len(a)) \n",
    "     for i in range(len(a)): \n",
    "         if a[i] == \"1\": \n",
    "             cir += Circuit().x[i] \n",
    "     return cir\n",
    "\n",
    "toX(\"101\").m[:].run(shots=100)"
   ]
  },
  {
   "cell_type": "markdown",
   "metadata": {},
   "source": [
    "最後に出力の部分を考えます。  \n",
    "まずは出力は2進数なので10進数に変換する関数を考えます。"
   ]
  },
  {
   "cell_type": "code",
   "execution_count": 6,
   "metadata": {},
   "outputs": [
    {
     "output_type": "execute_result",
     "data": {
      "text/plain": "9"
     },
     "metadata": {},
     "execution_count": 6
    }
   ],
   "source": [
    "def todecimal(A):\n",
    "    return int(str(A),2) \n",
    "\n",
    "todecimal(1001)"
   ]
  },
  {
   "cell_type": "markdown",
   "metadata": {},
   "source": [
    "回路では $a_i, b_i, c_i$ が混ざった値が出力されるのでその中で $b_i$ のみ取り出します。"
   ]
  },
  {
   "cell_type": "code",
   "execution_count": 7,
   "metadata": {},
   "outputs": [
    {
     "output_type": "execute_result",
     "data": {
      "text/plain": "2"
     },
     "metadata": {},
     "execution_count": 7
    }
   ],
   "source": [
    "def getb(result): \n",
    "     str = result[-1] \n",
    "     digi = int((len(result)-1)/3) \n",
    "     for i in range(digi): \n",
    "         str += result[-2-i*3] \n",
    "     return todecimal(str)\n",
    "\n",
    "getb(\"0000110\")"
   ]
  },
  {
   "cell_type": "markdown",
   "metadata": {},
   "source": [
    "### 一般化回路\n",
    "以上で全ての準備が整ったので足し算回路を作ります。"
   ]
  },
  {
   "cell_type": "code",
   "execution_count": 8,
   "metadata": {},
   "outputs": [],
   "source": [
    "def plus(a,b): \n",
    "     # 2進数表示のマッピング\n",
    "     qubits = len(digits(a,b)) \n",
    "     cir1 = toX(digits(a,b)) \n",
    "     digi = int((len(digits(a,b))-1)/3) \n",
    "\n",
    "     # 前半のcarry回路\n",
    "     cir2 = Circuit(qubits)     \n",
    "     for i in range(digi): \n",
    "         cir2 += carry(i*3) \n",
    "\n",
    "     # 最後の桁の処理\n",
    "     cir3 = Circuit(qubits).cx[-3,-2] + sum((digi-1)*3) \n",
    "\n",
    "     # carryの逆回路とsum回路でbiに和を出力\n",
    "     cir4 = Circuit(qubits) \n",
    "     for i in range(digi-1): \n",
    "         cir4 += carry_reverse((digi-i-2)*3) \n",
    "         cir4 += sum((digi-i-2)*3)\n",
    "\n",
    "     result = (cir1 + cir2 + cir3 + cir4).m[:].run(shots=1) \n",
    "     return getb(result.most_common()[0][0])"
   ]
  },
  {
   "cell_type": "markdown",
   "metadata": {},
   "source": [
    "実際に計算してみます。"
   ]
  },
  {
   "cell_type": "code",
   "execution_count": 19,
   "metadata": {},
   "outputs": [
    {
     "output_type": "execute_result",
     "data": {
      "text/plain": "4"
     },
     "metadata": {},
     "execution_count": 19
    }
   ],
   "source": [
    "plus(2,2)"
   ]
  },
  {
   "cell_type": "code",
   "execution_count": 20,
   "metadata": {},
   "outputs": [
    {
     "output_type": "execute_result",
     "data": {
      "text/plain": "28"
     },
     "metadata": {},
     "execution_count": 20
    }
   ],
   "source": [
    "plus(13,15)"
   ]
  },
  {
   "cell_type": "code",
   "execution_count": 21,
   "metadata": {},
   "outputs": [
    {
     "output_type": "execute_result",
     "data": {
      "text/plain": "160"
     },
     "metadata": {},
     "execution_count": 21
    }
   ],
   "source": [
    "plus(70,90)"
   ]
  },
  {
   "cell_type": "markdown",
   "metadata": {},
   "source": [
    "最後の計算は時間かかりますが、一般の加算器を実装できました。"
   ]
  },
  {
   "cell_type": "markdown",
   "metadata": {},
   "source": [
    "### 参考文献\n",
    "V. Vedral, A. Barenco, A. Ekert, \"Quantum Networks for Elementary Arithmetic Operations\",  \n",
    "(Submitted on 16 Nov 1995)  \n",
    "https://arxiv.org/pdf/quant-ph/9511018.pdf"
   ]
  },
  {
   "cell_type": "code",
   "execution_count": null,
   "metadata": {},
   "outputs": [],
   "source": []
  }
 ],
 "metadata": {
  "colab": {
   "collapsed_sections": [],
   "name": "008_basic_general.ipynb",
   "provenance": [],
   "version": "0.3.2"
  },
  "kernelspec": {
   "display_name": "Python 3.7.6 64-bit ('dwave': conda)",
   "language": "python",
   "name": "python37664bitdwavecondaaa252b8d749942f1b803140f9f138e1e"
  },
  "language_info": {
   "codemirror_mode": {
    "name": "ipython",
    "version": 3
   },
   "file_extension": ".py",
   "mimetype": "text/x-python",
   "name": "python",
   "nbconvert_exporter": "python",
   "pygments_lexer": "ipython3",
   "version": "3.7.6-final"
  }
 },
 "nbformat": 4,
 "nbformat_minor": 1
}
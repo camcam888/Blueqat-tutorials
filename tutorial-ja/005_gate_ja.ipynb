{
 "cells": [
  {
   "cell_type": "markdown",
   "metadata": {
    "colab_type": "text",
    "id": "NjHnSAbHrInP"
   },
   "source": [
    "# 量子ビットと回転\n",
    "量子コンピュータの計算は主に量子ビットの状態を回転を使って操作します。概要を確認します。"
   ]
  },
  {
   "cell_type": "markdown",
   "metadata": {},
   "source": [
    "## 今回学ぶこと\n",
    "1.量子ビットの仕組み  \n",
    "2.量子ビットの回転操作"
   ]
  },
  {
   "cell_type": "markdown",
   "metadata": {},
   "source": [
    "## Blueqatのインストール\n",
    "pipでBlueqatをインストールします。"
   ]
  },
  {
   "cell_type": "code",
   "execution_count": 22,
   "metadata": {
    "collapsed": true
   },
   "outputs": [
    {
     "name": "stdout",
     "output_type": "stream",
     "text": [
      "Requirement already satisfied: blueqat in /home/ec2-user/anaconda3/envs/python3/lib/python3.6/site-packages (0.3.14)\n",
      "Requirement already satisfied: scipy>=1.1.0 in /home/ec2-user/anaconda3/envs/python3/lib/python3.6/site-packages (from blueqat) (1.1.0)\n",
      "Requirement already satisfied: numpy~=1.12 in /home/ec2-user/anaconda3/envs/python3/lib/python3.6/site-packages (from blueqat) (1.14.6)\n",
      "\u001b[31mnumba 0.49.0 has requirement numpy>=1.15, but you'll have numpy 1.14.6 which is incompatible.\u001b[0m\n",
      "\u001b[33mYou are using pip version 10.0.1, however version 20.1 is available.\n",
      "You should consider upgrading via the 'pip install --upgrade pip' command.\u001b[0m\n"
     ]
    }
   ],
   "source": [
    "!pip install blueqat"
   ]
  },
  {
   "cell_type": "markdown",
   "metadata": {
    "colab_type": "text",
    "id": "NjHnSAbHrInP"
   },
   "source": [
    "## 量子ビットとデータと量子状態\n",
    "1量子ビットと呼ばれる単位でのデータは球上の点として表現できます。\n",
    "量子コンピュータは0と1に制約されず、ブロッホ球と呼ばれる球の上のどの点でもとることができます。\n",
    "\n",
    "![無題のプレゼンテーション.png](https://qiita-image-store.s3.ap-northeast-1.amazonaws.com/0/218694/7c0ac1f2-9470-630b-54b8-93c61fb405d2.png)\n",
    "\n",
    "このデータは量子状態と呼ばれ、$\\mid \\psi \\rangle$（プサイ）で表現されます。右向きの鍵かっこの向きは縦ベクトルを意味します。|0>と|1>にはそれぞれ、下記のようなベクトルが割り当てられます。\n",
    "\n",
    "$$\n",
    "\\mid 0 \\rangle = \\begin{bmatrix}1\\\\0\\end{bmatrix}, \\mid 1 \\rangle = \\begin{bmatrix}0\\\\1\\end{bmatrix}\n",
    "$$\n",
    "\n",
    "量子状態の|ψ>は、|0>と|1>を使って、\n",
    "\n",
    "$$\n",
    "\\mid \\psi \\rangle = \\alpha \\mid 0 \\rangle + \\beta \\mid 1 \\rangle = \\alpha \\begin{bmatrix}1\\\\0\\end{bmatrix} + \\beta \\begin{bmatrix}0\\\\1\\end{bmatrix} = \\begin{bmatrix}\\alpha \\\\ \\beta \\end{bmatrix}\n",
    "$$\n",
    "\n",
    "と表せます。これを状態ベクトルと呼びます。"
   ]
  },
  {
   "cell_type": "markdown",
   "metadata": {
    "colab_type": "text",
    "id": "NjHnSAbHrInP"
   },
   "source": [
    "## 初期状態と回転操作（量子ゲート）\n",
    "上記の状態ベクトルは初期状態は通常、\n",
    "\n",
    "$$\n",
    "\\mid 0 \\rangle = \\begin{bmatrix}1\\\\0\\end{bmatrix}\n",
    "$$\n",
    "\n",
    "の状態からスタートします。上記のように量子状態を変化させるには量子ゲートと呼ばれる回転操作を使います。ブロッホ球には、xyz軸の3軸あります。量子ゲートはこれらの軸周りの回転操作に全て対応します。\n",
    "\n",
    "基本の回転操作はX,Y,Zゲートです。それぞれx,y,z軸周りの180度（π）の回転に対応します。\n",
    "\n",
    "$$\n",
    "X=\n",
    "\\begin{bmatrix}\n",
    "0&1 \\\\\n",
    "1&0\n",
    "\\end{bmatrix},\n",
    "Y=\n",
    "\\begin{bmatrix}\n",
    "0&-i \\\\\n",
    "i&0\n",
    "\\end{bmatrix},\n",
    "Z=\n",
    "\\begin{bmatrix}\n",
    "1&0 \\\\\n",
    "0&-1\n",
    "\\end{bmatrix}\n",
    "$$"
   ]
  },
  {
   "cell_type": "markdown",
   "metadata": {
    "colab_type": "text",
    "id": "NjHnSAbHrInP"
   },
   "source": [
    "量子ゲートは、状態ベクトルにかけることで計算できます。\n",
    "\n",
    "$$\n",
    "X\n",
    "\\begin{bmatrix}\n",
    "1 \\\\\n",
    "0\n",
    "\\end{bmatrix}\n",
    "=\n",
    "\\begin{bmatrix}\n",
    "0&1 \\\\\n",
    "1&0\n",
    "\\end{bmatrix}\n",
    "\\begin{bmatrix}\n",
    "1 \\\\\n",
    "0\n",
    "\\end{bmatrix}\n",
    "=\n",
    "\\begin{bmatrix}\n",
    "0 \\\\\n",
    "1\n",
    "\\end{bmatrix}\n",
    "$$"
   ]
  },
  {
   "cell_type": "markdown",
   "metadata": {
    "colab_type": "text",
    "id": "NjHnSAbHrInP"
   },
   "source": [
    "二量子ビット以上に使うゲート操作もあります。\n",
    "\n",
    "$$\n",
    "CU = \n",
    "\\begin{bmatrix}\n",
    "1&0&0&0\\\\\n",
    "0&1&0&0\\\\\n",
    "0&0&a&b\\\\\n",
    "0&0&c&d\n",
    "\\end{bmatrix}\n",
    "$$"
   ]
  },
  {
   "cell_type": "markdown",
   "metadata": {
    "colab_type": "text",
    "id": "NjHnSAbHrInP"
   },
   "source": [
    "$$\n",
    "CX \\cdot X\n",
    "=\n",
    "\\begin{bmatrix}\n",
    "1&0&0&0\\\\\n",
    "0&1&0&0\\\\\n",
    "0&0&0&1\\\\\n",
    "0&0&1&0\n",
    "\\end{bmatrix}\n",
    "\\begin{bmatrix}\n",
    "1\\\\0\\\\0\\\\0\n",
    "\\end{bmatrix}\n",
    "=\n",
    "\\begin{bmatrix}\n",
    "1\\\\0\\\\0\\\\0\n",
    "\\end{bmatrix}\n",
    "$$"
   ]
  }
 ],
 "metadata": {
  "colab": {
   "collapsed_sections": [],
   "name": "007_02_fullgate.ipynb",
   "provenance": []
  },
  "kernelspec": {
   "display_name": "conda_python3",
   "language": "python",
   "name": "conda_python3"
  },
  "language_info": {
   "codemirror_mode": {
    "name": "ipython",
    "version": 3
   },
   "file_extension": ".py",
   "mimetype": "text/x-python",
   "name": "python",
   "nbconvert_exporter": "python",
   "pygments_lexer": "ipython3",
   "version": "3.6.5"
  }
 },
 "nbformat": 4,
 "nbformat_minor": 1
}

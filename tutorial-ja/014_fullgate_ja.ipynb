{
 "cells": [
  {
   "cell_type": "markdown",
   "metadata": {
    "colab_type": "text",
    "id": "NjHnSAbHrInP"
   },
   "source": [
    "# 全量子ゲート早見表\n",
    "量子コンピュータの演算を行うためには、ゲートを使います。量子ゲートと呼ばれる演算が基本になりますが、この一覧を見て見ます。まずはインストールです。バージョンは、0.3.10です。"
   ]
  },
  {
   "cell_type": "markdown",
   "metadata": {},
   "source": [
    "## インストール\n",
    "Blueqatのインストールは簡単です。pipからインストールを行います。"
   ]
  },
  {
   "cell_type": "code",
   "execution_count": 2,
   "metadata": {
    "colab": {
     "base_uri": "https://localhost:8080/",
     "height": 136
    },
    "colab_type": "code",
    "collapsed": true,
    "id": "Z2z6oBnToiqa",
    "outputId": "413f3f56-1b22-40f7-fcff-4621af4596d4"
   },
   "outputs": [
    {
     "name": "stdout",
     "output_type": "stream",
     "text": [
      "Requirement already satisfied: blueqat in /home/ec2-user/anaconda3/envs/python3/lib/python3.6/site-packages (0.3.13)\n",
      "Requirement already satisfied: scipy>=1.1.0 in /home/ec2-user/anaconda3/envs/python3/lib/python3.6/site-packages (from blueqat) (1.1.0)\n",
      "Requirement already satisfied: numpy~=1.12 in /home/ec2-user/anaconda3/envs/python3/lib/python3.6/site-packages (from blueqat) (1.18.3)\n",
      "\u001b[33mWARNING: You are using pip version 20.0.2; however, version 20.1 is available.\n",
      "You should consider upgrading via the '/home/ec2-user/anaconda3/envs/python3/bin/python -m pip install --upgrade pip' command.\u001b[0m\n"
     ]
    }
   ],
   "source": [
    "!pip install blueqat"
   ]
  },
  {
   "cell_type": "markdown",
   "metadata": {},
   "source": [
    "## ゲートを確認\n",
    "利用できるゲートを確認していきます。"
   ]
  },
  {
   "cell_type": "markdown",
   "metadata": {},
   "source": [
    "## 1量子ゲート\n",
    "### I, X, Y, Z, H, T, T†, S, S†\n",
    "I, X, Y, Z, H, T, T†, S, S† ゲートはそれぞれ以下で実装できます。\n",
    "\n",
    "| I | X | Y | Z | H | S | S†| T | T†|\n",
    "|:-:|:-:|:-:|:-:|:-:|:-:|:-:|:-:|:-:|\n",
    "|`i`|`x`|`y`|`z`|`h`|`s`|`sdg`|`t`|`tdg`|\n",
    "\n",
    "#### 実装\n",
    "以上のゲートを実装します。\n",
    "###### I ゲート"
   ]
  },
  {
   "cell_type": "code",
   "execution_count": 4,
   "metadata": {},
   "outputs": [
    {
     "data": {
      "text/plain": [
       "Counter({'0': 100})"
      ]
     },
     "execution_count": 4,
     "metadata": {},
     "output_type": "execute_result"
    }
   ],
   "source": [
    "from blueqat import Circuit\n",
    "\n",
    "Circuit().i[0].m[:].run(shots=100)"
   ]
  },
  {
   "cell_type": "markdown",
   "metadata": {},
   "source": [
    "###### X ゲート"
   ]
  },
  {
   "cell_type": "code",
   "execution_count": 11,
   "metadata": {},
   "outputs": [
    {
     "data": {
      "text/plain": [
       "Counter({'1': 100})"
      ]
     },
     "execution_count": 11,
     "metadata": {},
     "output_type": "execute_result"
    }
   ],
   "source": [
    "from blueqat import Circuit\n",
    "\n",
    "Circuit().x[0].m[:].run(shots=100)"
   ]
  },
  {
   "cell_type": "markdown",
   "metadata": {},
   "source": [
    "###### Y ゲート"
   ]
  },
  {
   "cell_type": "code",
   "execution_count": 12,
   "metadata": {},
   "outputs": [
    {
     "data": {
      "text/plain": [
       "Counter({'1': 100})"
      ]
     },
     "execution_count": 12,
     "metadata": {},
     "output_type": "execute_result"
    }
   ],
   "source": [
    "from blueqat import Circuit\n",
    "\n",
    "Circuit().y[0].m[:].run(shots=100)"
   ]
  },
  {
   "cell_type": "markdown",
   "metadata": {},
   "source": [
    "###### Z ゲート"
   ]
  },
  {
   "cell_type": "code",
   "execution_count": 15,
   "metadata": {},
   "outputs": [
    {
     "data": {
      "text/plain": [
       "Counter({'0': 100})"
      ]
     },
     "execution_count": 15,
     "metadata": {},
     "output_type": "execute_result"
    }
   ],
   "source": [
    "from blueqat import Circuit\n",
    "\n",
    "Circuit().z[0].m[:].run(shots=100)"
   ]
  },
  {
   "cell_type": "markdown",
   "metadata": {},
   "source": [
    "###### H ゲート"
   ]
  },
  {
   "cell_type": "code",
   "execution_count": 17,
   "metadata": {},
   "outputs": [
    {
     "data": {
      "text/plain": [
       "Counter({'0': 50, '1': 50})"
      ]
     },
     "execution_count": 17,
     "metadata": {},
     "output_type": "execute_result"
    }
   ],
   "source": [
    "from blueqat import Circuit\n",
    "\n",
    "Circuit().h[0].m[:].run(shots=100)"
   ]
  },
  {
   "cell_type": "markdown",
   "metadata": {},
   "source": [
    "###### S ゲート"
   ]
  },
  {
   "cell_type": "code",
   "execution_count": 18,
   "metadata": {},
   "outputs": [
    {
     "data": {
      "text/plain": [
       "Counter({'0': 100})"
      ]
     },
     "execution_count": 18,
     "metadata": {},
     "output_type": "execute_result"
    }
   ],
   "source": [
    "from blueqat import Circuit\n",
    "\n",
    "Circuit().s[0].m[:].run(shots=100)"
   ]
  },
  {
   "cell_type": "markdown",
   "metadata": {},
   "source": [
    "###### S† ゲート"
   ]
  },
  {
   "cell_type": "code",
   "execution_count": 19,
   "metadata": {},
   "outputs": [
    {
     "data": {
      "text/plain": [
       "Counter({'0': 100})"
      ]
     },
     "execution_count": 19,
     "metadata": {},
     "output_type": "execute_result"
    }
   ],
   "source": [
    "from blueqat import Circuit\n",
    "\n",
    "Circuit().sdg[0].m[:].run(shots=100)"
   ]
  },
  {
   "cell_type": "markdown",
   "metadata": {},
   "source": [
    "###### T ゲート"
   ]
  },
  {
   "cell_type": "code",
   "execution_count": 20,
   "metadata": {},
   "outputs": [
    {
     "data": {
      "text/plain": [
       "Counter({'0': 100})"
      ]
     },
     "execution_count": 20,
     "metadata": {},
     "output_type": "execute_result"
    }
   ],
   "source": [
    "from blueqat import Circuit\n",
    "\n",
    "Circuit().t[0].m[:].run(shots=100)"
   ]
  },
  {
   "cell_type": "markdown",
   "metadata": {},
   "source": [
    "###### T† ゲート"
   ]
  },
  {
   "cell_type": "code",
   "execution_count": 22,
   "metadata": {},
   "outputs": [
    {
     "data": {
      "text/plain": [
       "Counter({'0': 100})"
      ]
     },
     "execution_count": 22,
     "metadata": {},
     "output_type": "execute_result"
    }
   ],
   "source": [
    "from blueqat import Circuit\n",
    "\n",
    "Circuit().tdg[0].m[:].run(shots=100)"
   ]
  },
  {
   "cell_type": "markdown",
   "metadata": {},
   "source": [
    "### Rx, Ry, Rz, U1, U2, U3\n",
    "#### U1, U2, U3に関して\n",
    "ゲートを汎用的に使うために U1, U2, U3 ゲートというものがあります。\n",
    "U1, U2, U3 はそれぞれ以下のように表します。\n",
    "\n",
    "$$\n",
    "U_1(\\lambda) = \\left(\\begin{array}{cc}1 & 0 \\\\ 0 & e^{i\\lambda} \\end{array}\\right),\n",
    "U_2(\\phi, \\lambda) = \\frac{1}{\\sqrt2}\\left(\\begin{array}{cc}1 & -e^{i\\lambda} \\\\ e^{i\\phi} & e^{i(\\lambda+\\phi)} \\end{array}\\right),\n",
    "U_3(\\theta, \\phi, \\lambda) = \\left(\\begin{array}{cc}\\cos\\left(\\frac{\\theta}{2}\\right) & -e^{i\\lambda}\\sin\\left(\\frac{\\theta}{2}\\right) \\\\ e^{i\\phi}\\sin\\left(\\frac{\\theta}{2}\\right) & e^{i(\\lambda+\\phi)}\\cos\\left(\\frac{\\theta}{2}\\right) \\end{array}\\right)\\\\\n",
    "U_1 \\left\\{ \\begin{array}{c} \\left|0\\right> → \\left|0\\right> \\\\\n",
    "\\left|1\\right> → e^{i\\lambda}\\left|1\\right> \\end{array} \\right. ,\n",
    "U_2 \\left\\{ \\begin{array}{c} \\left|0\\right> → \\frac{1}{\\sqrt2}(\\left|0\\right> +\n",
    "e^{i\\phi} \\left|1\\right>) \\\\\n",
    "\\left|1\\right> → -\\frac{1}{\\sqrt2}e^{i\\lambda}(\\left|0\\right> -\n",
    "e^{i\\phi}\\left|1\\right>) \\end{array} \\right. ,\n",
    "U_3 \\left\\{ \\begin{array}{c} \\left|0\\right> → \\cos\\left(\\frac{\\theta}{2}\\right)\\left|0\\right> +\n",
    "e^{i\\phi}\\sin\\left(\\frac{\\theta}{2}\\right)\\left|1\\right> \\\\\n",
    "\\left|1\\right> → -e^{i\\lambda}(\\sin\\left(\\frac{\\theta}{2}\\right)\\left|0\\right>-\n",
    "e^{i\\phi}\\cos\\left(\\frac{\\theta}{2}\\right)\\left|1\\right>) \\end{array} \\right. \n",
    "$$\n",
    "\n",
    "U1ゲートは一般の位相ゲートとなります。\n",
    "( $U_1(\\pi) = Z, U_1(\\frac{\\pi}{2})=S, U_1(\\frac{\\pi}{4})=T$ )\n",
    "\n",
    "U2ゲートでは、bloch球の $\\theta → \\pi/4, \\phi → \\phi$ の軸で $\\pi$ 回転させるゲートです。\n",
    "( $U_2(0,\\pi) = H$ )\n",
    "\n",
    "U3ゲートは、bloch球の $\\theta → \\theta/2, \\phi → \\phi$ の軸で $\\pi$ 回転させるゲートになります。\n",
    "$U_3\\left|0\\right>$ は bloch球の式に対応しています。\n",
    "よってビットを任意の位置に移動させることができます。\n",
    "\n",
    "$U_2, U_3$ の $\\lambda$ に関して、\n",
    "\n",
    "$$\n",
    "\\left|\\theta, \\phi\\right>_0 = \\cos\\left(\\frac{\\theta}{2}\\right)\\left|0\\right> +\n",
    "e^{i\\phi}\\sin\\left(\\frac{\\theta}{2}\\right)\\left|1\\right> \\\\\n",
    "\\left|\\theta, \\phi\\right>_1 = \\sin\\left(\\frac{\\theta}{2}\\right)\\left|0\\right> -\n",
    "e^{i\\phi}\\cos\\left(\\frac{\\theta}{2}\\right)\\left|1\\right>\n",
    "$$\n",
    "\n",
    "という基底を考えると、それぞれこの基底に関する位相が $\\lambda$ によって変わることがわかります。\n",
    "\n",
    "Rx, Ry, Rz, U1, U2, U3 ゲートはそれぞれ以下で実装できます。\n",
    "\n",
    "| Rx | Ry | Rz | U1 | U2 | U3 |\n",
    "|:-:|:-:|:-:|:-:|:-:|:-:|\n",
    "|`rx(θ)`|`ry(θ)`|`rz(θ)`or`phase(θ)`|`u1(λ)`|`u2(φ,λ)`|`u3(φ,λ,θ)`|\n",
    "\n",
    "Rx, Ry, Rz の $\\theta$ には各軸による回転角を記入します。\n",
    "\n",
    "#### 実装\n",
    "以上のゲートを実装します。\n",
    "\n",
    "###### Rx ゲート"
   ]
  },
  {
   "cell_type": "code",
   "execution_count": 23,
   "metadata": {},
   "outputs": [
    {
     "data": {
      "text/plain": [
       "Counter({'1': 43, '0': 57})"
      ]
     },
     "execution_count": 23,
     "metadata": {},
     "output_type": "execute_result"
    }
   ],
   "source": [
    "from blueqat import Circuit\n",
    "import math\n",
    "\n",
    "Circuit().rx(math.pi/2)[0].m[:].run(shots=100)"
   ]
  },
  {
   "cell_type": "markdown",
   "metadata": {},
   "source": [
    "###### Ry ゲート"
   ]
  },
  {
   "cell_type": "code",
   "execution_count": 27,
   "metadata": {},
   "outputs": [
    {
     "data": {
      "text/plain": [
       "Counter({'1': 45, '0': 55})"
      ]
     },
     "execution_count": 27,
     "metadata": {},
     "output_type": "execute_result"
    }
   ],
   "source": [
    "from blueqat import Circuit\n",
    "import math\n",
    "\n",
    "Circuit().ry(math.pi/2)[0].m[:].run(shots=100)"
   ]
  },
  {
   "cell_type": "markdown",
   "metadata": {},
   "source": [
    "###### Rz ゲート"
   ]
  },
  {
   "cell_type": "code",
   "execution_count": 26,
   "metadata": {},
   "outputs": [
    {
     "data": {
      "text/plain": [
       "Counter({'0': 100})"
      ]
     },
     "execution_count": 26,
     "metadata": {},
     "output_type": "execute_result"
    }
   ],
   "source": [
    "from blueqat import Circuit\n",
    "import math\n",
    "\n",
    "Circuit().rz(math.pi/2)[0].m[:].run(shots=100)\n",
    "#or\n",
    "Circuit().phase(math.pi/2)[0].m[:].run(shots=100)"
   ]
  },
  {
   "cell_type": "markdown",
   "metadata": {},
   "source": [
    "###### U1 ゲート"
   ]
  },
  {
   "cell_type": "code",
   "execution_count": 28,
   "metadata": {},
   "outputs": [
    {
     "data": {
      "text/plain": [
       "Counter({'0': 100})"
      ]
     },
     "execution_count": 28,
     "metadata": {},
     "output_type": "execute_result"
    }
   ],
   "source": [
    "from blueqat import Circuit\n",
    "import math\n",
    "\n",
    "Circuit().u1(math.pi)[0].m[:].run(shots=100)"
   ]
  },
  {
   "cell_type": "markdown",
   "metadata": {},
   "source": [
    "###### U2 ゲート"
   ]
  },
  {
   "cell_type": "code",
   "execution_count": 29,
   "metadata": {},
   "outputs": [
    {
     "data": {
      "text/plain": [
       "Counter({'1': 40, '0': 60})"
      ]
     },
     "execution_count": 29,
     "metadata": {},
     "output_type": "execute_result"
    }
   ],
   "source": [
    "from blueqat import Circuit\n",
    "import math\n",
    "\n",
    "Circuit().u2(0, math.pi)[0].m[:].run(shots=100)"
   ]
  },
  {
   "cell_type": "markdown",
   "metadata": {},
   "source": [
    "###### U3 ゲート"
   ]
  },
  {
   "cell_type": "code",
   "execution_count": 30,
   "metadata": {},
   "outputs": [
    {
     "data": {
      "text/plain": [
       "Counter({'1': 61, '0': 39})"
      ]
     },
     "execution_count": 30,
     "metadata": {},
     "output_type": "execute_result"
    }
   ],
   "source": [
    "from blueqat import Circuit\n",
    "import math\n",
    "\n",
    "Circuit().u3(math.pi/2,0,math.pi)[0].m[:].run(shots=100)"
   ]
  },
  {
   "cell_type": "markdown",
   "metadata": {},
   "source": [
    "## 2量子ゲート\n",
    "2量子ゲートは主に1量子ゲートに制御ビットが加わったものがあります。\n",
    "### CX, CZ\n",
    "CX, CZ ゲートは以下で実装できます。\n",
    "\n",
    "| CX | CZ |\n",
    "|:-:|:-:|\n",
    "|`cx`or`cnot`|`cz`|\n",
    "\n",
    "### CRx, CRy, CRz, CU1, CU2, CU3\n",
    "CRx, CRy, CRz, CU1, CU2, CU3 ゲートは以下で実装できます。\n",
    "\n",
    "| CRx | CRy | CRz | CU1 | CU2 | CU3 |\n",
    "|:-:|:-:|:-:|:-:|:-:|:-:|\n",
    "|`crx(θ)`|`cry(θ)`|`crz(θ)`|`cu1(λ)`or`cphase(λ)`|`cu2(φ,λ)`|`cu3(φ,λ,θ)`|\n",
    "\n",
    "$\\theta, \\lambda, \\phi$ に関しては1量子ゲートのときと同じです。\n",
    "\n",
    "### Swap\n",
    "Swap ゲートは以下で実装できます。\n",
    "\n",
    "|SWAP|\n",
    "|:-:|\n",
    "|`swap`|\n",
    "\n",
    "\n",
    "#### 実装\n",
    "以上のゲートを実装します。\n",
    "\n",
    "###### CX ゲート"
   ]
  },
  {
   "cell_type": "code",
   "execution_count": 38,
   "metadata": {},
   "outputs": [
    {
     "data": {
      "text/plain": [
       "Counter({'00': 100})"
      ]
     },
     "execution_count": 38,
     "metadata": {},
     "output_type": "execute_result"
    }
   ],
   "source": [
    "from blueqat import Circuit\n",
    "\n",
    "Circuit().cx[0,1].m[:].run(shots=100)\n",
    "#or\n",
    "Circuit().cnot[0,1].m[:].run(shots=100)"
   ]
  },
  {
   "cell_type": "markdown",
   "metadata": {},
   "source": [
    "###### CZ ゲート"
   ]
  },
  {
   "cell_type": "code",
   "execution_count": 32,
   "metadata": {},
   "outputs": [],
   "source": [
    "from blueqat import Circuit\n",
    "\n",
    "c = Circuit().cz[0,1].m[:].run(shots=100)"
   ]
  },
  {
   "cell_type": "markdown",
   "metadata": {},
   "source": [
    "###### CRx ゲート"
   ]
  },
  {
   "cell_type": "code",
   "execution_count": 33,
   "metadata": {},
   "outputs": [
    {
     "data": {
      "text/plain": [
       "Counter({'00': 100})"
      ]
     },
     "execution_count": 33,
     "metadata": {},
     "output_type": "execute_result"
    }
   ],
   "source": [
    "from blueqat import Circuit\n",
    "import math\n",
    "\n",
    "Circuit().crx(math.pi/2)[0,1].m[:].run(shots=100)"
   ]
  },
  {
   "cell_type": "markdown",
   "metadata": {},
   "source": [
    "###### CRy ゲート"
   ]
  },
  {
   "cell_type": "code",
   "execution_count": 34,
   "metadata": {},
   "outputs": [
    {
     "data": {
      "text/plain": [
       "Counter({'00': 1000})"
      ]
     },
     "execution_count": 34,
     "metadata": {},
     "output_type": "execute_result"
    }
   ],
   "source": [
    "from blueqat import Circuit\n",
    "import math\n",
    "\n",
    "Circuit().crx(math.pi/2)[0,1].m[:].run(shots=1000)"
   ]
  },
  {
   "cell_type": "markdown",
   "metadata": {},
   "source": [
    "###### CRz ゲート"
   ]
  },
  {
   "cell_type": "code",
   "execution_count": 35,
   "metadata": {},
   "outputs": [
    {
     "data": {
      "text/plain": [
       "Counter({'00': 1000})"
      ]
     },
     "execution_count": 35,
     "metadata": {},
     "output_type": "execute_result"
    }
   ],
   "source": [
    "from blueqat import Circuit\n",
    "import math\n",
    "\n",
    "Circuit().crz(math.pi/2)[0,1].m[:].run(shots=1000)"
   ]
  },
  {
   "cell_type": "markdown",
   "metadata": {},
   "source": [
    "###### CU1 ゲート"
   ]
  },
  {
   "cell_type": "code",
   "execution_count": 37,
   "metadata": {},
   "outputs": [
    {
     "data": {
      "text/plain": [
       "Counter({'00': 100})"
      ]
     },
     "execution_count": 37,
     "metadata": {},
     "output_type": "execute_result"
    }
   ],
   "source": [
    "from blueqat import Circuit\n",
    "import math\n",
    "\n",
    "Circuit().cu1(math.pi)[0,1].m[:].run(shots=100)\n",
    "#or\n",
    "Circuit().cphase(math.pi)[0,1].m[:].run(shots=100)"
   ]
  },
  {
   "cell_type": "markdown",
   "metadata": {},
   "source": [
    "###### CU2 ゲート"
   ]
  },
  {
   "cell_type": "code",
   "execution_count": 39,
   "metadata": {},
   "outputs": [
    {
     "data": {
      "text/plain": [
       "Counter({'00': 100})"
      ]
     },
     "execution_count": 39,
     "metadata": {},
     "output_type": "execute_result"
    }
   ],
   "source": [
    "from blueqat import Circuit\n",
    "import math\n",
    "\n",
    "Circuit().cu2(0,math.pi)[0,1].m[:].run(shots=100)"
   ]
  },
  {
   "cell_type": "markdown",
   "metadata": {},
   "source": [
    "###### CU3 ゲート"
   ]
  },
  {
   "cell_type": "code",
   "execution_count": 42,
   "metadata": {},
   "outputs": [
    {
     "data": {
      "text/plain": [
       "Counter({'00': 100})"
      ]
     },
     "execution_count": 42,
     "metadata": {},
     "output_type": "execute_result"
    }
   ],
   "source": [
    "from blueqat import Circuit\n",
    "import math\n",
    "\n",
    "Circuit().cu3(math.pi/2,0,math.pi)[0,1].m[:].run(shots=100)"
   ]
  },
  {
   "cell_type": "markdown",
   "metadata": {},
   "source": [
    "###### Swap ゲート"
   ]
  },
  {
   "cell_type": "code",
   "execution_count": 43,
   "metadata": {},
   "outputs": [
    {
     "data": {
      "text/plain": [
       "Counter({'00': 1000})"
      ]
     },
     "execution_count": 43,
     "metadata": {},
     "output_type": "execute_result"
    }
   ],
   "source": [
    "from blueqat import Circuit\n",
    "\n",
    "Circuit().swap[0,1].m[:].run(shots=1000)"
   ]
  },
  {
   "cell_type": "markdown",
   "metadata": {},
   "source": [
    "## 3量子ゲート\n",
    "3量子ゲートはCCX(Toffoli)ゲートのみあります。\n",
    "\n",
    "### CCX(Toffoli)\n",
    "CCX ゲートは以下で実装できます。\n",
    "\n",
    "|CCX|\n",
    "|:-:|\n",
    "|`ccx`又は`toffoli`|\n",
    "\n",
    "#### 実装\n",
    "以上のゲートを実装します。\n",
    "\n",
    "###### CCX ゲート"
   ]
  },
  {
   "cell_type": "code",
   "execution_count": 45,
   "metadata": {},
   "outputs": [
    {
     "data": {
      "text/plain": [
       "Counter({'000': 100})"
      ]
     },
     "execution_count": 45,
     "metadata": {},
     "output_type": "execute_result"
    }
   ],
   "source": [
    "from blueqat import Circuit\n",
    "\n",
    "Circuit().ccx[0,1,2].m[:].run(shots=100)\n",
    "#or\n",
    "Circuit().toffoli[0,1,2].m[:].run(shots=100)"
   ]
  },
  {
   "cell_type": "markdown",
   "metadata": {},
   "source": [
    "# 概要\n",
    "\n",
    "## X, Y, Z ゲート\n",
    "\n",
    "<img src=\"./img/007/007_02_0.png\" width=\"45%\">\n",
    "\n",
    "これを施すと\n",
    "\n",
    "<img src=\"./img/007/007_02_1.png\" width=\"45%\">\n",
    "\n",
    "Xゲートは 0 と 1 を入れ替える古典の NOT ゲートに当たります。   \n",
    "Zゲートは 1 だけ符号を変えることができるゲートです。\n",
    "\n",
    "この二つは非常によく使います。"
   ]
  },
  {
   "cell_type": "markdown",
   "metadata": {},
   "source": [
    "## H ゲート\n",
    "量子状態の重ね合わせに必要なゲートです。\n",
    "\n",
    "<img src=\"./img/007/007_02_2.png\" width=\"40%\">\n",
    "\n",
    "見てわかる通り $|0\\rangle, |1\\rangle$ をそれぞれ重ね合わせの状態に変換しています。\n",
    "これもとても重要なゲートです。\n",
    "\n",
    "アダマールゲートとも言います。(Hadamard)"
   ]
  },
  {
   "cell_type": "markdown",
   "metadata": {},
   "source": [
    "## S, S†, T, T† ゲート\n",
    "\n",
    "<img src=\"./img/007/007_02_3.png\" width=\"60%\">\n",
    "\n",
    "これを施すと\n",
    "\n",
    "<img src=\"./img/007/007_02_4.png\" width=\"65%\">\n",
    "\n",
    "見てわかる通り $|1\\rangle$ のみ変換して状態ベクトルは変化していますが、観測した値自体は変化しません。   \n",
    "このような複素数部分のことを位相と言います。\n",
    "\n",
    "この複素数の部分を動かすゲートを位相ゲートとも呼びます。"
   ]
  },
  {
   "cell_type": "markdown",
   "metadata": {},
   "source": [
    "## Rx, Ry, Rz ゲート\n",
    "ビットを各軸周りに回転させるゲートです。\n",
    "\n",
    "<img src=\"./img/007/007_02_5.png\" width=\"80%\">\n",
    "\n",
    "各軸周りに回転できるので1量子ビットの全ての状態はこのゲートの組み合わせで作ることができます。"
   ]
  },
  {
   "cell_type": "markdown",
   "metadata": {},
   "source": [
    "## U1, U2, U3 ゲート\n",
    "ゲートを汎用的に使うために U1, U2, U3 ゲートというものが blueqatにはあります。\n",
    "U1, U2, U3 はそれぞれ以下のように表します。\n",
    "\n",
    "<img src=\"./img/007/007_02_6.png\" width=\"85%\">\n",
    "\n",
    "U1ゲートは一般の位相ゲートとなります。\n",
    "\n",
    "U2, U3ゲートに関しては bloch球を考えれば回転方向がわかります。   \n",
    "U2 は2個、U3 は3個のパラメータを用いるので全ての状態を考えることができます。"
   ]
  },
  {
   "cell_type": "markdown",
   "metadata": {},
   "source": [
    "## CX, CY, CZ, CRx, CRy, CRz, CU1, CU2, CU3 ゲート\n",
    "制御ゲートは「コントロールゲート」と「ターゲットゲート」で構成されます。 \n",
    "\n",
    "Controll ゲートは2量子ビットを用います。これらは1ビット目が $|1\\rangle$ のときに2ビット目を変換させるゲートです。   \n",
    "例としてよく使う CXゲートを紹介します。\n",
    "\n",
    "<img src=\"./img/007/007_0.png\" width=\"60%\">\n",
    "\n",
    "見てわかる通り1ビット目が $|1\\rangle$ のときに2ビット目にXゲートを施しているのがわかります。   \n",
    "それ以外の制御ゲートも1ビット目が $|1\\rangle$ のときに2ビット目にそれぞれのゲートを施してます。"
   ]
  },
  {
   "cell_type": "markdown",
   "metadata": {},
   "source": [
    "## SWAP ゲート\n",
    "Swap ゲートは2量子ビットを交換するゲートです。\n",
    "\n",
    "<img src=\"./img/006/006_1.png\" width=\"50%\">"
   ]
  },
  {
   "cell_type": "markdown",
   "metadata": {},
   "source": [
    "## CCX ゲート（Toffoli ゲート）\n",
    "コントロールゲートを二つ持ったゲートです。\n",
    "\n",
    "<img src=\"./img/007/007_02_7.png\" width=\"60%\">\n",
    "\n",
    "行列の右下にXゲートが入っていることがわかります。\n",
    "\n",
    "これは1ビット目と2ビット目がともに $|1\\rangle$ ならば3ビット目にXゲートを施します。別名Toffoliゲートとも呼ばれます。\n",
    "\n",
    "行列を大きくして同様のことをすると複数ビットの制御ゲートを作ることができます。"
   ]
  },
  {
   "cell_type": "markdown",
   "metadata": {},
   "source": []
  }
 ],
 "metadata": {
  "colab": {
   "collapsed_sections": [],
   "name": "007_02_fullgate.ipynb",
   "provenance": []
  },
  "kernelspec": {
   "display_name": "conda_python3",
   "language": "python",
   "name": "conda_python3"
  },
  "language_info": {
   "codemirror_mode": {
    "name": "ipython",
    "version": 3
   },
   "file_extension": ".py",
   "mimetype": "text/x-python",
   "name": "python",
   "nbconvert_exporter": "python",
   "pygments_lexer": "ipython3",
   "version": "3.6.5"
  }
 },
 "nbformat": 4,
 "nbformat_minor": 1
}

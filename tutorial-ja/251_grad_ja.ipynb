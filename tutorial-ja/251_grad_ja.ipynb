{
 "cells": [
  {
   "cell_type": "markdown",
   "metadata": {},
   "source": [
    "## 数値微分\n",
    "関数f(x)と微小変化hより微分係数が求まります。\n",
    "\n",
    "$$\n",
    "\\frac{df(x)}{dx} = lim_{h \\rightarrow 0}\\frac{f(x+h) - f(x)}{h}\n",
    "$$\n",
    "\n",
    "例えば、$f(x) = x^2$ で、$x=1$において、$h=0.1$の時の微分係数は下記のようになります。"
   ]
  },
  {
   "cell_type": "code",
   "execution_count": 2,
   "metadata": {},
   "outputs": [
    {
     "data": {
      "text/plain": [
       "2.100000000000002"
      ]
     },
     "execution_count": 2,
     "metadata": {},
     "output_type": "execute_result"
    }
   ],
   "source": [
    "x = 1\n",
    "h = 0.1\n",
    "((x+h)*(x+h)-x*x)/h"
   ]
  },
  {
   "cell_type": "markdown",
   "metadata": {},
   "source": [
    "## 偏微分\n",
    "NISQのパラメータを含む量子回路ではたくさんの角度が回路に変数として登場します。偏微分によって、特定のパラメータに関わる微分係数を手に入れることができます。\n",
    "\n",
    "$$\n",
    "\\frac{\\partial f(x,y)}{\\partial x}\n",
    "$$\n",
    "\n",
    "とか、\n",
    "\n",
    "$$\n",
    "\\frac{\\partial f(x,y)}{\\partial y}\n",
    "$$"
   ]
  },
  {
   "cell_type": "markdown",
   "metadata": {},
   "source": [
    "## 勾配\n",
    "勾配は、この偏微分をベクトルの形に収めたものになっています。\n",
    "\n",
    "$$\n",
    "(\\frac{\\partial f(x,y)}{\\partial x},\\frac{\\partial f(x,y)}{\\partial y})\n",
    "$$\n",
    "\n",
    "極小値、最小値の部分では微分が0になりますので、そのような場所を探すには全ての偏微分に対して、勾配を使って更新をかけることによって極小値、最小値を探すことができます。eはここでは学習率を示します。\n",
    "\n",
    "$$\n",
    "x = x -e*\\frac{\\partial f(x,y)}{\\partial x}\\\\\n",
    "y = y -e*\\frac{\\partial f(x,y)}{\\partial y}\n",
    "$$\n",
    "\n",
    "このプロセスを繰り返します。"
   ]
  },
  {
   "cell_type": "markdown",
   "metadata": {},
   "source": [
    "## SGD\n",
    "Stochastic Gradient Descentは確率的にサンプルを選んで勾配計算を行います。早速、RYゲートを使った回路で測定値の期待値の最小値を求めるVQEをやってみます。"
   ]
  },
  {
   "cell_type": "code",
   "execution_count": 3,
   "metadata": {},
   "outputs": [],
   "source": [
    "!pip install -q blueqat"
   ]
  },
  {
   "cell_type": "markdown",
   "metadata": {},
   "source": [
    "Let's check another simple circuit with X measurement."
   ]
  },
  {
   "cell_type": "code",
   "execution_count": 6,
   "metadata": {},
   "outputs": [
    {
     "name": "stdout",
     "output_type": "stream",
     "text": [
      "3.140683446953395\n"
     ]
    },
    {
     "data": {
      "image/png": "[encoded data removed]",
      "text/plain": [
       "<Figure size 432x288 with 1 Axes>"
      ]
     },
     "metadata": {},
     "output_type": "display_data"
    }
   ],
   "source": [
    "from blueqat import Circuit\n",
    "import matplotlib.pyplot as plt\n",
    "import numpy as np\n",
    "%matplotlib inline\n",
    "\n",
    "def abs_sq(k):\n",
    "    return np.square(np.abs(k))\n",
    "\n",
    "#Zの期待値\n",
    "def exptZ(a):\n",
    "    res = Circuit().ry(a)[0].run()\n",
    "    return abs_sq(res[0])-abs_sq(res[1])\n",
    "\n",
    "#初期設定\n",
    "ainit = [np.random.rand()*2*np.pi]\n",
    "a = ainit.copy()\n",
    "h = 0.001\n",
    "e = 0.01\n",
    "\n",
    "#勾配の更新と記録\n",
    "for i in range(1000):\n",
    "    a.append(a[i] - e*(exptZ(a[i]+h) - exptZ(a[i]))/h)\n",
    "\n",
    "#最終の値\n",
    "print(a[-1])\n",
    "\n",
    "#期待値のプロット\n",
    "plt.plot(list(map(exptZ, a)))\n",
    "plt.show()"
   ]
  },
  {
   "cell_type": "markdown",
   "metadata": {},
   "source": [
    "無事VQEができました。"
   ]
  },
  {
   "cell_type": "markdown",
   "metadata": {},
   "source": [
    "## 損失関数\n",
    "VQEは変分原理などを覚える必要があるので、損失関数を使ってみます。これなら機械学習として覚えられます。"
   ]
  },
  {
   "cell_type": "code",
   "execution_count": 8,
   "metadata": {},
   "outputs": [
    {
     "name": "stdout",
     "output_type": "stream",
     "text": [
      "3.3769432741687635\n"
     ]
    },
    {
     "data": {
      "image/png": "[encoded data removed]",
      "text/plain": [
       "<Figure size 432x288 with 1 Axes>"
      ]
     },
     "metadata": {},
     "output_type": "display_data"
    },
    {
     "name": "stdout",
     "output_type": "stream",
     "text": [
      "0.0007599592263280862\n"
     ]
    }
   ],
   "source": [
    "from blueqat import Circuit\n",
    "import matplotlib.pyplot as plt\n",
    "import numpy as np\n",
    "%matplotlib inline\n",
    "\n",
    "def abs_sq(k):\n",
    "    return np.square(np.abs(k))\n",
    "\n",
    "#期待値\n",
    "def expt(a):\n",
    "    res = Circuit().ry(a)[0].run()\n",
    "    return abs_sq(res[0])-abs_sq(res[1])\n",
    "\n",
    "#損失関数\n",
    "def loss(res,tar):\n",
    "    return np.square(res-tar)\n",
    "\n",
    "#微分係数\n",
    "def dfx(a,h,tgt=-1):\n",
    "    return (loss(expt(a+h),tgt) - loss(expt(a),tgt))/h\n",
    "#    return (expt(a+h)-expt(a))/h\n",
    "\n",
    "#勾配\n",
    "def grad(a,h,e):\n",
    "    for i in range(1000):\n",
    "        a.append(a[i] - e*dfx(a[i],h))\n",
    "    return a\n",
    "\n",
    "#初期化\n",
    "a = [np.random.rand()*2*np.pi]\n",
    "h = 0.001\n",
    "e = 0.01\n",
    "\n",
    "ra = grad(a,h,e)\n",
    "print(ra[-1])\n",
    "\n",
    "arr = [loss(expt(i),-1) for i in ra]\n",
    "\n",
    "plt.plot(arr)\n",
    "plt.show()\n",
    "\n",
    "print(arr[-1])"
   ]
  },
  {
   "cell_type": "markdown",
   "metadata": {},
   "source": [
    "## momentum SGD"
   ]
  },
  {
   "cell_type": "code",
   "execution_count": 14,
   "metadata": {},
   "outputs": [
    {
     "data": {
      "image/png": "[encoded data removed]",
      "text/plain": [
       "<Figure size 432x288 with 1 Axes>"
      ]
     },
     "metadata": {},
     "output_type": "display_data"
    }
   ],
   "source": [
    "#momentum sgd\n",
    "def msgd(a,h,e,tgt,alpha):\n",
    "    p_delta = 0\n",
    "    for i in range(100):\n",
    "        update = -e*dfx(a[i],h,tgt) + alpha*p_delta\n",
    "        a.append(a[i] + update)\n",
    "        p_delta = update\n",
    "    return a\n",
    "\n",
    "#initialization\n",
    "a = ainit.copy()\n",
    "h = 0.001\n",
    "e = 0.01\n",
    "\n",
    "alpha = 0.9\n",
    "tgt = -1\n",
    "\n",
    "result = msgd(a,h,e,tgt,alpha)\n",
    "arr = [loss(expt(i),tgt) for i in result]\n",
    "\n",
    "plt.plot(arr)\n",
    "plt.show()"
   ]
  },
  {
   "cell_type": "markdown",
   "metadata": {},
   "source": [
    "## Adagrad"
   ]
  },
  {
   "cell_type": "code",
   "execution_count": 13,
   "metadata": {},
   "outputs": [
    {
     "data": {
      "image/png": "[encoded data removed]",
      "text/plain": [
       "<Figure size 432x288 with 1 Axes>"
      ]
     },
     "metadata": {},
     "output_type": "display_data"
    }
   ],
   "source": [
    "def adagrad(a,h,e,tgt,epsilon):\n",
    "    G = epsilon\n",
    "    for i in range(100):\n",
    "        g = dfx(a[i],h,tgt)\n",
    "        G += g*g\n",
    "        update = -e/np.sqrt(G)*g\n",
    "        a.append(a[i] + update)\n",
    "    return a\n",
    "\n",
    "#initialization\n",
    "a = ainit.copy()\n",
    "h = 0.001\n",
    "e = 0.1\n",
    "epsilon = 1e-08\n",
    "tgt = -1\n",
    "\n",
    "result = adagrad(a,h,e,tgt,epsilon)\n",
    "arr = [loss(expt(i),tgt) for i in result]\n",
    "\n",
    "plt.plot(arr)\n",
    "plt.show()"
   ]
  }
 ],
 "metadata": {
  "kernelspec": {
   "display_name": "conda_python3",
   "language": "python",
   "name": "conda_python3"
  },
  "language_info": {
   "codemirror_mode": {
    "name": "ipython",
    "version": 3
   },
   "file_extension": ".py",
   "mimetype": "text/x-python",
   "name": "python",
   "nbconvert_exporter": "python",
   "pygments_lexer": "ipython3",
   "version": "3.6.5"
  }
 },
 "nbformat": 4,
 "nbformat_minor": 4
}

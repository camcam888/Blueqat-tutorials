{
 "cells": [
  {
   "cell_type": "markdown",
   "metadata": {},
   "source": [
    "# 自作のansatzを用いたVariational Quantum Eigensolver(VQE)"
   ]
  },
  {
   "cell_type": "markdown",
   "metadata": {},
   "source": [
    "VQEで化学計算を行う際には、Hartree-Fock波動関数などの初期波動関数状態に対してユニタリ行列を演算させていきます。そして、演算させるユニタリ演算は使用するansatzによって決まります。\n",
    "今回は自作したansatzを用いてVQEで水素分子の電子状態計算を行います。AnsatzはHardware Efficient Ansatz(HEA)を使用します。\n",
    "\n",
    "必要なライブラリをインストールします。水素分子のハミルトニアンはOpenFermionで取得します。"
   ]
  },
  {
   "cell_type": "code",
   "execution_count": null,
   "metadata": {},
   "outputs": [],
   "source": [
    "!pip3 install blueqat openfermion"
   ]
  },
  {
   "cell_type": "markdown",
   "metadata": {},
   "source": [
    "必要なライブラリをインポートします。VQEの最適化はSciPyのminimizeで行います。"
   ]
  },
  {
   "cell_type": "code",
   "execution_count": 19,
   "metadata": {},
   "outputs": [],
   "source": [
    "from blueqat import Circuit\n",
    "from openfermion.hamiltonians import MolecularData\n",
    "from openfermion.transforms import get_fermion_operator, jordan_wigner, get_sparse_operator\n",
    "import numpy as np\n",
    "from scipy.optimize import minimize"
   ]
  },
  {
   "cell_type": "markdown",
   "metadata": {},
   "source": [
    "## Ansatzの定義\n",
    "Ansatzを定義します。今回はRy, RzとCZゲートが全ビットに対して演算されるHardware Efficient Ansatzを使用します。引数はビット数n_qubitsとゲートの深さn_depthとしました。波動関数の初期化は関数内で行いました。"
   ]
  },
  {
   "cell_type": "code",
   "execution_count": 20,
   "metadata": {},
   "outputs": [],
   "source": [
    "def HEA(params,n_qubits,n_depth):\n",
    "    #波動関数初期化 |1100>\n",
    "    circ=Circuit().x[2, 3]\n",
    "\n",
    "    #量子回路作成\n",
    "    params_devided=np.array_split(params,n_depth)\n",
    "    for params_one_depth in params_devided:\n",
    "        for i,param in enumerate(params_one_depth):\n",
    "            if i < n_qubits:\n",
    "                circ.ry(param)[i]\n",
    "            else:\n",
    "                circ.rz(param)[i%n_qubits]\n",
    "        for qbit in range(n_qubits):\n",
    "            if qbit < n_qubits-1:\n",
    "                circ.cz[qbit,qbit+1]\n",
    "    \n",
    "    #量子回路実行\n",
    "    wf = circ.run(backend=\"numpy\")\n",
    "    return wf"
   ]
  },
  {
   "cell_type": "markdown",
   "metadata": {},
   "source": [
    "## 期待値とコスト関数\n",
    "得られた波動関数から期待値を取得します。"
   ]
  },
  {
   "cell_type": "code",
   "execution_count": 21,
   "metadata": {},
   "outputs": [],
   "source": [
    "def expect(wf,hamiltonian):\n",
    "    return np.vdot(wf, hamiltonian.dot(wf)).real\n",
    "\n",
    "def cost(params,hamiltonian,n_qubits,n_depth):\n",
    "    wf=HEA(params,n_qubits,n_depth)\n",
    "    return expect(wf,hamiltonian)"
   ]
  },
  {
   "cell_type": "markdown",
   "metadata": {},
   "source": [
    "## 分子の情報取得\n",
    "水素の結合長を指定し、OpenFermionを用いて分子の情報を取得します。基底関数はSTO-3Gです。"
   ]
  },
  {
   "cell_type": "code",
   "execution_count": 22,
   "metadata": {},
   "outputs": [],
   "source": [
    "def get_molecule(length):\n",
    "    geometry = [('H',(0.,0.,0.)),('H',(0.,0.,length))]\n",
    "    try:\n",
    "        description = f'{length:.2f}'\n",
    "        molecule = MolecularData(geometry, \"sto-3g\",1,description=description)\n",
    "        molecule.load()\n",
    "    except:\n",
    "        description = f'{length:.1f}'\n",
    "        molecule = MolecularData(geometry, \"sto-3g\",1,description=description)\n",
    "        molecule.load()\n",
    "    return molecule"
   ]
  },
  {
   "cell_type": "markdown",
   "metadata": {},
   "source": [
    "## 計算実行とプロット\n",
    "各結合長でVQEを実行します(数分かかります)。その後、エネルギーと結合長に関してVQEとfull CI(FCI)の計算結果を比較します。"
   ]
  },
  {
   "cell_type": "code",
   "execution_count": 23,
   "metadata": {},
   "outputs": [
    {
     "data": {
      "text/plain": [
       "<matplotlib.legend.Legend at 0x25127ed6988>"
      ]
     },
     "execution_count": 23,
     "metadata": {},
     "output_type": "execute_result"
    },
    {
     "data": {
      "image/png": "[encoded data removed]",
      "text/plain": [
       "<Figure size 432x288 with 1 Axes>"
      ]
     },
     "metadata": {
      "needs_background": "light"
     },
     "output_type": "display_data"
    }
   ],
   "source": [
    "#結合長、HEA、FCIの結果記録用\n",
    "bond_len_list = [];energy_list=[];fullci_list=[]\n",
    "#各結合長で計算実行\n",
    "for bond_len in np.arange(0.2,2.5,0.1):\n",
    "    molecule = get_molecule(bond_len)\n",
    "    #ビット数、深さ、パラメーター初期値を決める\n",
    "    n_qubits=molecule.n_qubits\n",
    "    n_depth=4\n",
    "    init_params=np.random.rand(2*n_qubits*n_depth)*0.1\n",
    "    #ハミルトニアン定義\n",
    "    hamiltonian = get_sparse_operator(jordan_wigner(get_fermion_operator(molecule.get_molecular_hamiltonian())))\n",
    "    #最適化実行\n",
    "    result=minimize(cost,x0=init_params,args=(hamiltonian,n_qubits,n_depth))\n",
    "    #結合長、HEA、FCIの結果記録\n",
    "    bond_len_list.append(bond_len)\n",
    "    energy_list.append(result.fun)\n",
    "    fullci_list.append(molecule.fci_energy)\n",
    "\n",
    "#プロット\n",
    "import matplotlib.pyplot as plt\n",
    "plt.plot(bond_len_list,fullci_list,label=\"FCI\",color=\"blue\")\n",
    "plt.plot(bond_len_list,energy_list, marker=\"o\",label=\"VQE\",color=\"red\",linestyle='None')\n",
    "plt.legend()"
   ]
  },
  {
   "cell_type": "markdown",
   "metadata": {},
   "source": [
    "初期パラメーターにもよりますが、結合長が大きいところではFCIとずれる傾向があります。この理由は結合長が大きくなるにつれ、用意した初期波動関数が真の解から離れていくためだと思われます。\n",
    "初期パラメーターやansatz等を変更することで精度を改善できるため、いろいろなパターンで試してみると良いかもしれません。"
   ]
  }
 ],
 "metadata": {
  "kernelspec": {
   "display_name": "Python 3",
   "language": "python",
   "name": "python3"
  },
  "language_info": {
   "codemirror_mode": {
    "name": "ipython",
    "version": 3
   },
   "file_extension": ".py",
   "mimetype": "text/x-python",
   "name": "python",
   "nbconvert_exporter": "python",
   "pygments_lexer": "ipython3",
   "version": "3.7.4"
  }
 },
 "nbformat": 4,
 "nbformat_minor": 2
}

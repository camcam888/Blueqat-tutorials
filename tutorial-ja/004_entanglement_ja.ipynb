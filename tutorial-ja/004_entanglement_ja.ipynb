{
  "cells": [
    {
      "cell_type": "markdown",
      "metadata": {
        "colab_type": "text",
        "id": "NjHnSAbHrInP"
      },
      "source": [
        "# 量子のもつれ\n",
        "量子コンピュータでは、量子の重ね合わせを利用しただけでは多くのデータを絞りきれません。量子のもつれを使うことによって、２量子ビット以上の量子ビットにデータの同期を持ち込むことができて、数多くの組み合わせからデータを絞り込むことができます。"
      ]
    },
    {
      "cell_type": "code",
      "metadata": {
        "id": "psWSZlrqbXp1",
        "colab_type": "code",
        "colab": {}
      },
      "source": [
        "!pip install blueqat"
      ],
      "execution_count": 0,
      "outputs": []
    },
    {
      "cell_type": "markdown",
      "metadata": {
        "colab_type": "text",
        "id": "PKhFYi-drld1"
      },
      "source": [
        "## 回路の作成\n",
        "回路はシンプルです。アダマールゲートを適用した後にCXゲートを適用してみます。"
      ]
    },
    {
      "cell_type": "markdown",
      "metadata": {},
      "source": [
        "回路は以下のようになります。\n",
        "\n",
        "<img src=\"./img/004/004_0.png\" width=\"20%\">"
      ]
    },
    {
      "cell_type": "code",
      "metadata": {
        "colab_type": "code",
        "id": "O674HiVxjc7P",
        "outputId": "19e84ff1-b9fc-44ec-a377-2b7a6a13fe0d",
        "colab": {
          "base_uri": "https://localhost:8080/",
          "height": 34
        }
      },
      "source": [
        "from blueqat import Circuit\n",
        "\n",
        "Circuit().h[0].cx[0,1].m[:].run(shots=100)"
      ],
      "execution_count": 2,
      "outputs": [
        {
          "output_type": "execute_result",
          "data": {
            "text/plain": [
              "Counter({'00': 56, '11': 44})"
            ]
          },
          "metadata": {
            "tags": []
          },
          "execution_count": 2
        }
      ]
    },
    {
      "cell_type": "markdown",
      "metadata": {
        "id": "Pj4TW4zHDG7d",
        "colab_type": "text"
      },
      "source": [
        "00が56回。11が44回出ました（毎回少しずつ違います）。本来は組み合わせとしては、00,01,10,11の４通り出るはずですが、今回の回路では２通りのみが出ます。これは0番目の量子ビットと1番目の量子ビットのデータが同期しているからです。\n",
        "\n",
        "このように量子もつれが実装できました。"
      ]
    },
    {
      "cell_type": "markdown",
      "metadata": {
        "id": "2_HgStjGcC1T",
        "colab_type": "text"
      },
      "source": [
        "##重ね合わせとの違い\n",
        "ここで、もつれと重ね合わせの違いを確認しておきましょう。重ね合わせは２量子ビットあると、最大で00,01,10,11の４つの組み合わせがあります。ただ重ね合わせただけでは組み合わせが多すぎて計算結果をうまく選べません。ここでもつれを使います。上記のもつれでは２つの解だけが出ます。\n",
        "\n",
        "これによって答えを絞り込むことができます。たくさん重ねてうまく絞り込むことで速度を生かしたアルゴリズムを作り出すことができます。"
      ]
    },
    {
      "cell_type": "code",
      "metadata": {
        "id": "YdiGMpoccCXF",
        "colab_type": "code",
        "colab": {
          "base_uri": "https://localhost:8080/",
          "height": 34
        },
        "outputId": "73b4bf90-0a76-4835-b6a4-aed855d3191a"
      },
      "source": [
        "Circuit().h[0,1].m[:].run(shots=100)"
      ],
      "execution_count": 3,
      "outputs": [
        {
          "output_type": "execute_result",
          "data": {
            "text/plain": [
              "Counter({'00': 28, '01': 24, '10': 23, '11': 25})"
            ]
          },
          "metadata": {
            "tags": []
          },
          "execution_count": 3
        }
      ]
    },
    {
      "cell_type": "markdown",
      "metadata": {
        "id": "0yZ3SKHhchIC",
        "colab_type": "text"
      },
      "source": [
        "重ね合わせを実行しただけでは４つの答えが出ました。もつれを使ってうまく絞り込みましょう。"
      ]
    },
    {
      "cell_type": "markdown",
      "metadata": {
        "colab": {},
        "colab_type": "code",
        "id": "ZZHDBKPrcmKP"
      },
      "source": [
        "# 概要\n",
        "\n"
      ]
    },
    {
      "cell_type": "markdown",
      "metadata": {},
      "source": [
        "## もつれと重ね合わせ\n",
        "２量子ビットを用いて以下の状態をそれぞれ考えます。\n",
        "\n",
        "<img src=\"./img/004/004_02_0.png\" width=\"50%\">\n",
        "\n",
        "左の状態は1量子ビットのテンソル積で書かれています。これは重ね合わせの状態です。\n",
        "\n",
        "では右の状態はどうでしょう。右の式はこれ以上テンソル積で分解できません。   \n",
        "このように量子ビット同士が分解できず、絡み合っている状態のことをもつれと言います。\n",
        "\n",
        "量子もつれは式からわかるように情報を少なくすることができます。\n",
        "\n",
        "左の状態は観測させた場合 00, 01, 10, 11 がそれぞれ 1/4 で出力されるのに対し、   \n",
        "右の状態は観測させた場合 00, 11 がそれぞれ 1/2 で出力されます。\n",
        "\n",
        "このことから量子もつれを作ることで欲しい情報の確率を引き上げることができます。 "
      ]
    },
    {
      "cell_type": "markdown",
      "metadata": {},
      "source": [
        "## 回路の作成\n",
        "量子もつれは Hゲートと CXゲートで作ることができます。\n",
        "\n",
        "式は以下のようになります。\n",
        "\n",
        "<img src=\"./img/004/004_02_1.png\" width=\"50%\">"
      ]
    },
    {
      "cell_type": "markdown",
      "metadata": {},
      "source": [
        "## Bell状態（２量子ビットもつれ）\n",
        "２量子ビットのもつれ状態にはBell状態という特別な状態があります。\n",
        "\n",
        "Bell状態は以下の４つの状態です。\n",
        "\n",
        "<img src=\"./img/004/004_02_2.png\" width=\"40%\">\n",
        "\n",
        "量子の世界ではこのもつれた状態を軸（基底）としてを考えると式が簡単になる場合があります。"
      ]
    },
    {
      "cell_type": "code",
      "execution_count": null,
      "metadata": {},
      "outputs": [],
      "source": []
    }
  ],
  "metadata": {
    "colab": {
      "name": "004_basic_entanglement.ipynb",
      "version": "0.3.2",
      "provenance": [],
      "collapsed_sections": []
    },
    "kernelspec": {
      "display_name": "Python 3",
      "language": "python",
      "name": "python3"
    }
  },
  "nbformat": 4,
  "nbformat_minor": 0
}
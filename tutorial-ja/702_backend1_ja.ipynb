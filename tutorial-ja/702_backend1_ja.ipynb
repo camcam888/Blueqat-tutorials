{
  "nbformat": 4,
  "nbformat_minor": 0,
  "metadata": {
    "colab": {
      "name": "052backend1.ipynb",
      "provenance": []
    },
    "kernelspec": {
      "name": "python3",
      "display_name": "Python 3"
    }
  },
  "cells": [
    {
      "cell_type": "markdown",
      "metadata": {
        "id": "r5TbDNwaL1iL",
        "colab_type": "text"
      },
      "source": [
        "#blueqatのバックエンドを作る（簡易編）\n",
        "今回はblueqatのバックエンドをqasmをベースに作る方法を確認します。今回はqiskitとcirqバックエンドを実装します。IBM社のQiskitとGoogle非公式のCirqをバックエンドとして利用してみます。\n",
        "\n",
        "まずはインストールです。"
      ]
    },
    {
      "cell_type": "code",
      "metadata": {
        "id": "uzn-G4FnKTqG",
        "colab_type": "code",
        "colab": {}
      },
      "source": [
        "pip install blueqat qiskit cirq"
      ],
      "execution_count": 0,
      "outputs": []
    },
    {
      "cell_type": "markdown",
      "metadata": {
        "id": "oslFHpWfL1Kb",
        "colab_type": "text"
      },
      "source": [
        "##まずQiskit\n",
        "まずはQiskitです。ツールを読み込み、引数を設定してバックエンドが呼び出された時に返す値を設定すれば終わります。"
      ]
    },
    {
      "cell_type": "code",
      "metadata": {
        "id": "qo40b831LjJk",
        "colab_type": "code",
        "colab": {}
      },
      "source": [
        "import warnings\n",
        "from collections import Counter\n",
        "from blueqat.backends.qasm_parser_backend_generator import generate_backend\n",
        "\n",
        "def _qasm_runner_qiskit(qasm, qiskit_backend=None, shots=None, returns=None, **kwargs):\n",
        "    if returns is None:\n",
        "        returns = \"shots\"\n",
        "    elif returns not in (\"shots\", \"draw\", \"_exception\",\n",
        "                         \"qiskit_circuit\", \"qiskit_job\", \"qiskit_result\"):\n",
        "        raise ValueError(\"`returns` shall be None, 'shots', 'draw', \" +\n",
        "                         \"'qiskit_circuit', 'qiskit_job', 'qiskit_result' or '_exception'\")\n",
        "\n",
        "    import_error = None\n",
        "    try:\n",
        "        with warnings.catch_warnings():\n",
        "            warnings.simplefilter(\"ignore\")\n",
        "            from qiskit import Aer, QuantumCircuit, execute\n",
        "    except Exception as e:\n",
        "        import_error = e\n",
        "\n",
        "    if import_error:\n",
        "        if returns == \"_exception\":\n",
        "            return e\n",
        "        if isinstance(import_error, ImportError):\n",
        "            raise ImportError(\"Cannot import qiskit. To use this backend, please install qiskit.\" +\n",
        "                              \" `pip install qiskit`.\")\n",
        "        else:\n",
        "            raise ValueError(\"Unknown error raised when importing qiskit. To get exception, \" +\n",
        "                             'run this backend with arg `returns=\"_exception\"`')\n",
        "    else:\n",
        "        if returns == \"_exception\":\n",
        "            return None\n",
        "        qk_circuit = QuantumCircuit.from_qasm_str(qasm)\n",
        "        if returns == \"qiskit_circuit\":\n",
        "            return qk_circuit\n",
        "        if returns == \"draw\":\n",
        "            return qk_circuit.draw(**kwargs)\n",
        "        if shots is None:\n",
        "            shots = 1024\n",
        "        if qiskit_backend is None:\n",
        "            qiskit_backend = Aer.get_backend(\"qasm_simulator\")\n",
        "        job = execute(qk_circuit, backend=qiskit_backend, shots=shots, **kwargs)\n",
        "        if returns == \"qiskit_job\":\n",
        "            return job\n",
        "        result = job.result()\n",
        "        if returns == \"qiskit_result\":\n",
        "            return result\n",
        "        counts = Counter({bits[::-1]: val for bits, val in result.get_counts().items()})\n",
        "        return counts\n",
        "\n",
        "ibmq_backend = generate_backend(_qasm_runner_qiskit)"
      ],
      "execution_count": 0,
      "outputs": []
    },
    {
      "cell_type": "markdown",
      "metadata": {
        "id": "12m3TzP-MXor",
        "colab_type": "text"
      },
      "source": [
        "そして、最後にbackendを登録して終わりです。"
      ]
    },
    {
      "cell_type": "code",
      "metadata": {
        "id": "V9ilNF7tMW8P",
        "colab_type": "code",
        "colab": {}
      },
      "source": [
        "from blueqat import BlueqatGlobalSetting\n",
        "BlueqatGlobalSetting.register_backend(\"myibmq\", ibmq_backend)"
      ],
      "execution_count": 0,
      "outputs": []
    },
    {
      "cell_type": "markdown",
      "metadata": {
        "id": "gwF8qJjfMbqn",
        "colab_type": "text"
      },
      "source": [
        "これで利用できるようになりました。デフォルトでは、計算結果のサンプルを返すので、重ね合わせ回路を実行してみます。普通にblueqatを実行してbackend指定するだけでできます。"
      ]
    },
    {
      "cell_type": "code",
      "metadata": {
        "id": "sfsWbM8BMa_F",
        "colab_type": "code",
        "colab": {
          "base_uri": "https://localhost:8080/",
          "height": 34
        },
        "outputId": "4dd922c9-42ac-4aca-dc28-05d39a225e27"
      },
      "source": [
        "from blueqat import Circuit\n",
        "Circuit().h[0].m[:].run(backend=\"myibmq\")"
      ],
      "execution_count": 4,
      "outputs": [
        {
          "output_type": "execute_result",
          "data": {
            "text/plain": [
              "Counter({'0': 527, '1': 497})"
            ]
          },
          "metadata": {
            "tags": []
          },
          "execution_count": 4
        }
      ]
    },
    {
      "cell_type": "markdown",
      "metadata": {
        "id": "0KStvM9vMp-l",
        "colab_type": "text"
      },
      "source": [
        "無事動きました。簡単ですね。次に回路を描く機能を使ってみます。\n",
        "\n",
        "```python\n",
        "        if returns == \"draw\":\n",
        "            return qk_circuit.draw(**kwargs)\n",
        "```\n",
        "\n",
        "これにより回路の描画も実装できます。"
      ]
    },
    {
      "cell_type": "code",
      "metadata": {
        "id": "qSnJ0oJxMozl",
        "colab_type": "code",
        "colab": {
          "base_uri": "https://localhost:8080/",
          "height": 102
        },
        "outputId": "02945596-1a9a-4585-cb3b-8120cbd55e60"
      },
      "source": [
        "Circuit().h[0].m[:].run(backend=\"myibmq\",returns=\"draw\")"
      ],
      "execution_count": 6,
      "outputs": [
        {
          "output_type": "execute_result",
          "data": {
            "text/html": [
              "<pre style=\"word-wrap: normal;white-space: pre;background: #fff0;line-height: 1.1;font-family: &quot;Courier New&quot;,Courier,monospace\">        ┌───┐┌─┐\n",
              "q_0: |0>┤ H ├┤M├\n",
              "        └───┘└╥┘\n",
              " c_0: 0 ══════╩═\n",
              "                </pre>"
            ],
            "text/plain": [
              "        ┌───┐┌─┐\n",
              "q_0: |0>┤ H ├┤M├\n",
              "        └───┘└╥┘\n",
              " c_0: 0 ══════╩═\n",
              "                "
            ]
          },
          "metadata": {
            "tags": []
          },
          "execution_count": 6
        }
      ]
    },
    {
      "cell_type": "markdown",
      "metadata": {
        "id": "qY04_6eYNAGA",
        "colab_type": "text"
      },
      "source": [
        "無事できました。"
      ]
    },
    {
      "cell_type": "markdown",
      "metadata": {
        "id": "CkU-DThFSl-h",
        "colab_type": "text"
      },
      "source": [
        "##Cirqを実装\n",
        "こちらは許可を得て、こちらの記事より掲載させていただきます。\n",
        "\n",
        "Cirqバックエンドを作ったSJSYさんの記事  \n",
        "https://sjsy.hatenablog.com/entry/20191212/1576158640"
      ]
    },
    {
      "cell_type": "code",
      "metadata": {
        "id": "FKQ59ebPSldP",
        "colab_type": "code",
        "colab": {}
      },
      "source": [
        "def _qasm_runner_cirq(qasm, shots=None, returns=None, **kwargs):\n",
        "    if returns is None:\n",
        "        returns = \"cirq_result\"\n",
        "    elif returns not in (\"cirq_result\", 'draw'):\n",
        "        raise ValueError(\"`returns` shall be None, 'draw', 'cirq_result' or '_exception'\")\n",
        "\n",
        "    import_error = None\n",
        "    try:\n",
        "        with warnings.catch_warnings():\n",
        "            from cirq import Circuit, Simulator\n",
        "            from cirq.contrib.qasm_import import circuit_from_qasm\n",
        "            import cirq\n",
        "    except Exception as e:\n",
        "        import_error = e\n",
        "\n",
        "    if import_error:\n",
        "        if returns == \"_exception\":\n",
        "            return e\n",
        "        if isinstance(import_error, ImportError):\n",
        "            raise ImportError(\"Cannot import Cirq. To use this backend, please install qiskit.\" +\n",
        "                              \" `pip install Cirq`.\")\n",
        "        else:\n",
        "            raise ValueError(\"Unknown error raised when importing Cirq. To get exception, \" +\n",
        "                             'run this backend with arg `returns=\"_exception\"`')\n",
        "    else:\n",
        "        if returns == \"_exception\":\n",
        "            return None\n",
        "        cirq_circuit = circuit_from_qasm(qasm)\n",
        "        if returns == \"draw\":\n",
        "            return cirq_circuit\n",
        "        if shots is None:\n",
        "            shots = 1024\n",
        "        simulator = cirq.Simulator()\n",
        "        result = simulator.run(cirq_circuit, repetitions=shots, **kwargs)\n",
        "        if returns == \"cirq_result\":\n",
        "            return result\n",
        "        return result\n",
        "\n",
        "cirq_backend = generate_backend(_qasm_runner_cirq)\n",
        "\n",
        "BlueqatGlobalSetting.register_backend(\"mycirq\", cirq_backend)"
      ],
      "execution_count": 0,
      "outputs": []
    },
    {
      "cell_type": "markdown",
      "metadata": {
        "id": "xp54EfPNS-nP",
        "colab_type": "text"
      },
      "source": [
        "基本的にはQiskitの場合と同じです。回路の描画を試してみます。"
      ]
    },
    {
      "cell_type": "code",
      "metadata": {
        "id": "YrfUNCNkM-Vs",
        "colab_type": "code",
        "colab": {
          "base_uri": "https://localhost:8080/",
          "height": 34
        },
        "outputId": "8b926166-64c4-48d3-a159-eb06eb9d8117"
      },
      "source": [
        "Circuit().h[0].m[:].run(backend=\"mycirq\",returns=\"draw\")"
      ],
      "execution_count": 9,
      "outputs": [
        {
          "output_type": "execute_result",
          "data": {
            "text/html": [
              "<pre style=\"overflow: auto; white-space: pre;\">q_0: ───H───M('c_0')───</pre>"
            ],
            "text/plain": [
              "q_0: ───H───M('c_0')───"
            ]
          },
          "metadata": {
            "tags": []
          },
          "execution_count": 9
        }
      ]
    },
    {
      "cell_type": "markdown",
      "metadata": {
        "id": "C3mS7JGOTLF3",
        "colab_type": "text"
      },
      "source": [
        "無事に登録ができました。基本的なステップは上記コードを参照すればあらゆるバックエンドを統合できます。"
      ]
    },
    {
      "cell_type": "code",
      "metadata": {
        "id": "chgjUAGETQMs",
        "colab_type": "code",
        "colab": {}
      },
      "source": [
        ""
      ],
      "execution_count": 0,
      "outputs": []
    }
  ]
}
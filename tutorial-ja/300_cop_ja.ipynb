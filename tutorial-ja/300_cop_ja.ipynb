{
 "cells": [
  {
   "cell_type": "markdown",
   "metadata": {
    "colab_type": "text",
    "id": "Z57Y5-H3uuOV"
   },
   "source": [
    "# 組合せ最適化問題\n",
    "組合せ最適化問題は、多くの選択肢からベストな答えを選ぶ問題で、社会問題をうまく定式化し、最小値問題を解くことで最適な組合せを得ることができます。"
   ]
  },
  {
   "cell_type": "markdown",
   "metadata": {
    "colab_type": "text",
    "id": "23QCMzt_u3KT"
   },
   "source": [
    "## 今回学ぶこと\n",
    "1. 問題の定式化とハミルトニアン\n",
    "2. イジングモデルとQUBO"
   ]
  },
  {
   "cell_type": "markdown",
   "metadata": {},
   "source": [
    "Blueqatのインストール\n",
    "pipからBlueqatをインストールします。"
   ]
  },
  {
   "cell_type": "code",
   "execution_count": 1,
   "metadata": {},
   "outputs": [
    {
     "name": "stdout",
     "output_type": "stream",
     "text": [
      "Requirement already satisfied: blueqat in /home/ec2-user/anaconda3/envs/python3/lib/python3.6/site-packages (0.3.13)\r\n",
      "Requirement already satisfied: scipy>=1.1.0 in /home/ec2-user/anaconda3/envs/python3/lib/python3.6/site-packages (from blueqat) (1.1.0)\r\n",
      "Requirement already satisfied: numpy~=1.12 in /home/ec2-user/anaconda3/envs/python3/lib/python3.6/site-packages (from blueqat) (1.18.3)\r\n"
     ]
    }
   ],
   "source": [
    "!pip install blueqat"
   ]
  },
  {
   "cell_type": "markdown",
   "metadata": {},
   "source": [
    "----"
   ]
  },
  {
   "cell_type": "markdown",
   "metadata": {},
   "source": [
    "## イジングモデル\n",
    "量子コンピュータで組合せ最適化問題を解く際には通常イジングモデルと呼ばれる物理統計モデルを利用します。イジングモデルでは、量子ビットが並んでおり、接続された量子ビット同士の間の相互作用$J_{ij}$と量子ビット単体にかかる局所磁場$h_i$の値を設定しながら問題の定式化を行います。\n",
    "\n",
    "$$\n",
    "H = \\sum h_i \\sigma^z_i + \\sum J_{ij}\\sigma^z_i \\sigma^z_j\n",
    "$$"
   ]
  },
  {
   "cell_type": "markdown",
   "metadata": {},
   "source": [
    "## ハミルトニアンと固有値\n",
    "イジングモデルを利用した組み合わせ最適化問題では、定式化をハミルトニアンと呼ばれる行列に落とし込みます。そして、その固有値を求めることで最小値問題を解きます。ハミルトニアンの定式化にはZ演算子を利用します。定式化の例としては例えば、\n",
    "\n",
    "```python\n",
    "h = -Z(0) - Z(0)*Z(1)\n",
    "```\n",
    "\n",
    "のようにします。Zの後ろの数字は、量子ビットの通し番号を表します。0番目と1番目の量子ビットの２つを使っています。問題設定で大事なのは、Zの前の係数です。\n",
    "\n",
    "Z(0)の前は-1のバイアス、Z(0)*Z(1)の前は-1のウェイトが設定されています。Zは期待値として-1か+1のどちらかをとります。hはより小さい値を取ると正解になります。最終的な答えは、Z(0),Z(1)の値で場合わけすると、\n",
    "\n",
    "Z(0) | Z(1) | h\n",
    "--:|:----:|:--\n",
    "-1|-1|0\n",
    "-1|1|2\n",
    "1|-1|0\n",
    "1|1|-2\n",
    "\n",
    "上記の表で最小となるZ(0)=1,Z(1)=1の時-2となるものを計算で求めます。"
   ]
  },
  {
   "cell_type": "markdown",
   "metadata": {},
   "source": [
    "## QUBO\n",
    "上記イジングでは量子ビットのとりうる値を+1と-1としました。産業界ではそれでは扱いづらいので、QUBO(キューボ)と呼ばれる01の値をとる定式化を利用するのが一般的です。幸いイジングとQUBOは自動的に変換ができますので、01を使っても組合せ最適化問題としては問題がありません。\n",
    "\n",
    "係数は様々な呼び方がありますが「バイアス」と「ウェイト（結合荷重）」と呼びます。定式化で作るのは「コスト関数」と呼びたいと思います。\n",
    "\n",
    "-1と+1でかかれたイジング式を0と1で書かれたQUBO式に変換するには、イジングのZを下記のように変換するだけでできます。\n",
    "\n",
    "$$\n",
    "q = \\frac{Z + 1}{2}\n",
    "$$\n",
    "\n",
    "これで、-1の時が0に、1の時は1のままで変換されます。定式化は社会問題をQUBO形式で、コスト関数を作ることで実現でき、コスト関数は01の値をとる量子ビットに設定するバイアスとウェイトを設定することで実現できます。\n",
    "\n",
    "Blueqatでは、下記のように自動的にQUBO式からイジングに変換してくれる機能が搭載されています。"
   ]
  },
  {
   "cell_type": "code",
   "execution_count": 1,
   "metadata": {},
   "outputs": [],
   "source": [
    "from blueqat.pauli import qubo_bit as q\n",
    "\n",
    "h = -3*q(0)-3*q(1)-2*q(0)*q(1)"
   ]
  },
  {
   "cell_type": "markdown",
   "metadata": {},
   "source": [
    "## QUBO matrix\n",
    "量子アニーリングを解く際にはQUBO matrixと呼ばれるバイアスを対角成分に、ウェイトを非対角成分においた上三角行列を使うことがあります。量子アニーリングマシンの実機は2体相互作用までが実装されるので、QUBO matrixがよく使われます。対称行列ですが、通常は上半分の上三角行列を使います。\n",
    "\n",
    "$$QUBO = \n",
    "\\begin{bmatrix}\n",
    "h_0 & J_{01} & J_{02} & ... & J_{0n}\\\\\n",
    "0   & h_1    & J_{12} & ... & J_{1n}\\\\\n",
    "\\vdots&&&&\\vdots\\\\\n",
    "0&0&0&...&h_n\n",
    "\\end{bmatrix}\n",
    "$$\n",
    "\n",
    "Blueqatでは、QUBO matrixからZ演算子に変換してくれる機能が搭載されています。"
   ]
  },
  {
   "cell_type": "code",
   "execution_count": 2,
   "metadata": {},
   "outputs": [
    {
     "name": "stdout",
     "output_type": "stream",
     "text": [
      "0.5*Z[0]*Z[1] + 1.0*I - Z[2] - Z[0] + 0.5*Z[0]*Z[2] - Z[3] + 0.5*Z[0]*Z[3] - Z[1] + 0.5*Z[1]*Z[2] + 0.5*Z[1]*Z[3] + 0.5*Z[2]*Z[3]\n"
     ]
    }
   ],
   "source": [
    "import blueqat.wq as wq\n",
    "\n",
    "qubo_matrix = [[-1, 2, 2, 2],[0, -1, 2, 2],[0, 0, -1, 2],[0, 0, 0, -1]]\n",
    "qubo = wq.pauli(qubo_matrix)\n",
    "\n",
    "print(qubo)"
   ]
  },
  {
   "cell_type": "markdown",
   "metadata": {},
   "source": [
    "## QUBOとグラフ問題\n",
    "QUBOはグラフ問題としてもよく表現されます。量子ビットをノード、接続をエッジとしてみた時、QUBO matrixはグラフネットワークの接続と重み付けを表現しているともみて取れます。"
   ]
  },
  {
   "cell_type": "markdown",
   "metadata": {},
   "source": [
    "----"
   ]
  },
  {
   "cell_type": "markdown",
   "metadata": {},
   "source": [
    "## 例題：イジング+VQE\n",
    "イジング問題を固有値問題として解く際には、VQEとQAOAが利用できます。VQEだけでは効率的には組合せ最適化問題は解けませんが、簡単な量しか色を使って問題を解いてみます。\n",
    "\n",
    "問題の定式化のハミルトニアンには上記のものを利用します。VQEで解くにはAnsatzと呼ばれる量子回路を準備する必要がありますが、今回はa,b,c,dの4つの角度を持った簡単な2量子ビットの回路を準備します。"
   ]
  },
  {
   "cell_type": "code",
   "execution_count": 3,
   "metadata": {
    "colab": {
     "base_uri": "https://localhost:8080/",
     "height": 51
    },
    "colab_type": "code",
    "id": "qIc5WG5dumej",
    "outputId": "69061199-2601-4f8d-ca3a-afcc65a354e6"
   },
   "outputs": [
    {
     "name": "stdout",
     "output_type": "stream",
     "text": [
      "Result by VQE\n",
      "-1.999998714607245\n"
     ]
    }
   ],
   "source": [
    "import numpy as np\n",
    "from blueqat import Circuit\n",
    "from blueqat.pauli import X, Y, Z, I\n",
    "from blueqat.vqe import AnsatzBase, Vqe\n",
    "\n",
    "class OneQubitAnsatz(AnsatzBase):\n",
    "    def __init__(self, hamiltonian):\n",
    "        super().__init__(hamiltonian.to_expr(), 4)\n",
    "        self.step = 1\n",
    "\n",
    "    def get_circuit(self, params):\n",
    "        a, b, c, d = params\n",
    "        return Circuit().ry(a)[0].rz(b)[0].ry(c)[1].rz(d)[1]\n",
    "\n",
    "h = -Z(0) - Z(0)*Z(1)\n",
    "runner = Vqe(OneQubitAnsatz(h))\n",
    "result = runner.run()\n",
    "\n",
    "print('Result by VQE')\n",
    "print(runner.ansatz.get_energy_sparse(result.circuit))"
   ]
  },
  {
   "cell_type": "markdown",
   "metadata": {
    "colab_type": "text",
    "id": "6xNoXOE4vHUZ"
   },
   "source": [
    "約-2が答えとして出てきましたので、正解です。今回は例題として任意の量子状態を使いましたが、通常はQAOAを使います。そして実際にはより大きな問題を解きます。\n",
    "\n",
    "上記問題は役にたたなさそうですが、Z(0)をAさん、Z(1)をBさんに見立てて、Aさんはグループ１に属し、BさんはAさんと同じグループに属するという条件をつけた分類問題と同じです。\n",
    "\n",
    "ただ、このままでは毎回問題を解くのが大変なので様々な工夫が必要です、それをみていきましょう。"
   ]
  },
  {
   "cell_type": "markdown",
   "metadata": {},
   "source": [
    "## 例題：イジング+QAOA\n",
    "\n",
    "上記の問題をQAOAで解いてみます。QAOAは効率的に問題を解くAnsatzがありますのでそれを使います。ハミルトニアンとステップ数を入れれば完了です。"
   ]
  },
  {
   "cell_type": "code",
   "execution_count": 10,
   "metadata": {},
   "outputs": [
    {
     "name": "stdout",
     "output_type": "stream",
     "text": [
      "-1.7919100877330898\n"
     ]
    }
   ],
   "source": [
    "from blueqat import vqe\n",
    "\n",
    "h = -Z(0) - Z(0)*Z(1)\n",
    "\n",
    "step = 2\n",
    "runner = Vqe(vqe.QaoaAnsatz(h, step))\n",
    "result = runner.run()\n",
    "\n",
    "print(runner.ansatz.get_energy_sparse(result.circuit))"
   ]
  },
  {
   "cell_type": "markdown",
   "metadata": {},
   "source": [
    "## 例題：QUBO + 各種計算\n",
    "今回はQUBOで書かれた式を準備して、これを解いてみたいと思います。\n",
    "\n",
    "```\n",
    "h = -3*q(0)-3*q(1)-2*q(0)*q(1)\n",
    "```\n",
    "\n",
    "これは、q(0)=1,q(1)=1の時に最小値-3-3-2=-8を取ります。上記のコスト関数は以前のように-1と+1ではなく、0と1で考えることができるので簡単です。QAOAで解いてみます。"
   ]
  },
  {
   "cell_type": "code",
   "execution_count": 6,
   "metadata": {
    "colab": {
     "base_uri": "https://localhost:8080/",
     "height": 34
    },
    "colab_type": "code",
    "id": "mcfRj-T-vSfz",
    "outputId": "73f0d2c4-2d2a-4fd2-f6b5-21822297b472"
   },
   "outputs": [
    {
     "name": "stdout",
     "output_type": "stream",
     "text": [
      "(((1, 1), 0.9571688060369407), ((0, 0), 0.02264678008376087), ((0, 1), 0.010092206939649306), ((1, 0), 0.010092206939649295))\n"
     ]
    }
   ],
   "source": [
    "from blueqat import vqe\n",
    "from blueqat.pauli import qubo_bit as q\n",
    "\n",
    "h = -3*q(0)-3*q(1)-2*q(0)*q(1)\n",
    "step = 2\n",
    "\n",
    "result = vqe.Vqe(vqe.QaoaAnsatz(h, step)).run()\n",
    "print(result.most_common(12))"
   ]
  },
  {
   "cell_type": "markdown",
   "metadata": {},
   "source": [
    "答えが(1,1)となりました。次に量子アニーリングに近い形でQUBO matrixを使ってSAシミュレータで解いてみます。上記のハミルトニアンのバイアスとウェイトをQUBO matrixの形に落とし込みます。"
   ]
  },
  {
   "cell_type": "code",
   "execution_count": 7,
   "metadata": {},
   "outputs": [],
   "source": [
    "qubo = [[-3, -2],\n",
    "        [0 , -3]]"
   ]
  },
  {
   "cell_type": "markdown",
   "metadata": {},
   "source": [
    "これをそのまま計算にかけます。"
   ]
  },
  {
   "cell_type": "code",
   "execution_count": 8,
   "metadata": {},
   "outputs": [
    {
     "data": {
      "text/plain": [
       "[1, 1]"
      ]
     },
     "execution_count": 8,
     "metadata": {},
     "output_type": "execute_result"
    }
   ],
   "source": [
    "import blueqat.wq as wq\n",
    "\n",
    "a = wq.Opt()\n",
    "a.qubo = qubo\n",
    "a.sa()"
   ]
  },
  {
   "cell_type": "markdown",
   "metadata": {},
   "source": [
    "これも同じ答えが出ました。QUBO matrixをZ演算子に直してQAOAで計算してみます。"
   ]
  },
  {
   "cell_type": "code",
   "execution_count": 9,
   "metadata": {},
   "outputs": [
    {
     "name": "stdout",
     "output_type": "stream",
     "text": [
      "(((1, 1), 0.9872629031715499), ((0, 0), 0.01265996782202954), ((0, 1), 3.856450321039442e-05), ((1, 0), 3.856450321039259e-05))\n"
     ]
    }
   ],
   "source": [
    "step = 2\n",
    "h = wq.pauli(qubo)\n",
    "\n",
    "result = vqe.Vqe(vqe.QaoaAnsatz(h, step)).run()\n",
    "print(result.most_common(12))"
   ]
  },
  {
   "cell_type": "markdown",
   "metadata": {},
   "source": [
    "このようにQUBO matrixやZ演算子を使って計算ができました。"
   ]
  }
 ],
 "metadata": {
  "colab": {
   "name": "103vqe_qaoa03.ipynb",
   "provenance": []
  },
  "kernelspec": {
   "display_name": "Python 3",
   "language": "python",
   "name": "python3"
  },
  "language_info": {
   "codemirror_mode": {
    "name": "ipython",
    "version": 3
   },
   "file_extension": ".py",
   "mimetype": "text/x-python",
   "name": "python",
   "nbconvert_exporter": "python",
   "pygments_lexer": "ipython3",
   "version": "3.8.3"
  }
 },
 "nbformat": 4,
 "nbformat_minor": 1
}
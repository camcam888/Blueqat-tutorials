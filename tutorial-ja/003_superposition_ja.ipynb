{
 "cells": [
  {
   "cell_type": "markdown",
   "metadata": {
    "colab_type": "text",
    "id": "NjHnSAbHrInP"
   },
   "source": [
    "# 量子重ね合わせ\n",
    "今回は、量子コンピュータの不思議な機能を見てみます。0と1の答えが重ね合わさるという量子回路です。\n",
    "\n",
    "まずはBlueqatをインストールし、ツールを読み込みます。"
   ]
  },
  {
   "cell_type": "code",
   "execution_count": 1,
   "metadata": {
    "colab": {},
    "colab_type": "code",
    "collapsed": true,
    "id": "C64wySBpZW1X"
   },
   "outputs": [
    {
     "name": "stdout",
     "output_type": "stream",
     "text": [
      "Requirement already satisfied: blueqat in /home/ec2-user/anaconda3/envs/python3/lib/python3.6/site-packages (0.3.14)\n",
      "Requirement already satisfied: scipy>=1.1.0 in /home/ec2-user/anaconda3/envs/python3/lib/python3.6/site-packages (from blueqat) (1.1.0)\n",
      "Requirement already satisfied: numpy~=1.12 in /home/ec2-user/anaconda3/envs/python3/lib/python3.6/site-packages (from blueqat) (1.14.6)\n",
      "\u001b[31mnumba 0.49.0 has requirement numpy>=1.15, but you'll have numpy 1.14.6 which is incompatible.\u001b[0m\n",
      "\u001b[33mYou are using pip version 10.0.1, however version 20.1 is available.\n",
      "You should consider upgrading via the 'pip install --upgrade pip' command.\u001b[0m\n"
     ]
    }
   ],
   "source": [
    "!pip install blueqat\n",
    "\n",
    "from blueqat import Circuit"
   ]
  },
  {
   "cell_type": "markdown",
   "metadata": {
    "colab_type": "text",
    "id": "PKhFYi-drld1"
   },
   "source": [
    "## 量子回路の作成\n",
    "量子回路には、アダマールゲートを使うことで、重ね合わせを実現できます。\n",
    "\n",
    "Hゲートを0番目の量子ビットにかけて、100回計算してみます。"
   ]
  },
  {
   "cell_type": "code",
   "execution_count": 2,
   "metadata": {
    "colab": {
     "base_uri": "https://localhost:8080/",
     "height": 34
    },
    "colab_type": "code",
    "id": "O674HiVxjc7P",
    "outputId": "e5958825-c64d-48e3-9ab3-35aa9ebb2263"
   },
   "outputs": [
    {
     "data": {
      "text/plain": [
       "Counter({'1': 49, '0': 51})"
      ]
     },
     "execution_count": 2,
     "metadata": {},
     "output_type": "execute_result"
    }
   ],
   "source": [
    "Circuit().h[0].m[:].run(shots=100)"
   ]
  },
  {
   "cell_type": "markdown",
   "metadata": {
    "colab_type": "text",
    "id": "Pj4TW4zHDG7d"
   },
   "source": [
    "答えは0と1が約半々で出ました。これが重ね合わせです。アダマールゲートを0にかけると、+という状態になります。これはちょうど0と1の間で、計算をした結果が0と1が約半分ずつでる、重ね合わせの状態となります。"
   ]
  },
  {
   "cell_type": "markdown",
   "metadata": {
    "colab_type": "text",
    "id": "wHrRyYvfuCMC"
   },
   "source": [
    "## （応用）マイナス状態で重ね合わせを作ってみる\n",
    "アダマールゲートを設定した場合、+状態と呼ばれる状態になります。これに対して-状態もあります。それも少しみてみます。マイナス状態は+状態に対してZゲートを適用することで実現できます。\n"
   ]
  },
  {
   "cell_type": "code",
   "execution_count": 3,
   "metadata": {
    "colab": {
     "base_uri": "https://localhost:8080/",
     "height": 34
    },
    "colab_type": "code",
    "id": "s4nPf83otvoG",
    "outputId": "f06a2670-07d2-4844-e003-19cc8cb82023"
   },
   "outputs": [
    {
     "data": {
      "text/plain": [
       "Counter({'0': 52, '1': 48})"
      ]
     },
     "execution_count": 3,
     "metadata": {
      "tags": []
     },
     "output_type": "execute_result"
    }
   ],
   "source": [
    "Circuit().h[0].z[0].m[:].run(shots=100)"
   ]
  },
  {
   "cell_type": "markdown",
   "metadata": {
    "colab_type": "text",
    "id": "bnQKAJQuBKNS"
   },
   "source": [
    "このように0と1がやはり約半々で出てきました。プラス状態とマイナス状態は区別がつかないので、シミュレータでは状態ベクトルを見ます。\n"
   ]
  },
  {
   "cell_type": "code",
   "execution_count": 4,
   "metadata": {
    "colab": {
     "base_uri": "https://localhost:8080/",
     "height": 34
    },
    "colab_type": "code",
    "id": "uzaQ3WSwBYgf",
    "outputId": "eeaad801-651f-4997-ed2a-37d1bf3cfecf"
   },
   "outputs": [
    {
     "data": {
      "text/plain": [
       "array([0.70710678+0.j, 0.70710678+0.j])"
      ]
     },
     "execution_count": 4,
     "metadata": {
      "tags": []
     },
     "output_type": "execute_result"
    }
   ],
   "source": [
    "Circuit().h[0].run()"
   ]
  },
  {
   "cell_type": "markdown",
   "metadata": {
    "colab_type": "text",
    "id": "7SL_2kj7BnuQ"
   },
   "source": [
    "+状態の状態ベクトルは+符号で同様に出てきました。"
   ]
  },
  {
   "cell_type": "code",
   "execution_count": 5,
   "metadata": {
    "colab": {
     "base_uri": "https://localhost:8080/",
     "height": 34
    },
    "colab_type": "code",
    "id": "SdPHY7RBGuxe",
    "outputId": "07d7cc6a-53b9-4d5c-e43b-411e80ee5091"
   },
   "outputs": [
    {
     "data": {
      "text/plain": [
       "array([ 0.70710678+0.j, -0.70710678+0.j])"
      ]
     },
     "execution_count": 5,
     "metadata": {
      "tags": []
     },
     "output_type": "execute_result"
    }
   ],
   "source": [
    "Circuit().h[0].z[0].run()"
   ]
  },
  {
   "cell_type": "markdown",
   "metadata": {
    "colab_type": "text",
    "id": "Y6NtTz8fGyQQ"
   },
   "source": [
    "一方、-状態では、状態ベクトルの一部が-になっています。このように区別をつけて確認できます。これはシミュレータだけの機能で、実際の量子コンピュータでは使用することができません。以上です。"
   ]
  },
  {
   "cell_type": "markdown",
   "metadata": {},
   "source": [
    "# 概要\n",
    "\n",
    "## Hゲート\n",
    "今回はアダマールゲートと呼ばれるHゲートを使います。\n",
    "\n",
    "Hゲートは以下のような行列になります。\n",
    "\n",
    "<img src=\"./img/003/003_02_0.png\" width=\"18%\">\n",
    "\n",
    "0,1 にHゲートを施すと以下のようになります。\n",
    "\n",
    "<img src=\"./img/003/003_02_1.png\" width=\"45%\">\n",
    "\n",
    "この状態にはもう一つ名前が付いていてそれぞれ + 状態、 - 状態と言います。"
   ]
  },
  {
   "cell_type": "markdown",
   "metadata": {},
   "source": [
    "## 重ね合わせの状態\n",
    "上で述べたHゲートを 0,1 に施すと1量子ビットに 0,1 が組み合わさっている状態になります。   \n",
    "このような状態のことを重ね合わせの状態と言います。\n",
    "\n",
    "上の状態で観測をすると 0,1 がそれぞれ 1/2 で出力されることがわかります。"
   ]
  },
  {
   "cell_type": "markdown",
   "metadata": {},
   "source": [
    "## マイナス状態の観測\n",
    "\\- 状態を観測した場合、上でも述べたように 0,1 がそれぞれ 1/2 で出力されます。これは + 状態と同じ結果になります。\n",
    "\n",
    "状態ベクトルを考える場合はベクトルを考えるので - も考慮されますが   \n",
    "観測は各係数の絶対値をとって計算するのでマイナスの係数は区別されません。"
   ]
  },
  {
   "cell_type": "code",
   "execution_count": null,
   "metadata": {},
   "outputs": [],
   "source": []
  }
 ],
 "metadata": {
  "colab": {
   "collapsed_sections": [],
   "name": "003_basic_superposition.ipynb",
   "provenance": [],
   "version": "0.3.2"
  },
  "kernelspec": {
   "display_name": "conda_python3",
   "language": "python",
   "name": "conda_python3"
  },
  "language_info": {
   "codemirror_mode": {
    "name": "ipython",
    "version": 3
   },
   "file_extension": ".py",
   "mimetype": "text/x-python",
   "name": "python",
   "nbconvert_exporter": "python",
   "pygments_lexer": "ipython3",
   "version": "3.6.5"
  }
 },
 "nbformat": 4,
 "nbformat_minor": 1
}

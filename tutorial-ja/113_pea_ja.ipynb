{
 "cells": [
  {
   "cell_type": "markdown",
   "metadata": {},
   "source": [
    "# 量子位相推定 (Quantum Phase Estimation)\n",
    "ハミルトニアン$H$と固有状態$\\mid \\psi \\rangle$が準備されたとき、その固有値$\\lambda = e^{-i\\alpha}$の位相$\\alpha$を求めることができる量子位相推定を確認します。\n",
    "\n",
    "$$\n",
    "H \\mid \\psi \\rangle = e^{-i\\alpha} \\mid \\psi \\rangle\n",
    "$$"
   ]
  },
  {
   "cell_type": "markdown",
   "metadata": {},
   "source": [
    "## 量子位相推定の量子回路\n",
    "量子位相推定アルゴリズムの全体像は下記の通りです。\n",
    "\n",
    "1. 固有ベクトルとしての量子状態の準備  \n",
    "2. 固有値を量子状態として取り出す（位相キックバック）  \n",
    "3. 固有値の量子状態をビットに変換（量子フーリエ変換）  \n",
    "\n",
    "の３つからなります。\n",
    "\n",
    "\n",
    "```\n",
    "        step2                 step3\n",
    "      \n",
    "|0> ----H----------- -*-------iQFT---\n",
    "                      |\n",
    "|0> ----H--------*-- -|-------iQFT---\n",
    "|0> ----H-----*--|-- -|-------iQFT---\n",
    "|0> ----H--*--|--|-- -|-------iQFT---\n",
    "           |  |  |    |\n",
    "           |  |  |    |\n",
    "|ψ> -------U1-U2-U4- -U2n------------\n",
    "step1\n",
    "```"
   ]
  },
  {
   "cell_type": "markdown",
   "metadata": {},
   "source": [
    "## 位相キックバック\n",
    "基本的には固有値固有ベクトル問題を利用し、ハミルトニアンHを導入したユニタリ回路を制御付きにすることにより、固有ベクトル$\\mid \\psi \\rangle$に対応する固有値$e^{2\\pi i \\phi}$をコントロールビットの方の$\\mid 1 \\rangle$状態にかけることができます。\n",
    "\n",
    "対応するハミルトニアンに対する固有値固有ベクトルは、\n",
    "\n",
    "$$\n",
    "U\\mid \\psi \\rangle = e^{2\\pi i \\phi} \\mid \\psi \\rangle\n",
    "$$\n",
    "\n",
    "で書くことができます。量子状態$\\mid \\psi \\rangle$は準備されてますので、ハミルトニアンを導入したユニタリ回路Uを準備することで、位相を移すことができます。\n",
    "\n",
    "まず初期状態からアダマールゲートを使って結果を取り出したい方の量子ビットを重ね合わせ状態にします。\n",
    "\n",
    "$$\n",
    "\\mid 0 \\rangle \\mid \\psi \\rangle \\rightarrow \\frac{\\mid 0\\rangle + \\mid 1 \\rangle}{\\sqrt{2}} \\mid \\psi \\rangle = \\frac{\\mid 0\\rangle \\mid \\psi \\rangle + \\mid 1 \\rangle \\mid \\psi \\rangle}{\\sqrt{2}}\n",
    "$$\n",
    "\n",
    "次に制御付きのユニタリ回路（ハミルトニアンに対応した形）を導入することで、制御付きなので量子ビットが$\\mid 1 \\rangle$の方にだけユニタリがかかります。\n",
    "\n",
    "$$\n",
    "\\frac{\\mid 0\\rangle \\mid \\psi \\rangle + \\mid 1 \\rangle U \\mid \\psi \\rangle}{\\sqrt{2}}\n",
    "$$\n",
    "\n",
    "そして、これは固有値に対応しているので、\n",
    "\n",
    "$$\n",
    "\\frac{\\mid 0\\rangle \\mid \\psi \\rangle + \\mid 1 \\rangle e^{2\\pi i \\phi} \\mid \\psi \\rangle}{\\sqrt{2}} = \\frac{\\mid 0\\rangle \\mid \\psi \\rangle +  e^{2\\pi i \\phi} \\mid 1 \\rangle \\mid \\psi \\rangle}{\\sqrt{2}} = \\frac{\\mid 0\\rangle +  e^{2\\pi i \\phi} \\mid 1 \\rangle}{\\sqrt{2}} \\mid \\psi \\rangle\n",
    "$$\n",
    "\n",
    "このようになりました。これによって、固有値をかけることができます。あとは、\n",
    "\n",
    "$$\n",
    "\\frac{1}{\\sqrt{2^n}}\\sum_{k=0}^{2^n-1} e^{i2\\pi k\\phi}\\mid k \\rangle\n",
    "$$\n",
    "\n",
    "のように、取り出したい桁に対応するkを導入すれば良いですが、これは回転角に対応しており、固有値をk回かけるということをすると、自然と対応することができます。つまり$U^k$のように同じユニタリ操作をk回実行すれば良いことになります。ということで、k回Controlled-Unitary操作を行うことで求めることができます。\n",
    "\n",
    "$$\n",
    "\\frac{\\mid 0\\rangle +  U^k \\mid 1 \\rangle}{\\sqrt{2}} \\mid \\psi \\rangle = \\frac{\\mid 0\\rangle +  e^{2\\pi i k \\phi} \\mid 1 \\rangle}{\\sqrt{2}} \\mid \\psi \\rangle\n",
    "$$\n",
    "\n",
    "これにより、対応する桁kに対してk回の制御付きユニタリゲートをかけることで実行が終了します。"
   ]
  },
  {
   "cell_type": "markdown",
   "metadata": {},
   "source": [
    "## 量子フーリエ変換\n",
    "量子フーリエ変換は入力を01ビットの配列から、その配列に対応する位相をもつ量子状態の形に変形をすることができます。量子フーリエ変換の逆回路である逆量子フーリエ変換を利用することで、上記位相キックバックで移した位相をビット列で書き出すことができます。\n",
    "\n",
    "$$\n",
    "QFT:\\mid x \\rangle \\mapsto \\frac{1}{\\sqrt{N}}\\sum_{k=0}^{N-1} \\omega_n^{xk}\\mid k\\rangle\n",
    "$$\n",
    "\n",
    "$\\omega_n = e^{\\frac{2\\pi i}{N}}$とすると、\n",
    "\n",
    "$$\n",
    "{F_N= \n",
    "\\frac{1}{\\sqrt{N}} \n",
    "\\left[ \n",
    " \\begin{array}{rrrr} \n",
    "  1 & 1 & 1 & \\cdots &1\\\\ \n",
    "  1 & \\omega_n&\\omega_n^2&\\cdots&\\omega_n^{N-1}\\\\ \n",
    "  1 & \\omega_n^2&\\omega_n^4&\\cdots&\\omega_n^{2(N-1)}\\\\ \n",
    "  1 & \\omega_n^3&\\omega_n^6&\\cdots&\\omega_n^{3(N-1)}\\\\ \n",
    "  \\vdots&\\vdots&\\vdots&&\\vdots\\\\ \n",
    "  1 & \\omega_n^{N-1}&\\omega_n^{2(N-1)}&\\cdots&\\omega_n^{(N-1)(N-1)} \n",
    " \\end{array} \n",
    "\\right]\n",
    "}\n",
    "$$\n",
    "\n",
    "のようになります。$x_1$から$x_n$のビットを入力すると、それに対応した位相が量子状態の形で出力されます。\n",
    "\n",
    "$$\n",
    "QFT(\\mid x_1,x_2,…,x_n \\rangle) = \\frac{1}{\\sqrt{N}}(\\mid 0 \\rangle + e^{2\\pi i [0.x_n]} \\mid 1 \\rangle) \\otimes … \\otimes (\\mid 0 \\rangle + e^{2\\pi i [0.x_1x_2…x_n]} \\mid 1 \\rangle)\n",
    "$$\n",
    "\n",
    "出力された量子状態はそれぞれの量子ビットは位相の角度の精度に対応された形に出力されますが、それぞれの位相に対応する係数は量子ビットから見ると絶対値はすべて1なので、測定しただけでは0と1が完全に50%ずつ出てしまうのが特徴です。\n",
    "\n",
    "$$[0.x_1x_2…] = \\frac{x_1}{2}+\\frac{x_2}{2^2}+…$$\n",
    "\n",
    "位相は小数点の形で取り出されます。\n",
    "\n",
    "量子位相推定では、作った状態ベクトル$\\mid \\psi \\rangle$の位相である$\\lambda = e^{-i\\alpha}$を求めたい場合、状態ベクトルを上記の量子フーリエ変換の形に対応させた形で変形させ、それの状態ベクトルを再度逆量子フーリエ変換にかけることで、任意の精度で位相を小数点表記で取り出すことができます。"
   ]
  },
  {
   "cell_type": "markdown",
   "metadata": {},
   "source": [
    "## Zゲートの位相を推定する\n",
    "例題をやってみます。まずはハミルトニアンとしてZゲートを用意してみます。\n",
    "\n",
    "$$\n",
    "Z = \\begin{bmatrix}\n",
    "1&0\\\\\n",
    "0&-1\n",
    "\\end{bmatrix}\n",
    "$$\n",
    "\n",
    "まずは手計算で答えを確認してみると、固有値は、\n",
    "\n",
    "$$\n",
    "det\\begin{bmatrix}\n",
    "1-\\lambda&0\\\\\n",
    "0&-1-\\lambda\n",
    "\\end{bmatrix}\n",
    "$$\n",
    "\n",
    "を計算して、$\\lambda = 1,-1$で、固有ベクトルは、\n",
    "\n",
    "$$\n",
    "\\begin{bmatrix}\n",
    "1\\\\\n",
    "0\n",
    "\\end{bmatrix},\n",
    "\\begin{bmatrix}\n",
    "0\\\\\n",
    "1\n",
    "\\end{bmatrix}\n",
    "$$\n",
    "\n",
    "こうなるはずです。早速確かめてみます。"
   ]
  },
  {
   "cell_type": "markdown",
   "metadata": {},
   "source": [
    "## blueqatのインストール\n",
    "pip経由でインストールを行います。"
   ]
  },
  {
   "cell_type": "code",
   "execution_count": 1,
   "metadata": {
    "collapsed": true
   },
   "outputs": [
    {
     "name": "stdout",
     "output_type": "stream",
     "text": [
      "Requirement already satisfied: blueqat in /home/ec2-user/anaconda3/envs/python3/lib/python3.6/site-packages (0.3.13)\n",
      "Requirement already satisfied: numpy~=1.12 in /home/ec2-user/anaconda3/envs/python3/lib/python3.6/site-packages (from blueqat) (1.18.3)\n",
      "Requirement already satisfied: scipy>=1.1.0 in /home/ec2-user/anaconda3/envs/python3/lib/python3.6/site-packages (from blueqat) (1.1.0)\n",
      "\u001b[33mWARNING: You are using pip version 20.0.2; however, version 20.1 is available.\n",
      "You should consider upgrading via the '/home/ec2-user/anaconda3/envs/python3/bin/python -m pip install --upgrade pip' command.\u001b[0m\n"
     ]
    }
   ],
   "source": [
    "!pip install blueqat"
   ]
  },
  {
   "cell_type": "markdown",
   "metadata": {},
   "source": [
    "## 回路の全体概要\n",
    "今回の回路の全体概要です。\n",
    "\n",
    "```\n",
    "|0> ----H--*--iQFT--M\n",
    "           |\n",
    "|0> -------Z--------\n",
    "```\n",
    "\n",
    "まず２量子ビット準備します。0番目、1番目と名前をつけます。どちらも量子ビットは0からスタートします。\n",
    "\n",
    "１、今回は最初っから量子状態を準備します。\n",
    "２、次に0番目の量子ビットを重ね合わせ状態にして、CZゲートで制御付きのハミルトニアンを実行して位相を0番目の量子ビットにキックバックします。\n",
    "３、最後に出来上がった量子状態から位相をビット表記で取り出すための逆量子フーリエ変換を実行し、測定して終わりです。\n",
    "\n",
    "## 量子状態の準備\n",
    "固有ベクトルを|0>にして計算しますので、何もしないで大丈夫そうです。\n",
    "\n",
    "## 位相キックバック\n",
    "次に量子状態から位相をキックバックします。\n",
    "\n",
    "```\n",
    "|0> --H--*--iQFT--M\n",
    "         |\n",
    "|0> -----Z--------\n",
    "```\n",
    "\n",
    "量子状態が準備できました。0番目の量子ビットを重ね合わせにして、量子状態を固有ベクトルとして、固有値を0番目の方に情報としてうつします。"
   ]
  },
  {
   "cell_type": "code",
   "execution_count": 3,
   "metadata": {},
   "outputs": [
    {
     "data": {
      "text/plain": [
       "Counter({'00': 100})"
      ]
     },
     "execution_count": 3,
     "metadata": {},
     "output_type": "execute_result"
    }
   ],
   "source": [
    "from blueqat import Circuit\n",
    "\n",
    "Circuit().h[0].cz[0,1].h[0].m[:].run(shots=100)"
   ]
  },
  {
   "cell_type": "markdown",
   "metadata": {},
   "source": [
    "となり、\n",
    "\n",
    "$$\n",
    "\\phi = 0.0\n",
    "$$\n",
    "\n",
    "求める固有値は、\n",
    "\n",
    "$$\n",
    "e^{2\\pi i \\phi} = e^{2\\pi i *0} = e^0 = 1\n",
    "$$\n",
    "\n",
    "となりました。"
   ]
  },
  {
   "cell_type": "markdown",
   "metadata": {},
   "source": [
    "## 固有状態を|1>に\n",
    "最初の量子状態を|1>にしてみます。\n",
    "\n",
    "```\n",
    "|0> --H--*--iQFT--M\n",
    "         |\n",
    "|0> --X--Z--------\n",
    "```"
   ]
  },
  {
   "cell_type": "code",
   "execution_count": 6,
   "metadata": {},
   "outputs": [
    {
     "data": {
      "text/plain": [
       "Counter({'11': 100})"
      ]
     },
     "execution_count": 6,
     "metadata": {},
     "output_type": "execute_result"
    }
   ],
   "source": [
    "Circuit().x[1].h[0].cz[0,1].h[0].m[:].run(shots=100)"
   ]
  },
  {
   "cell_type": "markdown",
   "metadata": {},
   "source": [
    "こちらは11となりました。\n",
    "\n",
    "$$\n",
    "\\phi = 1/2 = 0.5\n",
    "$$\n",
    "\n",
    "$$\n",
    "e^{2\\pi i *0.5} = -1\n",
    "$$\n",
    "\n",
    "となりました。"
   ]
  },
  {
   "cell_type": "markdown",
   "metadata": {},
   "source": [
    "## Xゲート\n",
    "Xゲートは、\n",
    "\n",
    "$$\n",
    "X = \n",
    "\\begin{bmatrix}\n",
    "0&1\\\\\n",
    "1&0\n",
    "\\end{bmatrix}\n",
    "$$\n",
    "\n",
    "となります。固有ベクトルとしてまずは、\n",
    "\n",
    "$$\n",
    "\\mid \\psi \\rangle = \n",
    "\\begin{bmatrix}\n",
    "1\\\\\n",
    "1\n",
    "\\end{bmatrix}\n",
    "$$\n",
    "\n",
    "を考えると、\n",
    "\n",
    "```\n",
    "|0> --H--*--H--M\n",
    "         |\n",
    "|0> --H--X-----\n",
    "```\n",
    "\n",
    "を実行してみます。"
   ]
  },
  {
   "cell_type": "code",
   "execution_count": 7,
   "metadata": {},
   "outputs": [
    {
     "data": {
      "text/plain": [
       "Counter({'00': 100})"
      ]
     },
     "execution_count": 7,
     "metadata": {},
     "output_type": "execute_result"
    }
   ],
   "source": [
    "Circuit(2).h[:].cx[0,1].h[0].m[0].run(shots=100)"
   ]
  },
  {
   "cell_type": "markdown",
   "metadata": {},
   "source": [
    "こちらは、$\\phi = 0$となり、\n",
    "\n",
    "$$\n",
    "\\lambda = e^0=1\n",
    "$$\n",
    "\n",
    "となりました。続いて固有ベクトルが、\n",
    "\n",
    "$$\n",
    "\\mid \\psi \\rangle = \n",
    "\\begin{bmatrix}\n",
    "1\\\\\n",
    "-1\n",
    "\\end{bmatrix}\n",
    "$$\n",
    "\n",
    "を考えます。\n",
    "\n",
    "```\n",
    "|0> --H---*--H--M\n",
    "          |\n",
    "|0> --HZ--X-----\n",
    "```\n",
    "\n",
    "HZゲートで量子状態を準備します。"
   ]
  },
  {
   "cell_type": "code",
   "execution_count": 8,
   "metadata": {},
   "outputs": [
    {
     "data": {
      "text/plain": [
       "Counter({'10': 100})"
      ]
     },
     "execution_count": 8,
     "metadata": {},
     "output_type": "execute_result"
    }
   ],
   "source": [
    "Circuit(2).h[:].z[1].cx[0,1].h[0].m[0].run(shots=100)"
   ]
  },
  {
   "cell_type": "markdown",
   "metadata": {},
   "source": [
    "これより、$\\phi = 0.5$となり、\n",
    "\n",
    "$$\n",
    "\\lambda = e^{2\\pi i *0.5}=-1\n",
    "$$\n",
    "\n",
    "となりました。"
   ]
  }
 ],
 "metadata": {
  "colab": {
   "collapsed_sections": [],
   "name": "015_algo_pea_simple.ipynb",
   "provenance": [],
   "version": "0.3.2"
  },
  "kernelspec": {
   "display_name": "conda_python3",
   "language": "python",
   "name": "conda_python3"
  },
  "language_info": {
   "codemirror_mode": {
    "name": "ipython",
    "version": 3
   },
   "file_extension": ".py",
   "mimetype": "text/x-python",
   "name": "python",
   "nbconvert_exporter": "python",
   "pygments_lexer": "ipython3",
   "version": "3.6.5"
  }
 },
 "nbformat": 4,
 "nbformat_minor": 1
}

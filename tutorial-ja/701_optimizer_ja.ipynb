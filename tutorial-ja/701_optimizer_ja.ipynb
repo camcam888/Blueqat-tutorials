{
 "cells": [
  {
   "cell_type": "markdown",
   "metadata": {
    "colab_type": "text",
    "id": "WAr8pX3MY4bC"
   },
   "source": [
    "# 古典最適化アルゴリズムを設定する"
   ]
  },
  {
   "cell_type": "markdown",
   "metadata": {
    "colab_type": "text",
    "id": "spfbaZ2uY8Xg"
   },
   "source": [
    "ここでは、量子古典ハイブリッド計算であるVQEやQAOAで利用される古典最適化アルゴリズムについて、古典最適化アルゴリズムの設定方法をみてみたいと思います。"
   ]
  },
  {
   "cell_type": "markdown",
   "metadata": {},
   "source": [
    "## Blueqatのインストール\n",
    "インストールはpipから簡単に行うことができます。"
   ]
  },
  {
   "cell_type": "code",
   "execution_count": 3,
   "metadata": {
    "colab": {
     "base_uri": "https://localhost:8080/",
     "height": 136
    },
    "colab_type": "code",
    "collapsed": true,
    "id": "PLrhMb4HWmTy",
    "outputId": "7b6eba37-77e8-4fda-c3dd-250b9970e2a5"
   },
   "outputs": [
    {
     "name": "stdout",
     "output_type": "stream",
     "text": [
      "Requirement already satisfied: blueqat in /home/ec2-user/anaconda3/envs/python3/lib/python3.6/site-packages (0.3.13)\n",
      "Requirement already satisfied: numpy~=1.12 in /home/ec2-user/anaconda3/envs/python3/lib/python3.6/site-packages (from blueqat) (1.18.3)\n",
      "Requirement already satisfied: scipy>=1.1.0 in /home/ec2-user/anaconda3/envs/python3/lib/python3.6/site-packages (from blueqat) (1.1.0)\n",
      "\u001b[33mWARNING: You are using pip version 20.0.2; however, version 20.1 is available.\n",
      "You should consider upgrading via the '/home/ec2-user/anaconda3/envs/python3/bin/python -m pip install --upgrade pip' command.\u001b[0m\n"
     ]
    }
   ],
   "source": [
    "!pip install blueqat"
   ]
  },
  {
   "cell_type": "markdown",
   "metadata": {
    "colab_type": "text",
    "id": "PAtDORE3ae49"
   },
   "source": [
    "## 設定方法\n",
    "古典最適化アルゴリズムは、ansatzの実行の際にminimizerを指定するだけで変更できます。\n",
    "\n",
    "古典最適化のアルゴリズムは指定できます。主にscipyから選べます。\n",
    "https://docs.scipy.org/doc/scipy/reference/generated/scipy.optimize.minimize.html\n",
    "'Nelder-Mead', 'Powell', 'CG', 'BFGS', 'L-BFGS-B', 'TNC', 'COBYLA', 'SLSQP'"
   ]
  },
  {
   "cell_type": "code",
   "execution_count": 1,
   "metadata": {
    "colab": {
     "base_uri": "https://localhost:8080/",
     "height": 85
    },
    "colab_type": "code",
    "id": "h7NQ9kuEZW42",
    "outputId": "dd1079f1-af57-40e2-da28-d428da53711a"
   },
   "outputs": [
    {
     "name": "stdout",
     "output_type": "stream",
     "text": [
      "Result by VQE\n",
      "-7.999999839073751\n",
      "Result by numpy\n",
      "-8.0\n"
     ]
    }
   ],
   "source": [
    "import numpy as np\n",
    "from blueqat import Circuit\n",
    "from blueqat.pauli import X, Y, Z, I\n",
    "from blueqat.pauli import qubo_bit as q\n",
    "from blueqat.vqe import AnsatzBase, Vqe, get_scipy_minimizer\n",
    "\n",
    "class QubitAnsatz(AnsatzBase):\n",
    "    def __init__(self, hamiltonian):\n",
    "        super().__init__(hamiltonian, 4)\n",
    "        self.step = 1\n",
    "\n",
    "    def get_circuit(self, params):\n",
    "        a, b, c, d = params\n",
    "        return Circuit().ry(a)[0].rz(b)[0].ry(c)[1].rz(d)[1]\n",
    "\n",
    "h = -3*q(0)-3*q(1)-2*q(0)*q(1)\n",
    "h = h.to_expr().simplify()\n",
    "minimizer = get_scipy_minimizer(method=\"COBYLA\",options={\"tol\":5.0e-4})\n",
    "runner = Vqe(QubitAnsatz(h),minimizer=minimizer)\n",
    "result = runner.run()\n",
    "\n",
    "print('Result by VQE')\n",
    "print(runner.ansatz.get_energy_sparse(result.circuit))\n",
    "\n",
    "# Hamiltonian to matrix\n",
    "mat = h.to_matrix()\n",
    "\n",
    "# Calculate by numpy\n",
    "print('Result by numpy')\n",
    "print(np.linalg.eigh(mat)[0][0])"
   ]
  },
  {
   "cell_type": "markdown",
   "metadata": {
    "colab_type": "text",
    "id": "K685AxwIaljb"
   },
   "source": [
    "## その他の最適化ソルバーの実装\n",
    "その他、自分で使いたい最適化ソルバーを実装するには下記のように関数を用意して、minimizerとして利用します。今回はベイズ最適化を対象として、hyperoptを導入してみます。"
   ]
  },
  {
   "cell_type": "code",
   "execution_count": 2,
   "metadata": {
    "colab": {
     "base_uri": "https://localhost:8080/",
     "height": 170
    },
    "colab_type": "code",
    "id": "aV8SOqfRaAl3",
    "outputId": "717e0578-246f-4b7c-8bd7-dbfc02e605a6"
   },
   "outputs": [
    {
     "name": "stdout",
     "output_type": "stream",
     "text": [
      "Collecting hyperopt\n",
      "  Downloading hyperopt-0.2.4-py2.py3-none-any.whl (964 kB)\n",
      "\u001b[K     |████████████████████████████████| 964 kB 8.8 MB/s eta 0:00:01\n",
      "\u001b[?25hCollecting cloudpickle\n",
      "  Downloading cloudpickle-1.4.1-py3-none-any.whl (26 kB)\n",
      "Requirement already satisfied: networkx>=2.2 in /home/penguin/quantumlibs/lib/python3.8/site-packages (from hyperopt) (2.4)\n",
      "Requirement already satisfied: six in /usr/lib/python3.8/site-packages (from hyperopt) (1.15.0)\n",
      "Requirement already satisfied: future in /usr/lib/python3.8/site-packages (from hyperopt) (0.18.2)\n",
      "Requirement already satisfied: tqdm in /usr/lib/python3.8/site-packages (from hyperopt) (4.46.0)\n",
      "Requirement already satisfied: scipy in /usr/lib/python3.8/site-packages (from hyperopt) (1.4.1)\n",
      "Requirement already satisfied: numpy in /usr/lib/python3.8/site-packages (from hyperopt) (1.18.4)\n",
      "Requirement already satisfied: decorator>=4.3.0 in /usr/lib/python3.8/site-packages (from networkx>=2.2->hyperopt) (4.4.2)\n",
      "Installing collected packages: cloudpickle, hyperopt\n",
      "Successfully installed cloudpickle-1.4.1 hyperopt-0.2.4\n"
     ]
    }
   ],
   "source": [
    "!pip install hyperopt"
   ]
  },
  {
   "cell_type": "code",
   "execution_count": 3,
   "metadata": {
    "colab": {},
    "colab_type": "code",
    "id": "10pef-zmaC4_"
   },
   "outputs": [],
   "source": [
    "def hyperopt_minimizer(objective, n_params):\n",
    "    from hyperopt import fmin, Trials, tpe, hp\n",
    "    trials = Trials()\n",
    "    best = fmin(objective, [hp.uniform(f'p{i}', 0., 2 * np.pi) for i in range(n_params)],\n",
    "            algo=tpe.suggest, max_evals=100, trials=trials, verbose=1)\n",
    "    return list(best.values())"
   ]
  },
  {
   "cell_type": "code",
   "execution_count": 4,
   "metadata": {
    "colab": {
     "base_uri": "https://localhost:8080/",
     "height": 102
    },
    "colab_type": "code",
    "id": "1g5HGGY-Zt9P",
    "outputId": "afa276c3-3605-44d8-d8cd-cd97d9549193"
   },
   "outputs": [
    {
     "name": "stdout",
     "output_type": "stream",
     "text": [
      "100%|██████████| 100/100 [00:00<00:00, 206.96trial/s, best loss: -7.990075559549002]\n",
      "Result by VQE\n",
      "-7.990075559549002\n",
      "Result by numpy\n",
      "-8.0\n"
     ]
    }
   ],
   "source": [
    "runner = Vqe(QubitAnsatz(h),minimizer=hyperopt_minimizer)\n",
    "result = runner.run()\n",
    "\n",
    "print('Result by VQE')\n",
    "print(runner.ansatz.get_energy_sparse(result.circuit))\n",
    "\n",
    "# Hamiltonian to matrix\n",
    "mat = h.to_matrix()\n",
    "\n",
    "# Calculate by numpy\n",
    "print('Result by numpy')\n",
    "print(np.linalg.eigh(mat)[0][0])"
   ]
  },
  {
   "cell_type": "markdown",
   "metadata": {
    "colab_type": "text",
    "id": "7MCJJcpCbM3h"
   },
   "source": [
    "このように無事導入ができました。"
   ]
  }
 ],
 "metadata": {
  "colab": {
   "name": "051_classical_opt.ipynb",
   "provenance": []
  },
  "kernelspec": {
   "display_name": "Python 3",
   "language": "python",
   "name": "python3"
  },
  "language_info": {
   "codemirror_mode": {
    "name": "ipython",
    "version": 3
   },
   "file_extension": ".py",
   "mimetype": "text/x-python",
   "name": "python",
   "nbconvert_exporter": "python",
   "pygments_lexer": "ipython3",
   "version": "3.8.3"
  }
 },
 "nbformat": 4,
 "nbformat_minor": 1
}

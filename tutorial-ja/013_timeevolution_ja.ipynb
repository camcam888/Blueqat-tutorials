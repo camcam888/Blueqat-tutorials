{
 "cells": [
  {
   "cell_type": "markdown",
   "metadata": {
    "colab_type": "text",
    "id": "NjHnSAbHrInP"
   },
   "source": [
    "# 時間発展\n",
    "量子状態が時間によって変化する時間発展で利用する、量子ゲートの時間発展演算子を実装してみます。"
   ]
  },
  {
   "cell_type": "markdown",
   "metadata": {},
   "source": [
    "## 時間発展演算子\n",
    "時間に依存しないハミルトニアンを $H$ とします。このとき量子状態は以下の式に従って変化します。\n",
    "\n",
    "$$\n",
    "|\\psi(t)\\rangle = e^{iHt}|\\psi(0)\\rangle\n",
    "$$\n",
    "\n",
    "この $e^{iHt}$ を $H$ の時間発展演算子と言います。"
   ]
  },
  {
   "cell_type": "markdown",
   "metadata": {},
   "source": [
    "## Blueqatのインストール\n",
    "Blueqatをpipからインストールを行います。"
   ]
  },
  {
   "cell_type": "code",
   "execution_count": 1,
   "metadata": {
    "colab": {
     "base_uri": "https://localhost:8080/",
     "height": 136
    },
    "colab_type": "code",
    "collapsed": true,
    "id": "Z2z6oBnToiqa",
    "outputId": "413f3f56-1b22-40f7-fcff-4621af4596d4"
   },
   "outputs": [
    {
     "name": "stdout",
     "output_type": "stream",
     "text": [
      "Requirement already satisfied: blueqat in /home/ec2-user/anaconda3/envs/python3/lib/python3.6/site-packages (0.3.14)\n",
      "Requirement already satisfied: numpy~=1.12 in /home/ec2-user/anaconda3/envs/python3/lib/python3.6/site-packages (from blueqat) (1.14.6)\n",
      "Requirement already satisfied: scipy>=1.1.0 in /home/ec2-user/anaconda3/envs/python3/lib/python3.6/site-packages (from blueqat) (1.1.0)\n",
      "\u001b[31mnumba 0.49.0 has requirement numpy>=1.15, but you'll have numpy 1.14.6 which is incompatible.\u001b[0m\n",
      "\u001b[33mYou are using pip version 10.0.1, however version 20.1 is available.\n",
      "You should consider upgrading via the 'pip install --upgrade pip' command.\u001b[0m\n"
     ]
    }
   ],
   "source": [
    "!pip install blueqat"
   ]
  },
  {
   "cell_type": "markdown",
   "metadata": {},
   "source": [
    "## X, Y, Z ゲートの時間発展\n",
    "\n",
    "X, Y, Z ゲートの時間発展はそれぞれ以下のようになります。\n",
    "\n",
    "$$e^{iX\\theta} = \\cos\\theta I - i\\sin\\theta X = Rx(2\\theta)$$  \n",
    "\n",
    "$$e^{iY\\theta} = \\cos\\theta I - i\\sin\\theta Y = Ry(2\\theta)$$  \n",
    "\n",
    "$$e^{iZ\\theta} = \\cos\\theta I - i\\sin\\theta Z = Rz(2\\theta)$$  \n",
    "\n",
    "Blueqatで時間発展を行うためには `get_time_evolution()` を使います。\n",
    "\n",
    "### Rx ゲート"
   ]
  },
  {
   "cell_type": "code",
   "execution_count": 10,
   "metadata": {},
   "outputs": [
    {
     "data": {
      "text/plain": [
       "Counter({'1': 47, '0': 53})"
      ]
     },
     "execution_count": 10,
     "metadata": {},
     "output_type": "execute_result"
    }
   ],
   "source": [
    "from blueqat import Circuit\n",
    "from blueqat.pauli import X,Y,Z\n",
    "import math\n",
    "\n",
    "evo = X[0].to_term().get_time_evolution()\n",
    "\n",
    "c = Circuit()\n",
    "evo(c, math.pi/4)\n",
    "c.m[:].run(shots=100)"
   ]
  },
  {
   "cell_type": "code",
   "execution_count": 16,
   "metadata": {},
   "outputs": [
    {
     "data": {
      "text/plain": [
       "Counter({'0': 54, '1': 46})"
      ]
     },
     "execution_count": 16,
     "metadata": {},
     "output_type": "execute_result"
    }
   ],
   "source": [
    "#この回路と同じです\n",
    "Circuit().rx(math.pi/4 * 2)[0].m[:].run(shots=100)"
   ]
  },
  {
   "cell_type": "markdown",
   "metadata": {},
   "source": [
    "### Ry ゲート"
   ]
  },
  {
   "cell_type": "code",
   "execution_count": 11,
   "metadata": {},
   "outputs": [
    {
     "data": {
      "text/plain": [
       "Counter({'0': 50, '1': 50})"
      ]
     },
     "execution_count": 11,
     "metadata": {},
     "output_type": "execute_result"
    }
   ],
   "source": [
    "from blueqat import Circuit\n",
    "from blueqat.pauli import X,Y,Z\n",
    "import math\n",
    "\n",
    "evo = Y[0].to_term().get_time_evolution()\n",
    "\n",
    "c = Circuit()\n",
    "evo(c, math.pi/4)\n",
    "c.m[:].run(shots=100)"
   ]
  },
  {
   "cell_type": "code",
   "execution_count": 17,
   "metadata": {},
   "outputs": [
    {
     "data": {
      "text/plain": [
       "Counter({'1': 51, '0': 49})"
      ]
     },
     "execution_count": 17,
     "metadata": {},
     "output_type": "execute_result"
    }
   ],
   "source": [
    "#この回路と同じです\n",
    "Circuit().ry(math.pi/4 * 2)[0].m[:].run(shots=100)"
   ]
  },
  {
   "cell_type": "markdown",
   "metadata": {},
   "source": [
    "### Rz ゲート"
   ]
  },
  {
   "cell_type": "code",
   "execution_count": 12,
   "metadata": {},
   "outputs": [
    {
     "data": {
      "text/plain": [
       "Counter({'0': 100})"
      ]
     },
     "execution_count": 12,
     "metadata": {},
     "output_type": "execute_result"
    }
   ],
   "source": [
    "from blueqat import Circuit\n",
    "from blueqat.pauli import X,Y,Z\n",
    "import math\n",
    "\n",
    "evo = Z[0].to_term().get_time_evolution()\n",
    "\n",
    "c = Circuit()\n",
    "evo(c, math.pi/4)\n",
    "c.m[:].run(shots=100)"
   ]
  },
  {
   "cell_type": "code",
   "execution_count": 18,
   "metadata": {},
   "outputs": [
    {
     "data": {
      "text/plain": [
       "Counter({'0': 100})"
      ]
     },
     "execution_count": 18,
     "metadata": {},
     "output_type": "execute_result"
    }
   ],
   "source": [
    "#この回路と同じです\n",
    "Circuit().rz(math.pi/4 * 2)[0].m[:].run(shots=100)"
   ]
  },
  {
   "cell_type": "markdown",
   "metadata": {},
   "source": [
    "## XX, YY, ZZ ゲート\n",
    "\n",
    "XX, YY, ZZ ゲートの時間発展はそれぞれ以下のようになります。\n",
    "\n",
    "$$e^{iXX\\theta} = \\cos\\theta I - i\\sin\\theta XX = (HH)e^{iZZ\\theta}(HH) = Rxx(2\\theta)$$  \n",
    "\n",
    "$$e^{iYY\\theta} = \\cos\\theta I - i\\sin\\theta YY = (SHSH)e^{iZZ\\theta}(HS^\\dagger HS^\\dagger) = Ryy(2\\theta)$$  \n",
    "\n",
    "$$e^{iZZ\\theta} = \\cos\\theta I - i\\sin\\theta ZZ = CXe^{iZZ\\theta}CX = Rzz(2\\theta)$$  \n",
    "\n",
    "### Rxx ゲート"
   ]
  },
  {
   "cell_type": "code",
   "execution_count": 13,
   "metadata": {},
   "outputs": [
    {
     "data": {
      "text/plain": [
       "Counter({'11': 49, '00': 51})"
      ]
     },
     "execution_count": 13,
     "metadata": {},
     "output_type": "execute_result"
    }
   ],
   "source": [
    "from blueqat import Circuit\n",
    "from blueqat.pauli import X,Y,Z\n",
    "import math\n",
    "\n",
    "evo = (X[0]*X[1]).to_term().get_time_evolution()\n",
    "\n",
    "c = Circuit()\n",
    "evo(c, math.pi/4)\n",
    "c.m[:].run(shots=100)"
   ]
  },
  {
   "cell_type": "code",
   "execution_count": 19,
   "metadata": {},
   "outputs": [
    {
     "data": {
      "text/plain": [
       "Counter({'11': 57, '00': 43})"
      ]
     },
     "execution_count": 19,
     "metadata": {},
     "output_type": "execute_result"
    }
   ],
   "source": [
    "#この回路と同じです\n",
    "Circuit().rxx(math.pi/4 * 2)[0,1].m[:].run(shots=100)"
   ]
  },
  {
   "cell_type": "markdown",
   "metadata": {},
   "source": [
    "### Ryy ゲート"
   ]
  },
  {
   "cell_type": "code",
   "execution_count": 14,
   "metadata": {},
   "outputs": [
    {
     "data": {
      "text/plain": [
       "Counter({'11': 51, '00': 49})"
      ]
     },
     "execution_count": 14,
     "metadata": {},
     "output_type": "execute_result"
    }
   ],
   "source": [
    "from blueqat import Circuit\n",
    "from blueqat.pauli import X,Y,Z\n",
    "import math\n",
    "\n",
    "evo = (Y[0]*Y[1]).to_term().get_time_evolution()\n",
    "\n",
    "c = Circuit()\n",
    "evo(c, math.pi/4)\n",
    "c.m[:].run(shots=100)"
   ]
  },
  {
   "cell_type": "code",
   "execution_count": 20,
   "metadata": {},
   "outputs": [
    {
     "data": {
      "text/plain": [
       "Counter({'00': 46, '11': 54})"
      ]
     },
     "execution_count": 20,
     "metadata": {},
     "output_type": "execute_result"
    }
   ],
   "source": [
    "#この回路と同じです\n",
    "Circuit().ryy(math.pi/4 * 2)[0,1].m[:].run(shots=100)"
   ]
  },
  {
   "cell_type": "markdown",
   "metadata": {},
   "source": [
    "### Rzz ゲート"
   ]
  },
  {
   "cell_type": "code",
   "execution_count": 15,
   "metadata": {},
   "outputs": [
    {
     "data": {
      "text/plain": [
       "Counter({'00': 100})"
      ]
     },
     "execution_count": 15,
     "metadata": {},
     "output_type": "execute_result"
    }
   ],
   "source": [
    "from blueqat import Circuit\n",
    "from blueqat.pauli import X,Y,Z\n",
    "import math\n",
    "\n",
    "evo = (Z[0]*Z[1]).to_term().get_time_evolution()\n",
    "\n",
    "c = Circuit()\n",
    "evo(c, math.pi/4)\n",
    "c.m[:].run(shots=100)"
   ]
  },
  {
   "cell_type": "code",
   "execution_count": 21,
   "metadata": {},
   "outputs": [
    {
     "data": {
      "text/plain": [
       "Counter({'00': 100})"
      ]
     },
     "execution_count": 21,
     "metadata": {},
     "output_type": "execute_result"
    }
   ],
   "source": [
    "#この回路と同じです\n",
    "Circuit().rzz(math.pi/4 * 2)[0,1].m[:].run(shots=100)"
   ]
  }
 ],
 "metadata": {
  "colab": {
   "collapsed_sections": [],
   "name": "007_02_fullgate.ipynb",
   "provenance": []
  },
  "kernelspec": {
   "display_name": "conda_python3",
   "language": "python",
   "name": "conda_python3"
  },
  "language_info": {
   "codemirror_mode": {
    "name": "ipython",
    "version": 3
   },
   "file_extension": ".py",
   "mimetype": "text/x-python",
   "name": "python",
   "nbconvert_exporter": "python",
   "pygments_lexer": "ipython3",
   "version": "3.6.5"
  }
 },
 "nbformat": 4,
 "nbformat_minor": 1
}

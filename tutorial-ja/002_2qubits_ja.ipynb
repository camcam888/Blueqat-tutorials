{
 "cells": [
  {
   "cell_type": "markdown",
   "metadata": {
    "colab_type": "text",
    "id": "NjHnSAbHrInP"
   },
   "source": [
    "# ２量子ビットの計算\n",
    "量子コンピュータでは、複数の量子ビットの操作により、複雑な計算を行うことができます。\n",
    "まずは、Blueqatをインストールし、ツールを読み込みましょう。"
   ]
  },
  {
   "cell_type": "code",
   "execution_count": 1,
   "metadata": {
    "colab": {},
    "colab_type": "code",
    "collapsed": true,
    "id": "kYZeAXN7S724"
   },
   "outputs": [
    {
     "name": "stdout",
     "output_type": "stream",
     "text": [
      "Requirement already satisfied: blueqat in /home/ec2-user/anaconda3/envs/python3/lib/python3.6/site-packages (0.3.14)\n",
      "Requirement already satisfied: scipy>=1.1.0 in /home/ec2-user/anaconda3/envs/python3/lib/python3.6/site-packages (from blueqat) (1.1.0)\n",
      "Requirement already satisfied: numpy~=1.12 in /home/ec2-user/anaconda3/envs/python3/lib/python3.6/site-packages (from blueqat) (1.14.6)\n",
      "\u001b[31mnumba 0.49.0 has requirement numpy>=1.15, but you'll have numpy 1.14.6 which is incompatible.\u001b[0m\n",
      "\u001b[33mYou are using pip version 10.0.1, however version 20.1 is available.\n",
      "You should consider upgrading via the 'pip install --upgrade pip' command.\u001b[0m\n"
     ]
    }
   ],
   "source": [
    "!pip install blueqat\n",
    "from blueqat import Circuit"
   ]
  },
  {
   "cell_type": "markdown",
   "metadata": {
    "colab_type": "text",
    "id": "PKhFYi-drld1"
   },
   "source": [
    "## 量子回路の作成\n",
    "量子回路の作成方法は１量子ビットの場合と同じです。CXゲートを使ってみます。小文字でcxと書き、カッコの中に、0と1をカンマで繋げて記入します。そして、測定を行うmをかいて、runで100回実行します。"
   ]
  },
  {
   "cell_type": "code",
   "execution_count": 2,
   "metadata": {
    "colab": {
     "base_uri": "https://localhost:8080/",
     "height": 34
    },
    "colab_type": "code",
    "id": "O674HiVxjc7P",
    "outputId": "c8687e8b-005f-4408-e7e3-030ed1757821"
   },
   "outputs": [
    {
     "data": {
      "text/plain": [
       "Counter({'00': 100})"
      ]
     },
     "execution_count": 2,
     "metadata": {},
     "output_type": "execute_result"
    }
   ],
   "source": [
    "Circuit().cx[0,1].m[:].run(shots=100)"
   ]
  },
  {
   "cell_type": "markdown",
   "metadata": {
    "colab_type": "text",
    "id": "Pj4TW4zHDG7d"
   },
   "source": [
    "00という答えが100回出ました。CXゲートは、「コントロールビット」と「ターゲットビット」を順番に指定します。これは、コントロールビットの値が1の時だけ、ターゲットビットにXゲートをかけます。\n",
    "\n",
    "今回は、量子ビットは、両方とも0からスタートして、cxゲートがかかりました。コントロールビットが0なので、ターゲットビットには何もおきません。回路は以下のようになります。\n",
    "\n",
    "```\n",
    "0 ---*---\n",
    "     |\n",
    "0 ---X---\n",
    "```\n",
    "\n",
    "次にコントロールビットにXゲートをかけて、0を1にしてから、CXゲートをかけてみます。"
   ]
  },
  {
   "cell_type": "code",
   "execution_count": 4,
   "metadata": {
    "colab": {
     "base_uri": "https://localhost:8080/",
     "height": 34
    },
    "colab_type": "code",
    "id": "s4nPf83otvoG",
    "outputId": "b34052f2-b8a4-41f7-f0c1-1ad11c52a071"
   },
   "outputs": [
    {
     "data": {
      "text/plain": [
       "Counter({'11': 1})"
      ]
     },
     "execution_count": 4,
     "metadata": {},
     "output_type": "execute_result"
    }
   ],
   "source": [
    "Circuit().x[0].cx[0,1].m[:].run(shots=1)"
   ]
  },
  {
   "cell_type": "markdown",
   "metadata": {
    "colab_type": "text",
    "id": "bnQKAJQuBKNS"
   },
   "source": [
    "今度は、11という答えが出ました。コントロールビットが1のため、ターゲットビットにもXゲートがかかり、0から1になりました。このように2つの量子ビットを指定して計算を行います。"
   ]
  },
  {
   "cell_type": "markdown",
   "metadata": {
    "colab_type": "text",
    "id": "j7qObHmWBWoX"
   },
   "source": [
    "## （応用）量子ビットの数を指定する\n",
    "量子ビットの数を最初から指定することもできます。その際にはCircuit()のなかに引数を設定しましょう。"
   ]
  },
  {
   "cell_type": "code",
   "execution_count": 5,
   "metadata": {
    "colab": {
     "base_uri": "https://localhost:8080/",
     "height": 34
    },
    "colab_type": "code",
    "id": "uzaQ3WSwBYgf",
    "outputId": "c9a95b03-9e45-4003-cee3-6a1935f42c6a"
   },
   "outputs": [
    {
     "data": {
      "text/plain": [
       "Counter({'110': 1})"
      ]
     },
     "execution_count": 5,
     "metadata": {
      "tags": []
     },
     "output_type": "execute_result"
    }
   ],
   "source": [
    "Circuit(3).x[0].cx[0,1].m[:].run(shots=1)"
   ]
  },
  {
   "cell_type": "markdown",
   "metadata": {
    "colab_type": "text",
    "id": "7SL_2kj7BnuQ"
   },
   "source": [
    "110となりました。最初の2量子ビットは計算に使用されましたが、最後の量子ビットは使用されないままでした。以上です。"
   ]
  },
  {
   "cell_type": "markdown",
   "metadata": {},
   "source": [
    "# 概要\n",
    "ここでは２量子ビットの計算を説明します。\n",
    "\n",
    "## 量子ビット\n",
    "２量子ビットの場合は 00, 01, 10, 11 は以下のような状態ベクトルで表します。\n",
    "\n",
    "<img src=\"./img/002/002_02_0.png\" width=\"50%\">\n",
    "\n",
    "00 の状態ベクトルはテンソル積を用いると以下のように計算できます。\n",
    "\n",
    "<img src=\"./img/002/002_02_1.png\" width=\"50%\">"
   ]
  },
  {
   "cell_type": "markdown",
   "metadata": {},
   "source": [
    "## CX回路\n",
    "CXゲートはコントロールビットが1ならばターゲットビットにXゲートを施すものです。\n",
    "\n",
    "CXゲートは以下のような行列です。\n",
    "\n",
    "<img src=\"./img/002/002_02_2.png\" width=\"20%\">\n",
    "\n",
    "00 にCXゲートを施すと以下のようになります。\n",
    "\n",
    "<img src=\"./img/002/002_02_3.png\" width=\"43%\">\n",
    "\n",
    "この場合コントロールビットは0なので何も変化しません。\n",
    "\n",
    "次に 10 にCXゲートを施すと以下のようになります。\n",
    "\n",
    "<img src=\"./img/002/002_02_4.png\" width=\"43%\">\n",
    "\n",
    "この場合コントロールビットは1なのでターゲットビットが反転して1になっているのがわかります。"
   ]
  },
  {
   "cell_type": "markdown",
   "metadata": {},
   "source": [
    "## 観測\n",
    "２量子ビットの場合の観測は 00, 01, 10, 11 が確率的に観測されます。   \n",
    "それぞれ出力される確率は１量子ビットの場合と同じように各係数の絶対値の2乗となります。\n",
    "\n",
    "例えば以下のような状態ベクトルを考えます。\n",
    "\n",
    "<img src=\"./img/002/002_02_5.png\" width=\"40%\">\n",
    "\n",
    "これを1回観測すると 00, 01, 10, 11 が出力される確率は 1/4 となります。"
   ]
  },
  {
   "cell_type": "markdown",
   "metadata": {},
   "source": [
    "## 2量子ビット以上の場合\n",
    "３量子ビットの場合で最初の２量子ビットにCXゲートをかけるとします。\n",
    "100 にCXを施したとき計算は以下のようになります。\n",
    "\n",
    "<img src=\"./img/002/002_02_6.png\" width=\"45%\">\n",
    "\n",
    "上の式から最後のビットには何も変化しない行列Iを施して計算していることがわかります。"
   ]
  },
  {
   "cell_type": "code",
   "execution_count": null,
   "metadata": {},
   "outputs": [],
   "source": []
  }
 ],
 "metadata": {
  "colab": {
   "name": "002_basic_two_qubits.ipynb",
   "provenance": [],
   "version": "0.3.2"
  },
  "kernelspec": {
   "display_name": "conda_python3",
   "language": "python",
   "name": "conda_python3"
  },
  "language_info": {
   "codemirror_mode": {
    "name": "ipython",
    "version": 3
   },
   "file_extension": ".py",
   "mimetype": "text/x-python",
   "name": "python",
   "nbconvert_exporter": "python",
   "pygments_lexer": "ipython3",
   "version": "3.6.5"
  }
 },
 "nbformat": 4,
 "nbformat_minor": 1
}

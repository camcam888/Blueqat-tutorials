{
 "cells": [
  {
   "cell_type": "markdown",
   "metadata": {},
   "source": [
    "# VQE\n",
    "近年の量子コンピュータ上で動く、量子コンピュータと古典コンピュータを併用する量子古典ハイブリッドアルゴリズムの代表格です。基本的なアルゴリズムなので、内容を学びます。"
   ]
  },
  {
   "cell_type": "markdown",
   "metadata": {},
   "source": [
    "## 今回学ぶこと\n",
    "1. VQEの基礎理論を学ぶ\n",
    "2. 量子変分回路をBlueqatで実装する"
   ]
  },
  {
   "cell_type": "markdown",
   "metadata": {},
   "source": [
    "## Blueqatのインストール\n",
    "pipからBlueqatをインストールします。"
   ]
  },
  {
   "cell_type": "code",
   "execution_count": 12,
   "metadata": {},
   "outputs": [
    {
     "name": "stdout",
     "output_type": "stream",
     "text": [
      "Requirement already satisfied: blueqat in /home/ec2-user/anaconda3/envs/python3/lib/python3.6/site-packages (0.3.13)\r\n",
      "Requirement already satisfied: scipy>=1.1.0 in /home/ec2-user/anaconda3/envs/python3/lib/python3.6/site-packages (from blueqat) (1.1.0)\r\n",
      "Requirement already satisfied: numpy~=1.12 in /home/ec2-user/anaconda3/envs/python3/lib/python3.6/site-packages (from blueqat) (1.18.3)\r\n"
     ]
    }
   ],
   "source": [
    "!pip install blueqat"
   ]
  },
  {
   "cell_type": "markdown",
   "metadata": {},
   "source": [
    "---"
   ]
  },
  {
   "cell_type": "markdown",
   "metadata": {},
   "source": [
    "## 概要\n",
    "理想的な誤り訂正量子コンピュータを想定した汎用アルゴリズムの他、現在の量子コンピュータのNISQ向けの変分アルゴリズムがあります。\n",
    "\n",
    "1. 汎用 (グローバー、ショア、位相推定、量子フーリエ変換、HHL、量子サポートベクターマシン、その他)\n",
    "2. 変分（VQE,QAOA）\n",
    "\n",
    "VQEは短い量子回路を利用して、既存計算機とのハイブリッドで問題を解くアルゴリズムです。"
   ]
  },
  {
   "cell_type": "markdown",
   "metadata": {},
   "source": [
    "## 固有値問題\n",
    "VQEでは与えられた行列（ハミルトニアン）の固有値の期待値を求めます。固有値問題を解くことで様々な問題が解けます。固有値を$E_0$、固有ベクトルを$\\mid \\psi \\rangle$としたとき、\n",
    "\n",
    "$$\n",
    "H \\mid \\psi \\rangle = E_0 \\mid \\psi \\rangle\n",
    "$$\n",
    "\n",
    "となる$E_0$を求めるのが目的です。"
   ]
  },
  {
   "cell_type": "markdown",
   "metadata": {},
   "source": [
    "## ハミルトニアンと期待値\n",
    "\n",
    "問題は、ハミルトニアン$H$と呼ばれるエルミート行列で渡されます。ハミルトニアンはパウリ行列と単位行列からなり、複素数の行列の形をとります。"
   ]
  },
  {
   "cell_type": "code",
   "execution_count": 1,
   "metadata": {},
   "outputs": [
    {
     "data": {
      "text/plain": [
       "array([[ 3.57+0.j  , -4.56-2.45j],\n",
       "       [-4.56+2.45j, -1.11+0.j  ]])"
      ]
     },
     "execution_count": 1,
     "metadata": {},
     "output_type": "execute_result"
    }
   ],
   "source": [
    "from blueqat.pauli import X, Y, Z, I\n",
    "\n",
    "h = 1.23 * I - 4.56 * X(0) + 2.45 * Y(0) + 2.34 * Z(0)\n",
    "h.to_matrix()"
   ]
  },
  {
   "cell_type": "markdown",
   "metadata": {},
   "source": [
    "ハミルトニアンの期待値は、\n",
    "\n",
    "$$\n",
    "\\langle \\psi \\mid H \\mid \\psi \\rangle\n",
    "$$\n",
    "\n",
    "のように計算できます。また、ハミルトニアンの期待値はユニタリー行列の線形結合になっているので分解できます。\n",
    "\n",
    "$$\n",
    "\\langle \\psi \\mid aH_1 + bH_2 \\mid \\psi \\rangle \\\\ = \\langle \\psi \\mid aH_1 \\mid \\psi \\rangle + \\langle \\psi \\mid bH_2 \\mid \\psi \\rangle \\\\ = a\\langle \\psi \\mid H_1 \\mid \\psi \\rangle + b\\langle \\psi \\mid H_2 \\mid \\psi \\rangle\n",
    "$$\n",
    "\n",
    "これを使って、例えば、\n",
    "\n",
    "$$\n",
    "H = 1.2 X_0 Z_2 + 2.5 Z_0 X_1 Y_2 - 3.4 Z_2 X_1\n",
    "$$\n",
    "\n",
    "この式の期待値は下記のように求めることができます。\n",
    "\n",
    "$$\n",
    "\\langle \\psi \\mid 1.2 X_0 Z_2 + 2.5 Z_0 X_1 Y_2 - 3.4 Z_2 X_1 \\mid \\psi \\rangle\\\\\n",
    "= 1.2\\langle \\psi \\mid X_0 Z_2 \\mid \\psi \\rangle + 2.5 \\langle \\psi \\mid Z_0 X_1 Y_2\\mid \\psi \\rangle - 3.4 \\langle \\psi \\mid Z_2 X_1 \\mid \\psi \\rangle\n",
    "$$"
   ]
  },
  {
   "cell_type": "markdown",
   "metadata": {},
   "source": [
    "## ハミルトニアンの期待値とサンプリング\n",
    "ハミルトニアンの期待値は計算結果のサンプリングから求めることができます。ハミルトニアン$H=Z$のときの期待値は下記のようになります。\n",
    "\n",
    "$$\n",
    "\\langle \\psi \\mid Z \\mid \\psi \\rangle = \n",
    "\\begin{bmatrix}\n",
    "\\alpha^* & \\beta^*\n",
    "\\end{bmatrix}\n",
    "\\begin{bmatrix}\n",
    "1&0\\\\\n",
    "0&-1\n",
    "\\end{bmatrix}\n",
    "\\begin{bmatrix}\n",
    "\\alpha\\\\\n",
    "\\beta\n",
    "\\end{bmatrix}\n",
    "= |\\alpha|^2 - |\\beta|^2\n",
    "$$\n",
    "\n",
    "$|\\alpha|^2$と$|\\beta|^2$はそれぞれ、0と1のでる確率です。複数回計算を行い、そのサンプル値から期待値を求めます。"
   ]
  },
  {
   "cell_type": "markdown",
   "metadata": {},
   "source": [
    "通常、ハミルトニアンがXやYの場合にはサンプル値から期待値を求めることができません。その際にはそれぞれ軸の回転を利用してサンプルが取れるように調整をします。\n",
    "\n",
    "$X$には、$X = HZH$を使います。\n",
    "\n",
    "$$\n",
    "\\langle \\psi \\mid X \\mid \\psi \\rangle \\\\\n",
    "= \\langle \\psi \\mid HZH \\mid \\psi \\rangle\\\\\n",
    "= \\langle \\psi' \\mid Z \\mid \\psi' \\rangle\n",
    "$$\n",
    "\n",
    "$Y$には、$Y = RX(-\\pi/2) Z RX(\\pi/2)$を使います。\n",
    "\n",
    "$$\n",
    "\\langle \\psi \\mid Y \\mid \\psi \\rangle \\\\\n",
    "= \\langle \\psi \\mid RX(-\\pi/2) Z RX(\\pi/2) \\mid \\psi \\rangle\\\\\n",
    "= \\langle \\psi'' \\mid Z \\mid \\psi'' \\rangle\n",
    "$$\n",
    "\n",
    "こちらは、測定の直前に対応する回転ゲートを入れます。"
   ]
  },
  {
   "cell_type": "markdown",
   "metadata": {},
   "source": [
    "## 量子変分原理\n",
    "任意の状態ベクトル$\\psi(\\theta)$において、ハミルトニアンの期待値は下記を満たします。\n",
    "\n",
    "$$\n",
    "\\langle \\psi (\\theta) \\mid H \\mid \\psi (\\theta) \\rangle \\geq E_0\n",
    "$$\n",
    "\n",
    "VQEではこの量子変分原理を利用し、既存計算機の最適化アルゴリズムを利用し、状態ベクトルを角度パラメータ$\\theta$で変えながらできるだけ$E_0$に近づくよう最小値を探していきます。"
   ]
  },
  {
   "cell_type": "markdown",
   "metadata": {},
   "source": [
    "## Ansatz(アンザッツ)\n",
    "最小値を効率的に探すための量子回路をAnsatzと呼びます。現在、量子化学にはUCC Ansatzや組合せ最適化問題にはQAOA Ansatzなどの効率的な量子回路が見つかっているため、アプリケーションとして期待されています。Ansatzはある程度分野ごとにルールが決まっていて、ルールに沿って記述します。"
   ]
  },
  {
   "cell_type": "markdown",
   "metadata": {},
   "source": [
    "## 例題\n",
    "最後に例題を行ってみます。\n",
    "\n",
    "1. 回転ゲートの角度をパラメータにしてAnsatzを作ります。（量子）\n",
    "2. 実行の結果から次を計算します。 $\\langle \\psi (\\theta) \\mid H \\mid \\psi (\\theta) \\rangle$ （古典）\n",
    "3. 次の角度パラメータを試します。"
   ]
  },
  {
   "cell_type": "markdown",
   "metadata": {},
   "source": [
    "今回はAnsatzは任意のものを使います。\n",
    "\n",
    "```\n",
    "rx(a)[0].rz(b)[0]\n",
    "```\n",
    "\n",
    "というaとbの2つの角度を使って1量子ビットの計算をしてみたいと思います。ハミルトニアンには上で出てきた例を使います。最後にVQEの計算と数値ライブラリのnumpyの計算結果を比較してみます。"
   ]
  },
  {
   "cell_type": "code",
   "execution_count": 2,
   "metadata": {},
   "outputs": [
    {
     "name": "stdout",
     "output_type": "stream",
     "text": [
      "Result by VQE\n",
      "-4.236663568691615\n",
      "Result by numpy\n",
      "-4.450818602983201\n"
     ]
    }
   ],
   "source": [
    "import numpy as np\n",
    "from blueqat import Circuit\n",
    "from blueqat.pauli import X, Y, Z, I\n",
    "from blueqat.vqe import AnsatzBase, Vqe\n",
    "\n",
    "class OneQubitAnsatz(AnsatzBase):\n",
    "    def __init__(self, hamiltonian):\n",
    "        super().__init__(hamiltonian.to_expr(), 2)\n",
    "        self.step = 1\n",
    "\n",
    "    def get_circuit(self, params):\n",
    "        a, b = params\n",
    "        return Circuit().rx(a)[0].rz(b)[0]\n",
    "\n",
    "# hamiltonian\n",
    "h = 1.23 * I - 4.56 * X(0) + 2.45 * Y(0) + 2.34 * Z(0)\n",
    "\n",
    "runner = Vqe(OneQubitAnsatz(h))\n",
    "result = runner.run()\n",
    "\n",
    "print('Result by VQE')\n",
    "print(runner.ansatz.get_energy_sparse(result.circuit))\n",
    "\n",
    "# This is for check\n",
    "mat = h.to_matrix()\n",
    "print('Result by numpy')\n",
    "print(np.linalg.eigh(mat)[0][0])"
   ]
  },
  {
   "cell_type": "markdown",
   "metadata": {},
   "source": [
    "これでVQEができました。"
   ]
  }
 ],
 "metadata": {
  "kernelspec": {
   "display_name": "Python 3",
   "language": "python",
   "name": "python3"
  },
  "language_info": {
   "codemirror_mode": {
    "name": "ipython",
    "version": 3
   },
   "file_extension": ".py",
   "mimetype": "text/x-python",
   "name": "python",
   "nbconvert_exporter": "python",
   "pygments_lexer": "ipython3",
   "version": "3.8.3"
  }
 },
 "nbformat": 4,
 "nbformat_minor": 4
}
